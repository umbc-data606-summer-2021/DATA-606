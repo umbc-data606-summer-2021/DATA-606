{
 "cells": [
  {
   "cell_type": "code",
   "execution_count": 1,
   "metadata": {},
   "outputs": [],
   "source": [
    "import pandas as pd\n",
    "import matplotlib.pyplot as plt\n",
    "import wget\n",
    "import missingno as msno\n",
    "import pickle"
   ]
  },
  {
   "cell_type": "markdown",
   "metadata": {},
   "source": [
    "## 1 - Read COVID-19 Daily Report"
   ]
  },
  {
   "cell_type": "code",
   "execution_count": 2,
   "metadata": {},
   "outputs": [],
   "source": [
    "url = 'https://raw.githubusercontent.com/CSSEGISandData/COVID-19/master/csse_covid_19_data/csse_covid_19_daily_reports/06-11-2021.csv'\n",
    "covid_file = wget.download(url)"
   ]
  },
  {
   "cell_type": "markdown",
   "metadata": {},
   "source": [
    "Read the COVID data into a dataframe."
   ]
  },
  {
   "cell_type": "code",
   "execution_count": 3,
   "metadata": {},
   "outputs": [
    {
     "data": {
      "text/html": [
       "<div>\n",
       "<style scoped>\n",
       "    .dataframe tbody tr th:only-of-type {\n",
       "        vertical-align: middle;\n",
       "    }\n",
       "\n",
       "    .dataframe tbody tr th {\n",
       "        vertical-align: top;\n",
       "    }\n",
       "\n",
       "    .dataframe thead th {\n",
       "        text-align: right;\n",
       "    }\n",
       "</style>\n",
       "<table border=\"1\" class=\"dataframe\">\n",
       "  <thead>\n",
       "    <tr style=\"text-align: right;\">\n",
       "      <th></th>\n",
       "      <th>0</th>\n",
       "      <th>1</th>\n",
       "      <th>2</th>\n",
       "      <th>3</th>\n",
       "      <th>4</th>\n",
       "    </tr>\n",
       "  </thead>\n",
       "  <tbody>\n",
       "    <tr>\n",
       "      <th>FIPS</th>\n",
       "      <td>NaN</td>\n",
       "      <td>NaN</td>\n",
       "      <td>NaN</td>\n",
       "      <td>NaN</td>\n",
       "      <td>NaN</td>\n",
       "    </tr>\n",
       "    <tr>\n",
       "      <th>Admin2</th>\n",
       "      <td>NaN</td>\n",
       "      <td>NaN</td>\n",
       "      <td>NaN</td>\n",
       "      <td>NaN</td>\n",
       "      <td>NaN</td>\n",
       "    </tr>\n",
       "    <tr>\n",
       "      <th>Province_State</th>\n",
       "      <td>NaN</td>\n",
       "      <td>NaN</td>\n",
       "      <td>NaN</td>\n",
       "      <td>NaN</td>\n",
       "      <td>NaN</td>\n",
       "    </tr>\n",
       "    <tr>\n",
       "      <th>Country_Region</th>\n",
       "      <td>Afghanistan</td>\n",
       "      <td>Albania</td>\n",
       "      <td>Algeria</td>\n",
       "      <td>Andorra</td>\n",
       "      <td>Angola</td>\n",
       "    </tr>\n",
       "    <tr>\n",
       "      <th>Last_Update</th>\n",
       "      <td>2021-06-12 04:22:22</td>\n",
       "      <td>2021-06-12 04:22:22</td>\n",
       "      <td>2021-06-12 04:22:22</td>\n",
       "      <td>2021-06-12 04:22:22</td>\n",
       "      <td>2021-06-12 04:22:22</td>\n",
       "    </tr>\n",
       "    <tr>\n",
       "      <th>Lat</th>\n",
       "      <td>33.9391</td>\n",
       "      <td>41.1533</td>\n",
       "      <td>28.0339</td>\n",
       "      <td>42.5063</td>\n",
       "      <td>-11.2027</td>\n",
       "    </tr>\n",
       "    <tr>\n",
       "      <th>Long_</th>\n",
       "      <td>67.71</td>\n",
       "      <td>20.1683</td>\n",
       "      <td>1.6596</td>\n",
       "      <td>1.5218</td>\n",
       "      <td>17.8739</td>\n",
       "    </tr>\n",
       "    <tr>\n",
       "      <th>Confirmed</th>\n",
       "      <td>87716</td>\n",
       "      <td>132437</td>\n",
       "      <td>132727</td>\n",
       "      <td>13813</td>\n",
       "      <td>36455</td>\n",
       "    </tr>\n",
       "    <tr>\n",
       "      <th>Deaths</th>\n",
       "      <td>3412</td>\n",
       "      <td>2453</td>\n",
       "      <td>3560</td>\n",
       "      <td>127</td>\n",
       "      <td>819</td>\n",
       "    </tr>\n",
       "    <tr>\n",
       "      <th>Recovered</th>\n",
       "      <td>60598</td>\n",
       "      <td>129807</td>\n",
       "      <td>92384</td>\n",
       "      <td>13591</td>\n",
       "      <td>30101</td>\n",
       "    </tr>\n",
       "    <tr>\n",
       "      <th>Active</th>\n",
       "      <td>23706</td>\n",
       "      <td>177</td>\n",
       "      <td>36783</td>\n",
       "      <td>95</td>\n",
       "      <td>5535</td>\n",
       "    </tr>\n",
       "    <tr>\n",
       "      <th>Combined_Key</th>\n",
       "      <td>Afghanistan</td>\n",
       "      <td>Albania</td>\n",
       "      <td>Algeria</td>\n",
       "      <td>Andorra</td>\n",
       "      <td>Angola</td>\n",
       "    </tr>\n",
       "    <tr>\n",
       "      <th>Incident_Rate</th>\n",
       "      <td>225.327</td>\n",
       "      <td>4602.02</td>\n",
       "      <td>302.677</td>\n",
       "      <td>17877.4</td>\n",
       "      <td>110.919</td>\n",
       "    </tr>\n",
       "    <tr>\n",
       "      <th>Case_Fatality_Ratio</th>\n",
       "      <td>3.88983</td>\n",
       "      <td>1.8522</td>\n",
       "      <td>2.6822</td>\n",
       "      <td>0.919424</td>\n",
       "      <td>2.24661</td>\n",
       "    </tr>\n",
       "  </tbody>\n",
       "</table>\n",
       "</div>"
      ],
      "text/plain": [
       "                                       0                    1  \\\n",
       "FIPS                                 NaN                  NaN   \n",
       "Admin2                               NaN                  NaN   \n",
       "Province_State                       NaN                  NaN   \n",
       "Country_Region               Afghanistan              Albania   \n",
       "Last_Update          2021-06-12 04:22:22  2021-06-12 04:22:22   \n",
       "Lat                              33.9391              41.1533   \n",
       "Long_                              67.71              20.1683   \n",
       "Confirmed                          87716               132437   \n",
       "Deaths                              3412                 2453   \n",
       "Recovered                          60598               129807   \n",
       "Active                             23706                  177   \n",
       "Combined_Key                 Afghanistan              Albania   \n",
       "Incident_Rate                    225.327              4602.02   \n",
       "Case_Fatality_Ratio              3.88983               1.8522   \n",
       "\n",
       "                                       2                    3  \\\n",
       "FIPS                                 NaN                  NaN   \n",
       "Admin2                               NaN                  NaN   \n",
       "Province_State                       NaN                  NaN   \n",
       "Country_Region                   Algeria              Andorra   \n",
       "Last_Update          2021-06-12 04:22:22  2021-06-12 04:22:22   \n",
       "Lat                              28.0339              42.5063   \n",
       "Long_                             1.6596               1.5218   \n",
       "Confirmed                         132727                13813   \n",
       "Deaths                              3560                  127   \n",
       "Recovered                          92384                13591   \n",
       "Active                             36783                   95   \n",
       "Combined_Key                     Algeria              Andorra   \n",
       "Incident_Rate                    302.677              17877.4   \n",
       "Case_Fatality_Ratio               2.6822             0.919424   \n",
       "\n",
       "                                       4  \n",
       "FIPS                                 NaN  \n",
       "Admin2                               NaN  \n",
       "Province_State                       NaN  \n",
       "Country_Region                    Angola  \n",
       "Last_Update          2021-06-12 04:22:22  \n",
       "Lat                             -11.2027  \n",
       "Long_                            17.8739  \n",
       "Confirmed                          36455  \n",
       "Deaths                               819  \n",
       "Recovered                          30101  \n",
       "Active                              5535  \n",
       "Combined_Key                      Angola  \n",
       "Incident_Rate                    110.919  \n",
       "Case_Fatality_Ratio              2.24661  "
      ]
     },
     "execution_count": 3,
     "metadata": {},
     "output_type": "execute_result"
    }
   ],
   "source": [
    "covid_df = pd.read_csv(\"06-11-2021.csv\")\n",
    "covid_df.head().T"
   ]
  },
  {
   "cell_type": "code",
   "execution_count": 4,
   "metadata": {},
   "outputs": [
    {
     "data": {
      "text/plain": [
       "(3984, 14)"
      ]
     },
     "execution_count": 4,
     "metadata": {},
     "output_type": "execute_result"
    }
   ],
   "source": [
    "covid_df.shape"
   ]
  },
  {
   "cell_type": "markdown",
   "metadata": {},
   "source": [
    "### 1.1 - Cleanup Columns"
   ]
  },
  {
   "cell_type": "code",
   "execution_count": 5,
   "metadata": {},
   "outputs": [
    {
     "data": {
      "text/plain": [
       "Index(['FIPS', 'Admin2', 'Province_State', 'Country_Region', 'Last_Update',\n",
       "       'Lat', 'Long_', 'Confirmed', 'Deaths', 'Recovered', 'Active',\n",
       "       'Combined_Key', 'Incident_Rate', 'Case_Fatality_Ratio'],\n",
       "      dtype='object')"
      ]
     },
     "execution_count": 5,
     "metadata": {},
     "output_type": "execute_result"
    }
   ],
   "source": [
    "# Display columns\n",
    "covid_df.columns"
   ]
  },
  {
   "cell_type": "code",
   "execution_count": 6,
   "metadata": {},
   "outputs": [
    {
     "data": {
      "text/plain": [
       "Index(['FIPS', 'County', 'Province_State', 'Country_Region', 'Last_Update',\n",
       "       'Lat', 'Long_', 'Confirmed', 'Deaths', 'Recovered', 'Active', 'Place',\n",
       "       'Incident_Rate', 'Case_Fatality_Ratio'],\n",
       "      dtype='object')"
      ]
     },
     "execution_count": 6,
     "metadata": {},
     "output_type": "execute_result"
    }
   ],
   "source": [
    "# Rename the Admin2 and Combined_Key columns to County and Place.\n",
    "covid_df.rename(columns = {'Admin2':'County', 'Combined_Key':'Place'}, inplace = True)\n",
    "covid_df.columns"
   ]
  },
  {
   "cell_type": "code",
   "execution_count": 7,
   "metadata": {},
   "outputs": [
    {
     "data": {
      "text/html": [
       "<div>\n",
       "<style scoped>\n",
       "    .dataframe tbody tr th:only-of-type {\n",
       "        vertical-align: middle;\n",
       "    }\n",
       "\n",
       "    .dataframe tbody tr th {\n",
       "        vertical-align: top;\n",
       "    }\n",
       "\n",
       "    .dataframe thead th {\n",
       "        text-align: right;\n",
       "    }\n",
       "</style>\n",
       "<table border=\"1\" class=\"dataframe\">\n",
       "  <thead>\n",
       "    <tr style=\"text-align: right;\">\n",
       "      <th></th>\n",
       "      <th>FIPS</th>\n",
       "      <th>County</th>\n",
       "      <th>Province_State</th>\n",
       "      <th>Country_Region</th>\n",
       "      <th>Confirmed</th>\n",
       "      <th>Deaths</th>\n",
       "      <th>Place</th>\n",
       "    </tr>\n",
       "  </thead>\n",
       "  <tbody>\n",
       "    <tr>\n",
       "      <th>0</th>\n",
       "      <td>NaN</td>\n",
       "      <td>NaN</td>\n",
       "      <td>NaN</td>\n",
       "      <td>Afghanistan</td>\n",
       "      <td>87716</td>\n",
       "      <td>3412</td>\n",
       "      <td>Afghanistan</td>\n",
       "    </tr>\n",
       "    <tr>\n",
       "      <th>1</th>\n",
       "      <td>NaN</td>\n",
       "      <td>NaN</td>\n",
       "      <td>NaN</td>\n",
       "      <td>Albania</td>\n",
       "      <td>132437</td>\n",
       "      <td>2453</td>\n",
       "      <td>Albania</td>\n",
       "    </tr>\n",
       "    <tr>\n",
       "      <th>2</th>\n",
       "      <td>NaN</td>\n",
       "      <td>NaN</td>\n",
       "      <td>NaN</td>\n",
       "      <td>Algeria</td>\n",
       "      <td>132727</td>\n",
       "      <td>3560</td>\n",
       "      <td>Algeria</td>\n",
       "    </tr>\n",
       "  </tbody>\n",
       "</table>\n",
       "</div>"
      ],
      "text/plain": [
       "   FIPS County Province_State Country_Region  Confirmed  Deaths        Place\n",
       "0   NaN    NaN            NaN    Afghanistan      87716    3412  Afghanistan\n",
       "1   NaN    NaN            NaN        Albania     132437    2453      Albania\n",
       "2   NaN    NaN            NaN        Algeria     132727    3560      Algeria"
      ]
     },
     "execution_count": 7,
     "metadata": {},
     "output_type": "execute_result"
    }
   ],
   "source": [
    "# Remove columns that are irrelevant to the study.\n",
    "irrelevant_columns = ['Last_Update', 'Lat', 'Long_', 'Recovered', 'Active','Incident_Rate','Case_Fatality_Ratio']\n",
    "covid_df = covid_df.drop(irrelevant_columns, axis=1)\n",
    "covid_df.head(3)"
   ]
  },
  {
   "cell_type": "code",
   "execution_count": 8,
   "metadata": {},
   "outputs": [
    {
     "data": {
      "text/html": [
       "<div>\n",
       "<style scoped>\n",
       "    .dataframe tbody tr th:only-of-type {\n",
       "        vertical-align: middle;\n",
       "    }\n",
       "\n",
       "    .dataframe tbody tr th {\n",
       "        vertical-align: top;\n",
       "    }\n",
       "\n",
       "    .dataframe thead th {\n",
       "        text-align: right;\n",
       "    }\n",
       "</style>\n",
       "<table border=\"1\" class=\"dataframe\">\n",
       "  <thead>\n",
       "    <tr style=\"text-align: right;\">\n",
       "      <th></th>\n",
       "      <th>FIPS</th>\n",
       "      <th>County</th>\n",
       "      <th>Province_State</th>\n",
       "      <th>Country_Region</th>\n",
       "      <th>Place</th>\n",
       "      <th>Confirmed</th>\n",
       "      <th>Deaths</th>\n",
       "    </tr>\n",
       "  </thead>\n",
       "  <tbody>\n",
       "    <tr>\n",
       "      <th>0</th>\n",
       "      <td>NaN</td>\n",
       "      <td>NaN</td>\n",
       "      <td>NaN</td>\n",
       "      <td>Afghanistan</td>\n",
       "      <td>Afghanistan</td>\n",
       "      <td>87716</td>\n",
       "      <td>3412</td>\n",
       "    </tr>\n",
       "    <tr>\n",
       "      <th>1</th>\n",
       "      <td>NaN</td>\n",
       "      <td>NaN</td>\n",
       "      <td>NaN</td>\n",
       "      <td>Albania</td>\n",
       "      <td>Albania</td>\n",
       "      <td>132437</td>\n",
       "      <td>2453</td>\n",
       "    </tr>\n",
       "    <tr>\n",
       "      <th>2</th>\n",
       "      <td>NaN</td>\n",
       "      <td>NaN</td>\n",
       "      <td>NaN</td>\n",
       "      <td>Algeria</td>\n",
       "      <td>Algeria</td>\n",
       "      <td>132727</td>\n",
       "      <td>3560</td>\n",
       "    </tr>\n",
       "  </tbody>\n",
       "</table>\n",
       "</div>"
      ],
      "text/plain": [
       "   FIPS County Province_State Country_Region        Place  Confirmed  Deaths\n",
       "0   NaN    NaN            NaN    Afghanistan  Afghanistan      87716    3412\n",
       "1   NaN    NaN            NaN        Albania      Albania     132437    2453\n",
       "2   NaN    NaN            NaN        Algeria      Algeria     132727    3560"
      ]
     },
     "execution_count": 8,
     "metadata": {},
     "output_type": "execute_result"
    }
   ],
   "source": [
    "# Reorder columns\n",
    "column_order = ['FIPS','County','Province_State','Country_Region','Place','Confirmed','Deaths'] \n",
    "covid_df = covid_df[column_order] \n",
    "covid_df.head(3) "
   ]
  },
  {
   "cell_type": "code",
   "execution_count": 9,
   "metadata": {},
   "outputs": [
    {
     "data": {
      "text/plain": [
       "(3984, 7)"
      ]
     },
     "execution_count": 9,
     "metadata": {},
     "output_type": "execute_result"
    }
   ],
   "source": [
    "# Show revised Covid dataframe dimensions.  \n",
    "covid_df.shape"
   ]
  },
  {
   "cell_type": "markdown",
   "metadata": {},
   "source": [
    "### 1.2 - Remove Irrelevant Data"
   ]
  },
  {
   "cell_type": "code",
   "execution_count": 10,
   "metadata": {},
   "outputs": [
    {
     "data": {
      "text/plain": [
       "[]"
      ]
     },
     "execution_count": 10,
     "metadata": {},
     "output_type": "execute_result"
    }
   ],
   "source": [
    "# Drop duplicate rows.\n",
    "[row for row in covid_df.duplicated(keep='last') if row == True]"
   ]
  },
  {
   "cell_type": "code",
   "execution_count": 11,
   "metadata": {},
   "outputs": [
    {
     "data": {
      "text/plain": [
       "(3984, 7)"
      ]
     },
     "execution_count": 11,
     "metadata": {},
     "output_type": "execute_result"
    }
   ],
   "source": [
    "# No duplicates were found, so dropping duplicates will not have any effect.\n",
    "covid_df = covid_df.drop_duplicates(keep='last')\n",
    "covid_df.shape"
   ]
  },
  {
   "cell_type": "markdown",
   "metadata": {},
   "source": [
    "Determine how much of the dataframe is useful for the study."
   ]
  },
  {
   "cell_type": "code",
   "execution_count": 12,
   "metadata": {},
   "outputs": [
    {
     "data": {
      "text/plain": [
       "US          3277\n",
       "Russia        83\n",
       "Japan         49\n",
       "India         37\n",
       "Colombia      34\n",
       "China         34\n",
       "Mexico        33\n",
       "Ukraine       27\n",
       "Brazil        27\n",
       "Peru          26\n",
       "Name: Country_Region, dtype: int64"
      ]
     },
     "execution_count": 12,
     "metadata": {},
     "output_type": "execute_result"
    }
   ],
   "source": [
    "covid_df[\"Country_Region\"].value_counts().head(10)"
   ]
  },
  {
   "cell_type": "markdown",
   "metadata": {},
   "source": [
    "Note: Non-US data is irrelvant since only US counties are being studied.\n",
    "\n",
    "Only keep the records representing US data."
   ]
  },
  {
   "cell_type": "code",
   "execution_count": 13,
   "metadata": {},
   "outputs": [
    {
     "data": {
      "text/plain": [
       "(3277, 7)"
      ]
     },
     "execution_count": 13,
     "metadata": {},
     "output_type": "execute_result"
    }
   ],
   "source": [
    "# Drop all non-US data rows.\n",
    "covid_us_df = covid_df[covid_df.Country_Region == \"US\"]\n",
    "covid_us_df.shape"
   ]
  },
  {
   "cell_type": "code",
   "execution_count": 14,
   "metadata": {},
   "outputs": [
    {
     "name": "stdout",
     "output_type": "stream",
     "text": [
      "<class 'pandas.core.frame.DataFrame'>\n",
      "Int64Index: 3984 entries, 0 to 3983\n",
      "Data columns (total 7 columns):\n",
      "FIPS              3266 non-null float64\n",
      "County            3271 non-null object\n",
      "Province_State    3812 non-null object\n",
      "Country_Region    3984 non-null object\n",
      "Place             3984 non-null object\n",
      "Confirmed         3984 non-null int64\n",
      "Deaths            3984 non-null int64\n",
      "dtypes: float64(1), int64(2), object(4)\n",
      "memory usage: 249.0+ KB\n"
     ]
    }
   ],
   "source": [
    "# Check data types and counts.\n",
    "covid_df.info()"
   ]
  },
  {
   "cell_type": "markdown",
   "metadata": {},
   "source": [
    "The Non-Null counts are not the same, so cleanup missing data before moving forward."
   ]
  },
  {
   "cell_type": "markdown",
   "metadata": {},
   "source": [
    "### 1.3 - Cleanup Missing Data"
   ]
  },
  {
   "cell_type": "markdown",
   "metadata": {},
   "source": [
    "Visualize the dataframe to identify missing data."
   ]
  },
  {
   "cell_type": "code",
   "execution_count": 15,
   "metadata": {},
   "outputs": [
    {
     "data": {
      "text/plain": [
       "<matplotlib.axes._subplots.AxesSubplot at 0x25452d48358>"
      ]
     },
     "execution_count": 15,
     "metadata": {},
     "output_type": "execute_result"
    },
    {
     "data": {
      "image/png": "[encoded data removed]",
      "text/plain": [
       "<Figure size 1800x720 with 2 Axes>"
      ]
     },
     "metadata": {
      "needs_background": "light"
     },
     "output_type": "display_data"
    }
   ],
   "source": [
    "# Reference: https://analyticsindiamag.com/tutorial-on-missingno-python-tool-to-visualize-missing-values/\n",
    "import missingno as msno\n",
    "msno.matrix(covid_us_df)"
   ]
  },
  {
   "cell_type": "markdown",
   "metadata": {},
   "source": [
    "Investigate records without a FIPS code"
   ]
  },
  {
   "cell_type": "code",
   "execution_count": 16,
   "metadata": {},
   "outputs": [
    {
     "data": {
      "text/plain": [
       "(11, 7)"
      ]
     },
     "execution_count": 16,
     "metadata": {},
     "output_type": "execute_result"
    }
   ],
   "source": [
    "covid_nofips_us_df = covid_us_df[covid_us_df.FIPS.isna()]\n",
    "covid_nofips_us_df.shape"
   ]
  },
  {
   "cell_type": "code",
   "execution_count": 17,
   "metadata": {},
   "outputs": [
    {
     "data": {
      "text/html": [
       "<div>\n",
       "<style scoped>\n",
       "    .dataframe tbody tr th:only-of-type {\n",
       "        vertical-align: middle;\n",
       "    }\n",
       "\n",
       "    .dataframe tbody tr th {\n",
       "        vertical-align: top;\n",
       "    }\n",
       "\n",
       "    .dataframe thead th {\n",
       "        text-align: right;\n",
       "    }\n",
       "</style>\n",
       "<table border=\"1\" class=\"dataframe\">\n",
       "  <thead>\n",
       "    <tr style=\"text-align: right;\">\n",
       "      <th></th>\n",
       "      <th>FIPS</th>\n",
       "      <th>County</th>\n",
       "      <th>Province_State</th>\n",
       "      <th>Country_Region</th>\n",
       "      <th>Place</th>\n",
       "      <th>Confirmed</th>\n",
       "      <th>Deaths</th>\n",
       "    </tr>\n",
       "  </thead>\n",
       "  <tbody>\n",
       "    <tr>\n",
       "      <th>1905</th>\n",
       "      <td>NaN</td>\n",
       "      <td>Dukes and Nantucket</td>\n",
       "      <td>Massachusetts</td>\n",
       "      <td>US</td>\n",
       "      <td>Dukes and Nantucket, Massachusetts, US</td>\n",
       "      <td>2932</td>\n",
       "      <td>5</td>\n",
       "    </tr>\n",
       "    <tr>\n",
       "      <th>1940</th>\n",
       "      <td>NaN</td>\n",
       "      <td>Federal Correctional Institution (FCI)</td>\n",
       "      <td>Michigan</td>\n",
       "      <td>US</td>\n",
       "      <td>Federal Correctional Institution (FCI), Michig...</td>\n",
       "      <td>316</td>\n",
       "      <td>5</td>\n",
       "    </tr>\n",
       "    <tr>\n",
       "      <th>1972</th>\n",
       "      <td>NaN</td>\n",
       "      <td>Michigan Department of Corrections (MDOC)</td>\n",
       "      <td>Michigan</td>\n",
       "      <td>US</td>\n",
       "      <td>Michigan Department of Corrections (MDOC), Mic...</td>\n",
       "      <td>26914</td>\n",
       "      <td>152</td>\n",
       "    </tr>\n",
       "    <tr>\n",
       "      <th>2225</th>\n",
       "      <td>NaN</td>\n",
       "      <td>Kansas City</td>\n",
       "      <td>Missouri</td>\n",
       "      <td>US</td>\n",
       "      <td>Kansas City, Missouri, US</td>\n",
       "      <td>44863</td>\n",
       "      <td>591</td>\n",
       "    </tr>\n",
       "    <tr>\n",
       "      <th>3100</th>\n",
       "      <td>NaN</td>\n",
       "      <td>NaN</td>\n",
       "      <td>Recovered</td>\n",
       "      <td>US</td>\n",
       "      <td>Recovered, US</td>\n",
       "      <td>0</td>\n",
       "      <td>0</td>\n",
       "    </tr>\n",
       "    <tr>\n",
       "      <th>3573</th>\n",
       "      <td>NaN</td>\n",
       "      <td>Bear River</td>\n",
       "      <td>Utah</td>\n",
       "      <td>US</td>\n",
       "      <td>Bear River, Utah, US</td>\n",
       "      <td>22134</td>\n",
       "      <td>106</td>\n",
       "    </tr>\n",
       "    <tr>\n",
       "      <th>3574</th>\n",
       "      <td>NaN</td>\n",
       "      <td>Central Utah</td>\n",
       "      <td>Utah</td>\n",
       "      <td>US</td>\n",
       "      <td>Central Utah, Utah, US</td>\n",
       "      <td>9091</td>\n",
       "      <td>68</td>\n",
       "    </tr>\n",
       "    <tr>\n",
       "      <th>3578</th>\n",
       "      <td>NaN</td>\n",
       "      <td>Southeast Utah</td>\n",
       "      <td>Utah</td>\n",
       "      <td>US</td>\n",
       "      <td>Southeast Utah, Utah, US</td>\n",
       "      <td>3668</td>\n",
       "      <td>28</td>\n",
       "    </tr>\n",
       "    <tr>\n",
       "      <th>3579</th>\n",
       "      <td>NaN</td>\n",
       "      <td>Southwest Utah</td>\n",
       "      <td>Utah</td>\n",
       "      <td>US</td>\n",
       "      <td>Southwest Utah, Utah, US</td>\n",
       "      <td>29420</td>\n",
       "      <td>275</td>\n",
       "    </tr>\n",
       "    <tr>\n",
       "      <th>3582</th>\n",
       "      <td>NaN</td>\n",
       "      <td>TriCounty</td>\n",
       "      <td>Utah</td>\n",
       "      <td>US</td>\n",
       "      <td>TriCounty, Utah, US</td>\n",
       "      <td>4308</td>\n",
       "      <td>38</td>\n",
       "    </tr>\n",
       "    <tr>\n",
       "      <th>3586</th>\n",
       "      <td>NaN</td>\n",
       "      <td>Weber-Morgan</td>\n",
       "      <td>Utah</td>\n",
       "      <td>US</td>\n",
       "      <td>Weber-Morgan, Utah, US</td>\n",
       "      <td>31314</td>\n",
       "      <td>221</td>\n",
       "    </tr>\n",
       "  </tbody>\n",
       "</table>\n",
       "</div>"
      ],
      "text/plain": [
       "      FIPS                                     County Province_State  \\\n",
       "1905   NaN                        Dukes and Nantucket  Massachusetts   \n",
       "1940   NaN     Federal Correctional Institution (FCI)       Michigan   \n",
       "1972   NaN  Michigan Department of Corrections (MDOC)       Michigan   \n",
       "2225   NaN                                Kansas City       Missouri   \n",
       "3100   NaN                                        NaN      Recovered   \n",
       "3573   NaN                                 Bear River           Utah   \n",
       "3574   NaN                               Central Utah           Utah   \n",
       "3578   NaN                             Southeast Utah           Utah   \n",
       "3579   NaN                             Southwest Utah           Utah   \n",
       "3582   NaN                                  TriCounty           Utah   \n",
       "3586   NaN                               Weber-Morgan           Utah   \n",
       "\n",
       "     Country_Region                                              Place  \\\n",
       "1905             US             Dukes and Nantucket, Massachusetts, US   \n",
       "1940             US  Federal Correctional Institution (FCI), Michig...   \n",
       "1972             US  Michigan Department of Corrections (MDOC), Mic...   \n",
       "2225             US                          Kansas City, Missouri, US   \n",
       "3100             US                                      Recovered, US   \n",
       "3573             US                               Bear River, Utah, US   \n",
       "3574             US                             Central Utah, Utah, US   \n",
       "3578             US                           Southeast Utah, Utah, US   \n",
       "3579             US                           Southwest Utah, Utah, US   \n",
       "3582             US                                TriCounty, Utah, US   \n",
       "3586             US                             Weber-Morgan, Utah, US   \n",
       "\n",
       "      Confirmed  Deaths  \n",
       "1905       2932       5  \n",
       "1940        316       5  \n",
       "1972      26914     152  \n",
       "2225      44863     591  \n",
       "3100          0       0  \n",
       "3573      22134     106  \n",
       "3574       9091      68  \n",
       "3578       3668      28  \n",
       "3579      29420     275  \n",
       "3582       4308      38  \n",
       "3586      31314     221  "
      ]
     },
     "execution_count": 17,
     "metadata": {},
     "output_type": "execute_result"
    }
   ],
   "source": [
    "covid_nofips_us_df"
   ]
  },
  {
   "cell_type": "markdown",
   "metadata": {},
   "source": [
    "Records lacking a FIPS code cannot be used in the study because the field will be joined with land area data needed to determine population density for each county.\n",
    "\n",
    "Remove the records without a FIPS code."
   ]
  },
  {
   "cell_type": "code",
   "execution_count": 18,
   "metadata": {},
   "outputs": [
    {
     "data": {
      "text/plain": [
       "(3266, 7)"
      ]
     },
     "execution_count": 18,
     "metadata": {},
     "output_type": "execute_result"
    }
   ],
   "source": [
    "covid_us_df = covid_us_df[covid_us_df.FIPS.notna()]\n",
    "covid_us_df.shape"
   ]
  },
  {
   "cell_type": "markdown",
   "metadata": {},
   "source": [
    "Investigate records without a County."
   ]
  },
  {
   "cell_type": "code",
   "execution_count": 19,
   "metadata": {},
   "outputs": [
    {
     "data": {
      "text/plain": [
       "(5, 7)"
      ]
     },
     "execution_count": 19,
     "metadata": {},
     "output_type": "execute_result"
    }
   ],
   "source": [
    "covid_no_county_us_df = covid_us_df[covid_us_df.County.isna()]\n",
    "covid_no_county_us_df.shape"
   ]
  },
  {
   "cell_type": "code",
   "execution_count": 20,
   "metadata": {},
   "outputs": [
    {
     "data": {
      "text/html": [
       "<div>\n",
       "<style scoped>\n",
       "    .dataframe tbody tr th:only-of-type {\n",
       "        vertical-align: middle;\n",
       "    }\n",
       "\n",
       "    .dataframe tbody tr th {\n",
       "        vertical-align: top;\n",
       "    }\n",
       "\n",
       "    .dataframe thead th {\n",
       "        text-align: right;\n",
       "    }\n",
       "</style>\n",
       "<table border=\"1\" class=\"dataframe\">\n",
       "  <thead>\n",
       "    <tr style=\"text-align: right;\">\n",
       "      <th></th>\n",
       "      <th>FIPS</th>\n",
       "      <th>County</th>\n",
       "      <th>Province_State</th>\n",
       "      <th>Country_Region</th>\n",
       "      <th>Place</th>\n",
       "      <th>Confirmed</th>\n",
       "      <th>Deaths</th>\n",
       "    </tr>\n",
       "  </thead>\n",
       "  <tbody>\n",
       "    <tr>\n",
       "      <th>984</th>\n",
       "      <td>88888.0</td>\n",
       "      <td>NaN</td>\n",
       "      <td>Diamond Princess</td>\n",
       "      <td>US</td>\n",
       "      <td>Diamond Princess, US</td>\n",
       "      <td>49</td>\n",
       "      <td>0</td>\n",
       "    </tr>\n",
       "    <tr>\n",
       "      <th>1215</th>\n",
       "      <td>99999.0</td>\n",
       "      <td>NaN</td>\n",
       "      <td>Grand Princess</td>\n",
       "      <td>US</td>\n",
       "      <td>Grand Princess, US</td>\n",
       "      <td>103</td>\n",
       "      <td>3</td>\n",
       "    </tr>\n",
       "    <tr>\n",
       "      <th>1216</th>\n",
       "      <td>66.0</td>\n",
       "      <td>NaN</td>\n",
       "      <td>Guam</td>\n",
       "      <td>US</td>\n",
       "      <td>Guam, US</td>\n",
       "      <td>8236</td>\n",
       "      <td>139</td>\n",
       "    </tr>\n",
       "    <tr>\n",
       "      <th>2746</th>\n",
       "      <td>69.0</td>\n",
       "      <td>NaN</td>\n",
       "      <td>Northern Mariana Islands</td>\n",
       "      <td>US</td>\n",
       "      <td>Northern Mariana Islands, US</td>\n",
       "      <td>183</td>\n",
       "      <td>2</td>\n",
       "    </tr>\n",
       "    <tr>\n",
       "      <th>3602</th>\n",
       "      <td>78.0</td>\n",
       "      <td>NaN</td>\n",
       "      <td>Virgin Islands</td>\n",
       "      <td>US</td>\n",
       "      <td>Virgin Islands, US</td>\n",
       "      <td>3690</td>\n",
       "      <td>28</td>\n",
       "    </tr>\n",
       "  </tbody>\n",
       "</table>\n",
       "</div>"
      ],
      "text/plain": [
       "         FIPS County            Province_State Country_Region  \\\n",
       "984   88888.0    NaN          Diamond Princess             US   \n",
       "1215  99999.0    NaN            Grand Princess             US   \n",
       "1216     66.0    NaN                      Guam             US   \n",
       "2746     69.0    NaN  Northern Mariana Islands             US   \n",
       "3602     78.0    NaN            Virgin Islands             US   \n",
       "\n",
       "                             Place  Confirmed  Deaths  \n",
       "984           Diamond Princess, US         49       0  \n",
       "1215            Grand Princess, US        103       3  \n",
       "1216                      Guam, US       8236     139  \n",
       "2746  Northern Mariana Islands, US        183       2  \n",
       "3602            Virgin Islands, US       3690      28  "
      ]
     },
     "execution_count": 20,
     "metadata": {},
     "output_type": "execute_result"
    }
   ],
   "source": [
    "covid_no_county_us_df"
   ]
  },
  {
   "cell_type": "markdown",
   "metadata": {},
   "source": [
    "These records represent provinces or special COVID groupings irrelevant to the study and can be removed."
   ]
  },
  {
   "cell_type": "code",
   "execution_count": 21,
   "metadata": {},
   "outputs": [
    {
     "data": {
      "text/plain": [
       "(3261, 7)"
      ]
     },
     "execution_count": 21,
     "metadata": {},
     "output_type": "execute_result"
    }
   ],
   "source": [
    "covid_us_df = covid_us_df[covid_us_df.County.notna()]\n",
    "covid_us_df.shape"
   ]
  },
  {
   "cell_type": "code",
   "execution_count": 22,
   "metadata": {},
   "outputs": [
    {
     "name": "stdout",
     "output_type": "stream",
     "text": [
      "<class 'pandas.core.frame.DataFrame'>\n",
      "Int64Index: 3261 entries, 653 to 3929\n",
      "Data columns (total 7 columns):\n",
      "FIPS              3261 non-null float64\n",
      "County            3261 non-null object\n",
      "Province_State    3261 non-null object\n",
      "Country_Region    3261 non-null object\n",
      "Place             3261 non-null object\n",
      "Confirmed         3261 non-null int64\n",
      "Deaths            3261 non-null int64\n",
      "dtypes: float64(1), int64(2), object(4)\n",
      "memory usage: 203.8+ KB\n"
     ]
    }
   ],
   "source": [
    "covid_us_df.info()"
   ]
  },
  {
   "cell_type": "markdown",
   "metadata": {},
   "source": [
    "All NaNs addressed. Check column statistics to identify any other missing data"
   ]
  },
  {
   "cell_type": "code",
   "execution_count": 23,
   "metadata": {},
   "outputs": [
    {
     "data": {
      "text/html": [
       "<div>\n",
       "<style scoped>\n",
       "    .dataframe tbody tr th:only-of-type {\n",
       "        vertical-align: middle;\n",
       "    }\n",
       "\n",
       "    .dataframe tbody tr th {\n",
       "        vertical-align: top;\n",
       "    }\n",
       "\n",
       "    .dataframe thead th {\n",
       "        text-align: right;\n",
       "    }\n",
       "</style>\n",
       "<table border=\"1\" class=\"dataframe\">\n",
       "  <thead>\n",
       "    <tr style=\"text-align: right;\">\n",
       "      <th></th>\n",
       "      <th>FIPS</th>\n",
       "      <th>County</th>\n",
       "      <th>Province_State</th>\n",
       "      <th>Country_Region</th>\n",
       "      <th>Place</th>\n",
       "      <th>Confirmed</th>\n",
       "      <th>Deaths</th>\n",
       "    </tr>\n",
       "  </thead>\n",
       "  <tbody>\n",
       "    <tr>\n",
       "      <th>count</th>\n",
       "      <td>3261.000000</td>\n",
       "      <td>3261</td>\n",
       "      <td>3261</td>\n",
       "      <td>3261</td>\n",
       "      <td>3261</td>\n",
       "      <td>3.261000e+03</td>\n",
       "      <td>3261.000000</td>\n",
       "    </tr>\n",
       "    <tr>\n",
       "      <th>unique</th>\n",
       "      <td>NaN</td>\n",
       "      <td>1916</td>\n",
       "      <td>52</td>\n",
       "      <td>1</td>\n",
       "      <td>3261</td>\n",
       "      <td>NaN</td>\n",
       "      <td>NaN</td>\n",
       "    </tr>\n",
       "    <tr>\n",
       "      <th>top</th>\n",
       "      <td>NaN</td>\n",
       "      <td>Unassigned</td>\n",
       "      <td>Texas</td>\n",
       "      <td>US</td>\n",
       "      <td>Irion, Texas, US</td>\n",
       "      <td>NaN</td>\n",
       "      <td>NaN</td>\n",
       "    </tr>\n",
       "    <tr>\n",
       "      <th>freq</th>\n",
       "      <td>NaN</td>\n",
       "      <td>51</td>\n",
       "      <td>255</td>\n",
       "      <td>3261</td>\n",
       "      <td>1</td>\n",
       "      <td>NaN</td>\n",
       "      <td>NaN</td>\n",
       "    </tr>\n",
       "    <tr>\n",
       "      <th>mean</th>\n",
       "      <td>32392.964428</td>\n",
       "      <td>NaN</td>\n",
       "      <td>NaN</td>\n",
       "      <td>NaN</td>\n",
       "      <td>NaN</td>\n",
       "      <td>1.019987e+04</td>\n",
       "      <td>183.294695</td>\n",
       "    </tr>\n",
       "    <tr>\n",
       "      <th>std</th>\n",
       "      <td>17954.793468</td>\n",
       "      <td>NaN</td>\n",
       "      <td>NaN</td>\n",
       "      <td>NaN</td>\n",
       "      <td>NaN</td>\n",
       "      <td>3.665290e+04</td>\n",
       "      <td>712.187197</td>\n",
       "    </tr>\n",
       "    <tr>\n",
       "      <th>min</th>\n",
       "      <td>1001.000000</td>\n",
       "      <td>NaN</td>\n",
       "      <td>NaN</td>\n",
       "      <td>NaN</td>\n",
       "      <td>NaN</td>\n",
       "      <td>0.000000e+00</td>\n",
       "      <td>0.000000</td>\n",
       "    </tr>\n",
       "    <tr>\n",
       "      <th>25%</th>\n",
       "      <td>19053.000000</td>\n",
       "      <td>NaN</td>\n",
       "      <td>NaN</td>\n",
       "      <td>NaN</td>\n",
       "      <td>NaN</td>\n",
       "      <td>1.024000e+03</td>\n",
       "      <td>17.000000</td>\n",
       "    </tr>\n",
       "    <tr>\n",
       "      <th>50%</th>\n",
       "      <td>30069.000000</td>\n",
       "      <td>NaN</td>\n",
       "      <td>NaN</td>\n",
       "      <td>NaN</td>\n",
       "      <td>NaN</td>\n",
       "      <td>2.485000e+03</td>\n",
       "      <td>47.000000</td>\n",
       "    </tr>\n",
       "    <tr>\n",
       "      <th>75%</th>\n",
       "      <td>47039.000000</td>\n",
       "      <td>NaN</td>\n",
       "      <td>NaN</td>\n",
       "      <td>NaN</td>\n",
       "      <td>NaN</td>\n",
       "      <td>6.414000e+03</td>\n",
       "      <td>114.000000</td>\n",
       "    </tr>\n",
       "    <tr>\n",
       "      <th>max</th>\n",
       "      <td>90056.000000</td>\n",
       "      <td>NaN</td>\n",
       "      <td>NaN</td>\n",
       "      <td>NaN</td>\n",
       "      <td>NaN</td>\n",
       "      <td>1.245949e+06</td>\n",
       "      <td>24440.000000</td>\n",
       "    </tr>\n",
       "  </tbody>\n",
       "</table>\n",
       "</div>"
      ],
      "text/plain": [
       "                FIPS      County Province_State Country_Region  \\\n",
       "count    3261.000000        3261           3261           3261   \n",
       "unique           NaN        1916             52              1   \n",
       "top              NaN  Unassigned          Texas             US   \n",
       "freq             NaN          51            255           3261   \n",
       "mean    32392.964428         NaN            NaN            NaN   \n",
       "std     17954.793468         NaN            NaN            NaN   \n",
       "min      1001.000000         NaN            NaN            NaN   \n",
       "25%     19053.000000         NaN            NaN            NaN   \n",
       "50%     30069.000000         NaN            NaN            NaN   \n",
       "75%     47039.000000         NaN            NaN            NaN   \n",
       "max     90056.000000         NaN            NaN            NaN   \n",
       "\n",
       "                   Place     Confirmed        Deaths  \n",
       "count               3261  3.261000e+03   3261.000000  \n",
       "unique              3261           NaN           NaN  \n",
       "top     Irion, Texas, US           NaN           NaN  \n",
       "freq                   1           NaN           NaN  \n",
       "mean                 NaN  1.019987e+04    183.294695  \n",
       "std                  NaN  3.665290e+04    712.187197  \n",
       "min                  NaN  0.000000e+00      0.000000  \n",
       "25%                  NaN  1.024000e+03     17.000000  \n",
       "50%                  NaN  2.485000e+03     47.000000  \n",
       "75%                  NaN  6.414000e+03    114.000000  \n",
       "max                  NaN  1.245949e+06  24440.000000  "
      ]
     },
     "execution_count": 23,
     "metadata": {},
     "output_type": "execute_result"
    }
   ],
   "source": [
    "covid_us_df.describe(include='all')"
   ]
  },
  {
   "cell_type": "markdown",
   "metadata": {},
   "source": [
    "Note \"Unassigned\" is the most frequent value in the \"Admin2\" column, which represents a county.\n",
    "\n",
    "This field should not be unassigned and needs to be investigated."
   ]
  },
  {
   "cell_type": "code",
   "execution_count": 24,
   "metadata": {},
   "outputs": [
    {
     "data": {
      "text/plain": [
       "(51, 7)"
      ]
     },
     "execution_count": 24,
     "metadata": {},
     "output_type": "execute_result"
    }
   ],
   "source": [
    "unassigned_df = covid_us_df[covid_us_df.County == \"Unassigned\"] \n",
    "unassigned_df.shape"
   ]
  },
  {
   "cell_type": "code",
   "execution_count": 25,
   "metadata": {},
   "outputs": [
    {
     "data": {
      "text/html": [
       "<div>\n",
       "<style scoped>\n",
       "    .dataframe tbody tr th:only-of-type {\n",
       "        vertical-align: middle;\n",
       "    }\n",
       "\n",
       "    .dataframe tbody tr th {\n",
       "        vertical-align: top;\n",
       "    }\n",
       "\n",
       "    .dataframe thead th {\n",
       "        text-align: right;\n",
       "    }\n",
       "</style>\n",
       "<table border=\"1\" class=\"dataframe\">\n",
       "  <thead>\n",
       "    <tr style=\"text-align: right;\">\n",
       "      <th></th>\n",
       "      <th>FIPS</th>\n",
       "      <th>County</th>\n",
       "      <th>Province_State</th>\n",
       "      <th>Country_Region</th>\n",
       "      <th>Place</th>\n",
       "      <th>Confirmed</th>\n",
       "      <th>Deaths</th>\n",
       "    </tr>\n",
       "  </thead>\n",
       "  <tbody>\n",
       "    <tr>\n",
       "      <th>717</th>\n",
       "      <td>90001.0</td>\n",
       "      <td>Unassigned</td>\n",
       "      <td>Alabama</td>\n",
       "      <td>US</td>\n",
       "      <td>Unassigned, Alabama, US</td>\n",
       "      <td>0</td>\n",
       "      <td>0</td>\n",
       "    </tr>\n",
       "    <tr>\n",
       "      <th>1898</th>\n",
       "      <td>90024.0</td>\n",
       "      <td>Unassigned</td>\n",
       "      <td>Maryland</td>\n",
       "      <td>US</td>\n",
       "      <td>Unassigned, Maryland, US</td>\n",
       "      <td>0</td>\n",
       "      <td>32</td>\n",
       "    </tr>\n",
       "    <tr>\n",
       "      <th>2909</th>\n",
       "      <td>90040.0</td>\n",
       "      <td>Unassigned</td>\n",
       "      <td>Oklahoma</td>\n",
       "      <td>US</td>\n",
       "      <td>Unassigned, Oklahoma, US</td>\n",
       "      <td>506</td>\n",
       "      <td>0</td>\n",
       "    </tr>\n",
       "    <tr>\n",
       "      <th>3216</th>\n",
       "      <td>90046.0</td>\n",
       "      <td>Unassigned</td>\n",
       "      <td>South Dakota</td>\n",
       "      <td>US</td>\n",
       "      <td>Unassigned, South Dakota, US</td>\n",
       "      <td>0</td>\n",
       "      <td>0</td>\n",
       "    </tr>\n",
       "    <tr>\n",
       "      <th>3825</th>\n",
       "      <td>90054.0</td>\n",
       "      <td>Unassigned</td>\n",
       "      <td>West Virginia</td>\n",
       "      <td>US</td>\n",
       "      <td>Unassigned, West Virginia, US</td>\n",
       "      <td>0</td>\n",
       "      <td>0</td>\n",
       "    </tr>\n",
       "    <tr>\n",
       "      <th>748</th>\n",
       "      <td>90002.0</td>\n",
       "      <td>Unassigned</td>\n",
       "      <td>Alaska</td>\n",
       "      <td>US</td>\n",
       "      <td>Unassigned, Alaska, US</td>\n",
       "      <td>292</td>\n",
       "      <td>0</td>\n",
       "    </tr>\n",
       "    <tr>\n",
       "      <th>2163</th>\n",
       "      <td>90028.0</td>\n",
       "      <td>Unassigned</td>\n",
       "      <td>Mississippi</td>\n",
       "      <td>US</td>\n",
       "      <td>Unassigned, Mississippi, US</td>\n",
       "      <td>0</td>\n",
       "      <td>0</td>\n",
       "    </tr>\n",
       "    <tr>\n",
       "      <th>1552</th>\n",
       "      <td>90019.0</td>\n",
       "      <td>Unassigned</td>\n",
       "      <td>Iowa</td>\n",
       "      <td>US</td>\n",
       "      <td>Unassigned, Iowa, US</td>\n",
       "      <td>952</td>\n",
       "      <td>0</td>\n",
       "    </tr>\n",
       "    <tr>\n",
       "      <th>2741</th>\n",
       "      <td>90038.0</td>\n",
       "      <td>Unassigned</td>\n",
       "      <td>North Dakota</td>\n",
       "      <td>US</td>\n",
       "      <td>Unassigned, North Dakota, US</td>\n",
       "      <td>0</td>\n",
       "      <td>31</td>\n",
       "    </tr>\n",
       "    <tr>\n",
       "      <th>2457</th>\n",
       "      <td>90032.0</td>\n",
       "      <td>Unassigned</td>\n",
       "      <td>Nevada</td>\n",
       "      <td>US</td>\n",
       "      <td>Unassigned, Nevada, US</td>\n",
       "      <td>0</td>\n",
       "      <td>0</td>\n",
       "    </tr>\n",
       "  </tbody>\n",
       "</table>\n",
       "</div>"
      ],
      "text/plain": [
       "         FIPS      County Province_State Country_Region  \\\n",
       "717   90001.0  Unassigned        Alabama             US   \n",
       "1898  90024.0  Unassigned       Maryland             US   \n",
       "2909  90040.0  Unassigned       Oklahoma             US   \n",
       "3216  90046.0  Unassigned   South Dakota             US   \n",
       "3825  90054.0  Unassigned  West Virginia             US   \n",
       "748   90002.0  Unassigned         Alaska             US   \n",
       "2163  90028.0  Unassigned    Mississippi             US   \n",
       "1552  90019.0  Unassigned           Iowa             US   \n",
       "2741  90038.0  Unassigned   North Dakota             US   \n",
       "2457  90032.0  Unassigned         Nevada             US   \n",
       "\n",
       "                              Place  Confirmed  Deaths  \n",
       "717         Unassigned, Alabama, US          0       0  \n",
       "1898       Unassigned, Maryland, US          0      32  \n",
       "2909       Unassigned, Oklahoma, US        506       0  \n",
       "3216   Unassigned, South Dakota, US          0       0  \n",
       "3825  Unassigned, West Virginia, US          0       0  \n",
       "748          Unassigned, Alaska, US        292       0  \n",
       "2163    Unassigned, Mississippi, US          0       0  \n",
       "1552           Unassigned, Iowa, US        952       0  \n",
       "2741   Unassigned, North Dakota, US          0      31  \n",
       "2457         Unassigned, Nevada, US          0       0  "
      ]
     },
     "execution_count": 25,
     "metadata": {},
     "output_type": "execute_result"
    }
   ],
   "source": [
    "unassigned_df.sample(10)"
   ]
  },
  {
   "cell_type": "markdown",
   "metadata": {},
   "source": [
    "Records with county field value of \"Unassigned\" represent states.\n",
    "\n",
    "The study is looking at county-level population denisty, so state records are irrelevant and can be removed.\n",
    "\n",
    "Remove the records with the county \"Unassigned\"."
   ]
  },
  {
   "cell_type": "code",
   "execution_count": 26,
   "metadata": {},
   "outputs": [
    {
     "data": {
      "text/plain": [
       "(3210, 7)"
      ]
     },
     "execution_count": 26,
     "metadata": {},
     "output_type": "execute_result"
    }
   ],
   "source": [
    "covid_counties_df = covid_us_df[covid_us_df.County != \"Unassigned\"]\n",
    "covid_counties_df.shape"
   ]
  },
  {
   "cell_type": "markdown",
   "metadata": {},
   "source": [
    "### 1.4 - Verify Data Types"
   ]
  },
  {
   "cell_type": "code",
   "execution_count": 27,
   "metadata": {},
   "outputs": [
    {
     "data": {
      "text/plain": [
       "FIPS              float64\n",
       "County             object\n",
       "Province_State     object\n",
       "Country_Region     object\n",
       "Place              object\n",
       "Confirmed           int64\n",
       "Deaths              int64\n",
       "dtype: object"
      ]
     },
     "execution_count": 27,
     "metadata": {},
     "output_type": "execute_result"
    }
   ],
   "source": [
    "covid_counties_df.dtypes"
   ]
  },
  {
   "cell_type": "markdown",
   "metadata": {},
   "source": [
    "FIPS code was read in as float because there were NaNs and that is a float type.\n",
    "\n",
    "FIPS should be integer, so recast the column from float64 to int\n",
    "\n",
    "Reference: https://stackoverflow.com/questions/49728421/pandas-dataframe-settingwithcopywarning-a-value-is-trying-to-be-set-on-a-copy"
   ]
  },
  {
   "cell_type": "code",
   "execution_count": 28,
   "metadata": {},
   "outputs": [],
   "source": [
    "covid_counties_df = covid_counties_df.assign(FIPS=lambda x: x['FIPS'].astype(int))"
   ]
  },
  {
   "cell_type": "code",
   "execution_count": 29,
   "metadata": {},
   "outputs": [
    {
     "data": {
      "text/html": [
       "<div>\n",
       "<style scoped>\n",
       "    .dataframe tbody tr th:only-of-type {\n",
       "        vertical-align: middle;\n",
       "    }\n",
       "\n",
       "    .dataframe tbody tr th {\n",
       "        vertical-align: top;\n",
       "    }\n",
       "\n",
       "    .dataframe thead th {\n",
       "        text-align: right;\n",
       "    }\n",
       "</style>\n",
       "<table border=\"1\" class=\"dataframe\">\n",
       "  <thead>\n",
       "    <tr style=\"text-align: right;\">\n",
       "      <th></th>\n",
       "      <th>FIPS</th>\n",
       "      <th>County</th>\n",
       "      <th>Province_State</th>\n",
       "      <th>Country_Region</th>\n",
       "      <th>Place</th>\n",
       "      <th>Confirmed</th>\n",
       "      <th>Deaths</th>\n",
       "    </tr>\n",
       "  </thead>\n",
       "  <tbody>\n",
       "    <tr>\n",
       "      <th>3371</th>\n",
       "      <td>48107</td>\n",
       "      <td>Crosby</td>\n",
       "      <td>Texas</td>\n",
       "      <td>US</td>\n",
       "      <td>Crosby, Texas, US</td>\n",
       "      <td>699</td>\n",
       "      <td>29</td>\n",
       "    </tr>\n",
       "    <tr>\n",
       "      <th>2995</th>\n",
       "      <td>42087</td>\n",
       "      <td>Mifflin</td>\n",
       "      <td>Pennsylvania</td>\n",
       "      <td>US</td>\n",
       "      <td>Mifflin, Pennsylvania, US</td>\n",
       "      <td>5416</td>\n",
       "      <td>179</td>\n",
       "    </tr>\n",
       "    <tr>\n",
       "      <th>2703</th>\n",
       "      <td>38023</td>\n",
       "      <td>Divide</td>\n",
       "      <td>North Dakota</td>\n",
       "      <td>US</td>\n",
       "      <td>Divide, North Dakota, US</td>\n",
       "      <td>187</td>\n",
       "      <td>2</td>\n",
       "    </tr>\n",
       "    <tr>\n",
       "      <th>2418</th>\n",
       "      <td>31141</td>\n",
       "      <td>Platte</td>\n",
       "      <td>Nebraska</td>\n",
       "      <td>US</td>\n",
       "      <td>Platte, Nebraska, US</td>\n",
       "      <td>4152</td>\n",
       "      <td>50</td>\n",
       "    </tr>\n",
       "    <tr>\n",
       "      <th>2254</th>\n",
       "      <td>29159</td>\n",
       "      <td>Pettis</td>\n",
       "      <td>Missouri</td>\n",
       "      <td>US</td>\n",
       "      <td>Pettis, Missouri, US</td>\n",
       "      <td>5188</td>\n",
       "      <td>77</td>\n",
       "    </tr>\n",
       "  </tbody>\n",
       "</table>\n",
       "</div>"
      ],
      "text/plain": [
       "       FIPS   County Province_State Country_Region                      Place  \\\n",
       "3371  48107   Crosby          Texas             US          Crosby, Texas, US   \n",
       "2995  42087  Mifflin   Pennsylvania             US  Mifflin, Pennsylvania, US   \n",
       "2703  38023   Divide   North Dakota             US   Divide, North Dakota, US   \n",
       "2418  31141   Platte       Nebraska             US       Platte, Nebraska, US   \n",
       "2254  29159   Pettis       Missouri             US       Pettis, Missouri, US   \n",
       "\n",
       "      Confirmed  Deaths  \n",
       "3371        699      29  \n",
       "2995       5416     179  \n",
       "2703        187       2  \n",
       "2418       4152      50  \n",
       "2254       5188      77  "
      ]
     },
     "execution_count": 29,
     "metadata": {},
     "output_type": "execute_result"
    }
   ],
   "source": [
    "covid_counties_df.sample(5)"
   ]
  },
  {
   "cell_type": "code",
   "execution_count": 32,
   "metadata": {},
   "outputs": [
    {
     "data": {
      "text/plain": [
       "Index(['FIPS', 'County', 'State', 'Country', 'Place', 'Confirmed', 'Deaths'], dtype='object')"
      ]
     },
     "execution_count": 32,
     "metadata": {},
     "output_type": "execute_result"
    }
   ],
   "source": [
    "# Rename the Province_State, and Country_Region to State and Country.\n",
    "covid_counties_df.rename(columns = {'Province_State':'State', 'Country_Region':'Country'}, inplace = True)\n",
    "covid_counties_df.columns"
   ]
  },
  {
   "cell_type": "code",
   "execution_count": 33,
   "metadata": {},
   "outputs": [
    {
     "data": {
      "text/plain": [
       "array(['Alabama', 'Alaska', 'Arizona', 'Arkansas', 'California',\n",
       "       'Colorado', 'Connecticut', 'Delaware', 'District of Columbia',\n",
       "       'Florida', 'Georgia', 'Hawaii', 'Idaho', 'Illinois', 'Indiana',\n",
       "       'Iowa', 'Kansas', 'Kentucky', 'Louisiana', 'Maine', 'Maryland',\n",
       "       'Massachusetts', 'Michigan', 'Minnesota', 'Mississippi',\n",
       "       'Missouri', 'Montana', 'Nebraska', 'Nevada', 'New Hampshire',\n",
       "       'New Jersey', 'New Mexico', 'New York', 'North Carolina',\n",
       "       'North Dakota', 'Ohio', 'Oklahoma', 'Oregon', 'Pennsylvania',\n",
       "       'Puerto Rico', 'Rhode Island', 'South Carolina', 'South Dakota',\n",
       "       'Tennessee', 'Texas', 'Utah', 'Vermont', 'Virginia', 'Washington',\n",
       "       'West Virginia', 'Wisconsin', 'Wyoming'], dtype=object)"
      ]
     },
     "execution_count": 33,
     "metadata": {},
     "output_type": "execute_result"
    }
   ],
   "source": [
    "# Check number of States/Provinces\n",
    "covid_counties_df.State.unique()"
   ]
  },
  {
   "cell_type": "code",
   "execution_count": 34,
   "metadata": {},
   "outputs": [
    {
     "data": {
      "text/plain": [
       "52"
      ]
     },
     "execution_count": 34,
     "metadata": {},
     "output_type": "execute_result"
    }
   ],
   "source": [
    "num_provinces_states = len(covid_counties_df.State.unique())\n",
    "num_provinces_states"
   ]
  },
  {
   "cell_type": "markdown",
   "metadata": {},
   "source": [
    "Note that Puerto Rico and Washington, DC are included in the data."
   ]
  },
  {
   "cell_type": "markdown",
   "metadata": {},
   "source": [
    "### 1.5 - Plot Data"
   ]
  },
  {
   "cell_type": "markdown",
   "metadata": {},
   "source": [
    "Display an interactive scatter plot of the COVID-19 cases versus deaths by County."
   ]
  },
  {
   "cell_type": "code",
   "execution_count": 36,
   "metadata": {},
   "outputs": [],
   "source": [
    "import plotly.express as px\n",
    "import plotly.io as pio\n",
    "pio.renderers.default = 'iframe_connected'"
   ]
  },
  {
   "cell_type": "code",
   "execution_count": 37,
   "metadata": {},
   "outputs": [
    {
     "data": {
      "text/html": [
       "<iframe\n",
       "    scrolling=\"no\"\n",
       "    width=\"100%\"\n",
       "    height=\"545px\"\n",
       "    src=\"iframe_figures/figure_37.html\"\n",
       "    frameborder=\"0\"\n",
       "    allowfullscreen\n",
       "></iframe>\n"
      ]
     },
     "metadata": {},
     "output_type": "display_data"
    }
   ],
   "source": [
    "fig = px.scatter(covid_counties_df,x='Confirmed', y='Deaths',hover_data=['State','County'])\n",
    "fig.update_layout(title=\"County Confirmed COVID-19 Cases and Death Counts\", title_x=0.5)\n",
    "fig.show()"
   ]
  },
  {
   "cell_type": "markdown",
   "metadata": {},
   "source": [
    "### 1.5 - Save COVID-19 Data to Pickle File"
   ]
  },
  {
   "cell_type": "code",
   "execution_count": null,
   "metadata": {},
   "outputs": [],
   "source": [
    "covid_counties_df.to_pickle(\"./covid.pkl\")"
   ]
  },
  {
   "cell_type": "code",
   "execution_count": null,
   "metadata": {},
   "outputs": [],
   "source": []
  }
 ],
 "metadata": {
  "kernelspec": {
   "display_name": "Python 3",
   "language": "python",
   "name": "python3"
  },
  "language_info": {
   "codemirror_mode": {
    "name": "ipython",
    "version": 3
   },
   "file_extension": ".py",
   "mimetype": "text/x-python",
   "name": "python",
   "nbconvert_exporter": "python",
   "pygments_lexer": "ipython3",
   "version": "3.7.3"
  }
 },
 "nbformat": 4,
 "nbformat_minor": 2
}
