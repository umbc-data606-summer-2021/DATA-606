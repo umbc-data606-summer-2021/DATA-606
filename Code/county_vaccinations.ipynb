{
 "cells": [
  {
   "cell_type": "code",
   "execution_count": 1,
   "metadata": {},
   "outputs": [],
   "source": [
    "import pandas as pd\n",
    "import numpy as np\n",
    "import seaborn as sns\n",
    "import os"
   ]
  },
  {
   "cell_type": "code",
   "execution_count": 2,
   "metadata": {},
   "outputs": [
    {
     "data": {
      "text/plain": [
       "'C:\\\\Users\\\\Ken\\\\Documents\\\\Ken\\\\College\\\\UMBC\\\\Data_Science\\\\DATA_606_Capstone_in_Data_Science\\\\Project'"
      ]
     },
     "execution_count": 2,
     "metadata": {},
     "output_type": "execute_result"
    }
   ],
   "source": [
    "wd = os.getcwd()\n",
    "wd"
   ]
  },
  {
   "cell_type": "code",
   "execution_count": 3,
   "metadata": {},
   "outputs": [
    {
     "data": {
      "text/plain": [
       "['.ipynb_checkpoints',\n",
       " 'co-est2019-alldata.csv',\n",
       " 'county_income.ipynb',\n",
       " 'county_population.ipynb',\n",
       " 'county_vaccinations.ipynb',\n",
       " 'covid-19.jpg',\n",
       " 'COVID-19.png',\n",
       " 'COVID-19_Vaccinations_in_the_United_States_County.csv',\n",
       " 'iframe_figures',\n",
       " 'incomes.pkl',\n",
       " 'lapi1120.xlsx',\n",
       " 'merged_income_vax.pkl',\n",
       " 'merge_income_vax.ipynb',\n",
       " 'Untitled.ipynb',\n",
       " 'vaccinations.pkl',\n",
       " '~$lapi1120.xlsx']"
      ]
     },
     "execution_count": 3,
     "metadata": {},
     "output_type": "execute_result"
    }
   ],
   "source": [
    "os.listdir(wd)"
   ]
  },
  {
   "cell_type": "markdown",
   "metadata": {
    "tags": []
   },
   "source": [
    "Load Census Population Data"
   ]
  },
  {
   "cell_type": "code",
   "execution_count": 4,
   "metadata": {
    "tags": []
   },
   "outputs": [
    {
     "data": {
      "text/plain": [
       "'C:\\\\Users\\\\Ken\\\\Documents\\\\Ken\\\\College\\\\UMBC\\\\Data_Science\\\\DATA_606_Capstone_in_Data_Science\\\\Project\\\\COVID-19_Vaccinations_in_the_United_States_County.csv'"
      ]
     },
     "execution_count": 4,
     "metadata": {},
     "output_type": "execute_result"
    }
   ],
   "source": [
    "vaccine_file = wd + '\\\\' + 'COVID-19_Vaccinations_in_the_United_States_County.csv'\n",
    "vaccine_file"
   ]
  },
  {
   "cell_type": "code",
   "execution_count": 5,
   "metadata": {},
   "outputs": [
    {
     "data": {
      "text/plain": [
       "(593800, 14)"
      ]
     },
     "execution_count": 5,
     "metadata": {},
     "output_type": "execute_result"
    }
   ],
   "source": [
    "df = pd.read_csv(vaccine_file, sep = '\\t', encoding='UTF-16 LE', low_memory=False)\n",
    "df.shape"
   ]
  },
  {
   "cell_type": "code",
   "execution_count": 6,
   "metadata": {},
   "outputs": [
    {
     "data": {
      "text/html": [
       "<div>\n",
       "<style scoped>\n",
       "    .dataframe tbody tr th:only-of-type {\n",
       "        vertical-align: middle;\n",
       "    }\n",
       "\n",
       "    .dataframe tbody tr th {\n",
       "        vertical-align: top;\n",
       "    }\n",
       "\n",
       "    .dataframe thead th {\n",
       "        text-align: right;\n",
       "    }\n",
       "</style>\n",
       "<table border=\"1\" class=\"dataframe\">\n",
       "  <thead>\n",
       "    <tr style=\"text-align: right;\">\n",
       "      <th></th>\n",
       "      <th>0</th>\n",
       "      <th>1</th>\n",
       "      <th>2</th>\n",
       "      <th>3</th>\n",
       "      <th>4</th>\n",
       "    </tr>\n",
       "  </thead>\n",
       "  <tbody>\n",
       "    <tr>\n",
       "      <th>Date</th>\n",
       "      <td>6/11/2021</td>\n",
       "      <td>6/11/2021</td>\n",
       "      <td>6/11/2021</td>\n",
       "      <td>6/11/2021</td>\n",
       "      <td>6/11/2021</td>\n",
       "    </tr>\n",
       "    <tr>\n",
       "      <th>FIPS</th>\n",
       "      <td>13265</td>\n",
       "      <td>28083</td>\n",
       "      <td>37103</td>\n",
       "      <td>48491</td>\n",
       "      <td>27099</td>\n",
       "    </tr>\n",
       "    <tr>\n",
       "      <th>MMWR_week</th>\n",
       "      <td>23</td>\n",
       "      <td>23</td>\n",
       "      <td>23</td>\n",
       "      <td>23</td>\n",
       "      <td>23</td>\n",
       "    </tr>\n",
       "    <tr>\n",
       "      <th>Recip_County</th>\n",
       "      <td>Taliaferro County</td>\n",
       "      <td>Leflore County</td>\n",
       "      <td>Jones County</td>\n",
       "      <td>Williamson County</td>\n",
       "      <td>Mower County</td>\n",
       "    </tr>\n",
       "    <tr>\n",
       "      <th>Recip_State</th>\n",
       "      <td>GA</td>\n",
       "      <td>MS</td>\n",
       "      <td>NC</td>\n",
       "      <td>TX</td>\n",
       "      <td>MN</td>\n",
       "    </tr>\n",
       "    <tr>\n",
       "      <th>Series_Complete_Pop_Pct</th>\n",
       "      <td>8.5</td>\n",
       "      <td>32.3</td>\n",
       "      <td>32.5</td>\n",
       "      <td>0</td>\n",
       "      <td>44.4</td>\n",
       "    </tr>\n",
       "    <tr>\n",
       "      <th>Series_Complete_Yes</th>\n",
       "      <td>130</td>\n",
       "      <td>9,114</td>\n",
       "      <td>3,058</td>\n",
       "      <td>0</td>\n",
       "      <td>17,800</td>\n",
       "    </tr>\n",
       "    <tr>\n",
       "      <th>Series_Complete_12Plus</th>\n",
       "      <td>130</td>\n",
       "      <td>9,114</td>\n",
       "      <td>3,057</td>\n",
       "      <td>0</td>\n",
       "      <td>17,791</td>\n",
       "    </tr>\n",
       "    <tr>\n",
       "      <th>Series_Complete_12PlusPop_Pct</th>\n",
       "      <td>9.6</td>\n",
       "      <td>39.6</td>\n",
       "      <td>36.8</td>\n",
       "      <td>0</td>\n",
       "      <td>53.2</td>\n",
       "    </tr>\n",
       "    <tr>\n",
       "      <th>Series_Complete_18Plus</th>\n",
       "      <td>129</td>\n",
       "      <td>9,038</td>\n",
       "      <td>3,043</td>\n",
       "      <td>0</td>\n",
       "      <td>17,397</td>\n",
       "    </tr>\n",
       "    <tr>\n",
       "      <th>Series_Complete_18PlusPop_Pct</th>\n",
       "      <td>10.1</td>\n",
       "      <td>44.4</td>\n",
       "      <td>39.5</td>\n",
       "      <td>0</td>\n",
       "      <td>58</td>\n",
       "    </tr>\n",
       "    <tr>\n",
       "      <th>Series_Complete_65Plus</th>\n",
       "      <td>65</td>\n",
       "      <td>3,140</td>\n",
       "      <td>1,506</td>\n",
       "      <td>0</td>\n",
       "      <td>6,204</td>\n",
       "    </tr>\n",
       "    <tr>\n",
       "      <th>Series_Complete_65PlusPop_Pct</th>\n",
       "      <td>15.1</td>\n",
       "      <td>75.7</td>\n",
       "      <td>66.7</td>\n",
       "      <td>0</td>\n",
       "      <td>83.6</td>\n",
       "    </tr>\n",
       "    <tr>\n",
       "      <th>Completeness_pct</th>\n",
       "      <td>51.3</td>\n",
       "      <td>98.3</td>\n",
       "      <td>96.1</td>\n",
       "      <td>0</td>\n",
       "      <td>95.3</td>\n",
       "    </tr>\n",
       "  </tbody>\n",
       "</table>\n",
       "</div>"
      ],
      "text/plain": [
       "                                               0               1  \\\n",
       "Date                                   6/11/2021       6/11/2021   \n",
       "FIPS                                       13265           28083   \n",
       "MMWR_week                                     23              23   \n",
       "Recip_County                   Taliaferro County  Leflore County   \n",
       "Recip_State                                   GA              MS   \n",
       "Series_Complete_Pop_Pct                      8.5            32.3   \n",
       "Series_Complete_Yes                          130           9,114   \n",
       "Series_Complete_12Plus                       130           9,114   \n",
       "Series_Complete_12PlusPop_Pct                9.6            39.6   \n",
       "Series_Complete_18Plus                       129           9,038   \n",
       "Series_Complete_18PlusPop_Pct               10.1            44.4   \n",
       "Series_Complete_65Plus                        65           3,140   \n",
       "Series_Complete_65PlusPop_Pct               15.1            75.7   \n",
       "Completeness_pct                            51.3            98.3   \n",
       "\n",
       "                                          2                  3             4  \n",
       "Date                              6/11/2021          6/11/2021     6/11/2021  \n",
       "FIPS                                  37103              48491         27099  \n",
       "MMWR_week                                23                 23            23  \n",
       "Recip_County                   Jones County  Williamson County  Mower County  \n",
       "Recip_State                              NC                 TX            MN  \n",
       "Series_Complete_Pop_Pct                32.5                  0          44.4  \n",
       "Series_Complete_Yes                   3,058                  0        17,800  \n",
       "Series_Complete_12Plus                3,057                  0        17,791  \n",
       "Series_Complete_12PlusPop_Pct          36.8                  0          53.2  \n",
       "Series_Complete_18Plus                3,043                  0        17,397  \n",
       "Series_Complete_18PlusPop_Pct          39.5                  0            58  \n",
       "Series_Complete_65Plus                1,506                  0         6,204  \n",
       "Series_Complete_65PlusPop_Pct          66.7                  0          83.6  \n",
       "Completeness_pct                       96.1                  0          95.3  "
      ]
     },
     "execution_count": 6,
     "metadata": {},
     "output_type": "execute_result"
    }
   ],
   "source": [
    "df.head(5).T"
   ]
  },
  {
   "cell_type": "code",
   "execution_count": 7,
   "metadata": {},
   "outputs": [
    {
     "data": {
      "text/plain": [
       "(593800, 14)"
      ]
     },
     "execution_count": 7,
     "metadata": {},
     "output_type": "execute_result"
    }
   ],
   "source": [
    "df.dropna(axis=0, how='any', thresh=None, subset=None, inplace=True)\n",
    "df.shape"
   ]
  },
  {
   "cell_type": "code",
   "execution_count": 8,
   "metadata": {},
   "outputs": [
    {
     "data": {
      "text/plain": [
       "181"
      ]
     },
     "execution_count": 8,
     "metadata": {},
     "output_type": "execute_result"
    }
   ],
   "source": [
    "# Get number of days with data in data set\n",
    "len(df.Date.unique())"
   ]
  },
  {
   "cell_type": "code",
   "execution_count": 9,
   "metadata": {},
   "outputs": [
    {
     "data": {
      "text/plain": [
       "Index(['Date', 'FIPS', 'Recip_County', 'Recip_State',\n",
       "       'Series_Complete_Pop_Pct', 'Series_Complete_Yes'],\n",
       "      dtype='object')"
      ]
     },
     "execution_count": 9,
     "metadata": {},
     "output_type": "execute_result"
    }
   ],
   "source": [
    "df = df.filter(['Date','FIPS','Recip_County','Recip_State',\n",
    "                'Series_Complete_Pop_Pct','Series_Complete_Yes'], axis=1)\n",
    "df.columns"
   ]
  },
  {
   "cell_type": "code",
   "execution_count": 10,
   "metadata": {},
   "outputs": [
    {
     "data": {
      "text/html": [
       "<div>\n",
       "<style scoped>\n",
       "    .dataframe tbody tr th:only-of-type {\n",
       "        vertical-align: middle;\n",
       "    }\n",
       "\n",
       "    .dataframe tbody tr th {\n",
       "        vertical-align: top;\n",
       "    }\n",
       "\n",
       "    .dataframe thead th {\n",
       "        text-align: right;\n",
       "    }\n",
       "</style>\n",
       "<table border=\"1\" class=\"dataframe\">\n",
       "  <thead>\n",
       "    <tr style=\"text-align: right;\">\n",
       "      <th></th>\n",
       "      <th>Date</th>\n",
       "      <th>FIPS</th>\n",
       "      <th>State</th>\n",
       "      <th>County</th>\n",
       "      <th>Vaccinated</th>\n",
       "      <th>Vaccinated Pct</th>\n",
       "    </tr>\n",
       "  </thead>\n",
       "  <tbody>\n",
       "    <tr>\n",
       "      <th>0</th>\n",
       "      <td>6/11/2021</td>\n",
       "      <td>13265</td>\n",
       "      <td>GA</td>\n",
       "      <td>Taliaferro County</td>\n",
       "      <td>130</td>\n",
       "      <td>8.5</td>\n",
       "    </tr>\n",
       "    <tr>\n",
       "      <th>1</th>\n",
       "      <td>6/11/2021</td>\n",
       "      <td>28083</td>\n",
       "      <td>MS</td>\n",
       "      <td>Leflore County</td>\n",
       "      <td>9,114</td>\n",
       "      <td>32.3</td>\n",
       "    </tr>\n",
       "    <tr>\n",
       "      <th>2</th>\n",
       "      <td>6/11/2021</td>\n",
       "      <td>37103</td>\n",
       "      <td>NC</td>\n",
       "      <td>Jones County</td>\n",
       "      <td>3,058</td>\n",
       "      <td>32.5</td>\n",
       "    </tr>\n",
       "    <tr>\n",
       "      <th>3</th>\n",
       "      <td>6/11/2021</td>\n",
       "      <td>48491</td>\n",
       "      <td>TX</td>\n",
       "      <td>Williamson County</td>\n",
       "      <td>0</td>\n",
       "      <td>0.0</td>\n",
       "    </tr>\n",
       "    <tr>\n",
       "      <th>4</th>\n",
       "      <td>6/11/2021</td>\n",
       "      <td>27099</td>\n",
       "      <td>MN</td>\n",
       "      <td>Mower County</td>\n",
       "      <td>17,800</td>\n",
       "      <td>44.4</td>\n",
       "    </tr>\n",
       "    <tr>\n",
       "      <th>5</th>\n",
       "      <td>6/11/2021</td>\n",
       "      <td>UNK</td>\n",
       "      <td>MO</td>\n",
       "      <td>Unknown County</td>\n",
       "      <td>212,021</td>\n",
       "      <td>0.0</td>\n",
       "    </tr>\n",
       "    <tr>\n",
       "      <th>6</th>\n",
       "      <td>6/11/2021</td>\n",
       "      <td>46127</td>\n",
       "      <td>SD</td>\n",
       "      <td>Union County</td>\n",
       "      <td>5,917</td>\n",
       "      <td>37.1</td>\n",
       "    </tr>\n",
       "    <tr>\n",
       "      <th>7</th>\n",
       "      <td>6/11/2021</td>\n",
       "      <td>48235</td>\n",
       "      <td>TX</td>\n",
       "      <td>Irion County</td>\n",
       "      <td>0</td>\n",
       "      <td>0.0</td>\n",
       "    </tr>\n",
       "    <tr>\n",
       "      <th>8</th>\n",
       "      <td>6/11/2021</td>\n",
       "      <td>29161</td>\n",
       "      <td>MO</td>\n",
       "      <td>Phelps County</td>\n",
       "      <td>12,872</td>\n",
       "      <td>28.9</td>\n",
       "    </tr>\n",
       "    <tr>\n",
       "      <th>9</th>\n",
       "      <td>6/11/2021</td>\n",
       "      <td>48453</td>\n",
       "      <td>TX</td>\n",
       "      <td>Travis County</td>\n",
       "      <td>0</td>\n",
       "      <td>0.0</td>\n",
       "    </tr>\n",
       "  </tbody>\n",
       "</table>\n",
       "</div>"
      ],
      "text/plain": [
       "        Date   FIPS State             County Vaccinated  Vaccinated Pct\n",
       "0  6/11/2021  13265    GA  Taliaferro County        130             8.5\n",
       "1  6/11/2021  28083    MS     Leflore County      9,114            32.3\n",
       "2  6/11/2021  37103    NC       Jones County      3,058            32.5\n",
       "3  6/11/2021  48491    TX  Williamson County          0             0.0\n",
       "4  6/11/2021  27099    MN       Mower County     17,800            44.4\n",
       "5  6/11/2021    UNK    MO     Unknown County    212,021             0.0\n",
       "6  6/11/2021  46127    SD       Union County      5,917            37.1\n",
       "7  6/11/2021  48235    TX       Irion County          0             0.0\n",
       "8  6/11/2021  29161    MO      Phelps County     12,872            28.9\n",
       "9  6/11/2021  48453    TX      Travis County          0             0.0"
      ]
     },
     "execution_count": 10,
     "metadata": {},
     "output_type": "execute_result"
    }
   ],
   "source": [
    "df.rename(columns={'Recip_State':'State', 'Recip_County':'County',               \n",
    "                   'Series_Complete_Yes':'Vaccinated',\n",
    "                   'Series_Complete_Pop_Pct':'Vaccinated Pct'}, inplace=True)\n",
    "df = df[['Date','FIPS','State','County','Vaccinated','Vaccinated Pct']]\n",
    "df.head(10)"
   ]
  },
  {
   "cell_type": "code",
   "execution_count": 11,
   "metadata": {},
   "outputs": [
    {
     "data": {
      "text/plain": [
       "Date               object\n",
       "FIPS               object\n",
       "State              object\n",
       "County             object\n",
       "Vaccinated         object\n",
       "Vaccinated Pct    float64\n",
       "dtype: object"
      ]
     },
     "execution_count": 11,
     "metadata": {},
     "output_type": "execute_result"
    }
   ],
   "source": [
    "df.dtypes"
   ]
  },
  {
   "cell_type": "code",
   "execution_count": 12,
   "metadata": {},
   "outputs": [
    {
     "data": {
      "text/html": [
       "<div>\n",
       "<style scoped>\n",
       "    .dataframe tbody tr th:only-of-type {\n",
       "        vertical-align: middle;\n",
       "    }\n",
       "\n",
       "    .dataframe tbody tr th {\n",
       "        vertical-align: top;\n",
       "    }\n",
       "\n",
       "    .dataframe thead th {\n",
       "        text-align: right;\n",
       "    }\n",
       "</style>\n",
       "<table border=\"1\" class=\"dataframe\">\n",
       "  <thead>\n",
       "    <tr style=\"text-align: right;\">\n",
       "      <th></th>\n",
       "      <th>Date</th>\n",
       "      <th>FIPS</th>\n",
       "      <th>State</th>\n",
       "      <th>County</th>\n",
       "      <th>Vaccinated</th>\n",
       "      <th>Vaccinated Pct</th>\n",
       "    </tr>\n",
       "  </thead>\n",
       "  <tbody>\n",
       "    <tr>\n",
       "      <th>0</th>\n",
       "      <td>2021-06-11</td>\n",
       "      <td>13265</td>\n",
       "      <td>GA</td>\n",
       "      <td>Taliaferro County</td>\n",
       "      <td>130</td>\n",
       "      <td>8.5</td>\n",
       "    </tr>\n",
       "    <tr>\n",
       "      <th>1</th>\n",
       "      <td>2021-06-11</td>\n",
       "      <td>28083</td>\n",
       "      <td>MS</td>\n",
       "      <td>Leflore County</td>\n",
       "      <td>9,114</td>\n",
       "      <td>32.3</td>\n",
       "    </tr>\n",
       "    <tr>\n",
       "      <th>2</th>\n",
       "      <td>2021-06-11</td>\n",
       "      <td>37103</td>\n",
       "      <td>NC</td>\n",
       "      <td>Jones County</td>\n",
       "      <td>3,058</td>\n",
       "      <td>32.5</td>\n",
       "    </tr>\n",
       "    <tr>\n",
       "      <th>3</th>\n",
       "      <td>2021-06-11</td>\n",
       "      <td>48491</td>\n",
       "      <td>TX</td>\n",
       "      <td>Williamson County</td>\n",
       "      <td>0</td>\n",
       "      <td>0.0</td>\n",
       "    </tr>\n",
       "    <tr>\n",
       "      <th>4</th>\n",
       "      <td>2021-06-11</td>\n",
       "      <td>27099</td>\n",
       "      <td>MN</td>\n",
       "      <td>Mower County</td>\n",
       "      <td>17,800</td>\n",
       "      <td>44.4</td>\n",
       "    </tr>\n",
       "  </tbody>\n",
       "</table>\n",
       "</div>"
      ],
      "text/plain": [
       "        Date   FIPS State             County Vaccinated  Vaccinated Pct\n",
       "0 2021-06-11  13265    GA  Taliaferro County        130             8.5\n",
       "1 2021-06-11  28083    MS     Leflore County      9,114            32.3\n",
       "2 2021-06-11  37103    NC       Jones County      3,058            32.5\n",
       "3 2021-06-11  48491    TX  Williamson County          0             0.0\n",
       "4 2021-06-11  27099    MN       Mower County     17,800            44.4"
      ]
     },
     "execution_count": 12,
     "metadata": {},
     "output_type": "execute_result"
    }
   ],
   "source": [
    "df['Date'] = pd.to_datetime(df['Date'])\n",
    "df.head(5)"
   ]
  },
  {
   "cell_type": "code",
   "execution_count": 13,
   "metadata": {},
   "outputs": [
    {
     "data": {
      "text/html": [
       "<div>\n",
       "<style scoped>\n",
       "    .dataframe tbody tr th:only-of-type {\n",
       "        vertical-align: middle;\n",
       "    }\n",
       "\n",
       "    .dataframe tbody tr th {\n",
       "        vertical-align: top;\n",
       "    }\n",
       "\n",
       "    .dataframe thead th {\n",
       "        text-align: right;\n",
       "    }\n",
       "</style>\n",
       "<table border=\"1\" class=\"dataframe\">\n",
       "  <thead>\n",
       "    <tr style=\"text-align: right;\">\n",
       "      <th></th>\n",
       "      <th>Date</th>\n",
       "      <th>FIPS</th>\n",
       "      <th>State</th>\n",
       "      <th>County</th>\n",
       "      <th>Vaccinated</th>\n",
       "      <th>Vaccinated Pct</th>\n",
       "    </tr>\n",
       "  </thead>\n",
       "  <tbody>\n",
       "    <tr>\n",
       "      <th>0</th>\n",
       "      <td>2021-06-11</td>\n",
       "      <td>13265</td>\n",
       "      <td>GA</td>\n",
       "      <td>Taliaferro County</td>\n",
       "      <td>130</td>\n",
       "      <td>8.5</td>\n",
       "    </tr>\n",
       "    <tr>\n",
       "      <th>4311</th>\n",
       "      <td>2021-06-10</td>\n",
       "      <td>13265</td>\n",
       "      <td>GA</td>\n",
       "      <td>Taliaferro County</td>\n",
       "      <td>130</td>\n",
       "      <td>8.5</td>\n",
       "    </tr>\n",
       "    <tr>\n",
       "      <th>7944</th>\n",
       "      <td>2021-06-09</td>\n",
       "      <td>13265</td>\n",
       "      <td>GA</td>\n",
       "      <td>Taliaferro County</td>\n",
       "      <td>130</td>\n",
       "      <td>8.5</td>\n",
       "    </tr>\n",
       "    <tr>\n",
       "      <th>11962</th>\n",
       "      <td>2021-06-08</td>\n",
       "      <td>13265</td>\n",
       "      <td>GA</td>\n",
       "      <td>Taliaferro County</td>\n",
       "      <td>130</td>\n",
       "      <td>8.5</td>\n",
       "    </tr>\n",
       "    <tr>\n",
       "      <th>14038</th>\n",
       "      <td>2021-06-07</td>\n",
       "      <td>13265</td>\n",
       "      <td>GA</td>\n",
       "      <td>Taliaferro County</td>\n",
       "      <td>128</td>\n",
       "      <td>8.3</td>\n",
       "    </tr>\n",
       "  </tbody>\n",
       "</table>\n",
       "</div>"
      ],
      "text/plain": [
       "            Date   FIPS State             County Vaccinated  Vaccinated Pct\n",
       "0     2021-06-11  13265    GA  Taliaferro County        130             8.5\n",
       "4311  2021-06-10  13265    GA  Taliaferro County        130             8.5\n",
       "7944  2021-06-09  13265    GA  Taliaferro County        130             8.5\n",
       "11962 2021-06-08  13265    GA  Taliaferro County        130             8.5\n",
       "14038 2021-06-07  13265    GA  Taliaferro County        128             8.3"
      ]
     },
     "execution_count": 13,
     "metadata": {},
     "output_type": "execute_result"
    }
   ],
   "source": [
    "df[df['County'] == 'Taliaferro County'].head(5)"
   ]
  },
  {
   "cell_type": "code",
   "execution_count": 14,
   "metadata": {},
   "outputs": [
    {
     "data": {
      "text/plain": [
       "Timestamp('2021-06-11 00:00:00')"
      ]
     },
     "execution_count": 14,
     "metadata": {},
     "output_type": "execute_result"
    }
   ],
   "source": [
    "most_recent_date = df['Date'].max()\n",
    "most_recent_date"
   ]
  },
  {
   "cell_type": "code",
   "execution_count": 15,
   "metadata": {},
   "outputs": [
    {
     "data": {
      "text/plain": [
       "'Date == \"2021-06-11\"'"
      ]
     },
     "execution_count": 15,
     "metadata": {},
     "output_type": "execute_result"
    }
   ],
   "source": [
    "# Filter rows by most recent date\n",
    "from datetime import datetime\n",
    "\n",
    "filter = 'Date == ' + '\"' + most_recent_date.strftime(\"%Y-%m-%d\") + '\"'\n",
    "filter"
   ]
  },
  {
   "cell_type": "code",
   "execution_count": 16,
   "metadata": {},
   "outputs": [
    {
     "data": {
      "text/plain": [
       "(3282, 6)"
      ]
     },
     "execution_count": 16,
     "metadata": {},
     "output_type": "execute_result"
    }
   ],
   "source": [
    "df = df.query(filter)\n",
    "df.shape"
   ]
  },
  {
   "cell_type": "code",
   "execution_count": 17,
   "metadata": {},
   "outputs": [
    {
     "data": {
      "text/html": [
       "<div>\n",
       "<style scoped>\n",
       "    .dataframe tbody tr th:only-of-type {\n",
       "        vertical-align: middle;\n",
       "    }\n",
       "\n",
       "    .dataframe tbody tr th {\n",
       "        vertical-align: top;\n",
       "    }\n",
       "\n",
       "    .dataframe thead th {\n",
       "        text-align: right;\n",
       "    }\n",
       "</style>\n",
       "<table border=\"1\" class=\"dataframe\">\n",
       "  <thead>\n",
       "    <tr style=\"text-align: right;\">\n",
       "      <th></th>\n",
       "      <th>Date</th>\n",
       "      <th>FIPS</th>\n",
       "      <th>State</th>\n",
       "      <th>County</th>\n",
       "      <th>Vaccinated</th>\n",
       "      <th>Vaccinated Pct</th>\n",
       "    </tr>\n",
       "  </thead>\n",
       "  <tbody>\n",
       "    <tr>\n",
       "      <th>count</th>\n",
       "      <td>3282</td>\n",
       "      <td>3282</td>\n",
       "      <td>3282</td>\n",
       "      <td>3282</td>\n",
       "      <td>3282</td>\n",
       "      <td>3282.00000</td>\n",
       "    </tr>\n",
       "    <tr>\n",
       "      <th>unique</th>\n",
       "      <td>1</td>\n",
       "      <td>3225</td>\n",
       "      <td>60</td>\n",
       "      <td>1960</td>\n",
       "      <td>2835</td>\n",
       "      <td>NaN</td>\n",
       "    </tr>\n",
       "    <tr>\n",
       "      <th>top</th>\n",
       "      <td>2021-06-11 00:00:00</td>\n",
       "      <td>UNK</td>\n",
       "      <td>TX</td>\n",
       "      <td>Unknown County</td>\n",
       "      <td>0</td>\n",
       "      <td>NaN</td>\n",
       "    </tr>\n",
       "    <tr>\n",
       "      <th>freq</th>\n",
       "      <td>3282</td>\n",
       "      <td>58</td>\n",
       "      <td>254</td>\n",
       "      <td>58</td>\n",
       "      <td>276</td>\n",
       "      <td>NaN</td>\n",
       "    </tr>\n",
       "    <tr>\n",
       "      <th>first</th>\n",
       "      <td>2021-06-11 00:00:00</td>\n",
       "      <td>NaN</td>\n",
       "      <td>NaN</td>\n",
       "      <td>NaN</td>\n",
       "      <td>NaN</td>\n",
       "      <td>NaN</td>\n",
       "    </tr>\n",
       "    <tr>\n",
       "      <th>last</th>\n",
       "      <td>2021-06-11 00:00:00</td>\n",
       "      <td>NaN</td>\n",
       "      <td>NaN</td>\n",
       "      <td>NaN</td>\n",
       "      <td>NaN</td>\n",
       "      <td>NaN</td>\n",
       "    </tr>\n",
       "    <tr>\n",
       "      <th>mean</th>\n",
       "      <td>NaN</td>\n",
       "      <td>NaN</td>\n",
       "      <td>NaN</td>\n",
       "      <td>NaN</td>\n",
       "      <td>NaN</td>\n",
       "      <td>28.71106</td>\n",
       "    </tr>\n",
       "    <tr>\n",
       "      <th>std</th>\n",
       "      <td>NaN</td>\n",
       "      <td>NaN</td>\n",
       "      <td>NaN</td>\n",
       "      <td>NaN</td>\n",
       "      <td>NaN</td>\n",
       "      <td>14.77096</td>\n",
       "    </tr>\n",
       "    <tr>\n",
       "      <th>min</th>\n",
       "      <td>NaN</td>\n",
       "      <td>NaN</td>\n",
       "      <td>NaN</td>\n",
       "      <td>NaN</td>\n",
       "      <td>NaN</td>\n",
       "      <td>0.00000</td>\n",
       "    </tr>\n",
       "    <tr>\n",
       "      <th>25%</th>\n",
       "      <td>NaN</td>\n",
       "      <td>NaN</td>\n",
       "      <td>NaN</td>\n",
       "      <td>NaN</td>\n",
       "      <td>NaN</td>\n",
       "      <td>22.10000</td>\n",
       "    </tr>\n",
       "    <tr>\n",
       "      <th>50%</th>\n",
       "      <td>NaN</td>\n",
       "      <td>NaN</td>\n",
       "      <td>NaN</td>\n",
       "      <td>NaN</td>\n",
       "      <td>NaN</td>\n",
       "      <td>30.40000</td>\n",
       "    </tr>\n",
       "    <tr>\n",
       "      <th>75%</th>\n",
       "      <td>NaN</td>\n",
       "      <td>NaN</td>\n",
       "      <td>NaN</td>\n",
       "      <td>NaN</td>\n",
       "      <td>NaN</td>\n",
       "      <td>38.60000</td>\n",
       "    </tr>\n",
       "    <tr>\n",
       "      <th>max</th>\n",
       "      <td>NaN</td>\n",
       "      <td>NaN</td>\n",
       "      <td>NaN</td>\n",
       "      <td>NaN</td>\n",
       "      <td>NaN</td>\n",
       "      <td>99.90000</td>\n",
       "    </tr>\n",
       "  </tbody>\n",
       "</table>\n",
       "</div>"
      ],
      "text/plain": [
       "                       Date  FIPS State          County Vaccinated  \\\n",
       "count                  3282  3282  3282            3282       3282   \n",
       "unique                    1  3225    60            1960       2835   \n",
       "top     2021-06-11 00:00:00   UNK    TX  Unknown County          0   \n",
       "freq                   3282    58   254              58        276   \n",
       "first   2021-06-11 00:00:00   NaN   NaN             NaN        NaN   \n",
       "last    2021-06-11 00:00:00   NaN   NaN             NaN        NaN   \n",
       "mean                    NaN   NaN   NaN             NaN        NaN   \n",
       "std                     NaN   NaN   NaN             NaN        NaN   \n",
       "min                     NaN   NaN   NaN             NaN        NaN   \n",
       "25%                     NaN   NaN   NaN             NaN        NaN   \n",
       "50%                     NaN   NaN   NaN             NaN        NaN   \n",
       "75%                     NaN   NaN   NaN             NaN        NaN   \n",
       "max                     NaN   NaN   NaN             NaN        NaN   \n",
       "\n",
       "        Vaccinated Pct  \n",
       "count       3282.00000  \n",
       "unique             NaN  \n",
       "top                NaN  \n",
       "freq               NaN  \n",
       "first              NaN  \n",
       "last               NaN  \n",
       "mean          28.71106  \n",
       "std           14.77096  \n",
       "min            0.00000  \n",
       "25%           22.10000  \n",
       "50%           30.40000  \n",
       "75%           38.60000  \n",
       "max           99.90000  "
      ]
     },
     "execution_count": 17,
     "metadata": {},
     "output_type": "execute_result"
    }
   ],
   "source": [
    "df.describe(include=\"all\")"
   ]
  },
  {
   "cell_type": "markdown",
   "metadata": {},
   "source": [
    "Address rows with \"UNK\" FIPS code"
   ]
  },
  {
   "cell_type": "code",
   "execution_count": 18,
   "metadata": {},
   "outputs": [
    {
     "data": {
      "text/plain": [
       "(58, 6)"
      ]
     },
     "execution_count": 18,
     "metadata": {},
     "output_type": "execute_result"
    }
   ],
   "source": [
    "unknowns_df = df[df['FIPS'] == 'UNK']\n",
    "unknowns_df.shape"
   ]
  },
  {
   "cell_type": "code",
   "execution_count": 19,
   "metadata": {},
   "outputs": [
    {
     "data": {
      "text/html": [
       "<div>\n",
       "<style scoped>\n",
       "    .dataframe tbody tr th:only-of-type {\n",
       "        vertical-align: middle;\n",
       "    }\n",
       "\n",
       "    .dataframe tbody tr th {\n",
       "        vertical-align: top;\n",
       "    }\n",
       "\n",
       "    .dataframe thead th {\n",
       "        text-align: right;\n",
       "    }\n",
       "</style>\n",
       "<table border=\"1\" class=\"dataframe\">\n",
       "  <thead>\n",
       "    <tr style=\"text-align: right;\">\n",
       "      <th></th>\n",
       "      <th>Date</th>\n",
       "      <th>FIPS</th>\n",
       "      <th>State</th>\n",
       "      <th>County</th>\n",
       "      <th>Vaccinated</th>\n",
       "      <th>Vaccinated Pct</th>\n",
       "    </tr>\n",
       "  </thead>\n",
       "  <tbody>\n",
       "    <tr>\n",
       "      <th>5</th>\n",
       "      <td>2021-06-11</td>\n",
       "      <td>UNK</td>\n",
       "      <td>MO</td>\n",
       "      <td>Unknown County</td>\n",
       "      <td>212,021</td>\n",
       "      <td>0.0</td>\n",
       "    </tr>\n",
       "    <tr>\n",
       "      <th>13</th>\n",
       "      <td>2021-06-11</td>\n",
       "      <td>UNK</td>\n",
       "      <td>ME</td>\n",
       "      <td>Unknown County</td>\n",
       "      <td>30,013</td>\n",
       "      <td>0.0</td>\n",
       "    </tr>\n",
       "    <tr>\n",
       "      <th>49</th>\n",
       "      <td>2021-06-11</td>\n",
       "      <td>UNK</td>\n",
       "      <td>PA</td>\n",
       "      <td>Unknown County</td>\n",
       "      <td>393,258</td>\n",
       "      <td>0.0</td>\n",
       "    </tr>\n",
       "    <tr>\n",
       "      <th>65</th>\n",
       "      <td>2021-06-11</td>\n",
       "      <td>UNK</td>\n",
       "      <td>AR</td>\n",
       "      <td>Unknown County</td>\n",
       "      <td>108,559</td>\n",
       "      <td>0.0</td>\n",
       "    </tr>\n",
       "    <tr>\n",
       "      <th>298</th>\n",
       "      <td>2021-06-11</td>\n",
       "      <td>UNK</td>\n",
       "      <td>SC</td>\n",
       "      <td>Unknown County</td>\n",
       "      <td>122,039</td>\n",
       "      <td>0.0</td>\n",
       "    </tr>\n",
       "  </tbody>\n",
       "</table>\n",
       "</div>"
      ],
      "text/plain": [
       "          Date FIPS State          County Vaccinated  Vaccinated Pct\n",
       "5   2021-06-11  UNK    MO  Unknown County    212,021             0.0\n",
       "13  2021-06-11  UNK    ME  Unknown County     30,013             0.0\n",
       "49  2021-06-11  UNK    PA  Unknown County    393,258             0.0\n",
       "65  2021-06-11  UNK    AR  Unknown County    108,559             0.0\n",
       "298 2021-06-11  UNK    SC  Unknown County    122,039             0.0"
      ]
     },
     "execution_count": 19,
     "metadata": {},
     "output_type": "execute_result"
    }
   ],
   "source": [
    "unknowns_df.head(5)"
   ]
  },
  {
   "cell_type": "markdown",
   "metadata": {},
   "source": [
    "The vaccinations associated with these rows cannot be attributed to a county, so remove them."
   ]
  },
  {
   "cell_type": "code",
   "execution_count": 20,
   "metadata": {},
   "outputs": [
    {
     "data": {
      "text/plain": [
       "(3224, 6)"
      ]
     },
     "execution_count": 20,
     "metadata": {},
     "output_type": "execute_result"
    }
   ],
   "source": [
    "filter = 'FIPS != ' + '\"UNK\"'\n",
    "df = df.query(filter)\n",
    "df.shape"
   ]
  },
  {
   "cell_type": "code",
   "execution_count": 21,
   "metadata": {},
   "outputs": [
    {
     "data": {
      "text/plain": [
       "Date              datetime64[ns]\n",
       "FIPS                       int64\n",
       "State                     object\n",
       "County                    object\n",
       "Vaccinated                 int64\n",
       "Vaccinated Pct           float64\n",
       "dtype: object"
      ]
     },
     "execution_count": 21,
     "metadata": {},
     "output_type": "execute_result"
    }
   ],
   "source": [
    "df['FIPS'] = pd.to_numeric(df['FIPS'])\n",
    "df.Vaccinated = df.Vaccinated.str.replace(',', '')\n",
    "df['Vaccinated'] = pd.to_numeric(df['Vaccinated'])\n",
    "df.dtypes"
   ]
  },
  {
   "cell_type": "code",
   "execution_count": 22,
   "metadata": {},
   "outputs": [
    {
     "data": {
      "text/html": [
       "<div>\n",
       "<style scoped>\n",
       "    .dataframe tbody tr th:only-of-type {\n",
       "        vertical-align: middle;\n",
       "    }\n",
       "\n",
       "    .dataframe tbody tr th {\n",
       "        vertical-align: top;\n",
       "    }\n",
       "\n",
       "    .dataframe thead th {\n",
       "        text-align: right;\n",
       "    }\n",
       "</style>\n",
       "<table border=\"1\" class=\"dataframe\">\n",
       "  <thead>\n",
       "    <tr style=\"text-align: right;\">\n",
       "      <th></th>\n",
       "      <th>Date</th>\n",
       "      <th>FIPS</th>\n",
       "      <th>State</th>\n",
       "      <th>County</th>\n",
       "      <th>Vaccinated</th>\n",
       "      <th>Vaccinated Pct</th>\n",
       "    </tr>\n",
       "  </thead>\n",
       "  <tbody>\n",
       "    <tr>\n",
       "      <th>0</th>\n",
       "      <td>2021-06-11</td>\n",
       "      <td>13265</td>\n",
       "      <td>GA</td>\n",
       "      <td>Taliaferro County</td>\n",
       "      <td>130</td>\n",
       "      <td>8.5</td>\n",
       "    </tr>\n",
       "    <tr>\n",
       "      <th>1</th>\n",
       "      <td>2021-06-11</td>\n",
       "      <td>28083</td>\n",
       "      <td>MS</td>\n",
       "      <td>Leflore County</td>\n",
       "      <td>9114</td>\n",
       "      <td>32.3</td>\n",
       "    </tr>\n",
       "    <tr>\n",
       "      <th>2</th>\n",
       "      <td>2021-06-11</td>\n",
       "      <td>37103</td>\n",
       "      <td>NC</td>\n",
       "      <td>Jones County</td>\n",
       "      <td>3058</td>\n",
       "      <td>32.5</td>\n",
       "    </tr>\n",
       "    <tr>\n",
       "      <th>3</th>\n",
       "      <td>2021-06-11</td>\n",
       "      <td>48491</td>\n",
       "      <td>TX</td>\n",
       "      <td>Williamson County</td>\n",
       "      <td>0</td>\n",
       "      <td>0.0</td>\n",
       "    </tr>\n",
       "    <tr>\n",
       "      <th>4</th>\n",
       "      <td>2021-06-11</td>\n",
       "      <td>27099</td>\n",
       "      <td>MN</td>\n",
       "      <td>Mower County</td>\n",
       "      <td>17800</td>\n",
       "      <td>44.4</td>\n",
       "    </tr>\n",
       "  </tbody>\n",
       "</table>\n",
       "</div>"
      ],
      "text/plain": [
       "        Date   FIPS State             County  Vaccinated  Vaccinated Pct\n",
       "0 2021-06-11  13265    GA  Taliaferro County         130             8.5\n",
       "1 2021-06-11  28083    MS     Leflore County        9114            32.3\n",
       "2 2021-06-11  37103    NC       Jones County        3058            32.5\n",
       "3 2021-06-11  48491    TX  Williamson County           0             0.0\n",
       "4 2021-06-11  27099    MN       Mower County       17800            44.4"
      ]
     },
     "execution_count": 22,
     "metadata": {},
     "output_type": "execute_result"
    }
   ],
   "source": [
    "df.head(5)"
   ]
  },
  {
   "cell_type": "code",
   "execution_count": 23,
   "metadata": {},
   "outputs": [
    {
     "data": {
      "image/png": "[encoded data removed]",
      "text/plain": [
       "<Figure size 432x288 with 1 Axes>"
      ]
     },
     "metadata": {
      "needs_background": "light"
     },
     "output_type": "display_data"
    }
   ],
   "source": [
    "import matplotlib.pyplot as plt\n",
    "\n",
    "num_bins = 20\n",
    "n, bins, patches = plt.hist(df['Vaccinated'], num_bins, facecolor='blue', alpha=0.5) \n",
    "\n",
    "plt.xlabel('Vaccinated')\n",
    "plt.ylabel('Number of Counties')\n",
    "plt.title(r'Histogram - Vaccinations by County')\n",
    "plt.show()"
   ]
  },
  {
   "cell_type": "code",
   "execution_count": 24,
   "metadata": {},
   "outputs": [],
   "source": [
    "# https://onestopdataanalysis.com/python-outlier-detection/\n",
    " \n",
    "def detect_outlier(data):\n",
    "    # find q1 and q3 values\n",
    "    q1, q3 = np.percentile(sorted(data), [25, 75])\n",
    " \n",
    "    # compute IRQ\n",
    "    iqr = q3 - q1\n",
    " \n",
    "    # find lower and upper bounds\n",
    "    lower_bound = q1 - (1.5 * iqr)\n",
    "    upper_bound = q3 + (1.5 * iqr)\n",
    " \n",
    "    outliers = [x for x in data if x <= lower_bound or x >= upper_bound]\n",
    " \n",
    "    return outliers"
   ]
  },
  {
   "cell_type": "code",
   "execution_count": 25,
   "metadata": {},
   "outputs": [
    {
     "data": {
      "text/plain": [
       "460"
      ]
     },
     "execution_count": 25,
     "metadata": {},
     "output_type": "execute_result"
    }
   ],
   "source": [
    " # input data\n",
    "outliers = detect_outlier((df[\"Vaccinated\"]))\n",
    "len(outliers)"
   ]
  },
  {
   "cell_type": "code",
   "execution_count": 26,
   "metadata": {},
   "outputs": [
    {
     "data": {
      "text/plain": [
       "46951"
      ]
     },
     "execution_count": 26,
     "metadata": {},
     "output_type": "execute_result"
    }
   ],
   "source": [
    "min(outliers)"
   ]
  },
  {
   "cell_type": "code",
   "execution_count": 27,
   "metadata": {},
   "outputs": [
    {
     "data": {
      "image/png": "[encoded data removed]",
      "text/plain": [
       "<Figure size 432x288 with 1 Axes>"
      ]
     },
     "metadata": {
      "needs_background": "light"
     },
     "output_type": "display_data"
    }
   ],
   "source": [
    "vaccinated = sorted(df['Vaccinated'])\n",
    "\n",
    "out_threshold = 50000\n",
    "vaccinated = [i for i in vaccinated if i < out_threshold]\n",
    "\n",
    "g = sns.histplot(data=vaccinated, kde=True)\n",
    "g.set_title(\"Histogram - Vaccinations by County\\nCounts Less Than 50K\")\n",
    "g.set_xlabel(\"Vaccinations\")\n",
    "g.set_ylabel(\"Number of Counties\")\n",
    "plt.show()"
   ]
  },
  {
   "cell_type": "code",
   "execution_count": 28,
   "metadata": {},
   "outputs": [
    {
     "data": {
      "text/plain": [
       "[4606491,\n",
       " 2234799,\n",
       " 1541195,\n",
       " 1518080,\n",
       " 1321879,\n",
       " 1287791,\n",
       " 1218631,\n",
       " 1172599,\n",
       " 1132817,\n",
       " 1018259]"
      ]
     },
     "execution_count": 28,
     "metadata": {},
     "output_type": "execute_result"
    }
   ],
   "source": [
    "sorted(outliers, reverse=True)[:10]"
   ]
  },
  {
   "cell_type": "code",
   "execution_count": 29,
   "metadata": {},
   "outputs": [
    {
     "data": {
      "image/png": "[encoded data removed]",
      "text/plain": [
       "<Figure size 432x288 with 1 Axes>"
      ]
     },
     "metadata": {
      "needs_background": "light"
     },
     "output_type": "display_data"
    }
   ],
   "source": [
    "vaccinated = sorted(outliers)\n",
    "\n",
    "out_threshold = 1000000\n",
    "vaccinated = [i for i in vaccinated if i < out_threshold]\n",
    "\n",
    "g = sns.histplot(data=vaccinated, kde=True)\n",
    "g.set_title(\"Histogram - Vaccinations by County\\nCounts Between 50K and 1M\")\n",
    "g.set_xlabel(\"Vaccinations\")\n",
    "g.set_ylabel(\"Number of Counties\")\n",
    "plt.show()"
   ]
  },
  {
   "cell_type": "markdown",
   "metadata": {},
   "source": [
    "Show a scatter plot of the vaccinations by County"
   ]
  },
  {
   "cell_type": "code",
   "execution_count": 31,
   "metadata": {},
   "outputs": [
    {
     "data": {
      "image/png": "[encoded data removed]",
      "text/plain": [
       "<Figure size 432x288 with 1 Axes>"
      ]
     },
     "metadata": {
      "needs_background": "light"
     },
     "output_type": "display_data"
    }
   ],
   "source": [
    "plt.scatter(df['Vaccinated'], df['Vaccinated Pct'], alpha=0.5)\n",
    "plt.show()"
   ]
  },
  {
   "cell_type": "code",
   "execution_count": 33,
   "metadata": {},
   "outputs": [],
   "source": [
    "import plotly.express as px\n",
    "import plotly.io as pio\n",
    "pio.renderers.default = 'iframe_connected'"
   ]
  },
  {
   "cell_type": "code",
   "execution_count": 37,
   "metadata": {},
   "outputs": [
    {
     "data": {
      "text/html": [
       "<iframe\n",
       "    scrolling=\"no\"\n",
       "    width=\"100%\"\n",
       "    height=\"545px\"\n",
       "    src=\"iframe_figures/figure_37.html\"\n",
       "    frameborder=\"0\"\n",
       "    allowfullscreen\n",
       "></iframe>\n"
      ]
     },
     "metadata": {},
     "output_type": "display_data"
    }
   ],
   "source": [
    "fig = px.scatter(df,x='Vaccinated', y='Vaccinated Pct',hover_data=['State','County'])\n",
    "fig.update_layout(title=\"County Vaccination Counts and Percentages\", title_x=0.5)\n",
    "fig.show()"
   ]
  },
  {
   "cell_type": "code",
   "execution_count": 38,
   "metadata": {},
   "outputs": [],
   "source": [
    "import pickle\n",
    "df.to_pickle(\"./vaccinations.pkl\")"
   ]
  },
  {
   "cell_type": "code",
   "execution_count": null,
   "metadata": {},
   "outputs": [],
   "source": []
  }
 ],
 "metadata": {
  "kernelspec": {
   "display_name": "Python 3",
   "language": "python",
   "name": "python3"
  },
  "language_info": {
   "codemirror_mode": {
    "name": "ipython",
    "version": 3
   },
   "file_extension": ".py",
   "mimetype": "text/x-python",
   "name": "python",
   "nbconvert_exporter": "python",
   "pygments_lexer": "ipython3",
   "version": "3.7.3"
  }
 },
 "nbformat": 4,
 "nbformat_minor": 5
}
