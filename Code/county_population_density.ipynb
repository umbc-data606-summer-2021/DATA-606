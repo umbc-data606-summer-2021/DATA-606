{
 "cells": [
  {
   "cell_type": "code",
   "execution_count": 83,
   "metadata": {},
   "outputs": [],
   "source": [
    "import pandas as pd\n",
    "import matplotlib.pyplot as plt\n",
    "import wget\n",
    "import missingno as msno\n",
    "import pickle"
   ]
  },
  {
   "cell_type": "markdown",
   "metadata": {},
   "source": [
    "## 1 - Read Population Data"
   ]
  },
  {
   "cell_type": "code",
   "execution_count": 84,
   "metadata": {},
   "outputs": [],
   "source": [
    "url = 'https://www.ers.usda.gov/webdocs/DataFiles/48747/PopulationEstimates.xls'\n",
    "population_file = wget.download(url)"
   ]
  },
  {
   "cell_type": "markdown",
   "metadata": {},
   "source": [
    "Read the population data into a dataframe."
   ]
  },
  {
   "cell_type": "code",
   "execution_count": 85,
   "metadata": {},
   "outputs": [
    {
     "data": {
      "text/html": [
       "<div>\n",
       "<style scoped>\n",
       "    .dataframe tbody tr th:only-of-type {\n",
       "        vertical-align: middle;\n",
       "    }\n",
       "\n",
       "    .dataframe tbody tr th {\n",
       "        vertical-align: top;\n",
       "    }\n",
       "\n",
       "    .dataframe thead th {\n",
       "        text-align: right;\n",
       "    }\n",
       "</style>\n",
       "<table border=\"1\" class=\"dataframe\">\n",
       "  <thead>\n",
       "    <tr style=\"text-align: right;\">\n",
       "      <th></th>\n",
       "      <th>Population estimates for the U.S., States, and counties, 2010-19 (see the second tab in this workbook for variable name descriptions)</th>\n",
       "      <th>Unnamed: 1</th>\n",
       "      <th>Unnamed: 2</th>\n",
       "      <th>Unnamed: 3</th>\n",
       "      <th>Unnamed: 4</th>\n",
       "      <th>Unnamed: 5</th>\n",
       "      <th>Unnamed: 6</th>\n",
       "      <th>Unnamed: 7</th>\n",
       "      <th>Unnamed: 8</th>\n",
       "      <th>Unnamed: 9</th>\n",
       "      <th>...</th>\n",
       "      <th>Unnamed: 155</th>\n",
       "      <th>Unnamed: 156</th>\n",
       "      <th>Unnamed: 157</th>\n",
       "      <th>Unnamed: 158</th>\n",
       "      <th>Unnamed: 159</th>\n",
       "      <th>Unnamed: 160</th>\n",
       "      <th>Unnamed: 161</th>\n",
       "      <th>Unnamed: 162</th>\n",
       "      <th>Unnamed: 163</th>\n",
       "      <th>Unnamed: 164</th>\n",
       "    </tr>\n",
       "  </thead>\n",
       "  <tbody>\n",
       "    <tr>\n",
       "      <th>0</th>\n",
       "      <td>These data were posted to the ERS website (at ...</td>\n",
       "      <td>NaN</td>\n",
       "      <td>NaN</td>\n",
       "      <td>NaN</td>\n",
       "      <td>NaN</td>\n",
       "      <td>NaN</td>\n",
       "      <td>NaN</td>\n",
       "      <td>NaN</td>\n",
       "      <td>NaN</td>\n",
       "      <td>NaN</td>\n",
       "      <td>...</td>\n",
       "      <td>NaN</td>\n",
       "      <td>NaN</td>\n",
       "      <td>NaN</td>\n",
       "      <td>NaN</td>\n",
       "      <td>NaN</td>\n",
       "      <td>NaN</td>\n",
       "      <td>NaN</td>\n",
       "      <td>NaN</td>\n",
       "      <td>NaN</td>\n",
       "      <td>NaN</td>\n",
       "    </tr>\n",
       "    <tr>\n",
       "      <th>1</th>\n",
       "      <td>FIPStxt</td>\n",
       "      <td>State</td>\n",
       "      <td>Area_Name</td>\n",
       "      <td>Rural-urban_Continuum Code_2003</td>\n",
       "      <td>Rural-urban_Continuum Code_2013</td>\n",
       "      <td>Urban_Influence_Code_2003</td>\n",
       "      <td>Urban_Influence_Code_2013</td>\n",
       "      <td>Economic_typology_2015</td>\n",
       "      <td>CENSUS_2010_POP</td>\n",
       "      <td>ESTIMATES_BASE_2010</td>\n",
       "      <td>...</td>\n",
       "      <td>R_DOMESTIC_MIG_2019</td>\n",
       "      <td>R_NET_MIG_2011</td>\n",
       "      <td>R_NET_MIG_2012</td>\n",
       "      <td>R_NET_MIG_2013</td>\n",
       "      <td>R_NET_MIG_2014</td>\n",
       "      <td>R_NET_MIG_2015</td>\n",
       "      <td>R_NET_MIG_2016</td>\n",
       "      <td>R_NET_MIG_2017</td>\n",
       "      <td>R_NET_MIG_2018</td>\n",
       "      <td>R_NET_MIG_2019</td>\n",
       "    </tr>\n",
       "    <tr>\n",
       "      <th>2</th>\n",
       "      <td>00000</td>\n",
       "      <td>US</td>\n",
       "      <td>United States</td>\n",
       "      <td>NaN</td>\n",
       "      <td>NaN</td>\n",
       "      <td>NaN</td>\n",
       "      <td>NaN</td>\n",
       "      <td>NaN</td>\n",
       "      <td>308745538</td>\n",
       "      <td>308758105</td>\n",
       "      <td>...</td>\n",
       "      <td>NaN</td>\n",
       "      <td>NaN</td>\n",
       "      <td>NaN</td>\n",
       "      <td>NaN</td>\n",
       "      <td>NaN</td>\n",
       "      <td>NaN</td>\n",
       "      <td>NaN</td>\n",
       "      <td>NaN</td>\n",
       "      <td>NaN</td>\n",
       "      <td>NaN</td>\n",
       "    </tr>\n",
       "  </tbody>\n",
       "</table>\n",
       "<p>3 rows × 165 columns</p>\n",
       "</div>"
      ],
      "text/plain": [
       "  Population estimates for the U.S., States, and counties, 2010-19 (see the second tab in this workbook for variable name descriptions)  \\\n",
       "0  These data were posted to the ERS website (at ...                                                                                      \n",
       "1                                            FIPStxt                                                                                      \n",
       "2                                              00000                                                                                      \n",
       "\n",
       "  Unnamed: 1     Unnamed: 2                       Unnamed: 3  \\\n",
       "0        NaN            NaN                              NaN   \n",
       "1      State      Area_Name  Rural-urban_Continuum Code_2003   \n",
       "2         US  United States                              NaN   \n",
       "\n",
       "                        Unnamed: 4                 Unnamed: 5  \\\n",
       "0                              NaN                        NaN   \n",
       "1  Rural-urban_Continuum Code_2013  Urban_Influence_Code_2003   \n",
       "2                              NaN                        NaN   \n",
       "\n",
       "                  Unnamed: 6              Unnamed: 7       Unnamed: 8  \\\n",
       "0                        NaN                     NaN              NaN   \n",
       "1  Urban_Influence_Code_2013  Economic_typology_2015  CENSUS_2010_POP   \n",
       "2                        NaN                     NaN        308745538   \n",
       "\n",
       "            Unnamed: 9  ...         Unnamed: 155    Unnamed: 156  \\\n",
       "0                  NaN  ...                  NaN             NaN   \n",
       "1  ESTIMATES_BASE_2010  ...  R_DOMESTIC_MIG_2019  R_NET_MIG_2011   \n",
       "2            308758105  ...                  NaN             NaN   \n",
       "\n",
       "     Unnamed: 157    Unnamed: 158    Unnamed: 159    Unnamed: 160  \\\n",
       "0             NaN             NaN             NaN             NaN   \n",
       "1  R_NET_MIG_2012  R_NET_MIG_2013  R_NET_MIG_2014  R_NET_MIG_2015   \n",
       "2             NaN             NaN             NaN             NaN   \n",
       "\n",
       "     Unnamed: 161    Unnamed: 162    Unnamed: 163    Unnamed: 164  \n",
       "0             NaN             NaN             NaN             NaN  \n",
       "1  R_NET_MIG_2016  R_NET_MIG_2017  R_NET_MIG_2018  R_NET_MIG_2019  \n",
       "2             NaN             NaN             NaN             NaN  \n",
       "\n",
       "[3 rows x 165 columns]"
      ]
     },
     "execution_count": 85,
     "metadata": {},
     "output_type": "execute_result"
    }
   ],
   "source": [
    "pop_df = pd.read_excel(population_file)\n",
    "pop_df.head(3)"
   ]
  },
  {
   "cell_type": "markdown",
   "metadata": {},
   "source": [
    "### 1.1 - Cleanup Columns"
   ]
  },
  {
   "cell_type": "markdown",
   "metadata": {},
   "source": [
    "Reread the excel file skipping the first two lines and only reading the columns of interest."
   ]
  },
  {
   "cell_type": "code",
   "execution_count": 86,
   "metadata": {},
   "outputs": [
    {
     "data": {
      "text/html": [
       "<div>\n",
       "<style scoped>\n",
       "    .dataframe tbody tr th:only-of-type {\n",
       "        vertical-align: middle;\n",
       "    }\n",
       "\n",
       "    .dataframe tbody tr th {\n",
       "        vertical-align: top;\n",
       "    }\n",
       "\n",
       "    .dataframe thead th {\n",
       "        text-align: right;\n",
       "    }\n",
       "</style>\n",
       "<table border=\"1\" class=\"dataframe\">\n",
       "  <thead>\n",
       "    <tr style=\"text-align: right;\">\n",
       "      <th></th>\n",
       "      <th>FIPStxt</th>\n",
       "      <th>State</th>\n",
       "      <th>Area_Name</th>\n",
       "      <th>POP_ESTIMATE_2019</th>\n",
       "    </tr>\n",
       "  </thead>\n",
       "  <tbody>\n",
       "    <tr>\n",
       "      <th>0</th>\n",
       "      <td>0</td>\n",
       "      <td>US</td>\n",
       "      <td>United States</td>\n",
       "      <td>328239523</td>\n",
       "    </tr>\n",
       "    <tr>\n",
       "      <th>1</th>\n",
       "      <td>1000</td>\n",
       "      <td>AL</td>\n",
       "      <td>Alabama</td>\n",
       "      <td>4903185</td>\n",
       "    </tr>\n",
       "    <tr>\n",
       "      <th>2</th>\n",
       "      <td>1001</td>\n",
       "      <td>AL</td>\n",
       "      <td>Autauga County</td>\n",
       "      <td>55869</td>\n",
       "    </tr>\n",
       "    <tr>\n",
       "      <th>3</th>\n",
       "      <td>1003</td>\n",
       "      <td>AL</td>\n",
       "      <td>Baldwin County</td>\n",
       "      <td>223234</td>\n",
       "    </tr>\n",
       "    <tr>\n",
       "      <th>4</th>\n",
       "      <td>1005</td>\n",
       "      <td>AL</td>\n",
       "      <td>Barbour County</td>\n",
       "      <td>24686</td>\n",
       "    </tr>\n",
       "  </tbody>\n",
       "</table>\n",
       "</div>"
      ],
      "text/plain": [
       "   FIPStxt State       Area_Name  POP_ESTIMATE_2019\n",
       "0        0    US   United States          328239523\n",
       "1     1000    AL         Alabama            4903185\n",
       "2     1001    AL  Autauga County              55869\n",
       "3     1003    AL  Baldwin County             223234\n",
       "4     1005    AL  Barbour County              24686"
      ]
     },
     "execution_count": 86,
     "metadata": {},
     "output_type": "execute_result"
    }
   ],
   "source": [
    "columns_of_interest = ['FIPStxt','State','Area_Name','POP_ESTIMATE_2019']\n",
    "pop_df = pd.read_excel(\"PopulationEstimates.xls\", usecols=columns_of_interest, skiprows=2)\n",
    "pop_df.head()"
   ]
  },
  {
   "cell_type": "code",
   "execution_count": 87,
   "metadata": {},
   "outputs": [
    {
     "data": {
      "text/plain": [
       "(3273, 4)"
      ]
     },
     "execution_count": 87,
     "metadata": {},
     "output_type": "execute_result"
    }
   ],
   "source": [
    "pop_df.shape"
   ]
  },
  {
   "cell_type": "code",
   "execution_count": 88,
   "metadata": {},
   "outputs": [
    {
     "data": {
      "text/plain": [
       "Index(['FIPS', 'State', 'County', 'Population'], dtype='object')"
      ]
     },
     "execution_count": 88,
     "metadata": {},
     "output_type": "execute_result"
    }
   ],
   "source": [
    "# Rename the Area_Name and POP_ESTIMATE_2019 columns to County and Population.\n",
    "pop_df.rename(columns = {'FIPStxt':'FIPS','Area_Name':'County', 'POP_ESTIMATE_2019':'Population'}, inplace = True)\n",
    "pop_df.columns"
   ]
  },
  {
   "cell_type": "markdown",
   "metadata": {},
   "source": [
    "### 1.2 - Remove Irrelevant Data"
   ]
  },
  {
   "cell_type": "code",
   "execution_count": 89,
   "metadata": {},
   "outputs": [
    {
     "name": "stdout",
     "output_type": "stream",
     "text": [
      "TX    255\n",
      "GA    160\n",
      "VA    134\n",
      "KY    121\n",
      "MO    116\n",
      "KS    106\n",
      "IL    103\n",
      "NC    101\n",
      "IA    100\n",
      "TN     96\n",
      "NE     94\n",
      "IN     93\n",
      "OH     89\n",
      "MN     88\n",
      "MI     84\n",
      "MS     83\n",
      "PR     79\n",
      "OK     78\n",
      "AR     76\n",
      "WI     73\n",
      "PA     68\n",
      "AL     68\n",
      "FL     68\n",
      "SD     67\n",
      "CO     65\n",
      "LA     65\n",
      "NY     63\n",
      "CA     59\n",
      "MT     57\n",
      "WV     56\n",
      "ND     54\n",
      "SC     47\n",
      "ID     45\n",
      "WA     40\n",
      "OR     37\n",
      "NM     34\n",
      "UT     30\n",
      "AK     30\n",
      "MD     25\n",
      "WY     24\n",
      "NJ     22\n",
      "NV     18\n",
      "ME     17\n",
      "AZ     16\n",
      "MA     15\n",
      "VT     15\n",
      "NH     11\n",
      "CT      9\n",
      "HI      6\n",
      "RI      6\n",
      "DE      4\n",
      "DC      2\n",
      "US      1\n",
      "Name: State, dtype: int64\n"
     ]
    }
   ],
   "source": [
    "# Look for any \"bad\" States\n",
    "print(pop_df[\"State\"].value_counts())"
   ]
  },
  {
   "cell_type": "markdown",
   "metadata": {},
   "source": [
    "Only the US record is extraneous. Remove this record since it doesn't represent a state."
   ]
  },
  {
   "cell_type": "code",
   "execution_count": 90,
   "metadata": {},
   "outputs": [
    {
     "data": {
      "text/plain": [
       "(3272, 4)"
      ]
     },
     "execution_count": 90,
     "metadata": {},
     "output_type": "execute_result"
    }
   ],
   "source": [
    "pop_df = pop_df[pop_df.State != \"US\"]\n",
    "pop_df.shape"
   ]
  },
  {
   "cell_type": "markdown",
   "metadata": {},
   "source": [
    "Now look for State names inthe County column."
   ]
  },
  {
   "cell_type": "code",
   "execution_count": 91,
   "metadata": {},
   "outputs": [
    {
     "data": {
      "text/plain": [
       "51"
      ]
     },
     "execution_count": 91,
     "metadata": {},
     "output_type": "execute_result"
    }
   ],
   "source": [
    "states = ['Alabama','Alaska','Arizona','Arkansas','California','Colorado','Connecticut','District of Columbia','Delaware',\n",
    "          'Florida','Georgia','Hawaii','Idaho','Illinois','Indiana','Iowa','Kansas','Kentucky','Louisiana','Maine',\n",
    "          'Maryland','Massachusetts','Michigan','Minnesota','Mississippi','Missouri','Montana','Nebraska','Nevada',\n",
    "          'New Hampshire','New Jersey','New Mexico','New York','North Carolina','North Dakota','Ohio','Oklahoma',\n",
    "          'Oregon','Pennsylvania','Rhode Island','South Carolina','South Dakota','Tennessee','Texas','Utah','Vermont',\n",
    "          'Virginia','Washington','West Virginia','Wisconsin','Wyoming']\n",
    "len(states)"
   ]
  },
  {
   "cell_type": "code",
   "execution_count": 92,
   "metadata": {},
   "outputs": [
    {
     "data": {
      "text/html": [
       "<div>\n",
       "<style scoped>\n",
       "    .dataframe tbody tr th:only-of-type {\n",
       "        vertical-align: middle;\n",
       "    }\n",
       "\n",
       "    .dataframe tbody tr th {\n",
       "        vertical-align: top;\n",
       "    }\n",
       "\n",
       "    .dataframe thead th {\n",
       "        text-align: right;\n",
       "    }\n",
       "</style>\n",
       "<table border=\"1\" class=\"dataframe\">\n",
       "  <thead>\n",
       "    <tr style=\"text-align: right;\">\n",
       "      <th></th>\n",
       "      <th>FIPS</th>\n",
       "      <th>State</th>\n",
       "      <th>County</th>\n",
       "      <th>Population</th>\n",
       "    </tr>\n",
       "  </thead>\n",
       "  <tbody>\n",
       "    <tr>\n",
       "      <th>1</th>\n",
       "      <td>1000</td>\n",
       "      <td>AL</td>\n",
       "      <td>Alabama</td>\n",
       "      <td>4903185</td>\n",
       "    </tr>\n",
       "    <tr>\n",
       "      <th>69</th>\n",
       "      <td>2000</td>\n",
       "      <td>AK</td>\n",
       "      <td>Alaska</td>\n",
       "      <td>731545</td>\n",
       "    </tr>\n",
       "    <tr>\n",
       "      <th>99</th>\n",
       "      <td>4000</td>\n",
       "      <td>AZ</td>\n",
       "      <td>Arizona</td>\n",
       "      <td>7278717</td>\n",
       "    </tr>\n",
       "    <tr>\n",
       "      <th>115</th>\n",
       "      <td>5000</td>\n",
       "      <td>AR</td>\n",
       "      <td>Arkansas</td>\n",
       "      <td>3017804</td>\n",
       "    </tr>\n",
       "    <tr>\n",
       "      <th>191</th>\n",
       "      <td>6000</td>\n",
       "      <td>CA</td>\n",
       "      <td>California</td>\n",
       "      <td>39512223</td>\n",
       "    </tr>\n",
       "    <tr>\n",
       "      <th>250</th>\n",
       "      <td>8000</td>\n",
       "      <td>CO</td>\n",
       "      <td>Colorado</td>\n",
       "      <td>5758736</td>\n",
       "    </tr>\n",
       "    <tr>\n",
       "      <th>315</th>\n",
       "      <td>9000</td>\n",
       "      <td>CT</td>\n",
       "      <td>Connecticut</td>\n",
       "      <td>3565287</td>\n",
       "    </tr>\n",
       "    <tr>\n",
       "      <th>324</th>\n",
       "      <td>10000</td>\n",
       "      <td>DE</td>\n",
       "      <td>Delaware</td>\n",
       "      <td>973764</td>\n",
       "    </tr>\n",
       "    <tr>\n",
       "      <th>328</th>\n",
       "      <td>11000</td>\n",
       "      <td>DC</td>\n",
       "      <td>District of Columbia</td>\n",
       "      <td>705749</td>\n",
       "    </tr>\n",
       "    <tr>\n",
       "      <th>329</th>\n",
       "      <td>11001</td>\n",
       "      <td>DC</td>\n",
       "      <td>District of Columbia</td>\n",
       "      <td>705749</td>\n",
       "    </tr>\n",
       "    <tr>\n",
       "      <th>330</th>\n",
       "      <td>12000</td>\n",
       "      <td>FL</td>\n",
       "      <td>Florida</td>\n",
       "      <td>21477737</td>\n",
       "    </tr>\n",
       "    <tr>\n",
       "      <th>398</th>\n",
       "      <td>13000</td>\n",
       "      <td>GA</td>\n",
       "      <td>Georgia</td>\n",
       "      <td>10617423</td>\n",
       "    </tr>\n",
       "    <tr>\n",
       "      <th>558</th>\n",
       "      <td>15000</td>\n",
       "      <td>HI</td>\n",
       "      <td>Hawaii</td>\n",
       "      <td>1415872</td>\n",
       "    </tr>\n",
       "    <tr>\n",
       "      <th>564</th>\n",
       "      <td>16000</td>\n",
       "      <td>ID</td>\n",
       "      <td>Idaho</td>\n",
       "      <td>1787065</td>\n",
       "    </tr>\n",
       "    <tr>\n",
       "      <th>609</th>\n",
       "      <td>17000</td>\n",
       "      <td>IL</td>\n",
       "      <td>Illinois</td>\n",
       "      <td>12671821</td>\n",
       "    </tr>\n",
       "    <tr>\n",
       "      <th>712</th>\n",
       "      <td>18000</td>\n",
       "      <td>IN</td>\n",
       "      <td>Indiana</td>\n",
       "      <td>6732219</td>\n",
       "    </tr>\n",
       "    <tr>\n",
       "      <th>805</th>\n",
       "      <td>19000</td>\n",
       "      <td>IA</td>\n",
       "      <td>Iowa</td>\n",
       "      <td>3155070</td>\n",
       "    </tr>\n",
       "    <tr>\n",
       "      <th>905</th>\n",
       "      <td>20000</td>\n",
       "      <td>KS</td>\n",
       "      <td>Kansas</td>\n",
       "      <td>2913314</td>\n",
       "    </tr>\n",
       "    <tr>\n",
       "      <th>1011</th>\n",
       "      <td>21000</td>\n",
       "      <td>KY</td>\n",
       "      <td>Kentucky</td>\n",
       "      <td>4467673</td>\n",
       "    </tr>\n",
       "    <tr>\n",
       "      <th>1132</th>\n",
       "      <td>22000</td>\n",
       "      <td>LA</td>\n",
       "      <td>Louisiana</td>\n",
       "      <td>4648794</td>\n",
       "    </tr>\n",
       "    <tr>\n",
       "      <th>1197</th>\n",
       "      <td>23000</td>\n",
       "      <td>ME</td>\n",
       "      <td>Maine</td>\n",
       "      <td>1344212</td>\n",
       "    </tr>\n",
       "    <tr>\n",
       "      <th>1214</th>\n",
       "      <td>24000</td>\n",
       "      <td>MD</td>\n",
       "      <td>Maryland</td>\n",
       "      <td>6045680</td>\n",
       "    </tr>\n",
       "    <tr>\n",
       "      <th>1239</th>\n",
       "      <td>25000</td>\n",
       "      <td>MA</td>\n",
       "      <td>Massachusetts</td>\n",
       "      <td>6892503</td>\n",
       "    </tr>\n",
       "    <tr>\n",
       "      <th>1254</th>\n",
       "      <td>26000</td>\n",
       "      <td>MI</td>\n",
       "      <td>Michigan</td>\n",
       "      <td>9986857</td>\n",
       "    </tr>\n",
       "    <tr>\n",
       "      <th>1338</th>\n",
       "      <td>27000</td>\n",
       "      <td>MN</td>\n",
       "      <td>Minnesota</td>\n",
       "      <td>5639632</td>\n",
       "    </tr>\n",
       "    <tr>\n",
       "      <th>1426</th>\n",
       "      <td>28000</td>\n",
       "      <td>MS</td>\n",
       "      <td>Mississippi</td>\n",
       "      <td>2976149</td>\n",
       "    </tr>\n",
       "    <tr>\n",
       "      <th>1509</th>\n",
       "      <td>29000</td>\n",
       "      <td>MO</td>\n",
       "      <td>Missouri</td>\n",
       "      <td>6137428</td>\n",
       "    </tr>\n",
       "    <tr>\n",
       "      <th>1625</th>\n",
       "      <td>30000</td>\n",
       "      <td>MT</td>\n",
       "      <td>Montana</td>\n",
       "      <td>1068778</td>\n",
       "    </tr>\n",
       "    <tr>\n",
       "      <th>1682</th>\n",
       "      <td>31000</td>\n",
       "      <td>NE</td>\n",
       "      <td>Nebraska</td>\n",
       "      <td>1934408</td>\n",
       "    </tr>\n",
       "    <tr>\n",
       "      <th>1776</th>\n",
       "      <td>32000</td>\n",
       "      <td>NV</td>\n",
       "      <td>Nevada</td>\n",
       "      <td>3080156</td>\n",
       "    </tr>\n",
       "    <tr>\n",
       "      <th>1794</th>\n",
       "      <td>33000</td>\n",
       "      <td>NH</td>\n",
       "      <td>New Hampshire</td>\n",
       "      <td>1359711</td>\n",
       "    </tr>\n",
       "    <tr>\n",
       "      <th>1805</th>\n",
       "      <td>34000</td>\n",
       "      <td>NJ</td>\n",
       "      <td>New Jersey</td>\n",
       "      <td>8882190</td>\n",
       "    </tr>\n",
       "    <tr>\n",
       "      <th>1827</th>\n",
       "      <td>35000</td>\n",
       "      <td>NM</td>\n",
       "      <td>New Mexico</td>\n",
       "      <td>2096829</td>\n",
       "    </tr>\n",
       "    <tr>\n",
       "      <th>1861</th>\n",
       "      <td>36000</td>\n",
       "      <td>NY</td>\n",
       "      <td>New York</td>\n",
       "      <td>19453561</td>\n",
       "    </tr>\n",
       "    <tr>\n",
       "      <th>1924</th>\n",
       "      <td>37000</td>\n",
       "      <td>NC</td>\n",
       "      <td>North Carolina</td>\n",
       "      <td>10488084</td>\n",
       "    </tr>\n",
       "    <tr>\n",
       "      <th>2025</th>\n",
       "      <td>38000</td>\n",
       "      <td>ND</td>\n",
       "      <td>North Dakota</td>\n",
       "      <td>762062</td>\n",
       "    </tr>\n",
       "    <tr>\n",
       "      <th>2079</th>\n",
       "      <td>39000</td>\n",
       "      <td>OH</td>\n",
       "      <td>Ohio</td>\n",
       "      <td>11689100</td>\n",
       "    </tr>\n",
       "    <tr>\n",
       "      <th>2168</th>\n",
       "      <td>40000</td>\n",
       "      <td>OK</td>\n",
       "      <td>Oklahoma</td>\n",
       "      <td>3956971</td>\n",
       "    </tr>\n",
       "    <tr>\n",
       "      <th>2246</th>\n",
       "      <td>41000</td>\n",
       "      <td>OR</td>\n",
       "      <td>Oregon</td>\n",
       "      <td>4217737</td>\n",
       "    </tr>\n",
       "    <tr>\n",
       "      <th>2283</th>\n",
       "      <td>42000</td>\n",
       "      <td>PA</td>\n",
       "      <td>Pennsylvania</td>\n",
       "      <td>12801989</td>\n",
       "    </tr>\n",
       "    <tr>\n",
       "      <th>2351</th>\n",
       "      <td>44000</td>\n",
       "      <td>RI</td>\n",
       "      <td>Rhode Island</td>\n",
       "      <td>1059361</td>\n",
       "    </tr>\n",
       "    <tr>\n",
       "      <th>2357</th>\n",
       "      <td>45000</td>\n",
       "      <td>SC</td>\n",
       "      <td>South Carolina</td>\n",
       "      <td>5148714</td>\n",
       "    </tr>\n",
       "    <tr>\n",
       "      <th>2404</th>\n",
       "      <td>46000</td>\n",
       "      <td>SD</td>\n",
       "      <td>South Dakota</td>\n",
       "      <td>884659</td>\n",
       "    </tr>\n",
       "    <tr>\n",
       "      <th>2471</th>\n",
       "      <td>47000</td>\n",
       "      <td>TN</td>\n",
       "      <td>Tennessee</td>\n",
       "      <td>6829174</td>\n",
       "    </tr>\n",
       "    <tr>\n",
       "      <th>2567</th>\n",
       "      <td>48000</td>\n",
       "      <td>TX</td>\n",
       "      <td>Texas</td>\n",
       "      <td>28995881</td>\n",
       "    </tr>\n",
       "    <tr>\n",
       "      <th>2822</th>\n",
       "      <td>49000</td>\n",
       "      <td>UT</td>\n",
       "      <td>Utah</td>\n",
       "      <td>3205958</td>\n",
       "    </tr>\n",
       "    <tr>\n",
       "      <th>2852</th>\n",
       "      <td>50000</td>\n",
       "      <td>VT</td>\n",
       "      <td>Vermont</td>\n",
       "      <td>623989</td>\n",
       "    </tr>\n",
       "    <tr>\n",
       "      <th>2867</th>\n",
       "      <td>51000</td>\n",
       "      <td>VA</td>\n",
       "      <td>Virginia</td>\n",
       "      <td>8535519</td>\n",
       "    </tr>\n",
       "    <tr>\n",
       "      <th>3001</th>\n",
       "      <td>53000</td>\n",
       "      <td>WA</td>\n",
       "      <td>Washington</td>\n",
       "      <td>7614893</td>\n",
       "    </tr>\n",
       "    <tr>\n",
       "      <th>3041</th>\n",
       "      <td>54000</td>\n",
       "      <td>WV</td>\n",
       "      <td>West Virginia</td>\n",
       "      <td>1792147</td>\n",
       "    </tr>\n",
       "    <tr>\n",
       "      <th>3097</th>\n",
       "      <td>55000</td>\n",
       "      <td>WI</td>\n",
       "      <td>Wisconsin</td>\n",
       "      <td>5822434</td>\n",
       "    </tr>\n",
       "    <tr>\n",
       "      <th>3170</th>\n",
       "      <td>56000</td>\n",
       "      <td>WY</td>\n",
       "      <td>Wyoming</td>\n",
       "      <td>578759</td>\n",
       "    </tr>\n",
       "  </tbody>\n",
       "</table>\n",
       "</div>"
      ],
      "text/plain": [
       "       FIPS State                County  Population\n",
       "1      1000    AL               Alabama     4903185\n",
       "69     2000    AK                Alaska      731545\n",
       "99     4000    AZ               Arizona     7278717\n",
       "115    5000    AR              Arkansas     3017804\n",
       "191    6000    CA            California    39512223\n",
       "250    8000    CO              Colorado     5758736\n",
       "315    9000    CT           Connecticut     3565287\n",
       "324   10000    DE              Delaware      973764\n",
       "328   11000    DC  District of Columbia      705749\n",
       "329   11001    DC  District of Columbia      705749\n",
       "330   12000    FL               Florida    21477737\n",
       "398   13000    GA               Georgia    10617423\n",
       "558   15000    HI                Hawaii     1415872\n",
       "564   16000    ID                 Idaho     1787065\n",
       "609   17000    IL              Illinois    12671821\n",
       "712   18000    IN               Indiana     6732219\n",
       "805   19000    IA                  Iowa     3155070\n",
       "905   20000    KS                Kansas     2913314\n",
       "1011  21000    KY              Kentucky     4467673\n",
       "1132  22000    LA             Louisiana     4648794\n",
       "1197  23000    ME                 Maine     1344212\n",
       "1214  24000    MD              Maryland     6045680\n",
       "1239  25000    MA         Massachusetts     6892503\n",
       "1254  26000    MI              Michigan     9986857\n",
       "1338  27000    MN             Minnesota     5639632\n",
       "1426  28000    MS           Mississippi     2976149\n",
       "1509  29000    MO              Missouri     6137428\n",
       "1625  30000    MT               Montana     1068778\n",
       "1682  31000    NE              Nebraska     1934408\n",
       "1776  32000    NV                Nevada     3080156\n",
       "1794  33000    NH         New Hampshire     1359711\n",
       "1805  34000    NJ            New Jersey     8882190\n",
       "1827  35000    NM            New Mexico     2096829\n",
       "1861  36000    NY              New York    19453561\n",
       "1924  37000    NC        North Carolina    10488084\n",
       "2025  38000    ND          North Dakota      762062\n",
       "2079  39000    OH                  Ohio    11689100\n",
       "2168  40000    OK              Oklahoma     3956971\n",
       "2246  41000    OR                Oregon     4217737\n",
       "2283  42000    PA          Pennsylvania    12801989\n",
       "2351  44000    RI          Rhode Island     1059361\n",
       "2357  45000    SC        South Carolina     5148714\n",
       "2404  46000    SD          South Dakota      884659\n",
       "2471  47000    TN             Tennessee     6829174\n",
       "2567  48000    TX                 Texas    28995881\n",
       "2822  49000    UT                  Utah     3205958\n",
       "2852  50000    VT               Vermont      623989\n",
       "2867  51000    VA              Virginia     8535519\n",
       "3001  53000    WA            Washington     7614893\n",
       "3041  54000    WV         West Virginia     1792147\n",
       "3097  55000    WI             Wisconsin     5822434\n",
       "3170  56000    WY               Wyoming      578759"
      ]
     },
     "execution_count": 92,
     "metadata": {},
     "output_type": "execute_result"
    }
   ],
   "source": [
    "pop_df[pop_df['County'].isin(states)]"
   ]
  },
  {
   "cell_type": "markdown",
   "metadata": {},
   "source": [
    "Drop the rows with State level data."
   ]
  },
  {
   "cell_type": "code",
   "execution_count": 93,
   "metadata": {},
   "outputs": [
    {
     "data": {
      "text/plain": [
       "(3220, 4)"
      ]
     },
     "execution_count": 93,
     "metadata": {},
     "output_type": "execute_result"
    }
   ],
   "source": [
    "pop_df = pop_df[~pop_df['County'].isin(states)].reset_index(drop=True)\n",
    "pop_df.shape"
   ]
  },
  {
   "cell_type": "markdown",
   "metadata": {},
   "source": [
    "Drop any duplicate rows."
   ]
  },
  {
   "cell_type": "code",
   "execution_count": 94,
   "metadata": {},
   "outputs": [
    {
     "data": {
      "text/plain": [
       "[]"
      ]
     },
     "execution_count": 94,
     "metadata": {},
     "output_type": "execute_result"
    }
   ],
   "source": [
    "# Find any rows that are duplicates.\n",
    "[row for row in pop_df.duplicated(keep='last') if row == True]"
   ]
  },
  {
   "cell_type": "code",
   "execution_count": 95,
   "metadata": {},
   "outputs": [
    {
     "data": {
      "text/plain": [
       "(3220, 4)"
      ]
     },
     "execution_count": 95,
     "metadata": {},
     "output_type": "execute_result"
    }
   ],
   "source": [
    "# No duplicates were found, so dropping duplicates will not have any effect.\n",
    "pop_df = pop_df.drop_duplicates(keep='last')\n",
    "pop_df.shape"
   ]
  },
  {
   "cell_type": "markdown",
   "metadata": {},
   "source": [
    "### 1.3 - Cleanup Missing Data"
   ]
  },
  {
   "cell_type": "markdown",
   "metadata": {},
   "source": [
    "Visualize the population dataframe to identify any missing data"
   ]
  },
  {
   "cell_type": "code",
   "execution_count": 96,
   "metadata": {},
   "outputs": [
    {
     "data": {
      "text/plain": [
       "<matplotlib.axes._subplots.AxesSubplot at 0x1b56eb78828>"
      ]
     },
     "execution_count": 96,
     "metadata": {},
     "output_type": "execute_result"
    },
    {
     "data": {
      "image/png": "[encoded data removed]",
      "text/plain": [
       "<Figure size 1800x720 with 2 Axes>"
      ]
     },
     "metadata": {
      "needs_background": "light"
     },
     "output_type": "display_data"
    }
   ],
   "source": [
    "msno.matrix(pop_df)"
   ]
  },
  {
   "cell_type": "markdown",
   "metadata": {},
   "source": [
    "No missing data"
   ]
  },
  {
   "cell_type": "markdown",
   "metadata": {},
   "source": [
    "### 1.4 - Verify Data Types"
   ]
  },
  {
   "cell_type": "code",
   "execution_count": 97,
   "metadata": {},
   "outputs": [
    {
     "name": "stdout",
     "output_type": "stream",
     "text": [
      "<class 'pandas.core.frame.DataFrame'>\n",
      "Int64Index: 3220 entries, 0 to 3219\n",
      "Data columns (total 4 columns):\n",
      "FIPS          3220 non-null int64\n",
      "State         3220 non-null object\n",
      "County        3220 non-null object\n",
      "Population    3220 non-null int64\n",
      "dtypes: int64(2), object(2)\n",
      "memory usage: 125.8+ KB\n"
     ]
    }
   ],
   "source": [
    "pop_df.info()"
   ]
  },
  {
   "cell_type": "code",
   "execution_count": 98,
   "metadata": {},
   "outputs": [
    {
     "data": {
      "text/plain": [
       "array(['AL', 'AK', 'AZ', 'AR', 'CA', 'CO', 'CT', 'DE', 'FL', 'GA', 'HI',\n",
       "       'ID', 'IL', 'IN', 'IA', 'KS', 'KY', 'LA', 'ME', 'MD', 'MA', 'MI',\n",
       "       'MN', 'MS', 'MO', 'MT', 'NE', 'NV', 'NH', 'NJ', 'NM', 'NY', 'NC',\n",
       "       'ND', 'OH', 'OK', 'OR', 'PA', 'RI', 'SC', 'SD', 'TN', 'TX', 'UT',\n",
       "       'VT', 'VA', 'WA', 'WV', 'WI', 'WY', 'PR'], dtype=object)"
      ]
     },
     "execution_count": 98,
     "metadata": {},
     "output_type": "execute_result"
    }
   ],
   "source": [
    "pop_df.State.unique()"
   ]
  },
  {
   "cell_type": "markdown",
   "metadata": {},
   "source": [
    "The expected 50 states plus Puerto Rico and Washington, DC are included in the study."
   ]
  },
  {
   "cell_type": "markdown",
   "metadata": {},
   "source": [
    "## 2 - Read Land Area Data"
   ]
  },
  {
   "cell_type": "code",
   "execution_count": 99,
   "metadata": {},
   "outputs": [],
   "source": [
    "url = 'https://www2.census.gov/library/publications/2011/compendia/usa-counties/excel/LND01.xls'\n",
    "land_area_file = wget.download(url)"
   ]
  },
  {
   "cell_type": "markdown",
   "metadata": {},
   "source": [
    "Read the land area data into a dataframe."
   ]
  },
  {
   "cell_type": "code",
   "execution_count": 100,
   "metadata": {},
   "outputs": [
    {
     "data": {
      "text/html": [
       "<div>\n",
       "<style scoped>\n",
       "    .dataframe tbody tr th:only-of-type {\n",
       "        vertical-align: middle;\n",
       "    }\n",
       "\n",
       "    .dataframe tbody tr th {\n",
       "        vertical-align: top;\n",
       "    }\n",
       "\n",
       "    .dataframe thead th {\n",
       "        text-align: right;\n",
       "    }\n",
       "</style>\n",
       "<table border=\"1\" class=\"dataframe\">\n",
       "  <thead>\n",
       "    <tr style=\"text-align: right;\">\n",
       "      <th></th>\n",
       "      <th>Areaname</th>\n",
       "      <th>STCOU</th>\n",
       "      <th>LND010190F</th>\n",
       "      <th>LND010190D</th>\n",
       "      <th>LND010190N1</th>\n",
       "      <th>LND010190N2</th>\n",
       "      <th>LND010200F</th>\n",
       "      <th>LND010200D</th>\n",
       "      <th>LND010200N1</th>\n",
       "      <th>LND010200N2</th>\n",
       "      <th>...</th>\n",
       "      <th>LND110210N1</th>\n",
       "      <th>LND110210N2</th>\n",
       "      <th>LND210190F</th>\n",
       "      <th>LND210190D</th>\n",
       "      <th>LND210190N1</th>\n",
       "      <th>LND210190N2</th>\n",
       "      <th>LND210200F</th>\n",
       "      <th>LND210200D</th>\n",
       "      <th>LND210200N1</th>\n",
       "      <th>LND210200N2</th>\n",
       "    </tr>\n",
       "  </thead>\n",
       "  <tbody>\n",
       "    <tr>\n",
       "      <th>0</th>\n",
       "      <td>UNITED STATES</td>\n",
       "      <td>0</td>\n",
       "      <td>0</td>\n",
       "      <td>3787425.08</td>\n",
       "      <td>0</td>\n",
       "      <td>0</td>\n",
       "      <td>0</td>\n",
       "      <td>3794083.06</td>\n",
       "      <td>0</td>\n",
       "      <td>0</td>\n",
       "      <td>...</td>\n",
       "      <td>0</td>\n",
       "      <td>0</td>\n",
       "      <td>0</td>\n",
       "      <td>251083.35</td>\n",
       "      <td>0</td>\n",
       "      <td>0</td>\n",
       "      <td>0</td>\n",
       "      <td>256644.62</td>\n",
       "      <td>0</td>\n",
       "      <td>0</td>\n",
       "    </tr>\n",
       "    <tr>\n",
       "      <th>1</th>\n",
       "      <td>ALABAMA</td>\n",
       "      <td>1000</td>\n",
       "      <td>0</td>\n",
       "      <td>52422.94</td>\n",
       "      <td>0</td>\n",
       "      <td>0</td>\n",
       "      <td>0</td>\n",
       "      <td>52419.02</td>\n",
       "      <td>0</td>\n",
       "      <td>0</td>\n",
       "      <td>...</td>\n",
       "      <td>0</td>\n",
       "      <td>0</td>\n",
       "      <td>0</td>\n",
       "      <td>1672.71</td>\n",
       "      <td>0</td>\n",
       "      <td>0</td>\n",
       "      <td>0</td>\n",
       "      <td>1675.01</td>\n",
       "      <td>0</td>\n",
       "      <td>0</td>\n",
       "    </tr>\n",
       "    <tr>\n",
       "      <th>2</th>\n",
       "      <td>Autauga, AL</td>\n",
       "      <td>1001</td>\n",
       "      <td>0</td>\n",
       "      <td>604.49</td>\n",
       "      <td>0</td>\n",
       "      <td>0</td>\n",
       "      <td>0</td>\n",
       "      <td>604.45</td>\n",
       "      <td>0</td>\n",
       "      <td>0</td>\n",
       "      <td>...</td>\n",
       "      <td>0</td>\n",
       "      <td>0</td>\n",
       "      <td>0</td>\n",
       "      <td>8.48</td>\n",
       "      <td>0</td>\n",
       "      <td>0</td>\n",
       "      <td>0</td>\n",
       "      <td>8.48</td>\n",
       "      <td>0</td>\n",
       "      <td>0</td>\n",
       "    </tr>\n",
       "  </tbody>\n",
       "</table>\n",
       "<p>3 rows × 34 columns</p>\n",
       "</div>"
      ],
      "text/plain": [
       "        Areaname  STCOU  LND010190F  LND010190D  LND010190N1  LND010190N2  \\\n",
       "0  UNITED STATES      0           0  3787425.08            0            0   \n",
       "1        ALABAMA   1000           0    52422.94            0            0   \n",
       "2    Autauga, AL   1001           0      604.49            0            0   \n",
       "\n",
       "   LND010200F  LND010200D  LND010200N1  LND010200N2  ...  LND110210N1  \\\n",
       "0           0  3794083.06            0            0  ...            0   \n",
       "1           0    52419.02            0            0  ...            0   \n",
       "2           0      604.45            0            0  ...            0   \n",
       "\n",
       "   LND110210N2  LND210190F  LND210190D  LND210190N1  LND210190N2  LND210200F  \\\n",
       "0            0           0   251083.35            0            0           0   \n",
       "1            0           0     1672.71            0            0           0   \n",
       "2            0           0        8.48            0            0           0   \n",
       "\n",
       "   LND210200D  LND210200N1  LND210200N2  \n",
       "0   256644.62            0            0  \n",
       "1     1675.01            0            0  \n",
       "2        8.48            0            0  \n",
       "\n",
       "[3 rows x 34 columns]"
      ]
     },
     "execution_count": 100,
     "metadata": {},
     "output_type": "execute_result"
    }
   ],
   "source": [
    "land_area_df = pd.read_excel(land_area_file)\n",
    "land_area_df.head(3)"
   ]
  },
  {
   "cell_type": "markdown",
   "metadata": {},
   "source": [
    "### 2.1 - Cleanup Columns"
   ]
  },
  {
   "cell_type": "markdown",
   "metadata": {},
   "source": [
    "Reread the excel file and only keep the following columns of interest:\n",
    "- STCOU - FIPS code for state or county\n",
    "- Areaname - County and State\n",
    "- LND110210D - Land area in square miles, 2010 SQM"
   ]
  },
  {
   "cell_type": "code",
   "execution_count": 101,
   "metadata": {},
   "outputs": [
    {
     "data": {
      "text/html": [
       "<div>\n",
       "<style scoped>\n",
       "    .dataframe tbody tr th:only-of-type {\n",
       "        vertical-align: middle;\n",
       "    }\n",
       "\n",
       "    .dataframe tbody tr th {\n",
       "        vertical-align: top;\n",
       "    }\n",
       "\n",
       "    .dataframe thead th {\n",
       "        text-align: right;\n",
       "    }\n",
       "</style>\n",
       "<table border=\"1\" class=\"dataframe\">\n",
       "  <thead>\n",
       "    <tr style=\"text-align: right;\">\n",
       "      <th></th>\n",
       "      <th>Areaname</th>\n",
       "      <th>STCOU</th>\n",
       "      <th>LND110210D</th>\n",
       "    </tr>\n",
       "  </thead>\n",
       "  <tbody>\n",
       "    <tr>\n",
       "      <th>0</th>\n",
       "      <td>UNITED STATES</td>\n",
       "      <td>0</td>\n",
       "      <td>3531905.43</td>\n",
       "    </tr>\n",
       "    <tr>\n",
       "      <th>1</th>\n",
       "      <td>ALABAMA</td>\n",
       "      <td>1000</td>\n",
       "      <td>50645.33</td>\n",
       "    </tr>\n",
       "    <tr>\n",
       "      <th>2</th>\n",
       "      <td>Autauga, AL</td>\n",
       "      <td>1001</td>\n",
       "      <td>594.44</td>\n",
       "    </tr>\n",
       "    <tr>\n",
       "      <th>3</th>\n",
       "      <td>Baldwin, AL</td>\n",
       "      <td>1003</td>\n",
       "      <td>1589.78</td>\n",
       "    </tr>\n",
       "    <tr>\n",
       "      <th>4</th>\n",
       "      <td>Barbour, AL</td>\n",
       "      <td>1005</td>\n",
       "      <td>884.88</td>\n",
       "    </tr>\n",
       "  </tbody>\n",
       "</table>\n",
       "</div>"
      ],
      "text/plain": [
       "        Areaname  STCOU  LND110210D\n",
       "0  UNITED STATES      0  3531905.43\n",
       "1        ALABAMA   1000    50645.33\n",
       "2    Autauga, AL   1001      594.44\n",
       "3    Baldwin, AL   1003     1589.78\n",
       "4    Barbour, AL   1005      884.88"
      ]
     },
     "execution_count": 101,
     "metadata": {},
     "output_type": "execute_result"
    }
   ],
   "source": [
    "columns_of_interest = ['Areaname','STCOU','LND110210D']\n",
    "land_area_df = pd.read_excel(\"LND01.xls\", usecols=columns_of_interest, skiprows=0)\n",
    "land_area_df.head()"
   ]
  },
  {
   "cell_type": "raw",
   "metadata": {},
   "source": [
    "# Rename the columns.\n",
    "land_area_df.rename(columns = {'Areaname':'County', 'STCOU':'FIPS', 'LND110210D':'Population'}, inplace = True)\n",
    "land_area_df.columns"
   ]
  },
  {
   "cell_type": "code",
   "execution_count": 102,
   "metadata": {},
   "outputs": [
    {
     "name": "stdout",
     "output_type": "stream",
     "text": [
      "<class 'pandas.core.frame.DataFrame'>\n",
      "RangeIndex: 3198 entries, 0 to 3197\n",
      "Data columns (total 3 columns):\n",
      "Areaname      3198 non-null object\n",
      "STCOU         3198 non-null int64\n",
      "LND110210D    3198 non-null float64\n",
      "dtypes: float64(1), int64(1), object(1)\n",
      "memory usage: 75.0+ KB\n"
     ]
    }
   ],
   "source": [
    "land_area_df.info()"
   ]
  },
  {
   "cell_type": "markdown",
   "metadata": {},
   "source": [
    "## 3 - Merge Population and Land Area Data"
   ]
  },
  {
   "cell_type": "markdown",
   "metadata": {},
   "source": [
    "### 3-1 - Cleanup FIPS Codes"
   ]
  },
  {
   "cell_type": "markdown",
   "metadata": {},
   "source": [
    "Compare FIPS codes before joining the dataframes to determine any anamolies."
   ]
  },
  {
   "cell_type": "code",
   "execution_count": 103,
   "metadata": {},
   "outputs": [
    {
     "data": {
      "text/plain": [
       "3220"
      ]
     },
     "execution_count": 103,
     "metadata": {},
     "output_type": "execute_result"
    }
   ],
   "source": [
    "# Unique FIPS codes in the population data.\n",
    "len(pop_df.FIPS.unique())"
   ]
  },
  {
   "cell_type": "code",
   "execution_count": 104,
   "metadata": {},
   "outputs": [
    {
     "data": {
      "text/plain": [
       "3198"
      ]
     },
     "execution_count": 104,
     "metadata": {},
     "output_type": "execute_result"
    }
   ],
   "source": [
    "# Unique FIPS codes in the land area data for counties.\n",
    "len(land_area_df.STCOU.unique())"
   ]
  },
  {
   "cell_type": "markdown",
   "metadata": {},
   "source": [
    "Inspect the different codes to determine if rows can be removed."
   ]
  },
  {
   "cell_type": "code",
   "execution_count": 105,
   "metadata": {},
   "outputs": [
    {
     "data": {
      "text/plain": [
       "(81, 4)"
      ]
     },
     "execution_count": 105,
     "metadata": {},
     "output_type": "execute_result"
    }
   ],
   "source": [
    "# FIPS codes in the Population data but not in the Land Area data.\n",
    "no_land_area_df = pop_df[~pop_df.FIPS.isin(land_area_df.STCOU.values)]\n",
    "no_land_area_df.shape"
   ]
  },
  {
   "cell_type": "code",
   "execution_count": 106,
   "metadata": {},
   "outputs": [
    {
     "data": {
      "text/html": [
       "<div>\n",
       "<style scoped>\n",
       "    .dataframe tbody tr th:only-of-type {\n",
       "        vertical-align: middle;\n",
       "    }\n",
       "\n",
       "    .dataframe tbody tr th {\n",
       "        vertical-align: top;\n",
       "    }\n",
       "\n",
       "    .dataframe thead th {\n",
       "        text-align: right;\n",
       "    }\n",
       "</style>\n",
       "<table border=\"1\" class=\"dataframe\">\n",
       "  <thead>\n",
       "    <tr style=\"text-align: right;\">\n",
       "      <th></th>\n",
       "      <th>FIPS</th>\n",
       "      <th>State</th>\n",
       "      <th>County</th>\n",
       "      <th>Population</th>\n",
       "    </tr>\n",
       "  </thead>\n",
       "  <tbody>\n",
       "    <tr>\n",
       "      <th>3169</th>\n",
       "      <td>72054</td>\n",
       "      <td>PR</td>\n",
       "      <td>Florida Municipio, Puerto Rico</td>\n",
       "      <td>11317</td>\n",
       "    </tr>\n",
       "    <tr>\n",
       "      <th>3144</th>\n",
       "      <td>72005</td>\n",
       "      <td>PR</td>\n",
       "      <td>Aguadilla Municipio, Puerto Rico</td>\n",
       "      <td>50265</td>\n",
       "    </tr>\n",
       "    <tr>\n",
       "      <th>3170</th>\n",
       "      <td>72055</td>\n",
       "      <td>PR</td>\n",
       "      <td>Guánica Municipio, Puerto Rico</td>\n",
       "      <td>15383</td>\n",
       "    </tr>\n",
       "    <tr>\n",
       "      <th>3153</th>\n",
       "      <td>72023</td>\n",
       "      <td>PR</td>\n",
       "      <td>Cabo Rojo Municipio, Puerto Rico</td>\n",
       "      <td>47515</td>\n",
       "    </tr>\n",
       "    <tr>\n",
       "      <th>3149</th>\n",
       "      <td>72015</td>\n",
       "      <td>PR</td>\n",
       "      <td>Arroyo Municipio, Puerto Rico</td>\n",
       "      <td>17238</td>\n",
       "    </tr>\n",
       "  </tbody>\n",
       "</table>\n",
       "</div>"
      ],
      "text/plain": [
       "       FIPS State                            County  Population\n",
       "3169  72054    PR    Florida Municipio, Puerto Rico       11317\n",
       "3144  72005    PR  Aguadilla Municipio, Puerto Rico       50265\n",
       "3170  72055    PR    Guánica Municipio, Puerto Rico       15383\n",
       "3153  72023    PR  Cabo Rojo Municipio, Puerto Rico       47515\n",
       "3149  72015    PR     Arroyo Municipio, Puerto Rico       17238"
      ]
     },
     "execution_count": 106,
     "metadata": {},
     "output_type": "execute_result"
    }
   ],
   "source": [
    "no_land_area_df.sample(5)"
   ]
  },
  {
   "cell_type": "code",
   "execution_count": 107,
   "metadata": {},
   "outputs": [
    {
     "name": "stdout",
     "output_type": "stream",
     "text": [
      "PR    79\n",
      "AK     1\n",
      "SD     1\n",
      "Name: State, dtype: int64\n"
     ]
    }
   ],
   "source": [
    "print(no_land_area_df[\"State\"].value_counts())"
   ]
  },
  {
   "cell_type": "code",
   "execution_count": 108,
   "metadata": {},
   "outputs": [
    {
     "data": {
      "text/plain": [
       "(59, 3)"
      ]
     },
     "execution_count": 108,
     "metadata": {},
     "output_type": "execute_result"
    }
   ],
   "source": [
    "# FIPS codes in the land area data but not in the Population data.\n",
    "no_pop_df = land_area_df[~land_area_df.STCOU.isin(pop_df.FIPS.values)]\n",
    "no_pop_df.shape"
   ]
  },
  {
   "cell_type": "code",
   "execution_count": 109,
   "metadata": {},
   "outputs": [
    {
     "data": {
      "text/html": [
       "<div>\n",
       "<style scoped>\n",
       "    .dataframe tbody tr th:only-of-type {\n",
       "        vertical-align: middle;\n",
       "    }\n",
       "\n",
       "    .dataframe tbody tr th {\n",
       "        vertical-align: top;\n",
       "    }\n",
       "\n",
       "    .dataframe thead th {\n",
       "        text-align: right;\n",
       "    }\n",
       "</style>\n",
       "<table border=\"1\" class=\"dataframe\">\n",
       "  <thead>\n",
       "    <tr style=\"text-align: right;\">\n",
       "      <th></th>\n",
       "      <th>Areaname</th>\n",
       "      <th>STCOU</th>\n",
       "      <th>LND110210D</th>\n",
       "    </tr>\n",
       "  </thead>\n",
       "  <tbody>\n",
       "    <tr>\n",
       "      <th>0</th>\n",
       "      <td>UNITED STATES</td>\n",
       "      <td>0</td>\n",
       "      <td>3531905.43</td>\n",
       "    </tr>\n",
       "    <tr>\n",
       "      <th>1</th>\n",
       "      <td>ALABAMA</td>\n",
       "      <td>1000</td>\n",
       "      <td>50645.33</td>\n",
       "    </tr>\n",
       "    <tr>\n",
       "      <th>69</th>\n",
       "      <td>ALASKA</td>\n",
       "      <td>2000</td>\n",
       "      <td>570640.95</td>\n",
       "    </tr>\n",
       "    <tr>\n",
       "      <th>95</th>\n",
       "      <td>Wade Hampton, AK</td>\n",
       "      <td>2270</td>\n",
       "      <td>17081.43</td>\n",
       "    </tr>\n",
       "    <tr>\n",
       "      <th>99</th>\n",
       "      <td>ARIZONA</td>\n",
       "      <td>4000</td>\n",
       "      <td>113594.08</td>\n",
       "    </tr>\n",
       "    <tr>\n",
       "      <th>115</th>\n",
       "      <td>ARKANSAS</td>\n",
       "      <td>5000</td>\n",
       "      <td>52035.48</td>\n",
       "    </tr>\n",
       "    <tr>\n",
       "      <th>191</th>\n",
       "      <td>CALIFORNIA</td>\n",
       "      <td>6000</td>\n",
       "      <td>155779.22</td>\n",
       "    </tr>\n",
       "    <tr>\n",
       "      <th>250</th>\n",
       "      <td>COLORADO</td>\n",
       "      <td>8000</td>\n",
       "      <td>103641.89</td>\n",
       "    </tr>\n",
       "    <tr>\n",
       "      <th>315</th>\n",
       "      <td>CONNECTICUT</td>\n",
       "      <td>9000</td>\n",
       "      <td>4842.36</td>\n",
       "    </tr>\n",
       "    <tr>\n",
       "      <th>324</th>\n",
       "      <td>DELAWARE</td>\n",
       "      <td>10000</td>\n",
       "      <td>1948.54</td>\n",
       "    </tr>\n",
       "    <tr>\n",
       "      <th>328</th>\n",
       "      <td>DISTRICT OF COLUMBIA</td>\n",
       "      <td>11000</td>\n",
       "      <td>61.05</td>\n",
       "    </tr>\n",
       "    <tr>\n",
       "      <th>329</th>\n",
       "      <td>District of Columbia</td>\n",
       "      <td>11001</td>\n",
       "      <td>61.05</td>\n",
       "    </tr>\n",
       "    <tr>\n",
       "      <th>330</th>\n",
       "      <td>FLORIDA</td>\n",
       "      <td>12000</td>\n",
       "      <td>53624.76</td>\n",
       "    </tr>\n",
       "    <tr>\n",
       "      <th>398</th>\n",
       "      <td>GEORGIA</td>\n",
       "      <td>13000</td>\n",
       "      <td>57513.49</td>\n",
       "    </tr>\n",
       "    <tr>\n",
       "      <th>558</th>\n",
       "      <td>HAWAII</td>\n",
       "      <td>15000</td>\n",
       "      <td>6422.63</td>\n",
       "    </tr>\n",
       "    <tr>\n",
       "      <th>564</th>\n",
       "      <td>IDAHO</td>\n",
       "      <td>16000</td>\n",
       "      <td>82643.12</td>\n",
       "    </tr>\n",
       "    <tr>\n",
       "      <th>609</th>\n",
       "      <td>ILLINOIS</td>\n",
       "      <td>17000</td>\n",
       "      <td>55518.93</td>\n",
       "    </tr>\n",
       "    <tr>\n",
       "      <th>712</th>\n",
       "      <td>INDIANA</td>\n",
       "      <td>18000</td>\n",
       "      <td>35826.11</td>\n",
       "    </tr>\n",
       "    <tr>\n",
       "      <th>805</th>\n",
       "      <td>IOWA</td>\n",
       "      <td>19000</td>\n",
       "      <td>55857.13</td>\n",
       "    </tr>\n",
       "    <tr>\n",
       "      <th>905</th>\n",
       "      <td>KANSAS</td>\n",
       "      <td>20000</td>\n",
       "      <td>81758.72</td>\n",
       "    </tr>\n",
       "    <tr>\n",
       "      <th>1011</th>\n",
       "      <td>KENTUCKY</td>\n",
       "      <td>21000</td>\n",
       "      <td>39486.34</td>\n",
       "    </tr>\n",
       "    <tr>\n",
       "      <th>1132</th>\n",
       "      <td>LOUISIANA</td>\n",
       "      <td>22000</td>\n",
       "      <td>43203.90</td>\n",
       "    </tr>\n",
       "    <tr>\n",
       "      <th>1197</th>\n",
       "      <td>MAINE</td>\n",
       "      <td>23000</td>\n",
       "      <td>30842.92</td>\n",
       "    </tr>\n",
       "    <tr>\n",
       "      <th>1214</th>\n",
       "      <td>MARYLAND</td>\n",
       "      <td>24000</td>\n",
       "      <td>9707.24</td>\n",
       "    </tr>\n",
       "    <tr>\n",
       "      <th>1239</th>\n",
       "      <td>MASSACHUSETTS</td>\n",
       "      <td>25000</td>\n",
       "      <td>7800.06</td>\n",
       "    </tr>\n",
       "    <tr>\n",
       "      <th>1254</th>\n",
       "      <td>MICHIGAN</td>\n",
       "      <td>26000</td>\n",
       "      <td>56538.90</td>\n",
       "    </tr>\n",
       "    <tr>\n",
       "      <th>1338</th>\n",
       "      <td>MINNESOTA</td>\n",
       "      <td>27000</td>\n",
       "      <td>79626.74</td>\n",
       "    </tr>\n",
       "    <tr>\n",
       "      <th>1426</th>\n",
       "      <td>MISSISSIPPI</td>\n",
       "      <td>28000</td>\n",
       "      <td>46923.27</td>\n",
       "    </tr>\n",
       "    <tr>\n",
       "      <th>1509</th>\n",
       "      <td>MISSOURI</td>\n",
       "      <td>29000</td>\n",
       "      <td>68741.52</td>\n",
       "    </tr>\n",
       "    <tr>\n",
       "      <th>1625</th>\n",
       "      <td>MONTANA</td>\n",
       "      <td>30000</td>\n",
       "      <td>145545.80</td>\n",
       "    </tr>\n",
       "    <tr>\n",
       "      <th>1682</th>\n",
       "      <td>Yellowstone National Park, MT</td>\n",
       "      <td>30113</td>\n",
       "      <td>0.00</td>\n",
       "    </tr>\n",
       "    <tr>\n",
       "      <th>1683</th>\n",
       "      <td>NEBRASKA</td>\n",
       "      <td>31000</td>\n",
       "      <td>76824.17</td>\n",
       "    </tr>\n",
       "    <tr>\n",
       "      <th>1777</th>\n",
       "      <td>NEVADA</td>\n",
       "      <td>32000</td>\n",
       "      <td>109781.18</td>\n",
       "    </tr>\n",
       "    <tr>\n",
       "      <th>1795</th>\n",
       "      <td>NEW HAMPSHIRE</td>\n",
       "      <td>33000</td>\n",
       "      <td>8952.65</td>\n",
       "    </tr>\n",
       "    <tr>\n",
       "      <th>1806</th>\n",
       "      <td>NEW JERSEY</td>\n",
       "      <td>34000</td>\n",
       "      <td>7354.22</td>\n",
       "    </tr>\n",
       "    <tr>\n",
       "      <th>1828</th>\n",
       "      <td>NEW MEXICO</td>\n",
       "      <td>35000</td>\n",
       "      <td>121298.15</td>\n",
       "    </tr>\n",
       "    <tr>\n",
       "      <th>1862</th>\n",
       "      <td>NEW YORK</td>\n",
       "      <td>36000</td>\n",
       "      <td>47126.40</td>\n",
       "    </tr>\n",
       "    <tr>\n",
       "      <th>1925</th>\n",
       "      <td>NORTH CAROLINA</td>\n",
       "      <td>37000</td>\n",
       "      <td>48617.91</td>\n",
       "    </tr>\n",
       "    <tr>\n",
       "      <th>2026</th>\n",
       "      <td>NORTH DAKOTA</td>\n",
       "      <td>38000</td>\n",
       "      <td>69000.80</td>\n",
       "    </tr>\n",
       "    <tr>\n",
       "      <th>2080</th>\n",
       "      <td>OHIO</td>\n",
       "      <td>39000</td>\n",
       "      <td>40860.69</td>\n",
       "    </tr>\n",
       "    <tr>\n",
       "      <th>2169</th>\n",
       "      <td>OKLAHOMA</td>\n",
       "      <td>40000</td>\n",
       "      <td>68594.92</td>\n",
       "    </tr>\n",
       "    <tr>\n",
       "      <th>2247</th>\n",
       "      <td>OREGON</td>\n",
       "      <td>41000</td>\n",
       "      <td>95988.01</td>\n",
       "    </tr>\n",
       "    <tr>\n",
       "      <th>2284</th>\n",
       "      <td>PENNSYLVANIA</td>\n",
       "      <td>42000</td>\n",
       "      <td>44742.70</td>\n",
       "    </tr>\n",
       "    <tr>\n",
       "      <th>2352</th>\n",
       "      <td>RHODE ISLAND</td>\n",
       "      <td>44000</td>\n",
       "      <td>1033.81</td>\n",
       "    </tr>\n",
       "    <tr>\n",
       "      <th>2358</th>\n",
       "      <td>SOUTH CAROLINA</td>\n",
       "      <td>45000</td>\n",
       "      <td>30060.70</td>\n",
       "    </tr>\n",
       "    <tr>\n",
       "      <th>2405</th>\n",
       "      <td>SOUTH DAKOTA</td>\n",
       "      <td>46000</td>\n",
       "      <td>75811.00</td>\n",
       "    </tr>\n",
       "    <tr>\n",
       "      <th>2461</th>\n",
       "      <td>Shannon, SD</td>\n",
       "      <td>46113</td>\n",
       "      <td>2093.90</td>\n",
       "    </tr>\n",
       "    <tr>\n",
       "      <th>2472</th>\n",
       "      <td>TENNESSEE</td>\n",
       "      <td>47000</td>\n",
       "      <td>41234.90</td>\n",
       "    </tr>\n",
       "    <tr>\n",
       "      <th>2568</th>\n",
       "      <td>TEXAS</td>\n",
       "      <td>48000</td>\n",
       "      <td>261231.71</td>\n",
       "    </tr>\n",
       "    <tr>\n",
       "      <th>2823</th>\n",
       "      <td>UTAH</td>\n",
       "      <td>49000</td>\n",
       "      <td>82169.62</td>\n",
       "    </tr>\n",
       "    <tr>\n",
       "      <th>2853</th>\n",
       "      <td>VERMONT</td>\n",
       "      <td>50000</td>\n",
       "      <td>9216.66</td>\n",
       "    </tr>\n",
       "    <tr>\n",
       "      <th>2868</th>\n",
       "      <td>VIRGINIA</td>\n",
       "      <td>51000</td>\n",
       "      <td>39490.09</td>\n",
       "    </tr>\n",
       "    <tr>\n",
       "      <th>2965</th>\n",
       "      <td>Bedford, VA</td>\n",
       "      <td>51515</td>\n",
       "      <td>6.88</td>\n",
       "    </tr>\n",
       "    <tr>\n",
       "      <th>2970</th>\n",
       "      <td>Clifton Forge, VA</td>\n",
       "      <td>51560</td>\n",
       "      <td>0.00</td>\n",
       "    </tr>\n",
       "    <tr>\n",
       "      <th>2998</th>\n",
       "      <td>South Boston, VA</td>\n",
       "      <td>51780</td>\n",
       "      <td>0.00</td>\n",
       "    </tr>\n",
       "    <tr>\n",
       "      <th>3005</th>\n",
       "      <td>WASHINGTON</td>\n",
       "      <td>53000</td>\n",
       "      <td>66455.52</td>\n",
       "    </tr>\n",
       "    <tr>\n",
       "      <th>3045</th>\n",
       "      <td>WEST VIRGINIA</td>\n",
       "      <td>54000</td>\n",
       "      <td>24038.21</td>\n",
       "    </tr>\n",
       "    <tr>\n",
       "      <th>3101</th>\n",
       "      <td>WISCONSIN</td>\n",
       "      <td>55000</td>\n",
       "      <td>54157.80</td>\n",
       "    </tr>\n",
       "    <tr>\n",
       "      <th>3174</th>\n",
       "      <td>WYOMING</td>\n",
       "      <td>56000</td>\n",
       "      <td>97093.14</td>\n",
       "    </tr>\n",
       "  </tbody>\n",
       "</table>\n",
       "</div>"
      ],
      "text/plain": [
       "                           Areaname  STCOU  LND110210D\n",
       "0                     UNITED STATES      0  3531905.43\n",
       "1                           ALABAMA   1000    50645.33\n",
       "69                           ALASKA   2000   570640.95\n",
       "95                 Wade Hampton, AK   2270    17081.43\n",
       "99                          ARIZONA   4000   113594.08\n",
       "115                        ARKANSAS   5000    52035.48\n",
       "191                      CALIFORNIA   6000   155779.22\n",
       "250                        COLORADO   8000   103641.89\n",
       "315                     CONNECTICUT   9000     4842.36\n",
       "324                        DELAWARE  10000     1948.54\n",
       "328            DISTRICT OF COLUMBIA  11000       61.05\n",
       "329            District of Columbia  11001       61.05\n",
       "330                         FLORIDA  12000    53624.76\n",
       "398                         GEORGIA  13000    57513.49\n",
       "558                          HAWAII  15000     6422.63\n",
       "564                           IDAHO  16000    82643.12\n",
       "609                        ILLINOIS  17000    55518.93\n",
       "712                         INDIANA  18000    35826.11\n",
       "805                            IOWA  19000    55857.13\n",
       "905                          KANSAS  20000    81758.72\n",
       "1011                       KENTUCKY  21000    39486.34\n",
       "1132                      LOUISIANA  22000    43203.90\n",
       "1197                          MAINE  23000    30842.92\n",
       "1214                       MARYLAND  24000     9707.24\n",
       "1239                  MASSACHUSETTS  25000     7800.06\n",
       "1254                       MICHIGAN  26000    56538.90\n",
       "1338                      MINNESOTA  27000    79626.74\n",
       "1426                    MISSISSIPPI  28000    46923.27\n",
       "1509                       MISSOURI  29000    68741.52\n",
       "1625                        MONTANA  30000   145545.80\n",
       "1682  Yellowstone National Park, MT  30113        0.00\n",
       "1683                       NEBRASKA  31000    76824.17\n",
       "1777                         NEVADA  32000   109781.18\n",
       "1795                  NEW HAMPSHIRE  33000     8952.65\n",
       "1806                     NEW JERSEY  34000     7354.22\n",
       "1828                     NEW MEXICO  35000   121298.15\n",
       "1862                       NEW YORK  36000    47126.40\n",
       "1925                 NORTH CAROLINA  37000    48617.91\n",
       "2026                   NORTH DAKOTA  38000    69000.80\n",
       "2080                           OHIO  39000    40860.69\n",
       "2169                       OKLAHOMA  40000    68594.92\n",
       "2247                         OREGON  41000    95988.01\n",
       "2284                   PENNSYLVANIA  42000    44742.70\n",
       "2352                   RHODE ISLAND  44000     1033.81\n",
       "2358                 SOUTH CAROLINA  45000    30060.70\n",
       "2405                   SOUTH DAKOTA  46000    75811.00\n",
       "2461                    Shannon, SD  46113     2093.90\n",
       "2472                      TENNESSEE  47000    41234.90\n",
       "2568                          TEXAS  48000   261231.71\n",
       "2823                           UTAH  49000    82169.62\n",
       "2853                        VERMONT  50000     9216.66\n",
       "2868                       VIRGINIA  51000    39490.09\n",
       "2965                    Bedford, VA  51515        6.88\n",
       "2970              Clifton Forge, VA  51560        0.00\n",
       "2998               South Boston, VA  51780        0.00\n",
       "3005                     WASHINGTON  53000    66455.52\n",
       "3045                  WEST VIRGINIA  54000    24038.21\n",
       "3101                      WISCONSIN  55000    54157.80\n",
       "3174                        WYOMING  56000    97093.14"
      ]
     },
     "execution_count": 109,
     "metadata": {},
     "output_type": "execute_result"
    }
   ],
   "source": [
    "no_pop_df"
   ]
  },
  {
   "cell_type": "markdown",
   "metadata": {},
   "source": [
    "These records represent non-county or incomplete population or land area level data and can be dropped."
   ]
  },
  {
   "cell_type": "markdown",
   "metadata": {},
   "source": [
    "### 3.2 - Merge Dataframes"
   ]
  },
  {
   "cell_type": "markdown",
   "metadata": {},
   "source": [
    "Perform inner join to combine the two dataframes eliminating both extraneous sets of data above."
   ]
  },
  {
   "cell_type": "code",
   "execution_count": 110,
   "metadata": {},
   "outputs": [
    {
     "data": {
      "text/plain": [
       "(3139, 5)"
      ]
     },
     "execution_count": 110,
     "metadata": {},
     "output_type": "execute_result"
    }
   ],
   "source": [
    "df = pop_df.merge(land_area_df, how=\"inner\", left_on='FIPS', right_on='STCOU').drop(['STCOU', 'Areaname'], axis=1)\n",
    "df.shape"
   ]
  },
  {
   "cell_type": "markdown",
   "metadata": {},
   "source": [
    "Rename Columns"
   ]
  },
  {
   "cell_type": "code",
   "execution_count": 111,
   "metadata": {},
   "outputs": [],
   "source": [
    "df.rename(columns = {'LND110210D':'Land_Area'}, inplace = True)"
   ]
  },
  {
   "cell_type": "code",
   "execution_count": 112,
   "metadata": {},
   "outputs": [
    {
     "data": {
      "text/html": [
       "<div>\n",
       "<style scoped>\n",
       "    .dataframe tbody tr th:only-of-type {\n",
       "        vertical-align: middle;\n",
       "    }\n",
       "\n",
       "    .dataframe tbody tr th {\n",
       "        vertical-align: top;\n",
       "    }\n",
       "\n",
       "    .dataframe thead th {\n",
       "        text-align: right;\n",
       "    }\n",
       "</style>\n",
       "<table border=\"1\" class=\"dataframe\">\n",
       "  <thead>\n",
       "    <tr style=\"text-align: right;\">\n",
       "      <th></th>\n",
       "      <th>FIPS</th>\n",
       "      <th>State</th>\n",
       "      <th>County</th>\n",
       "      <th>Population</th>\n",
       "      <th>Land_Area</th>\n",
       "    </tr>\n",
       "  </thead>\n",
       "  <tbody>\n",
       "    <tr>\n",
       "      <th>1381</th>\n",
       "      <td>27139</td>\n",
       "      <td>MN</td>\n",
       "      <td>Scott County</td>\n",
       "      <td>149013</td>\n",
       "      <td>356.48</td>\n",
       "    </tr>\n",
       "    <tr>\n",
       "      <th>107</th>\n",
       "      <td>4023</td>\n",
       "      <td>AZ</td>\n",
       "      <td>Santa Cruz County</td>\n",
       "      <td>46498</td>\n",
       "      <td>1236.92</td>\n",
       "    </tr>\n",
       "    <tr>\n",
       "      <th>2668</th>\n",
       "      <td>48297</td>\n",
       "      <td>TX</td>\n",
       "      <td>Live Oak County</td>\n",
       "      <td>12207</td>\n",
       "      <td>1039.70</td>\n",
       "    </tr>\n",
       "    <tr>\n",
       "      <th>1964</th>\n",
       "      <td>37153</td>\n",
       "      <td>NC</td>\n",
       "      <td>Richmond County</td>\n",
       "      <td>44829</td>\n",
       "      <td>473.82</td>\n",
       "    </tr>\n",
       "    <tr>\n",
       "      <th>783</th>\n",
       "      <td>18177</td>\n",
       "      <td>IN</td>\n",
       "      <td>Wayne County</td>\n",
       "      <td>65884</td>\n",
       "      <td>401.74</td>\n",
       "    </tr>\n",
       "  </tbody>\n",
       "</table>\n",
       "</div>"
      ],
      "text/plain": [
       "       FIPS State             County  Population  Land_Area\n",
       "1381  27139    MN       Scott County      149013     356.48\n",
       "107    4023    AZ  Santa Cruz County       46498    1236.92\n",
       "2668  48297    TX    Live Oak County       12207    1039.70\n",
       "1964  37153    NC    Richmond County       44829     473.82\n",
       "783   18177    IN       Wayne County       65884     401.74"
      ]
     },
     "execution_count": 112,
     "metadata": {},
     "output_type": "execute_result"
    }
   ],
   "source": [
    "df.sample(5)"
   ]
  },
  {
   "cell_type": "code",
   "execution_count": 113,
   "metadata": {},
   "outputs": [
    {
     "data": {
      "text/plain": [
       "(3139, 5)"
      ]
     },
     "execution_count": 113,
     "metadata": {},
     "output_type": "execute_result"
    }
   ],
   "source": [
    "df.shape"
   ]
  },
  {
   "cell_type": "markdown",
   "metadata": {},
   "source": [
    "### 3.3 - Cleanup Missing Data"
   ]
  },
  {
   "cell_type": "code",
   "execution_count": 114,
   "metadata": {},
   "outputs": [
    {
     "data": {
      "text/plain": [
       "<matplotlib.axes._subplots.AxesSubplot at 0x1b571083668>"
      ]
     },
     "execution_count": 114,
     "metadata": {},
     "output_type": "execute_result"
    },
    {
     "data": {
      "image/png": "[encoded data removed]",
      "text/plain": [
       "<Figure size 1800x720 with 2 Axes>"
      ]
     },
     "metadata": {
      "needs_background": "light"
     },
     "output_type": "display_data"
    }
   ],
   "source": [
    "msno.matrix(df)"
   ]
  },
  {
   "cell_type": "markdown",
   "metadata": {},
   "source": [
    "No missing data."
   ]
  },
  {
   "cell_type": "markdown",
   "metadata": {},
   "source": [
    "### 3.4 - Function: ratio\n",
    "\n",
    "Used to calculate ratios for the study such as \"Population per square mile\"\n"
   ]
  },
  {
   "cell_type": "code",
   "execution_count": 115,
   "metadata": {},
   "outputs": [],
   "source": [
    "def ratio(x, y):\n",
    "\n",
    "    # Return ratio as an integer.\n",
    "    return int(x / y)"
   ]
  },
  {
   "cell_type": "markdown",
   "metadata": {},
   "source": [
    "Test the ratio function"
   ]
  },
  {
   "cell_type": "code",
   "execution_count": 116,
   "metadata": {},
   "outputs": [
    {
     "data": {
      "text/plain": [
       "2473"
      ]
     },
     "execution_count": 116,
     "metadata": {},
     "output_type": "execute_result"
    }
   ],
   "source": [
    "# pop_square_mile test (example - more population than square mileage)\n",
    "ratio(10039107, 4057.88)"
   ]
  },
  {
   "cell_type": "code",
   "execution_count": 117,
   "metadata": {},
   "outputs": [
    {
     "data": {
      "text/plain": [
       "0"
      ]
     },
     "execution_count": 117,
     "metadata": {},
     "output_type": "execute_result"
    }
   ],
   "source": [
    "# pop_square_mile test (example - more square mileage than population)\n",
    "ratio(169, 668.93) "
   ]
  },
  {
   "cell_type": "markdown",
   "metadata": {},
   "source": [
    "### 3.5 - Add Population Per Square Mile Column"
   ]
  },
  {
   "cell_type": "markdown",
   "metadata": {},
   "source": [
    "Apply the ratio function to add \"Population per Square Mile\" column to each record"
   ]
  },
  {
   "cell_type": "code",
   "execution_count": 118,
   "metadata": {},
   "outputs": [],
   "source": [
    "df[\"Pop_Sq_Mile\"] = df[[\"Population\", \"Land_Area\"]].apply(lambda x: ratio(*x), axis=1)"
   ]
  },
  {
   "cell_type": "code",
   "execution_count": 119,
   "metadata": {},
   "outputs": [
    {
     "data": {
      "text/html": [
       "<div>\n",
       "<style scoped>\n",
       "    .dataframe tbody tr th:only-of-type {\n",
       "        vertical-align: middle;\n",
       "    }\n",
       "\n",
       "    .dataframe tbody tr th {\n",
       "        vertical-align: top;\n",
       "    }\n",
       "\n",
       "    .dataframe thead th {\n",
       "        text-align: right;\n",
       "    }\n",
       "</style>\n",
       "<table border=\"1\" class=\"dataframe\">\n",
       "  <thead>\n",
       "    <tr style=\"text-align: right;\">\n",
       "      <th></th>\n",
       "      <th>FIPS</th>\n",
       "      <th>State</th>\n",
       "      <th>County</th>\n",
       "      <th>Population</th>\n",
       "      <th>Land_Area</th>\n",
       "      <th>Pop_Sq_Mile</th>\n",
       "    </tr>\n",
       "  </thead>\n",
       "  <tbody>\n",
       "    <tr>\n",
       "      <th>2524</th>\n",
       "      <td>48009</td>\n",
       "      <td>TX</td>\n",
       "      <td>Archer County</td>\n",
       "      <td>8553</td>\n",
       "      <td>903.11</td>\n",
       "      <td>9</td>\n",
       "    </tr>\n",
       "    <tr>\n",
       "      <th>1015</th>\n",
       "      <td>21049</td>\n",
       "      <td>KY</td>\n",
       "      <td>Clark County</td>\n",
       "      <td>36263</td>\n",
       "      <td>252.46</td>\n",
       "      <td>143</td>\n",
       "    </tr>\n",
       "    <tr>\n",
       "      <th>2405</th>\n",
       "      <td>46093</td>\n",
       "      <td>SD</td>\n",
       "      <td>Meade County</td>\n",
       "      <td>28332</td>\n",
       "      <td>3470.98</td>\n",
       "      <td>8</td>\n",
       "    </tr>\n",
       "  </tbody>\n",
       "</table>\n",
       "</div>"
      ],
      "text/plain": [
       "       FIPS State         County  Population  Land_Area  Pop_Sq_Mile\n",
       "2524  48009    TX  Archer County        8553     903.11            9\n",
       "1015  21049    KY   Clark County       36263     252.46          143\n",
       "2405  46093    SD   Meade County       28332    3470.98            8"
      ]
     },
     "execution_count": 119,
     "metadata": {},
     "output_type": "execute_result"
    }
   ],
   "source": [
    "df.sample(3)"
   ]
  },
  {
   "cell_type": "markdown",
   "metadata": {},
   "source": [
    "Reorder columns"
   ]
  },
  {
   "cell_type": "code",
   "execution_count": 120,
   "metadata": {},
   "outputs": [
    {
     "data": {
      "text/html": [
       "<div>\n",
       "<style scoped>\n",
       "    .dataframe tbody tr th:only-of-type {\n",
       "        vertical-align: middle;\n",
       "    }\n",
       "\n",
       "    .dataframe tbody tr th {\n",
       "        vertical-align: top;\n",
       "    }\n",
       "\n",
       "    .dataframe thead th {\n",
       "        text-align: right;\n",
       "    }\n",
       "</style>\n",
       "<table border=\"1\" class=\"dataframe\">\n",
       "  <thead>\n",
       "    <tr style=\"text-align: right;\">\n",
       "      <th></th>\n",
       "      <th>FIPS</th>\n",
       "      <th>County</th>\n",
       "      <th>State</th>\n",
       "      <th>Land_Area</th>\n",
       "      <th>Population</th>\n",
       "      <th>Pop_Sq_Mile</th>\n",
       "    </tr>\n",
       "  </thead>\n",
       "  <tbody>\n",
       "    <tr>\n",
       "      <th>165</th>\n",
       "      <td>5111</td>\n",
       "      <td>Poinsett County</td>\n",
       "      <td>AR</td>\n",
       "      <td>758.39</td>\n",
       "      <td>23528</td>\n",
       "      <td>31</td>\n",
       "    </tr>\n",
       "    <tr>\n",
       "      <th>2023</th>\n",
       "      <td>38071</td>\n",
       "      <td>Ramsey County</td>\n",
       "      <td>ND</td>\n",
       "      <td>1186.85</td>\n",
       "      <td>11519</td>\n",
       "      <td>9</td>\n",
       "    </tr>\n",
       "    <tr>\n",
       "      <th>1848</th>\n",
       "      <td>36045</td>\n",
       "      <td>Jefferson County</td>\n",
       "      <td>NY</td>\n",
       "      <td>1268.59</td>\n",
       "      <td>109834</td>\n",
       "      <td>86</td>\n",
       "    </tr>\n",
       "  </tbody>\n",
       "</table>\n",
       "</div>"
      ],
      "text/plain": [
       "       FIPS            County State  Land_Area  Population  Pop_Sq_Mile\n",
       "165    5111   Poinsett County    AR     758.39       23528           31\n",
       "2023  38071     Ramsey County    ND    1186.85       11519            9\n",
       "1848  36045  Jefferson County    NY    1268.59      109834           86"
      ]
     },
     "execution_count": 120,
     "metadata": {},
     "output_type": "execute_result"
    }
   ],
   "source": [
    "df = df[['FIPS','County','State','Land_Area','Population','Pop_Sq_Mile']]\n",
    "df.sample(3)"
   ]
  },
  {
   "cell_type": "markdown",
   "metadata": {},
   "source": [
    "### 3.6 Characterize Cleaned Data"
   ]
  },
  {
   "cell_type": "markdown",
   "metadata": {},
   "source": [
    "Show the mean, min, and max for each variable in the dataframe."
   ]
  },
  {
   "cell_type": "code",
   "execution_count": 121,
   "metadata": {},
   "outputs": [
    {
     "data": {
      "text/html": [
       "<div>\n",
       "<style scoped>\n",
       "    .dataframe tbody tr th:only-of-type {\n",
       "        vertical-align: middle;\n",
       "    }\n",
       "\n",
       "    .dataframe tbody tr th {\n",
       "        vertical-align: top;\n",
       "    }\n",
       "\n",
       "    .dataframe thead th {\n",
       "        text-align: right;\n",
       "    }\n",
       "</style>\n",
       "<table border=\"1\" class=\"dataframe\">\n",
       "  <thead>\n",
       "    <tr style=\"text-align: right;\">\n",
       "      <th></th>\n",
       "      <th>FIPS</th>\n",
       "      <th>County</th>\n",
       "      <th>State</th>\n",
       "      <th>Land_Area</th>\n",
       "      <th>Population</th>\n",
       "      <th>Pop_Sq_Mile</th>\n",
       "    </tr>\n",
       "  </thead>\n",
       "  <tbody>\n",
       "    <tr>\n",
       "      <th>count</th>\n",
       "      <td>3139.000000</td>\n",
       "      <td>3139</td>\n",
       "      <td>3139</td>\n",
       "      <td>3139.000000</td>\n",
       "      <td>3.139000e+03</td>\n",
       "      <td>3139.000000</td>\n",
       "    </tr>\n",
       "    <tr>\n",
       "      <th>unique</th>\n",
       "      <td>NaN</td>\n",
       "      <td>1874</td>\n",
       "      <td>50</td>\n",
       "      <td>NaN</td>\n",
       "      <td>NaN</td>\n",
       "      <td>NaN</td>\n",
       "    </tr>\n",
       "    <tr>\n",
       "      <th>top</th>\n",
       "      <td>NaN</td>\n",
       "      <td>Washington County</td>\n",
       "      <td>TX</td>\n",
       "      <td>NaN</td>\n",
       "      <td>NaN</td>\n",
       "      <td>NaN</td>\n",
       "    </tr>\n",
       "    <tr>\n",
       "      <th>freq</th>\n",
       "      <td>NaN</td>\n",
       "      <td>30</td>\n",
       "      <td>254</td>\n",
       "      <td>NaN</td>\n",
       "      <td>NaN</td>\n",
       "      <td>NaN</td>\n",
       "    </tr>\n",
       "    <tr>\n",
       "      <th>mean</th>\n",
       "      <td>30393.808538</td>\n",
       "      <td>NaN</td>\n",
       "      <td>NaN</td>\n",
       "      <td>1119.039105</td>\n",
       "      <td>1.043362e+05</td>\n",
       "      <td>268.768398</td>\n",
       "    </tr>\n",
       "    <tr>\n",
       "      <th>std</th>\n",
       "      <td>15154.834504</td>\n",
       "      <td>NaN</td>\n",
       "      <td>NaN</td>\n",
       "      <td>3602.323872</td>\n",
       "      <td>3.334350e+05</td>\n",
       "      <td>1775.239945</td>\n",
       "    </tr>\n",
       "    <tr>\n",
       "      <th>min</th>\n",
       "      <td>1001.000000</td>\n",
       "      <td>NaN</td>\n",
       "      <td>NaN</td>\n",
       "      <td>2.000000</td>\n",
       "      <td>8.600000e+01</td>\n",
       "      <td>0.000000</td>\n",
       "    </tr>\n",
       "    <tr>\n",
       "      <th>25%</th>\n",
       "      <td>18180.000000</td>\n",
       "      <td>NaN</td>\n",
       "      <td>NaN</td>\n",
       "      <td>430.915000</td>\n",
       "      <td>1.090400e+04</td>\n",
       "      <td>16.000000</td>\n",
       "    </tr>\n",
       "    <tr>\n",
       "      <th>50%</th>\n",
       "      <td>29177.000000</td>\n",
       "      <td>NaN</td>\n",
       "      <td>NaN</td>\n",
       "      <td>615.630000</td>\n",
       "      <td>2.575800e+04</td>\n",
       "      <td>44.000000</td>\n",
       "    </tr>\n",
       "    <tr>\n",
       "      <th>75%</th>\n",
       "      <td>45080.000000</td>\n",
       "      <td>NaN</td>\n",
       "      <td>NaN</td>\n",
       "      <td>923.665000</td>\n",
       "      <td>6.804750e+04</td>\n",
       "      <td>118.000000</td>\n",
       "    </tr>\n",
       "    <tr>\n",
       "      <th>max</th>\n",
       "      <td>56045.000000</td>\n",
       "      <td>NaN</td>\n",
       "      <td>NaN</td>\n",
       "      <td>145504.790000</td>\n",
       "      <td>1.003911e+07</td>\n",
       "      <td>71340.000000</td>\n",
       "    </tr>\n",
       "  </tbody>\n",
       "</table>\n",
       "</div>"
      ],
      "text/plain": [
       "                FIPS             County State      Land_Area    Population  \\\n",
       "count    3139.000000               3139  3139    3139.000000  3.139000e+03   \n",
       "unique           NaN               1874    50            NaN           NaN   \n",
       "top              NaN  Washington County    TX            NaN           NaN   \n",
       "freq             NaN                 30   254            NaN           NaN   \n",
       "mean    30393.808538                NaN   NaN    1119.039105  1.043362e+05   \n",
       "std     15154.834504                NaN   NaN    3602.323872  3.334350e+05   \n",
       "min      1001.000000                NaN   NaN       2.000000  8.600000e+01   \n",
       "25%     18180.000000                NaN   NaN     430.915000  1.090400e+04   \n",
       "50%     29177.000000                NaN   NaN     615.630000  2.575800e+04   \n",
       "75%     45080.000000                NaN   NaN     923.665000  6.804750e+04   \n",
       "max     56045.000000                NaN   NaN  145504.790000  1.003911e+07   \n",
       "\n",
       "         Pop_Sq_Mile  \n",
       "count    3139.000000  \n",
       "unique           NaN  \n",
       "top              NaN  \n",
       "freq             NaN  \n",
       "mean      268.768398  \n",
       "std      1775.239945  \n",
       "min         0.000000  \n",
       "25%        16.000000  \n",
       "50%        44.000000  \n",
       "75%       118.000000  \n",
       "max     71340.000000  "
      ]
     },
     "execution_count": 121,
     "metadata": {},
     "output_type": "execute_result"
    }
   ],
   "source": [
    "df.describe(include=\"all\")"
   ]
  },
  {
   "cell_type": "markdown",
   "metadata": {},
   "source": [
    "### 4 - Plot Data"
   ]
  },
  {
   "cell_type": "markdown",
   "metadata": {},
   "source": [
    "Display an interactive scatter plot of the population versus density by County."
   ]
  },
  {
   "cell_type": "code",
   "execution_count": 122,
   "metadata": {},
   "outputs": [],
   "source": [
    "import plotly.express as px\n",
    "import plotly.io as pio\n",
    "pio.renderers.default = 'iframe_connected'"
   ]
  },
  {
   "cell_type": "code",
   "execution_count": 124,
   "metadata": {},
   "outputs": [
    {
     "data": {
      "text/html": [
       "<iframe\n",
       "    scrolling=\"no\"\n",
       "    width=\"100%\"\n",
       "    height=\"545px\"\n",
       "    src=\"iframe_figures/figure_124.html\"\n",
       "    frameborder=\"0\"\n",
       "    allowfullscreen\n",
       "></iframe>\n"
      ]
     },
     "metadata": {},
     "output_type": "display_data"
    }
   ],
   "source": [
    "fig = px.scatter(df,x='Population', y='Pop_Sq_Mile',hover_data=['State','County'])\n",
    "fig.update_layout(title=\"County Population versus Density\", title_x=0.5)\n",
    "fig.show()"
   ]
  },
  {
   "cell_type": "markdown",
   "metadata": {},
   "source": [
    "### 5 - Save Population Density dataframe to Pickle File"
   ]
  },
  {
   "cell_type": "code",
   "execution_count": 125,
   "metadata": {},
   "outputs": [],
   "source": [
    "df.to_pickle(\"./population.pkl\")"
   ]
  },
  {
   "cell_type": "code",
   "execution_count": null,
   "metadata": {},
   "outputs": [],
   "source": []
  }
 ],
 "metadata": {
  "kernelspec": {
   "display_name": "Python 3",
   "language": "python",
   "name": "python3"
  },
  "language_info": {
   "codemirror_mode": {
    "name": "ipython",
    "version": 3
   },
   "file_extension": ".py",
   "mimetype": "text/x-python",
   "name": "python",
   "nbconvert_exporter": "python",
   "pygments_lexer": "ipython3",
   "version": "3.7.3"
  }
 },
 "nbformat": 4,
 "nbformat_minor": 2
}
