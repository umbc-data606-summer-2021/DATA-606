{
  "nbformat": 4,
  "nbformat_minor": 5,
  "metadata": {
    "kernelspec": {
      "display_name": "Python 3",
      "language": "python",
      "name": "python3"
    },
    "language_info": {
      "codemirror_mode": {
        "name": "ipython",
        "version": 3
      },
      "file_extension": ".py",
      "mimetype": "text/x-python",
      "name": "python",
      "nbconvert_exporter": "python",
      "pygments_lexer": "ipython3",
      "version": "3.7.3"
    },
    "colab": {
      "name": "county_income.ipynb",
      "provenance": [],
      "include_colab_link": true
    }
  },
  "cells": [
    {
      "cell_type": "markdown",
      "metadata": {
        "id": "view-in-github",
        "colab_type": "text"
      },
      "source": [
        "<a href=\"https://colab.research.google.com/github/knoppin1/DATA-606/blob/main/county_income.ipynb\" target=\"_parent\"><img src=\"https://colab.research.google.com/assets/colab-badge.svg\" alt=\"Open In Colab\"/></a>"
      ]
    },
    {
      "cell_type": "code",
      "metadata": {
        "id": "F92i9ErRYvb0"
      },
      "source": [
        "import pandas as pd\n",
        "import numpy as np\n",
        "import seaborn as sns\n",
        "import os"
      ],
      "id": "F92i9ErRYvb0",
      "execution_count": null,
      "outputs": []
    },
    {
      "cell_type": "code",
      "metadata": {
        "id": "KoUb_DL3Yvb2",
        "outputId": "a16c8ca1-5deb-4022-9290-e15c52c9654f"
      },
      "source": [
        "wd = os.getcwd()\n",
        "wd"
      ],
      "id": "KoUb_DL3Yvb2",
      "execution_count": null,
      "outputs": [
        {
          "output_type": "execute_result",
          "data": {
            "text/plain": [
              "'C:\\\\Users\\\\Ken\\\\Documents\\\\Ken\\\\College\\\\UMBC\\\\Data_Science\\\\DATA_606_Capstone_in_Data_Science\\\\Project'"
            ]
          },
          "metadata": {
            "tags": []
          },
          "execution_count": 2
        }
      ]
    },
    {
      "cell_type": "code",
      "metadata": {
        "id": "53pek2YKYvb3",
        "outputId": "154cb066-b5e2-44b6-9b3f-dc851d98487d"
      },
      "source": [
        "os.listdir(wd)"
      ],
      "id": "53pek2YKYvb3",
      "execution_count": null,
      "outputs": [
        {
          "output_type": "execute_result",
          "data": {
            "text/plain": [
              "['.ipynb_checkpoints',\n",
              " 'co-est2019-alldata.csv',\n",
              " 'county_income.ipynb',\n",
              " 'county_population.ipynb',\n",
              " 'county_vaccinations.ipynb',\n",
              " 'covid-19.jpg',\n",
              " 'COVID-19.png',\n",
              " 'COVID-19_Vaccinations_in_the_United_States_County.csv',\n",
              " 'lapi1120.xlsx',\n",
              " 'Untitled.ipynb',\n",
              " 'vaccinations.pkl',\n",
              " '~$lapi1120.xlsx']"
            ]
          },
          "metadata": {
            "tags": []
          },
          "execution_count": 3
        }
      ]
    },
    {
      "cell_type": "code",
      "metadata": {
        "tags": [],
        "id": "yPBbNRg9Yvb3",
        "outputId": "70dec716-06b7-4bcd-86af-a343a28f24a6"
      },
      "source": [
        "income_file = wd + '\\\\' + 'lapi1120.xlsx'\n",
        "income_file"
      ],
      "id": "yPBbNRg9Yvb3",
      "execution_count": null,
      "outputs": [
        {
          "output_type": "execute_result",
          "data": {
            "text/plain": [
              "'C:\\\\Users\\\\Ken\\\\Documents\\\\Ken\\\\College\\\\UMBC\\\\Data_Science\\\\DATA_606_Capstone_in_Data_Science\\\\Project\\\\lapi1120.xlsx'"
            ]
          },
          "metadata": {
            "tags": []
          },
          "execution_count": 4
        }
      ]
    },
    {
      "cell_type": "code",
      "metadata": {
        "id": "n3yvoUDEYvb3",
        "outputId": "f810f195-55f9-42b3-8d66-46dd47408f2b"
      },
      "source": [
        "df = pd.read_excel(income_file, skiprows = 3, skipfooter=3)\n",
        "df.shape"
      ],
      "id": "n3yvoUDEYvb3",
      "execution_count": null,
      "outputs": [
        {
          "output_type": "execute_result",
          "data": {
            "text/plain": [
              "(3217, 8)"
            ]
          },
          "metadata": {
            "tags": []
          },
          "execution_count": 5
        }
      ]
    },
    {
      "cell_type": "code",
      "metadata": {
        "id": "8WxCk0nMYvb4",
        "outputId": "616aa4f3-f87e-42cd-dd5e-a077f3ae5d92"
      },
      "source": [
        "df.head(5)"
      ],
      "id": "8WxCk0nMYvb4",
      "execution_count": null,
      "outputs": [
        {
          "output_type": "execute_result",
          "data": {
            "text/html": [
              "<div>\n",
              "<style scoped>\n",
              "    .dataframe tbody tr th:only-of-type {\n",
              "        vertical-align: middle;\n",
              "    }\n",
              "\n",
              "    .dataframe tbody tr th {\n",
              "        vertical-align: top;\n",
              "    }\n",
              "\n",
              "    .dataframe thead th {\n",
              "        text-align: right;\n",
              "    }\n",
              "</style>\n",
              "<table border=\"1\" class=\"dataframe\">\n",
              "  <thead>\n",
              "    <tr style=\"text-align: right;\">\n",
              "      <th></th>\n",
              "      <th>Unnamed: 0</th>\n",
              "      <th>2017</th>\n",
              "      <th>2018</th>\n",
              "      <th>2019</th>\n",
              "      <th>2019.1</th>\n",
              "      <th>2018.1</th>\n",
              "      <th>2019.2</th>\n",
              "      <th>2019.3</th>\n",
              "    </tr>\n",
              "  </thead>\n",
              "  <tbody>\n",
              "    <tr>\n",
              "      <th>0</th>\n",
              "      <td>United States</td>\n",
              "      <td>52118.0</td>\n",
              "      <td>54606.0</td>\n",
              "      <td>56490.0</td>\n",
              "      <td>--</td>\n",
              "      <td>4.8</td>\n",
              "      <td>3.5</td>\n",
              "      <td>--</td>\n",
              "    </tr>\n",
              "    <tr>\n",
              "      <th>1</th>\n",
              "      <td>NaN</td>\n",
              "      <td>NaN</td>\n",
              "      <td>NaN</td>\n",
              "      <td>NaN</td>\n",
              "      <td>NaN</td>\n",
              "      <td>NaN</td>\n",
              "      <td>NaN</td>\n",
              "      <td>NaN</td>\n",
              "    </tr>\n",
              "    <tr>\n",
              "      <th>2</th>\n",
              "      <td>Alabama</td>\n",
              "      <td>41030.0</td>\n",
              "      <td>42710.0</td>\n",
              "      <td>44145.0</td>\n",
              "      <td>--</td>\n",
              "      <td>4.1</td>\n",
              "      <td>3.4</td>\n",
              "      <td>--</td>\n",
              "    </tr>\n",
              "    <tr>\n",
              "      <th>3</th>\n",
              "      <td>Autauga</td>\n",
              "      <td>41101.0</td>\n",
              "      <td>42504.0</td>\n",
              "      <td>43917.0</td>\n",
              "      <td>10</td>\n",
              "      <td>3.4</td>\n",
              "      <td>3.3</td>\n",
              "      <td>37</td>\n",
              "    </tr>\n",
              "    <tr>\n",
              "      <th>4</th>\n",
              "      <td>Baldwin</td>\n",
              "      <td>44566.0</td>\n",
              "      <td>46205.0</td>\n",
              "      <td>47485.0</td>\n",
              "      <td>4</td>\n",
              "      <td>3.7</td>\n",
              "      <td>2.8</td>\n",
              "      <td>48</td>\n",
              "    </tr>\n",
              "  </tbody>\n",
              "</table>\n",
              "</div>"
            ],
            "text/plain": [
              "      Unnamed: 0     2017     2018     2019 2019.1  2018.1  2019.2 2019.3\n",
              "0  United States  52118.0  54606.0  56490.0     --     4.8     3.5     --\n",
              "1            NaN      NaN      NaN      NaN    NaN     NaN     NaN    NaN\n",
              "2        Alabama  41030.0  42710.0  44145.0     --     4.1     3.4     --\n",
              "3        Autauga  41101.0  42504.0  43917.0     10     3.4     3.3     37\n",
              "4        Baldwin  44566.0  46205.0  47485.0      4     3.7     2.8     48"
            ]
          },
          "metadata": {
            "tags": []
          },
          "execution_count": 6
        }
      ]
    },
    {
      "cell_type": "code",
      "metadata": {
        "id": "N7fWtrvAYvb4",
        "outputId": "4304e403-7bc5-4b0d-d23c-9f7c09d3f116"
      },
      "source": [
        "df = df.drop([2017, 2018, '2019.1', '2018.1','2019.2','2019.3'], axis=1)\n",
        "df.columns"
      ],
      "id": "N7fWtrvAYvb4",
      "execution_count": null,
      "outputs": [
        {
          "output_type": "execute_result",
          "data": {
            "text/plain": [
              "Index(['Unnamed: 0', 2019], dtype='object')"
            ]
          },
          "metadata": {
            "tags": []
          },
          "execution_count": 7
        }
      ]
    },
    {
      "cell_type": "code",
      "metadata": {
        "id": "hk9OX1pvYvb4",
        "outputId": "19c18cd3-99b6-452d-aa00-1553b3721bba"
      },
      "source": [
        "df.rename(columns={'Unnamed: 0': 'County', 2019: 'Income'}, inplace=True)\n",
        "df.columns"
      ],
      "id": "hk9OX1pvYvb4",
      "execution_count": null,
      "outputs": [
        {
          "output_type": "execute_result",
          "data": {
            "text/plain": [
              "Index(['County', 'Income'], dtype='object')"
            ]
          },
          "metadata": {
            "tags": []
          },
          "execution_count": 8
        }
      ]
    },
    {
      "cell_type": "code",
      "metadata": {
        "id": "QonnoTrvYvb5",
        "outputId": "8112a67a-208b-4734-abba-5689d9266068"
      },
      "source": [
        "df.head(3)"
      ],
      "id": "QonnoTrvYvb5",
      "execution_count": null,
      "outputs": [
        {
          "output_type": "execute_result",
          "data": {
            "text/html": [
              "<div>\n",
              "<style scoped>\n",
              "    .dataframe tbody tr th:only-of-type {\n",
              "        vertical-align: middle;\n",
              "    }\n",
              "\n",
              "    .dataframe tbody tr th {\n",
              "        vertical-align: top;\n",
              "    }\n",
              "\n",
              "    .dataframe thead th {\n",
              "        text-align: right;\n",
              "    }\n",
              "</style>\n",
              "<table border=\"1\" class=\"dataframe\">\n",
              "  <thead>\n",
              "    <tr style=\"text-align: right;\">\n",
              "      <th></th>\n",
              "      <th>County</th>\n",
              "      <th>Income</th>\n",
              "    </tr>\n",
              "  </thead>\n",
              "  <tbody>\n",
              "    <tr>\n",
              "      <th>0</th>\n",
              "      <td>United States</td>\n",
              "      <td>56490.0</td>\n",
              "    </tr>\n",
              "    <tr>\n",
              "      <th>1</th>\n",
              "      <td>NaN</td>\n",
              "      <td>NaN</td>\n",
              "    </tr>\n",
              "    <tr>\n",
              "      <th>2</th>\n",
              "      <td>Alabama</td>\n",
              "      <td>44145.0</td>\n",
              "    </tr>\n",
              "  </tbody>\n",
              "</table>\n",
              "</div>"
            ],
            "text/plain": [
              "          County   Income\n",
              "0  United States  56490.0\n",
              "1            NaN      NaN\n",
              "2        Alabama  44145.0"
            ]
          },
          "metadata": {
            "tags": []
          },
          "execution_count": 9
        }
      ]
    },
    {
      "cell_type": "markdown",
      "metadata": {
        "id": "OpKSg_muYvb5"
      },
      "source": [
        "Remove unneeded rows."
      ],
      "id": "OpKSg_muYvb5"
    },
    {
      "cell_type": "code",
      "metadata": {
        "id": "VApOtwwTYvb5",
        "outputId": "d029e2f2-d08d-41fe-8ac8-b5db2e6b23d0"
      },
      "source": [
        "nan_df = df[df.isna().any(axis=1)]\n",
        "nan_df"
      ],
      "id": "VApOtwwTYvb5",
      "execution_count": null,
      "outputs": [
        {
          "output_type": "execute_result",
          "data": {
            "text/html": [
              "<div>\n",
              "<style scoped>\n",
              "    .dataframe tbody tr th:only-of-type {\n",
              "        vertical-align: middle;\n",
              "    }\n",
              "\n",
              "    .dataframe tbody tr th {\n",
              "        vertical-align: top;\n",
              "    }\n",
              "\n",
              "    .dataframe thead th {\n",
              "        text-align: right;\n",
              "    }\n",
              "</style>\n",
              "<table border=\"1\" class=\"dataframe\">\n",
              "  <thead>\n",
              "    <tr style=\"text-align: right;\">\n",
              "      <th></th>\n",
              "      <th>County</th>\n",
              "      <th>Income</th>\n",
              "    </tr>\n",
              "  </thead>\n",
              "  <tbody>\n",
              "    <tr>\n",
              "      <th>1</th>\n",
              "      <td>NaN</td>\n",
              "      <td>NaN</td>\n",
              "    </tr>\n",
              "    <tr>\n",
              "      <th>70</th>\n",
              "      <td>NaN</td>\n",
              "      <td>NaN</td>\n",
              "    </tr>\n",
              "    <tr>\n",
              "      <th>101</th>\n",
              "      <td>NaN</td>\n",
              "      <td>NaN</td>\n",
              "    </tr>\n",
              "    <tr>\n",
              "      <th>118</th>\n",
              "      <td>NaN</td>\n",
              "      <td>NaN</td>\n",
              "    </tr>\n",
              "    <tr>\n",
              "      <th>195</th>\n",
              "      <td>NaN</td>\n",
              "      <td>NaN</td>\n",
              "    </tr>\n",
              "    <tr>\n",
              "      <th>255</th>\n",
              "      <td>NaN</td>\n",
              "      <td>NaN</td>\n",
              "    </tr>\n",
              "    <tr>\n",
              "      <th>321</th>\n",
              "      <td>NaN</td>\n",
              "      <td>NaN</td>\n",
              "    </tr>\n",
              "    <tr>\n",
              "      <th>331</th>\n",
              "      <td>NaN</td>\n",
              "      <td>NaN</td>\n",
              "    </tr>\n",
              "    <tr>\n",
              "      <th>336</th>\n",
              "      <td>NaN</td>\n",
              "      <td>NaN</td>\n",
              "    </tr>\n",
              "    <tr>\n",
              "      <th>338</th>\n",
              "      <td>NaN</td>\n",
              "      <td>NaN</td>\n",
              "    </tr>\n",
              "    <tr>\n",
              "      <th>407</th>\n",
              "      <td>NaN</td>\n",
              "      <td>NaN</td>\n",
              "    </tr>\n",
              "    <tr>\n",
              "      <th>568</th>\n",
              "      <td>NaN</td>\n",
              "      <td>NaN</td>\n",
              "    </tr>\n",
              "    <tr>\n",
              "      <th>574</th>\n",
              "      <td>NaN</td>\n",
              "      <td>NaN</td>\n",
              "    </tr>\n",
              "    <tr>\n",
              "      <th>620</th>\n",
              "      <td>NaN</td>\n",
              "      <td>NaN</td>\n",
              "    </tr>\n",
              "    <tr>\n",
              "      <th>724</th>\n",
              "      <td>NaN</td>\n",
              "      <td>NaN</td>\n",
              "    </tr>\n",
              "    <tr>\n",
              "      <th>818</th>\n",
              "      <td>NaN</td>\n",
              "      <td>NaN</td>\n",
              "    </tr>\n",
              "    <tr>\n",
              "      <th>919</th>\n",
              "      <td>NaN</td>\n",
              "      <td>NaN</td>\n",
              "    </tr>\n",
              "    <tr>\n",
              "      <th>1026</th>\n",
              "      <td>NaN</td>\n",
              "      <td>NaN</td>\n",
              "    </tr>\n",
              "    <tr>\n",
              "      <th>1148</th>\n",
              "      <td>NaN</td>\n",
              "      <td>NaN</td>\n",
              "    </tr>\n",
              "    <tr>\n",
              "      <th>1214</th>\n",
              "      <td>NaN</td>\n",
              "      <td>NaN</td>\n",
              "    </tr>\n",
              "    <tr>\n",
              "      <th>1232</th>\n",
              "      <td>NaN</td>\n",
              "      <td>NaN</td>\n",
              "    </tr>\n",
              "    <tr>\n",
              "      <th>1258</th>\n",
              "      <td>NaN</td>\n",
              "      <td>NaN</td>\n",
              "    </tr>\n",
              "    <tr>\n",
              "      <th>1274</th>\n",
              "      <td>NaN</td>\n",
              "      <td>NaN</td>\n",
              "    </tr>\n",
              "    <tr>\n",
              "      <th>1359</th>\n",
              "      <td>NaN</td>\n",
              "      <td>NaN</td>\n",
              "    </tr>\n",
              "    <tr>\n",
              "      <th>1448</th>\n",
              "      <td>NaN</td>\n",
              "      <td>NaN</td>\n",
              "    </tr>\n",
              "    <tr>\n",
              "      <th>1532</th>\n",
              "      <td>NaN</td>\n",
              "      <td>NaN</td>\n",
              "    </tr>\n",
              "    <tr>\n",
              "      <th>1649</th>\n",
              "      <td>NaN</td>\n",
              "      <td>NaN</td>\n",
              "    </tr>\n",
              "    <tr>\n",
              "      <th>1707</th>\n",
              "      <td>NaN</td>\n",
              "      <td>NaN</td>\n",
              "    </tr>\n",
              "    <tr>\n",
              "      <th>1802</th>\n",
              "      <td>NaN</td>\n",
              "      <td>NaN</td>\n",
              "    </tr>\n",
              "    <tr>\n",
              "      <th>1821</th>\n",
              "      <td>NaN</td>\n",
              "      <td>NaN</td>\n",
              "    </tr>\n",
              "    <tr>\n",
              "      <th>1833</th>\n",
              "      <td>NaN</td>\n",
              "      <td>NaN</td>\n",
              "    </tr>\n",
              "    <tr>\n",
              "      <th>1856</th>\n",
              "      <td>NaN</td>\n",
              "      <td>NaN</td>\n",
              "    </tr>\n",
              "    <tr>\n",
              "      <th>1891</th>\n",
              "      <td>NaN</td>\n",
              "      <td>NaN</td>\n",
              "    </tr>\n",
              "    <tr>\n",
              "      <th>1955</th>\n",
              "      <td>NaN</td>\n",
              "      <td>NaN</td>\n",
              "    </tr>\n",
              "    <tr>\n",
              "      <th>2057</th>\n",
              "      <td>NaN</td>\n",
              "      <td>NaN</td>\n",
              "    </tr>\n",
              "    <tr>\n",
              "      <th>2112</th>\n",
              "      <td>NaN</td>\n",
              "      <td>NaN</td>\n",
              "    </tr>\n",
              "    <tr>\n",
              "      <th>2202</th>\n",
              "      <td>NaN</td>\n",
              "      <td>NaN</td>\n",
              "    </tr>\n",
              "    <tr>\n",
              "      <th>2281</th>\n",
              "      <td>NaN</td>\n",
              "      <td>NaN</td>\n",
              "    </tr>\n",
              "    <tr>\n",
              "      <th>2319</th>\n",
              "      <td>NaN</td>\n",
              "      <td>NaN</td>\n",
              "    </tr>\n",
              "    <tr>\n",
              "      <th>2388</th>\n",
              "      <td>NaN</td>\n",
              "      <td>NaN</td>\n",
              "    </tr>\n",
              "    <tr>\n",
              "      <th>2395</th>\n",
              "      <td>NaN</td>\n",
              "      <td>NaN</td>\n",
              "    </tr>\n",
              "    <tr>\n",
              "      <th>2443</th>\n",
              "      <td>NaN</td>\n",
              "      <td>NaN</td>\n",
              "    </tr>\n",
              "    <tr>\n",
              "      <th>2511</th>\n",
              "      <td>NaN</td>\n",
              "      <td>NaN</td>\n",
              "    </tr>\n",
              "    <tr>\n",
              "      <th>2608</th>\n",
              "      <td>NaN</td>\n",
              "      <td>NaN</td>\n",
              "    </tr>\n",
              "    <tr>\n",
              "      <th>2864</th>\n",
              "      <td>NaN</td>\n",
              "      <td>NaN</td>\n",
              "    </tr>\n",
              "    <tr>\n",
              "      <th>2895</th>\n",
              "      <td>NaN</td>\n",
              "      <td>NaN</td>\n",
              "    </tr>\n",
              "    <tr>\n",
              "      <th>2911</th>\n",
              "      <td>NaN</td>\n",
              "      <td>NaN</td>\n",
              "    </tr>\n",
              "    <tr>\n",
              "      <th>2985</th>\n",
              "      <td>Independent cities:</td>\n",
              "      <td>NaN</td>\n",
              "    </tr>\n",
              "    <tr>\n",
              "      <th>2996</th>\n",
              "      <td>Combination areas2:</td>\n",
              "      <td>NaN</td>\n",
              "    </tr>\n",
              "    <tr>\n",
              "      <th>3020</th>\n",
              "      <td>NaN</td>\n",
              "      <td>NaN</td>\n",
              "    </tr>\n",
              "    <tr>\n",
              "      <th>3061</th>\n",
              "      <td>NaN</td>\n",
              "      <td>NaN</td>\n",
              "    </tr>\n",
              "    <tr>\n",
              "      <th>3118</th>\n",
              "      <td>NaN</td>\n",
              "      <td>NaN</td>\n",
              "    </tr>\n",
              "    <tr>\n",
              "      <th>3192</th>\n",
              "      <td>NaN</td>\n",
              "      <td>NaN</td>\n",
              "    </tr>\n",
              "  </tbody>\n",
              "</table>\n",
              "</div>"
            ],
            "text/plain": [
              "                   County  Income\n",
              "1                     NaN     NaN\n",
              "70                    NaN     NaN\n",
              "101                   NaN     NaN\n",
              "118                   NaN     NaN\n",
              "195                   NaN     NaN\n",
              "255                   NaN     NaN\n",
              "321                   NaN     NaN\n",
              "331                   NaN     NaN\n",
              "336                   NaN     NaN\n",
              "338                   NaN     NaN\n",
              "407                   NaN     NaN\n",
              "568                   NaN     NaN\n",
              "574                   NaN     NaN\n",
              "620                   NaN     NaN\n",
              "724                   NaN     NaN\n",
              "818                   NaN     NaN\n",
              "919                   NaN     NaN\n",
              "1026                  NaN     NaN\n",
              "1148                  NaN     NaN\n",
              "1214                  NaN     NaN\n",
              "1232                  NaN     NaN\n",
              "1258                  NaN     NaN\n",
              "1274                  NaN     NaN\n",
              "1359                  NaN     NaN\n",
              "1448                  NaN     NaN\n",
              "1532                  NaN     NaN\n",
              "1649                  NaN     NaN\n",
              "1707                  NaN     NaN\n",
              "1802                  NaN     NaN\n",
              "1821                  NaN     NaN\n",
              "1833                  NaN     NaN\n",
              "1856                  NaN     NaN\n",
              "1891                  NaN     NaN\n",
              "1955                  NaN     NaN\n",
              "2057                  NaN     NaN\n",
              "2112                  NaN     NaN\n",
              "2202                  NaN     NaN\n",
              "2281                  NaN     NaN\n",
              "2319                  NaN     NaN\n",
              "2388                  NaN     NaN\n",
              "2395                  NaN     NaN\n",
              "2443                  NaN     NaN\n",
              "2511                  NaN     NaN\n",
              "2608                  NaN     NaN\n",
              "2864                  NaN     NaN\n",
              "2895                  NaN     NaN\n",
              "2911                  NaN     NaN\n",
              "2985  Independent cities:     NaN\n",
              "2996  Combination areas2:     NaN\n",
              "3020                  NaN     NaN\n",
              "3061                  NaN     NaN\n",
              "3118                  NaN     NaN\n",
              "3192                  NaN     NaN"
            ]
          },
          "metadata": {
            "tags": []
          },
          "execution_count": 10
        }
      ]
    },
    {
      "cell_type": "code",
      "metadata": {
        "id": "C5HN34q4Yvb6"
      },
      "source": [
        "# Remove 'Independent cities:' row\n",
        "df = df[~(df[\"County\"] ==\"Independent cities:\")].reset_index(drop=True)\n",
        "\n",
        "# Remove 'Combination areas2:' row\n",
        "df = df[~(df[\"County\"] ==\"Combination areas2:\")].reset_index(drop=True)"
      ],
      "id": "C5HN34q4Yvb6",
      "execution_count": null,
      "outputs": []
    },
    {
      "cell_type": "code",
      "metadata": {
        "id": "wzlOo9WsYvb6",
        "outputId": "f90525c2-f53b-449b-dc33-b42dab745c90"
      },
      "source": [
        "df.shape"
      ],
      "id": "wzlOo9WsYvb6",
      "execution_count": null,
      "outputs": [
        {
          "output_type": "execute_result",
          "data": {
            "text/plain": [
              "(3215, 2)"
            ]
          },
          "metadata": {
            "tags": []
          },
          "execution_count": 12
        }
      ]
    },
    {
      "cell_type": "code",
      "metadata": {
        "id": "BIExRW6MYvb6",
        "outputId": "a91e0250-6d31-42a3-8f41-14dd82cb34d7"
      },
      "source": [
        "new_nan_df = df[df.isna().any(axis=1)]\n",
        "new_nan_df"
      ],
      "id": "BIExRW6MYvb6",
      "execution_count": null,
      "outputs": [
        {
          "output_type": "execute_result",
          "data": {
            "text/html": [
              "<div>\n",
              "<style scoped>\n",
              "    .dataframe tbody tr th:only-of-type {\n",
              "        vertical-align: middle;\n",
              "    }\n",
              "\n",
              "    .dataframe tbody tr th {\n",
              "        vertical-align: top;\n",
              "    }\n",
              "\n",
              "    .dataframe thead th {\n",
              "        text-align: right;\n",
              "    }\n",
              "</style>\n",
              "<table border=\"1\" class=\"dataframe\">\n",
              "  <thead>\n",
              "    <tr style=\"text-align: right;\">\n",
              "      <th></th>\n",
              "      <th>County</th>\n",
              "      <th>Income</th>\n",
              "    </tr>\n",
              "  </thead>\n",
              "  <tbody>\n",
              "    <tr>\n",
              "      <th>1</th>\n",
              "      <td>NaN</td>\n",
              "      <td>NaN</td>\n",
              "    </tr>\n",
              "    <tr>\n",
              "      <th>70</th>\n",
              "      <td>NaN</td>\n",
              "      <td>NaN</td>\n",
              "    </tr>\n",
              "    <tr>\n",
              "      <th>101</th>\n",
              "      <td>NaN</td>\n",
              "      <td>NaN</td>\n",
              "    </tr>\n",
              "    <tr>\n",
              "      <th>118</th>\n",
              "      <td>NaN</td>\n",
              "      <td>NaN</td>\n",
              "    </tr>\n",
              "    <tr>\n",
              "      <th>195</th>\n",
              "      <td>NaN</td>\n",
              "      <td>NaN</td>\n",
              "    </tr>\n",
              "    <tr>\n",
              "      <th>255</th>\n",
              "      <td>NaN</td>\n",
              "      <td>NaN</td>\n",
              "    </tr>\n",
              "    <tr>\n",
              "      <th>321</th>\n",
              "      <td>NaN</td>\n",
              "      <td>NaN</td>\n",
              "    </tr>\n",
              "    <tr>\n",
              "      <th>331</th>\n",
              "      <td>NaN</td>\n",
              "      <td>NaN</td>\n",
              "    </tr>\n",
              "    <tr>\n",
              "      <th>336</th>\n",
              "      <td>NaN</td>\n",
              "      <td>NaN</td>\n",
              "    </tr>\n",
              "    <tr>\n",
              "      <th>338</th>\n",
              "      <td>NaN</td>\n",
              "      <td>NaN</td>\n",
              "    </tr>\n",
              "    <tr>\n",
              "      <th>407</th>\n",
              "      <td>NaN</td>\n",
              "      <td>NaN</td>\n",
              "    </tr>\n",
              "    <tr>\n",
              "      <th>568</th>\n",
              "      <td>NaN</td>\n",
              "      <td>NaN</td>\n",
              "    </tr>\n",
              "    <tr>\n",
              "      <th>574</th>\n",
              "      <td>NaN</td>\n",
              "      <td>NaN</td>\n",
              "    </tr>\n",
              "    <tr>\n",
              "      <th>620</th>\n",
              "      <td>NaN</td>\n",
              "      <td>NaN</td>\n",
              "    </tr>\n",
              "    <tr>\n",
              "      <th>724</th>\n",
              "      <td>NaN</td>\n",
              "      <td>NaN</td>\n",
              "    </tr>\n",
              "    <tr>\n",
              "      <th>818</th>\n",
              "      <td>NaN</td>\n",
              "      <td>NaN</td>\n",
              "    </tr>\n",
              "    <tr>\n",
              "      <th>919</th>\n",
              "      <td>NaN</td>\n",
              "      <td>NaN</td>\n",
              "    </tr>\n",
              "    <tr>\n",
              "      <th>1026</th>\n",
              "      <td>NaN</td>\n",
              "      <td>NaN</td>\n",
              "    </tr>\n",
              "    <tr>\n",
              "      <th>1148</th>\n",
              "      <td>NaN</td>\n",
              "      <td>NaN</td>\n",
              "    </tr>\n",
              "    <tr>\n",
              "      <th>1214</th>\n",
              "      <td>NaN</td>\n",
              "      <td>NaN</td>\n",
              "    </tr>\n",
              "    <tr>\n",
              "      <th>1232</th>\n",
              "      <td>NaN</td>\n",
              "      <td>NaN</td>\n",
              "    </tr>\n",
              "    <tr>\n",
              "      <th>1258</th>\n",
              "      <td>NaN</td>\n",
              "      <td>NaN</td>\n",
              "    </tr>\n",
              "    <tr>\n",
              "      <th>1274</th>\n",
              "      <td>NaN</td>\n",
              "      <td>NaN</td>\n",
              "    </tr>\n",
              "    <tr>\n",
              "      <th>1359</th>\n",
              "      <td>NaN</td>\n",
              "      <td>NaN</td>\n",
              "    </tr>\n",
              "    <tr>\n",
              "      <th>1448</th>\n",
              "      <td>NaN</td>\n",
              "      <td>NaN</td>\n",
              "    </tr>\n",
              "    <tr>\n",
              "      <th>1532</th>\n",
              "      <td>NaN</td>\n",
              "      <td>NaN</td>\n",
              "    </tr>\n",
              "    <tr>\n",
              "      <th>1649</th>\n",
              "      <td>NaN</td>\n",
              "      <td>NaN</td>\n",
              "    </tr>\n",
              "    <tr>\n",
              "      <th>1707</th>\n",
              "      <td>NaN</td>\n",
              "      <td>NaN</td>\n",
              "    </tr>\n",
              "    <tr>\n",
              "      <th>1802</th>\n",
              "      <td>NaN</td>\n",
              "      <td>NaN</td>\n",
              "    </tr>\n",
              "    <tr>\n",
              "      <th>1821</th>\n",
              "      <td>NaN</td>\n",
              "      <td>NaN</td>\n",
              "    </tr>\n",
              "    <tr>\n",
              "      <th>1833</th>\n",
              "      <td>NaN</td>\n",
              "      <td>NaN</td>\n",
              "    </tr>\n",
              "    <tr>\n",
              "      <th>1856</th>\n",
              "      <td>NaN</td>\n",
              "      <td>NaN</td>\n",
              "    </tr>\n",
              "    <tr>\n",
              "      <th>1891</th>\n",
              "      <td>NaN</td>\n",
              "      <td>NaN</td>\n",
              "    </tr>\n",
              "    <tr>\n",
              "      <th>1955</th>\n",
              "      <td>NaN</td>\n",
              "      <td>NaN</td>\n",
              "    </tr>\n",
              "    <tr>\n",
              "      <th>2057</th>\n",
              "      <td>NaN</td>\n",
              "      <td>NaN</td>\n",
              "    </tr>\n",
              "    <tr>\n",
              "      <th>2112</th>\n",
              "      <td>NaN</td>\n",
              "      <td>NaN</td>\n",
              "    </tr>\n",
              "    <tr>\n",
              "      <th>2202</th>\n",
              "      <td>NaN</td>\n",
              "      <td>NaN</td>\n",
              "    </tr>\n",
              "    <tr>\n",
              "      <th>2281</th>\n",
              "      <td>NaN</td>\n",
              "      <td>NaN</td>\n",
              "    </tr>\n",
              "    <tr>\n",
              "      <th>2319</th>\n",
              "      <td>NaN</td>\n",
              "      <td>NaN</td>\n",
              "    </tr>\n",
              "    <tr>\n",
              "      <th>2388</th>\n",
              "      <td>NaN</td>\n",
              "      <td>NaN</td>\n",
              "    </tr>\n",
              "    <tr>\n",
              "      <th>2395</th>\n",
              "      <td>NaN</td>\n",
              "      <td>NaN</td>\n",
              "    </tr>\n",
              "    <tr>\n",
              "      <th>2443</th>\n",
              "      <td>NaN</td>\n",
              "      <td>NaN</td>\n",
              "    </tr>\n",
              "    <tr>\n",
              "      <th>2511</th>\n",
              "      <td>NaN</td>\n",
              "      <td>NaN</td>\n",
              "    </tr>\n",
              "    <tr>\n",
              "      <th>2608</th>\n",
              "      <td>NaN</td>\n",
              "      <td>NaN</td>\n",
              "    </tr>\n",
              "    <tr>\n",
              "      <th>2864</th>\n",
              "      <td>NaN</td>\n",
              "      <td>NaN</td>\n",
              "    </tr>\n",
              "    <tr>\n",
              "      <th>2895</th>\n",
              "      <td>NaN</td>\n",
              "      <td>NaN</td>\n",
              "    </tr>\n",
              "    <tr>\n",
              "      <th>2911</th>\n",
              "      <td>NaN</td>\n",
              "      <td>NaN</td>\n",
              "    </tr>\n",
              "    <tr>\n",
              "      <th>3018</th>\n",
              "      <td>NaN</td>\n",
              "      <td>NaN</td>\n",
              "    </tr>\n",
              "    <tr>\n",
              "      <th>3059</th>\n",
              "      <td>NaN</td>\n",
              "      <td>NaN</td>\n",
              "    </tr>\n",
              "    <tr>\n",
              "      <th>3116</th>\n",
              "      <td>NaN</td>\n",
              "      <td>NaN</td>\n",
              "    </tr>\n",
              "    <tr>\n",
              "      <th>3190</th>\n",
              "      <td>NaN</td>\n",
              "      <td>NaN</td>\n",
              "    </tr>\n",
              "  </tbody>\n",
              "</table>\n",
              "</div>"
            ],
            "text/plain": [
              "     County  Income\n",
              "1       NaN     NaN\n",
              "70      NaN     NaN\n",
              "101     NaN     NaN\n",
              "118     NaN     NaN\n",
              "195     NaN     NaN\n",
              "255     NaN     NaN\n",
              "321     NaN     NaN\n",
              "331     NaN     NaN\n",
              "336     NaN     NaN\n",
              "338     NaN     NaN\n",
              "407     NaN     NaN\n",
              "568     NaN     NaN\n",
              "574     NaN     NaN\n",
              "620     NaN     NaN\n",
              "724     NaN     NaN\n",
              "818     NaN     NaN\n",
              "919     NaN     NaN\n",
              "1026    NaN     NaN\n",
              "1148    NaN     NaN\n",
              "1214    NaN     NaN\n",
              "1232    NaN     NaN\n",
              "1258    NaN     NaN\n",
              "1274    NaN     NaN\n",
              "1359    NaN     NaN\n",
              "1448    NaN     NaN\n",
              "1532    NaN     NaN\n",
              "1649    NaN     NaN\n",
              "1707    NaN     NaN\n",
              "1802    NaN     NaN\n",
              "1821    NaN     NaN\n",
              "1833    NaN     NaN\n",
              "1856    NaN     NaN\n",
              "1891    NaN     NaN\n",
              "1955    NaN     NaN\n",
              "2057    NaN     NaN\n",
              "2112    NaN     NaN\n",
              "2202    NaN     NaN\n",
              "2281    NaN     NaN\n",
              "2319    NaN     NaN\n",
              "2388    NaN     NaN\n",
              "2395    NaN     NaN\n",
              "2443    NaN     NaN\n",
              "2511    NaN     NaN\n",
              "2608    NaN     NaN\n",
              "2864    NaN     NaN\n",
              "2895    NaN     NaN\n",
              "2911    NaN     NaN\n",
              "3018    NaN     NaN\n",
              "3059    NaN     NaN\n",
              "3116    NaN     NaN\n",
              "3190    NaN     NaN"
            ]
          },
          "metadata": {
            "tags": []
          },
          "execution_count": 13
        }
      ]
    },
    {
      "cell_type": "raw",
      "metadata": {
        "id": "ubmMkG8jYvb7"
      },
      "source": [
        "for i in range(3015,3025):\n",
        "    print(i, '\\t', df.iloc[i].County)"
      ],
      "id": "ubmMkG8jYvb7"
    },
    {
      "cell_type": "code",
      "metadata": {
        "id": "GvNcyKkVYvb7",
        "outputId": "ac7e3e23-550c-4fdc-a6c4-eb4b793214e9"
      },
      "source": [
        "states = ['Alabama','Alaska','Arizona','Arkansas','California','Colorado','Connecticut','District of Columbia','Delaware',\n",
        "          'Florida','Georgia','Hawaii','Idaho','Illinois','Indiana','Iowa','Kansas','Kentucky','Louisiana','Maine',\n",
        "          'Maryland','Massachusetts','Michigan','Minnesota','Mississippi','Missouri','Montana','Nebraska','Nevada',\n",
        "          'New Hampshire','New Jersey','New Mexico','New York','North Carolina','North Dakota','Ohio','Oklahoma',\n",
        "          'Oregon','Pennsylvania','Rhode Island','South Carolina','South Dakota','Tennessee','Texas','Utah','Vermont',\n",
        "          'Virginia','Washington','West Virginia','Wisconsin','Wyoming']\n",
        "len(states)"
      ],
      "id": "GvNcyKkVYvb7",
      "execution_count": null,
      "outputs": [
        {
          "output_type": "execute_result",
          "data": {
            "text/plain": [
              "51"
            ]
          },
          "metadata": {
            "tags": []
          },
          "execution_count": 14
        }
      ]
    },
    {
      "cell_type": "code",
      "metadata": {
        "id": "Fe5NXRoOYvb7",
        "outputId": "be36135c-94af-41aa-e544-8f83a2222f27"
      },
      "source": [
        "# Create a list of all the state indexes\n",
        "state_indexes = []\n",
        "for index, row in new_nan_df.iterrows():\n",
        "    # The row after a NaN row is a State\n",
        "    state_indexes.append(index+1)\n",
        "len(state_indexes)"
      ],
      "id": "Fe5NXRoOYvb7",
      "execution_count": null,
      "outputs": [
        {
          "output_type": "execute_result",
          "data": {
            "text/plain": [
              "51"
            ]
          },
          "metadata": {
            "tags": []
          },
          "execution_count": 15
        }
      ]
    },
    {
      "cell_type": "raw",
      "metadata": {
        "id": "qby4ke5AYvb7"
      },
      "source": [
        "state_indexes"
      ],
      "id": "qby4ke5AYvb7"
    },
    {
      "cell_type": "raw",
      "metadata": {
        "id": "uKROPyEgYvb8"
      },
      "source": [
        "for i in state_indexes:\n",
        "    print(i, '\\t', df.iloc[i].County)"
      ],
      "id": "uKROPyEgYvb8"
    },
    {
      "cell_type": "markdown",
      "metadata": {
        "id": "avNGY9EyYvb8"
      },
      "source": [
        "Add the 'State' column and reorder the columns."
      ],
      "id": "avNGY9EyYvb8"
    },
    {
      "cell_type": "code",
      "metadata": {
        "id": "nOkTuPx_Yvb8",
        "outputId": "e4b3d8d2-2387-4696-b934-ce283896f79a"
      },
      "source": [
        "df['State'] = ''\n",
        "df = df[['State','County','Income']]\n",
        "df.columns"
      ],
      "id": "nOkTuPx_Yvb8",
      "execution_count": null,
      "outputs": [
        {
          "output_type": "execute_result",
          "data": {
            "text/plain": [
              "Index(['State', 'County', 'Income'], dtype='object')"
            ]
          },
          "metadata": {
            "tags": []
          },
          "execution_count": 16
        }
      ]
    },
    {
      "cell_type": "markdown",
      "metadata": {
        "id": "DrHRPr5PYvb8"
      },
      "source": [
        "Iterate the list of state indexes and set the 'State' column value for each county record until the index of the next state is encountered."
      ],
      "id": "DrHRPr5PYvb8"
    },
    {
      "cell_type": "code",
      "metadata": {
        "id": "b5A4nOpkYvb8",
        "outputId": "5ceb6f2b-95c9-4534-922f-9aedfa009414"
      },
      "source": [
        "state_counter = 0\n",
        "for i in state_indexes:\n",
        "   \n",
        "    state = df.iloc[i].County\n",
        "    # print('***')\n",
        "    print(i,'\\t',state)\n",
        "    \n",
        "    for index, row in df.iterrows():\n",
        "        if (state_counter + 1) < len(state_indexes):\n",
        "            next_state_index = state_indexes[state_counter + 1]-1\n",
        "        else:\n",
        "            next_state_index = 99999\n",
        "        if (index > i and index < next_state_index):\n",
        "            #print(index,'\\t',state,'\\t',df.iloc[index].County)\n",
        "            df.iloc[index, df.columns.get_loc('State')] = state\n",
        "            #df.ix[index,'State'] = state # Depreciated approach\n",
        "    state_counter += 1"
      ],
      "id": "b5A4nOpkYvb8",
      "execution_count": null,
      "outputs": [
        {
          "output_type": "stream",
          "text": [
            "2 \t Alabama\n",
            "71 \t Alaska\n",
            "102 \t Arizona\n",
            "119 \t Arkansas\n",
            "196 \t California\n",
            "256 \t Colorado\n",
            "322 \t Connecticut\n",
            "332 \t Delaware\n",
            "337 \t District of Columbia\n",
            "339 \t Florida\n",
            "408 \t Georgia\n",
            "569 \t Hawaii\n",
            "575 \t Idaho\n",
            "621 \t Illinois\n",
            "725 \t Indiana\n",
            "819 \t Iowa\n",
            "920 \t Kansas\n",
            "1027 \t Kentucky\n",
            "1149 \t Louisiana\n",
            "1215 \t Maine\n",
            "1233 \t Maryland\n",
            "1259 \t Massachusetts\n",
            "1275 \t Michigan\n",
            "1360 \t Minnesota\n",
            "1449 \t Mississippi\n",
            "1533 \t Missouri\n",
            "1650 \t Montana\n",
            "1708 \t Nebraska\n",
            "1803 \t Nevada\n",
            "1822 \t New Hampshire\n",
            "1834 \t New Jersey\n",
            "1857 \t New Mexico\n",
            "1892 \t New York\n",
            "1956 \t North Carolina\n",
            "2058 \t North Dakota\n",
            "2113 \t Ohio\n",
            "2203 \t Oklahoma\n",
            "2282 \t Oregon\n",
            "2320 \t Pennsylvania\n",
            "2389 \t Rhode Island\n",
            "2396 \t South Carolina\n",
            "2444 \t South Dakota\n",
            "2512 \t Tennessee\n",
            "2609 \t Texas\n",
            "2865 \t Utah\n",
            "2896 \t Vermont\n",
            "2912 \t Virginia\n",
            "3019 \t Washington\n",
            "3060 \t West Virginia\n",
            "3117 \t Wisconsin\n",
            "3191 \t Wyoming\n"
          ],
          "name": "stdout"
        }
      ]
    },
    {
      "cell_type": "code",
      "metadata": {
        "id": "S9rF73E2Yvb9",
        "outputId": "aa7c8b08-5afe-4b08-d441-c060274e9753"
      },
      "source": [
        "df.tail(5)"
      ],
      "id": "S9rF73E2Yvb9",
      "execution_count": null,
      "outputs": [
        {
          "output_type": "execute_result",
          "data": {
            "text/html": [
              "<div>\n",
              "<style scoped>\n",
              "    .dataframe tbody tr th:only-of-type {\n",
              "        vertical-align: middle;\n",
              "    }\n",
              "\n",
              "    .dataframe tbody tr th {\n",
              "        vertical-align: top;\n",
              "    }\n",
              "\n",
              "    .dataframe thead th {\n",
              "        text-align: right;\n",
              "    }\n",
              "</style>\n",
              "<table border=\"1\" class=\"dataframe\">\n",
              "  <thead>\n",
              "    <tr style=\"text-align: right;\">\n",
              "      <th></th>\n",
              "      <th>State</th>\n",
              "      <th>County</th>\n",
              "      <th>Income</th>\n",
              "    </tr>\n",
              "  </thead>\n",
              "  <tbody>\n",
              "    <tr>\n",
              "      <th>3210</th>\n",
              "      <td>Wyoming</td>\n",
              "      <td>Sweetwater</td>\n",
              "      <td>57225.0</td>\n",
              "    </tr>\n",
              "    <tr>\n",
              "      <th>3211</th>\n",
              "      <td>Wyoming</td>\n",
              "      <td>Teton</td>\n",
              "      <td>229825.0</td>\n",
              "    </tr>\n",
              "    <tr>\n",
              "      <th>3212</th>\n",
              "      <td>Wyoming</td>\n",
              "      <td>Uinta</td>\n",
              "      <td>41912.0</td>\n",
              "    </tr>\n",
              "    <tr>\n",
              "      <th>3213</th>\n",
              "      <td>Wyoming</td>\n",
              "      <td>Washakie</td>\n",
              "      <td>50735.0</td>\n",
              "    </tr>\n",
              "    <tr>\n",
              "      <th>3214</th>\n",
              "      <td>Wyoming</td>\n",
              "      <td>Weston</td>\n",
              "      <td>46655.0</td>\n",
              "    </tr>\n",
              "  </tbody>\n",
              "</table>\n",
              "</div>"
            ],
            "text/plain": [
              "        State      County    Income\n",
              "3210  Wyoming  Sweetwater   57225.0\n",
              "3211  Wyoming       Teton  229825.0\n",
              "3212  Wyoming       Uinta   41912.0\n",
              "3213  Wyoming    Washakie   50735.0\n",
              "3214  Wyoming      Weston   46655.0"
            ]
          },
          "metadata": {
            "tags": []
          },
          "execution_count": 18
        }
      ]
    },
    {
      "cell_type": "markdown",
      "metadata": {
        "id": "y4uU900AYvb9"
      },
      "source": [
        "Drop all NaN rows."
      ],
      "id": "y4uU900AYvb9"
    },
    {
      "cell_type": "code",
      "metadata": {
        "id": "k0g1oYxHYvb9",
        "outputId": "d4f79197-24a7-435c-e0bf-a4c7d365d603"
      },
      "source": [
        "df.dropna(axis=0, how='any', thresh=None, subset=None, inplace=True)\n",
        "\n",
        "# Verify there are no remaining NaNs.\n",
        "df.isnull().sum().sum()"
      ],
      "id": "k0g1oYxHYvb9",
      "execution_count": null,
      "outputs": [
        {
          "output_type": "execute_result",
          "data": {
            "text/plain": [
              "0"
            ]
          },
          "metadata": {
            "tags": []
          },
          "execution_count": 19
        }
      ]
    },
    {
      "cell_type": "code",
      "metadata": {
        "id": "9rg2Zb4rYvb9",
        "outputId": "9552d33b-8bc5-4d4b-9fbd-e338c9ba21c5"
      },
      "source": [
        "df.dtypes"
      ],
      "id": "9rg2Zb4rYvb9",
      "execution_count": null,
      "outputs": [
        {
          "output_type": "execute_result",
          "data": {
            "text/plain": [
              "State      object\n",
              "County     object\n",
              "Income    float64\n",
              "dtype: object"
            ]
          },
          "metadata": {
            "tags": []
          },
          "execution_count": 20
        }
      ]
    },
    {
      "cell_type": "code",
      "metadata": {
        "id": "IC_ri1i1Yvb-",
        "outputId": "de827554-9ee5-4e42-a610-34cdabf3209d"
      },
      "source": [
        "df = df.astype({'Income': np.int64})\n",
        "df.head(5)"
      ],
      "id": "IC_ri1i1Yvb-",
      "execution_count": null,
      "outputs": [
        {
          "output_type": "execute_result",
          "data": {
            "text/html": [
              "<div>\n",
              "<style scoped>\n",
              "    .dataframe tbody tr th:only-of-type {\n",
              "        vertical-align: middle;\n",
              "    }\n",
              "\n",
              "    .dataframe tbody tr th {\n",
              "        vertical-align: top;\n",
              "    }\n",
              "\n",
              "    .dataframe thead th {\n",
              "        text-align: right;\n",
              "    }\n",
              "</style>\n",
              "<table border=\"1\" class=\"dataframe\">\n",
              "  <thead>\n",
              "    <tr style=\"text-align: right;\">\n",
              "      <th></th>\n",
              "      <th>State</th>\n",
              "      <th>County</th>\n",
              "      <th>Income</th>\n",
              "    </tr>\n",
              "  </thead>\n",
              "  <tbody>\n",
              "    <tr>\n",
              "      <th>0</th>\n",
              "      <td></td>\n",
              "      <td>United States</td>\n",
              "      <td>56490</td>\n",
              "    </tr>\n",
              "    <tr>\n",
              "      <th>2</th>\n",
              "      <td></td>\n",
              "      <td>Alabama</td>\n",
              "      <td>44145</td>\n",
              "    </tr>\n",
              "    <tr>\n",
              "      <th>3</th>\n",
              "      <td>Alabama</td>\n",
              "      <td>Autauga</td>\n",
              "      <td>43917</td>\n",
              "    </tr>\n",
              "    <tr>\n",
              "      <th>4</th>\n",
              "      <td>Alabama</td>\n",
              "      <td>Baldwin</td>\n",
              "      <td>47485</td>\n",
              "    </tr>\n",
              "    <tr>\n",
              "      <th>5</th>\n",
              "      <td>Alabama</td>\n",
              "      <td>Barbour</td>\n",
              "      <td>35763</td>\n",
              "    </tr>\n",
              "  </tbody>\n",
              "</table>\n",
              "</div>"
            ],
            "text/plain": [
              "     State         County  Income\n",
              "0           United States   56490\n",
              "2                 Alabama   44145\n",
              "3  Alabama        Autauga   43917\n",
              "4  Alabama        Baldwin   47485\n",
              "5  Alabama        Barbour   35763"
            ]
          },
          "metadata": {
            "tags": []
          },
          "execution_count": 21
        }
      ]
    },
    {
      "cell_type": "markdown",
      "metadata": {
        "id": "msDIxoo5Yvb-"
      },
      "source": [
        "The study does not plan to use country and state median incomes, so limit the dataframe to only county rows."
      ],
      "id": "msDIxoo5Yvb-"
    },
    {
      "cell_type": "code",
      "metadata": {
        "id": "EflYLD3HYvb-"
      },
      "source": [
        "df = df[df['State'].isin(states)].reset_index(drop=True)"
      ],
      "id": "EflYLD3HYvb-",
      "execution_count": null,
      "outputs": []
    },
    {
      "cell_type": "code",
      "metadata": {
        "id": "ZDJIij5kYvb-",
        "outputId": "091cdba7-d34b-492b-92d7-5ec10b9353d9"
      },
      "source": [
        "df.sort_values(by='Income',ascending=False)"
      ],
      "id": "ZDJIij5kYvb-",
      "execution_count": null,
      "outputs": [
        {
          "output_type": "execute_result",
          "data": {
            "text/html": [
              "<div>\n",
              "<style scoped>\n",
              "    .dataframe tbody tr th:only-of-type {\n",
              "        vertical-align: middle;\n",
              "    }\n",
              "\n",
              "    .dataframe tbody tr th {\n",
              "        vertical-align: top;\n",
              "    }\n",
              "\n",
              "    .dataframe thead th {\n",
              "        text-align: right;\n",
              "    }\n",
              "</style>\n",
              "<table border=\"1\" class=\"dataframe\">\n",
              "  <thead>\n",
              "    <tr style=\"text-align: right;\">\n",
              "      <th></th>\n",
              "      <th>State</th>\n",
              "      <th>County</th>\n",
              "      <th>Income</th>\n",
              "    </tr>\n",
              "  </thead>\n",
              "  <tbody>\n",
              "    <tr>\n",
              "      <th>3108</th>\n",
              "      <td>Wyoming</td>\n",
              "      <td>Teton</td>\n",
              "      <td>229825</td>\n",
              "    </tr>\n",
              "    <tr>\n",
              "      <th>1856</th>\n",
              "      <td>New York</td>\n",
              "      <td>New York</td>\n",
              "      <td>197847</td>\n",
              "    </tr>\n",
              "    <tr>\n",
              "      <th>293</th>\n",
              "      <td>Colorado</td>\n",
              "      <td>Pitkin</td>\n",
              "      <td>158313</td>\n",
              "    </tr>\n",
              "    <tr>\n",
              "      <th>71</th>\n",
              "      <td>Alaska</td>\n",
              "      <td>Bristol Bay Borough</td>\n",
              "      <td>151900</td>\n",
              "    </tr>\n",
              "    <tr>\n",
              "      <th>2796</th>\n",
              "      <td>Utah</td>\n",
              "      <td>Summit</td>\n",
              "      <td>151326</td>\n",
              "    </tr>\n",
              "    <tr>\n",
              "      <th>206</th>\n",
              "      <td>California</td>\n",
              "      <td>Marin</td>\n",
              "      <td>141735</td>\n",
              "    </tr>\n",
              "    <tr>\n",
              "      <th>223</th>\n",
              "      <td>California</td>\n",
              "      <td>San Francisco</td>\n",
              "      <td>139405</td>\n",
              "    </tr>\n",
              "    <tr>\n",
              "      <th>1224</th>\n",
              "      <td>Massachusetts</td>\n",
              "      <td>Nantucket</td>\n",
              "      <td>136204</td>\n",
              "    </tr>\n",
              "    <tr>\n",
              "      <th>226</th>\n",
              "      <td>California</td>\n",
              "      <td>San Mateo</td>\n",
              "      <td>134107</td>\n",
              "    </tr>\n",
              "    <tr>\n",
              "      <th>2685</th>\n",
              "      <td>Texas</td>\n",
              "      <td>Midland</td>\n",
              "      <td>130983</td>\n",
              "    </tr>\n",
              "    <tr>\n",
              "      <th>308</th>\n",
              "      <td>Connecticut</td>\n",
              "      <td>Fairfield</td>\n",
              "      <td>121397</td>\n",
              "    </tr>\n",
              "    <tr>\n",
              "      <th>555</th>\n",
              "      <td>Idaho</td>\n",
              "      <td>Blaine</td>\n",
              "      <td>117097</td>\n",
              "    </tr>\n",
              "    <tr>\n",
              "      <th>2422</th>\n",
              "      <td>South Dakota</td>\n",
              "      <td>Union</td>\n",
              "      <td>117055</td>\n",
              "    </tr>\n",
              "    <tr>\n",
              "      <th>228</th>\n",
              "      <td>California</td>\n",
              "      <td>Santa Clara</td>\n",
              "      <td>115997</td>\n",
              "    </tr>\n",
              "    <tr>\n",
              "      <th>1885</th>\n",
              "      <td>New York</td>\n",
              "      <td>Westchester</td>\n",
              "      <td>113477</td>\n",
              "    </tr>\n",
              "    <tr>\n",
              "      <th>2729</th>\n",
              "      <td>Texas</td>\n",
              "      <td>Shackelford</td>\n",
              "      <td>113163</td>\n",
              "    </tr>\n",
              "    <tr>\n",
              "      <th>1789</th>\n",
              "      <td>New Jersey</td>\n",
              "      <td>Somerset</td>\n",
              "      <td>109916</td>\n",
              "    </tr>\n",
              "    <tr>\n",
              "      <th>2846</th>\n",
              "      <td>Virginia</td>\n",
              "      <td>Goochland</td>\n",
              "      <td>102690</td>\n",
              "    </tr>\n",
              "    <tr>\n",
              "      <th>1785</th>\n",
              "      <td>New Jersey</td>\n",
              "      <td>Morris</td>\n",
              "      <td>101646</td>\n",
              "    </tr>\n",
              "    <tr>\n",
              "      <th>362</th>\n",
              "      <td>Florida</td>\n",
              "      <td>Monroe</td>\n",
              "      <td>101262</td>\n",
              "    </tr>\n",
              "    <tr>\n",
              "      <th>1218</th>\n",
              "      <td>Massachusetts</td>\n",
              "      <td>Dukes</td>\n",
              "      <td>100996</td>\n",
              "    </tr>\n",
              "    <tr>\n",
              "      <th>2822</th>\n",
              "      <td>Virginia</td>\n",
              "      <td>Arlington</td>\n",
              "      <td>99407</td>\n",
              "    </tr>\n",
              "    <tr>\n",
              "      <th>329</th>\n",
              "      <td>Florida</td>\n",
              "      <td>Collier</td>\n",
              "      <td>99382</td>\n",
              "    </tr>\n",
              "    <tr>\n",
              "      <th>921</th>\n",
              "      <td>Kansas</td>\n",
              "      <td>Greeley</td>\n",
              "      <td>98916</td>\n",
              "    </tr>\n",
              "    <tr>\n",
              "      <th>2731</th>\n",
              "      <td>Texas</td>\n",
              "      <td>Sherman</td>\n",
              "      <td>97002</td>\n",
              "    </tr>\n",
              "    <tr>\n",
              "      <th>1225</th>\n",
              "      <td>Massachusetts</td>\n",
              "      <td>Norfolk</td>\n",
              "      <td>95221</td>\n",
              "    </tr>\n",
              "    <tr>\n",
              "      <th>2519</th>\n",
              "      <td>Tennessee</td>\n",
              "      <td>Williamson</td>\n",
              "      <td>95053</td>\n",
              "    </tr>\n",
              "    <tr>\n",
              "      <th>2939</th>\n",
              "      <td>Washington</td>\n",
              "      <td>King</td>\n",
              "      <td>94974</td>\n",
              "    </tr>\n",
              "    <tr>\n",
              "      <th>1855</th>\n",
              "      <td>New York</td>\n",
              "      <td>Nassau</td>\n",
              "      <td>93241</td>\n",
              "    </tr>\n",
              "    <tr>\n",
              "      <th>114</th>\n",
              "      <td>Arkansas</td>\n",
              "      <td>Benton</td>\n",
              "      <td>92697</td>\n",
              "    </tr>\n",
              "    <tr>\n",
              "      <th>...</th>\n",
              "      <td>...</td>\n",
              "      <td>...</td>\n",
              "      <td>...</td>\n",
              "    </tr>\n",
              "    <tr>\n",
              "      <th>1480</th>\n",
              "      <td>Mississippi</td>\n",
              "      <td>Yazoo</td>\n",
              "      <td>27666</td>\n",
              "    </tr>\n",
              "    <tr>\n",
              "      <th>351</th>\n",
              "      <td>Florida</td>\n",
              "      <td>Lafayette</td>\n",
              "      <td>27645</td>\n",
              "    </tr>\n",
              "    <tr>\n",
              "      <th>341</th>\n",
              "      <td>Florida</td>\n",
              "      <td>Hamilton</td>\n",
              "      <td>27643</td>\n",
              "    </tr>\n",
              "    <tr>\n",
              "      <th>2765</th>\n",
              "      <td>Texas</td>\n",
              "      <td>Willacy</td>\n",
              "      <td>27584</td>\n",
              "    </tr>\n",
              "    <tr>\n",
              "      <th>1426</th>\n",
              "      <td>Mississippi</td>\n",
              "      <td>Issaquena</td>\n",
              "      <td>27430</td>\n",
              "    </tr>\n",
              "    <tr>\n",
              "      <th>2628</th>\n",
              "      <td>Texas</td>\n",
              "      <td>Hidalgo</td>\n",
              "      <td>27415</td>\n",
              "    </tr>\n",
              "    <tr>\n",
              "      <th>404</th>\n",
              "      <td>Georgia</td>\n",
              "      <td>Calhoun</td>\n",
              "      <td>27390</td>\n",
              "    </tr>\n",
              "    <tr>\n",
              "      <th>2394</th>\n",
              "      <td>South Dakota</td>\n",
              "      <td>Jackson</td>\n",
              "      <td>27278</td>\n",
              "    </tr>\n",
              "    <tr>\n",
              "      <th>476</th>\n",
              "      <td>Georgia</td>\n",
              "      <td>Long</td>\n",
              "      <td>27232</td>\n",
              "    </tr>\n",
              "    <tr>\n",
              "      <th>2374</th>\n",
              "      <td>South Dakota</td>\n",
              "      <td>Corson</td>\n",
              "      <td>27114</td>\n",
              "    </tr>\n",
              "    <tr>\n",
              "      <th>2429</th>\n",
              "      <td>Tennessee</td>\n",
              "      <td>Bledsoe</td>\n",
              "      <td>27113</td>\n",
              "    </tr>\n",
              "    <tr>\n",
              "      <th>1064</th>\n",
              "      <td>Kentucky</td>\n",
              "      <td>McCreary</td>\n",
              "      <td>26600</td>\n",
              "    </tr>\n",
              "    <tr>\n",
              "      <th>468</th>\n",
              "      <td>Georgia</td>\n",
              "      <td>Johnson</td>\n",
              "      <td>26341</td>\n",
              "    </tr>\n",
              "    <tr>\n",
              "      <th>2419</th>\n",
              "      <td>South Dakota</td>\n",
              "      <td>Todd</td>\n",
              "      <td>26172</td>\n",
              "    </tr>\n",
              "    <tr>\n",
              "      <th>331</th>\n",
              "      <td>Florida</td>\n",
              "      <td>DeSoto</td>\n",
              "      <td>26128</td>\n",
              "    </tr>\n",
              "    <tr>\n",
              "      <th>339</th>\n",
              "      <td>Florida</td>\n",
              "      <td>Glades</td>\n",
              "      <td>26102</td>\n",
              "    </tr>\n",
              "    <tr>\n",
              "      <th>356</th>\n",
              "      <td>Florida</td>\n",
              "      <td>Liberty</td>\n",
              "      <td>25973</td>\n",
              "    </tr>\n",
              "    <tr>\n",
              "      <th>2410</th>\n",
              "      <td>South Dakota</td>\n",
              "      <td>Oglala Lakota</td>\n",
              "      <td>25840</td>\n",
              "    </tr>\n",
              "    <tr>\n",
              "      <th>2473</th>\n",
              "      <td>Tennessee</td>\n",
              "      <td>Lake</td>\n",
              "      <td>25772</td>\n",
              "    </tr>\n",
              "    <tr>\n",
              "      <th>409</th>\n",
              "      <td>Georgia</td>\n",
              "      <td>Charlton</td>\n",
              "      <td>25020</td>\n",
              "    </tr>\n",
              "    <tr>\n",
              "      <th>2268</th>\n",
              "      <td>Pennsylvania</td>\n",
              "      <td>Forest</td>\n",
              "      <td>24113</td>\n",
              "    </tr>\n",
              "    <tr>\n",
              "      <th>2635</th>\n",
              "      <td>Texas</td>\n",
              "      <td>Hudspeth</td>\n",
              "      <td>23569</td>\n",
              "    </tr>\n",
              "    <tr>\n",
              "      <th>513</th>\n",
              "      <td>Georgia</td>\n",
              "      <td>Stewart</td>\n",
              "      <td>23081</td>\n",
              "    </tr>\n",
              "    <tr>\n",
              "      <th>1022</th>\n",
              "      <td>Kentucky</td>\n",
              "      <td>Elliott</td>\n",
              "      <td>22828</td>\n",
              "    </tr>\n",
              "    <tr>\n",
              "      <th>381</th>\n",
              "      <td>Florida</td>\n",
              "      <td>Union</td>\n",
              "      <td>22440</td>\n",
              "    </tr>\n",
              "    <tr>\n",
              "      <th>519</th>\n",
              "      <td>Georgia</td>\n",
              "      <td>Telfair</td>\n",
              "      <td>21535</td>\n",
              "    </tr>\n",
              "    <tr>\n",
              "      <th>257</th>\n",
              "      <td>Colorado</td>\n",
              "      <td>Crowley</td>\n",
              "      <td>20822</td>\n",
              "    </tr>\n",
              "    <tr>\n",
              "      <th>2367</th>\n",
              "      <td>South Dakota</td>\n",
              "      <td>Buffalo</td>\n",
              "      <td>20682</td>\n",
              "    </tr>\n",
              "    <tr>\n",
              "      <th>2425</th>\n",
              "      <td>South Dakota</td>\n",
              "      <td>Ziebach</td>\n",
              "      <td>19940</td>\n",
              "    </tr>\n",
              "    <tr>\n",
              "      <th>538</th>\n",
              "      <td>Georgia</td>\n",
              "      <td>Wheeler</td>\n",
              "      <td>19472</td>\n",
              "    </tr>\n",
              "  </tbody>\n",
              "</table>\n",
              "<p>3112 rows × 3 columns</p>\n",
              "</div>"
            ],
            "text/plain": [
              "              State               County  Income\n",
              "3108        Wyoming                Teton  229825\n",
              "1856       New York             New York  197847\n",
              "293        Colorado               Pitkin  158313\n",
              "71           Alaska  Bristol Bay Borough  151900\n",
              "2796           Utah               Summit  151326\n",
              "206      California                Marin  141735\n",
              "223      California        San Francisco  139405\n",
              "1224  Massachusetts            Nantucket  136204\n",
              "226      California            San Mateo  134107\n",
              "2685          Texas              Midland  130983\n",
              "308     Connecticut            Fairfield  121397\n",
              "555           Idaho               Blaine  117097\n",
              "2422   South Dakota                Union  117055\n",
              "228      California          Santa Clara  115997\n",
              "1885       New York          Westchester  113477\n",
              "2729          Texas          Shackelford  113163\n",
              "1789     New Jersey             Somerset  109916\n",
              "2846       Virginia            Goochland  102690\n",
              "1785     New Jersey               Morris  101646\n",
              "362         Florida               Monroe  101262\n",
              "1218  Massachusetts                Dukes  100996\n",
              "2822       Virginia            Arlington   99407\n",
              "329         Florida              Collier   99382\n",
              "921          Kansas              Greeley   98916\n",
              "2731          Texas              Sherman   97002\n",
              "1225  Massachusetts              Norfolk   95221\n",
              "2519      Tennessee           Williamson   95053\n",
              "2939     Washington                 King   94974\n",
              "1855       New York               Nassau   93241\n",
              "114        Arkansas               Benton   92697\n",
              "...             ...                  ...     ...\n",
              "1480    Mississippi                Yazoo   27666\n",
              "351         Florida            Lafayette   27645\n",
              "341         Florida             Hamilton   27643\n",
              "2765          Texas              Willacy   27584\n",
              "1426    Mississippi            Issaquena   27430\n",
              "2628          Texas              Hidalgo   27415\n",
              "404         Georgia              Calhoun   27390\n",
              "2394   South Dakota              Jackson   27278\n",
              "476         Georgia                 Long   27232\n",
              "2374   South Dakota               Corson   27114\n",
              "2429      Tennessee              Bledsoe   27113\n",
              "1064       Kentucky             McCreary   26600\n",
              "468         Georgia              Johnson   26341\n",
              "2419   South Dakota                 Todd   26172\n",
              "331         Florida               DeSoto   26128\n",
              "339         Florida               Glades   26102\n",
              "356         Florida              Liberty   25973\n",
              "2410   South Dakota        Oglala Lakota   25840\n",
              "2473      Tennessee                 Lake   25772\n",
              "409         Georgia             Charlton   25020\n",
              "2268   Pennsylvania               Forest   24113\n",
              "2635          Texas             Hudspeth   23569\n",
              "513         Georgia              Stewart   23081\n",
              "1022       Kentucky              Elliott   22828\n",
              "381         Florida                Union   22440\n",
              "519         Georgia              Telfair   21535\n",
              "257        Colorado              Crowley   20822\n",
              "2367   South Dakota              Buffalo   20682\n",
              "2425   South Dakota              Ziebach   19940\n",
              "538         Georgia              Wheeler   19472\n",
              "\n",
              "[3112 rows x 3 columns]"
            ]
          },
          "metadata": {
            "tags": []
          },
          "execution_count": 31
        }
      ]
    },
    {
      "cell_type": "code",
      "metadata": {
        "id": "Y1ohLLTPYvb-",
        "outputId": "f4164d44-90ff-487d-bd1f-a1081b8301e7"
      },
      "source": [
        "df.describe(include=\"all\")"
      ],
      "id": "Y1ohLLTPYvb-",
      "execution_count": null,
      "outputs": [
        {
          "output_type": "execute_result",
          "data": {
            "text/html": [
              "<div>\n",
              "<style scoped>\n",
              "    .dataframe tbody tr th:only-of-type {\n",
              "        vertical-align: middle;\n",
              "    }\n",
              "\n",
              "    .dataframe tbody tr th {\n",
              "        vertical-align: top;\n",
              "    }\n",
              "\n",
              "    .dataframe thead th {\n",
              "        text-align: right;\n",
              "    }\n",
              "</style>\n",
              "<table border=\"1\" class=\"dataframe\">\n",
              "  <thead>\n",
              "    <tr style=\"text-align: right;\">\n",
              "      <th></th>\n",
              "      <th>State</th>\n",
              "      <th>County</th>\n",
              "      <th>Income</th>\n",
              "    </tr>\n",
              "  </thead>\n",
              "  <tbody>\n",
              "    <tr>\n",
              "      <th>count</th>\n",
              "      <td>3112</td>\n",
              "      <td>3112</td>\n",
              "      <td>3112.000000</td>\n",
              "    </tr>\n",
              "    <tr>\n",
              "      <th>unique</th>\n",
              "      <td>50</td>\n",
              "      <td>1828</td>\n",
              "      <td>NaN</td>\n",
              "    </tr>\n",
              "    <tr>\n",
              "      <th>top</th>\n",
              "      <td>Texas</td>\n",
              "      <td>Washington</td>\n",
              "      <td>NaN</td>\n",
              "    </tr>\n",
              "    <tr>\n",
              "      <th>freq</th>\n",
              "      <td>254</td>\n",
              "      <td>30</td>\n",
              "      <td>NaN</td>\n",
              "    </tr>\n",
              "    <tr>\n",
              "      <th>mean</th>\n",
              "      <td>NaN</td>\n",
              "      <td>NaN</td>\n",
              "      <td>45931.651028</td>\n",
              "    </tr>\n",
              "    <tr>\n",
              "      <th>std</th>\n",
              "      <td>NaN</td>\n",
              "      <td>NaN</td>\n",
              "      <td>13238.436683</td>\n",
              "    </tr>\n",
              "    <tr>\n",
              "      <th>min</th>\n",
              "      <td>NaN</td>\n",
              "      <td>NaN</td>\n",
              "      <td>19472.000000</td>\n",
              "    </tr>\n",
              "    <tr>\n",
              "      <th>25%</th>\n",
              "      <td>NaN</td>\n",
              "      <td>NaN</td>\n",
              "      <td>37873.250000</td>\n",
              "    </tr>\n",
              "    <tr>\n",
              "      <th>50%</th>\n",
              "      <td>NaN</td>\n",
              "      <td>NaN</td>\n",
              "      <td>43420.500000</td>\n",
              "    </tr>\n",
              "    <tr>\n",
              "      <th>75%</th>\n",
              "      <td>NaN</td>\n",
              "      <td>NaN</td>\n",
              "      <td>50690.000000</td>\n",
              "    </tr>\n",
              "    <tr>\n",
              "      <th>max</th>\n",
              "      <td>NaN</td>\n",
              "      <td>NaN</td>\n",
              "      <td>229825.000000</td>\n",
              "    </tr>\n",
              "  </tbody>\n",
              "</table>\n",
              "</div>"
            ],
            "text/plain": [
              "        State      County         Income\n",
              "count    3112        3112    3112.000000\n",
              "unique     50        1828            NaN\n",
              "top     Texas  Washington            NaN\n",
              "freq      254          30            NaN\n",
              "mean      NaN         NaN   45931.651028\n",
              "std       NaN         NaN   13238.436683\n",
              "min       NaN         NaN   19472.000000\n",
              "25%       NaN         NaN   37873.250000\n",
              "50%       NaN         NaN   43420.500000\n",
              "75%       NaN         NaN   50690.000000\n",
              "max       NaN         NaN  229825.000000"
            ]
          },
          "metadata": {
            "tags": []
          },
          "execution_count": 32
        }
      ]
    },
    {
      "cell_type": "code",
      "metadata": {
        "id": "H9PvcfLEYvb_",
        "outputId": "bbd2642e-abae-47c2-a1ed-188323953803"
      },
      "source": [
        "import matplotlib.pyplot as plt\n",
        "\n",
        "num_bins = 20\n",
        "n, bins, patches = plt.hist(df['Income'], num_bins, facecolor='blue', alpha=0.5) \n",
        "\n",
        "plt.xlabel('Income')\n",
        "plt.ylabel('Number of Counties')\n",
        "plt.title(r'Histogram Median Income by County')\n",
        "plt.show()"
      ],
      "id": "H9PvcfLEYvb_",
      "execution_count": null,
      "outputs": [
        {
          "output_type": "display_data",
          "data": {
            "image/png": "[encoded data removed]",
            "text/plain": [
              "<Figure size 432x288 with 1 Axes>"
            ]
          },
          "metadata": {
            "tags": [],
            "needs_background": "light"
          }
        }
      ]
    },
    {
      "cell_type": "code",
      "metadata": {
        "id": "dn8IcW7xYvb_",
        "outputId": "04faaf34-efb7-44b3-e2cb-ee6095aed10a"
      },
      "source": [
        "incomes = sorted(df['Income'])\n",
        "\n",
        "out_threshold = 100000\n",
        "incomes = [i for i in incomes if i < out_threshold]\n",
        "len(incomes)"
      ],
      "id": "dn8IcW7xYvb_",
      "execution_count": null,
      "outputs": [
        {
          "output_type": "execute_result",
          "data": {
            "text/plain": [
              "3091"
            ]
          },
          "metadata": {
            "tags": []
          },
          "execution_count": 34
        }
      ]
    },
    {
      "cell_type": "code",
      "metadata": {
        "id": "7DuTWPudYvb_",
        "outputId": "08862ae8-99c2-4fde-dd04-92d8444f0418"
      },
      "source": [
        "g = sns.histplot(data=incomes, kde=True)\n",
        "g.set_xticklabels(labels=['','0','20K','40K','60K','80K','100K','120K','140K','160K'], rotation=30)\n",
        "g.set_title(\"Histogram - Incomes by County\")\n",
        "g.set_xlabel(\"Income\")\n",
        "g.set_ylabel(\"Number of Counties\")\n",
        "plt.show()"
      ],
      "id": "7DuTWPudYvb_",
      "execution_count": null,
      "outputs": [
        {
          "output_type": "display_data",
          "data": {
            "image/png": "[encoded data removed]",
            "text/plain": [
              "<Figure size 432x288 with 1 Axes>"
            ]
          },
          "metadata": {
            "tags": [],
            "needs_background": "light"
          }
        }
      ]
    },
    {
      "cell_type": "code",
      "metadata": {
        "id": "gPKETnNvYvb_",
        "outputId": "3bffb72b-dbd3-4a02-fa23-0e505bdcca56"
      },
      "source": [
        "df.head()"
      ],
      "id": "gPKETnNvYvb_",
      "execution_count": null,
      "outputs": [
        {
          "output_type": "execute_result",
          "data": {
            "text/html": [
              "<div>\n",
              "<style scoped>\n",
              "    .dataframe tbody tr th:only-of-type {\n",
              "        vertical-align: middle;\n",
              "    }\n",
              "\n",
              "    .dataframe tbody tr th {\n",
              "        vertical-align: top;\n",
              "    }\n",
              "\n",
              "    .dataframe thead th {\n",
              "        text-align: right;\n",
              "    }\n",
              "</style>\n",
              "<table border=\"1\" class=\"dataframe\">\n",
              "  <thead>\n",
              "    <tr style=\"text-align: right;\">\n",
              "      <th></th>\n",
              "      <th>State</th>\n",
              "      <th>County</th>\n",
              "      <th>Income</th>\n",
              "    </tr>\n",
              "  </thead>\n",
              "  <tbody>\n",
              "    <tr>\n",
              "      <th>0</th>\n",
              "      <td>Alabama</td>\n",
              "      <td>Autauga</td>\n",
              "      <td>43917</td>\n",
              "    </tr>\n",
              "    <tr>\n",
              "      <th>1</th>\n",
              "      <td>Alabama</td>\n",
              "      <td>Baldwin</td>\n",
              "      <td>47485</td>\n",
              "    </tr>\n",
              "    <tr>\n",
              "      <th>2</th>\n",
              "      <td>Alabama</td>\n",
              "      <td>Barbour</td>\n",
              "      <td>35763</td>\n",
              "    </tr>\n",
              "    <tr>\n",
              "      <th>3</th>\n",
              "      <td>Alabama</td>\n",
              "      <td>Bibb</td>\n",
              "      <td>31725</td>\n",
              "    </tr>\n",
              "    <tr>\n",
              "      <th>4</th>\n",
              "      <td>Alabama</td>\n",
              "      <td>Blount</td>\n",
              "      <td>36412</td>\n",
              "    </tr>\n",
              "  </tbody>\n",
              "</table>\n",
              "</div>"
            ],
            "text/plain": [
              "     State   County  Income\n",
              "0  Alabama  Autauga   43917\n",
              "1  Alabama  Baldwin   47485\n",
              "2  Alabama  Barbour   35763\n",
              "3  Alabama     Bibb   31725\n",
              "4  Alabama   Blount   36412"
            ]
          },
          "metadata": {
            "tags": []
          },
          "execution_count": 36
        }
      ]
    },
    {
      "cell_type": "code",
      "metadata": {
        "id": "xCW9dd6eYvcA"
      },
      "source": [
        "import pickle\n",
        "df.to_pickle(\"./incomes.pkl\")"
      ],
      "id": "xCW9dd6eYvcA",
      "execution_count": null,
      "outputs": []
    },
    {
      "cell_type": "code",
      "metadata": {
        "id": "O9xhrL3LYvcA"
      },
      "source": [
        ""
      ],
      "id": "O9xhrL3LYvcA",
      "execution_count": null,
      "outputs": []
    }
  ]
}