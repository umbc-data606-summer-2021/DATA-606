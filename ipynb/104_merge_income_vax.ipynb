{
  "nbformat": 4,
  "nbformat_minor": 0,
  "metadata": {
    "kernelspec": {
      "display_name": "Python 3",
      "language": "python",
      "name": "python3"
    },
    "language_info": {
      "codemirror_mode": {
        "name": "ipython",
        "version": 3
      },
      "file_extension": ".py",
      "mimetype": "text/x-python",
      "name": "python",
      "nbconvert_exporter": "python",
      "pygments_lexer": "ipython3",
      "version": "3.7.3"
    },
    "colab": {
      "name": "merge_income_vax.ipynb",
      "provenance": [],
      "include_colab_link": true
    }
  },
  "cells": [
    {
      "cell_type": "markdown",
      "metadata": {
        "id": "view-in-github",
        "colab_type": "text"
      },
      "source": [
        "<a href=\"https://colab.research.google.com/github/knoppin1/DATA-606/blob/main/ipynb/104_merge_income_vax.ipynb\" target=\"_parent\"><img src=\"https://colab.research.google.com/assets/colab-badge.svg\" alt=\"Open In Colab\"/></a>"
      ]
    },
    {
      "cell_type": "code",
      "metadata": {
        "id": "k702EvDLbOWJ"
      },
      "source": [
        "import pandas as pd\n",
        "import numpy as np\n",
        "import matplotlib.pyplot as plt\n",
        "import seaborn as sns\n",
        "import re\n",
        "import os\n",
        "import pickle"
      ],
      "execution_count": null,
      "outputs": []
    },
    {
      "cell_type": "code",
      "metadata": {
        "id": "qpyckrq_bOWK",
        "colab": {
          "base_uri": "https://localhost:8080/"
        },
        "outputId": "5456a5bc-9fe6-4a04-bd8c-56071a4271e0"
      },
      "source": [
        "vax_df = pd.read_pickle(\"./vaccinations.pkl\")\n",
        "vax_df.shape"
      ],
      "execution_count": null,
      "outputs": [
        {
          "output_type": "execute_result",
          "data": {
            "text/plain": [
              "(3224, 6)"
            ]
          },
          "metadata": {
            "tags": []
          },
          "execution_count": 2
        }
      ]
    },
    {
      "cell_type": "code",
      "metadata": {
        "id": "WhvCNlDUbOWL",
        "colab": {
          "base_uri": "https://localhost:8080/",
          "height": 202
        },
        "outputId": "17759c7e-7124-48dc-a387-ee92a5e4f37c"
      },
      "source": [
        "vax_df.head()"
      ],
      "execution_count": null,
      "outputs": [
        {
          "output_type": "execute_result",
          "data": {
            "text/html": [
              "<div>\n",
              "<style scoped>\n",
              "    .dataframe tbody tr th:only-of-type {\n",
              "        vertical-align: middle;\n",
              "    }\n",
              "\n",
              "    .dataframe tbody tr th {\n",
              "        vertical-align: top;\n",
              "    }\n",
              "\n",
              "    .dataframe thead th {\n",
              "        text-align: right;\n",
              "    }\n",
              "</style>\n",
              "<table border=\"1\" class=\"dataframe\">\n",
              "  <thead>\n",
              "    <tr style=\"text-align: right;\">\n",
              "      <th></th>\n",
              "      <th>Date</th>\n",
              "      <th>FIPS</th>\n",
              "      <th>State</th>\n",
              "      <th>County</th>\n",
              "      <th>Vaccinated</th>\n",
              "      <th>Vaccinated Pct</th>\n",
              "    </tr>\n",
              "  </thead>\n",
              "  <tbody>\n",
              "    <tr>\n",
              "      <th>0</th>\n",
              "      <td>2021-06-11</td>\n",
              "      <td>13265</td>\n",
              "      <td>GA</td>\n",
              "      <td>Taliaferro County</td>\n",
              "      <td>130</td>\n",
              "      <td>8.5</td>\n",
              "    </tr>\n",
              "    <tr>\n",
              "      <th>1</th>\n",
              "      <td>2021-06-11</td>\n",
              "      <td>28083</td>\n",
              "      <td>MS</td>\n",
              "      <td>Leflore County</td>\n",
              "      <td>9114</td>\n",
              "      <td>32.3</td>\n",
              "    </tr>\n",
              "    <tr>\n",
              "      <th>2</th>\n",
              "      <td>2021-06-11</td>\n",
              "      <td>37103</td>\n",
              "      <td>NC</td>\n",
              "      <td>Jones County</td>\n",
              "      <td>3058</td>\n",
              "      <td>32.5</td>\n",
              "    </tr>\n",
              "    <tr>\n",
              "      <th>3</th>\n",
              "      <td>2021-06-11</td>\n",
              "      <td>48491</td>\n",
              "      <td>TX</td>\n",
              "      <td>Williamson County</td>\n",
              "      <td>0</td>\n",
              "      <td>0.0</td>\n",
              "    </tr>\n",
              "    <tr>\n",
              "      <th>4</th>\n",
              "      <td>2021-06-11</td>\n",
              "      <td>27099</td>\n",
              "      <td>MN</td>\n",
              "      <td>Mower County</td>\n",
              "      <td>17800</td>\n",
              "      <td>44.4</td>\n",
              "    </tr>\n",
              "  </tbody>\n",
              "</table>\n",
              "</div>"
            ],
            "text/plain": [
              "        Date   FIPS State             County  Vaccinated  Vaccinated Pct\n",
              "0 2021-06-11  13265    GA  Taliaferro County         130             8.5\n",
              "1 2021-06-11  28083    MS     Leflore County        9114            32.3\n",
              "2 2021-06-11  37103    NC       Jones County        3058            32.5\n",
              "3 2021-06-11  48491    TX  Williamson County           0             0.0\n",
              "4 2021-06-11  27099    MN       Mower County       17800            44.4"
            ]
          },
          "metadata": {
            "tags": []
          },
          "execution_count": 3
        }
      ]
    },
    {
      "cell_type": "code",
      "metadata": {
        "id": "hES_8jpmbOWM",
        "colab": {
          "base_uri": "https://localhost:8080/",
          "height": 202
        },
        "outputId": "7dc42c71-3c1c-46bb-fa1c-2afcd32a67c2"
      },
      "source": [
        "vax_df = vax_df.sort_values(by=['State','County'], ascending=[True,True])\n",
        "vax_df.head()"
      ],
      "execution_count": null,
      "outputs": [
        {
          "output_type": "execute_result",
          "data": {
            "text/html": [
              "<div>\n",
              "<style scoped>\n",
              "    .dataframe tbody tr th:only-of-type {\n",
              "        vertical-align: middle;\n",
              "    }\n",
              "\n",
              "    .dataframe tbody tr th {\n",
              "        vertical-align: top;\n",
              "    }\n",
              "\n",
              "    .dataframe thead th {\n",
              "        text-align: right;\n",
              "    }\n",
              "</style>\n",
              "<table border=\"1\" class=\"dataframe\">\n",
              "  <thead>\n",
              "    <tr style=\"text-align: right;\">\n",
              "      <th></th>\n",
              "      <th>Date</th>\n",
              "      <th>FIPS</th>\n",
              "      <th>State</th>\n",
              "      <th>County</th>\n",
              "      <th>Vaccinated</th>\n",
              "      <th>Vaccinated Pct</th>\n",
              "    </tr>\n",
              "  </thead>\n",
              "  <tbody>\n",
              "    <tr>\n",
              "      <th>3028</th>\n",
              "      <td>2021-06-11</td>\n",
              "      <td>2013</td>\n",
              "      <td>AK</td>\n",
              "      <td>Aleutians East Borough</td>\n",
              "      <td>2134</td>\n",
              "      <td>63.9</td>\n",
              "    </tr>\n",
              "    <tr>\n",
              "      <th>55</th>\n",
              "      <td>2021-06-11</td>\n",
              "      <td>2016</td>\n",
              "      <td>AK</td>\n",
              "      <td>Aleutians West Census Area</td>\n",
              "      <td>2420</td>\n",
              "      <td>43.0</td>\n",
              "    </tr>\n",
              "    <tr>\n",
              "      <th>1987</th>\n",
              "      <td>2021-06-11</td>\n",
              "      <td>2020</td>\n",
              "      <td>AK</td>\n",
              "      <td>Anchorage Municipality</td>\n",
              "      <td>122801</td>\n",
              "      <td>42.6</td>\n",
              "    </tr>\n",
              "    <tr>\n",
              "      <th>739</th>\n",
              "      <td>2021-06-11</td>\n",
              "      <td>2050</td>\n",
              "      <td>AK</td>\n",
              "      <td>Bethel Census Area</td>\n",
              "      <td>8739</td>\n",
              "      <td>47.5</td>\n",
              "    </tr>\n",
              "    <tr>\n",
              "      <th>2447</th>\n",
              "      <td>2021-06-11</td>\n",
              "      <td>2060</td>\n",
              "      <td>AK</td>\n",
              "      <td>Bristol Bay Borough</td>\n",
              "      <td>619</td>\n",
              "      <td>74.0</td>\n",
              "    </tr>\n",
              "  </tbody>\n",
              "</table>\n",
              "</div>"
            ],
            "text/plain": [
              "           Date  FIPS  ... Vaccinated Vaccinated Pct\n",
              "3028 2021-06-11  2013  ...       2134           63.9\n",
              "55   2021-06-11  2016  ...       2420           43.0\n",
              "1987 2021-06-11  2020  ...     122801           42.6\n",
              "739  2021-06-11  2050  ...       8739           47.5\n",
              "2447 2021-06-11  2060  ...        619           74.0\n",
              "\n",
              "[5 rows x 6 columns]"
            ]
          },
          "metadata": {
            "tags": []
          },
          "execution_count": 4
        }
      ]
    },
    {
      "cell_type": "code",
      "metadata": {
        "id": "5NBll2j1bOWM",
        "colab": {
          "base_uri": "https://localhost:8080/"
        },
        "outputId": "614b7634-f1aa-4359-9223-de44f7dc7c6e"
      },
      "source": [
        "incomes_df = pd.read_pickle(\"./incomes.pkl\")\n",
        "incomes_df.shape"
      ],
      "execution_count": null,
      "outputs": [
        {
          "output_type": "execute_result",
          "data": {
            "text/plain": [
              "(3112, 3)"
            ]
          },
          "metadata": {
            "tags": []
          },
          "execution_count": 5
        }
      ]
    },
    {
      "cell_type": "code",
      "metadata": {
        "id": "WfM7f2ZCbOWM",
        "colab": {
          "base_uri": "https://localhost:8080/",
          "height": 202
        },
        "outputId": "f7aa3c1b-4a0c-4d5b-d823-d82b9eef47c1"
      },
      "source": [
        "incomes_df.head()"
      ],
      "execution_count": null,
      "outputs": [
        {
          "output_type": "execute_result",
          "data": {
            "text/html": [
              "<div>\n",
              "<style scoped>\n",
              "    .dataframe tbody tr th:only-of-type {\n",
              "        vertical-align: middle;\n",
              "    }\n",
              "\n",
              "    .dataframe tbody tr th {\n",
              "        vertical-align: top;\n",
              "    }\n",
              "\n",
              "    .dataframe thead th {\n",
              "        text-align: right;\n",
              "    }\n",
              "</style>\n",
              "<table border=\"1\" class=\"dataframe\">\n",
              "  <thead>\n",
              "    <tr style=\"text-align: right;\">\n",
              "      <th></th>\n",
              "      <th>State</th>\n",
              "      <th>County</th>\n",
              "      <th>Income</th>\n",
              "    </tr>\n",
              "  </thead>\n",
              "  <tbody>\n",
              "    <tr>\n",
              "      <th>0</th>\n",
              "      <td>Alabama</td>\n",
              "      <td>Autauga</td>\n",
              "      <td>43917</td>\n",
              "    </tr>\n",
              "    <tr>\n",
              "      <th>1</th>\n",
              "      <td>Alabama</td>\n",
              "      <td>Baldwin</td>\n",
              "      <td>47485</td>\n",
              "    </tr>\n",
              "    <tr>\n",
              "      <th>2</th>\n",
              "      <td>Alabama</td>\n",
              "      <td>Barbour</td>\n",
              "      <td>35763</td>\n",
              "    </tr>\n",
              "    <tr>\n",
              "      <th>3</th>\n",
              "      <td>Alabama</td>\n",
              "      <td>Bibb</td>\n",
              "      <td>31725</td>\n",
              "    </tr>\n",
              "    <tr>\n",
              "      <th>4</th>\n",
              "      <td>Alabama</td>\n",
              "      <td>Blount</td>\n",
              "      <td>36412</td>\n",
              "    </tr>\n",
              "  </tbody>\n",
              "</table>\n",
              "</div>"
            ],
            "text/plain": [
              "     State   County  Income\n",
              "0  Alabama  Autauga   43917\n",
              "1  Alabama  Baldwin   47485\n",
              "2  Alabama  Barbour   35763\n",
              "3  Alabama     Bibb   31725\n",
              "4  Alabama   Blount   36412"
            ]
          },
          "metadata": {
            "tags": []
          },
          "execution_count": 6
        }
      ]
    },
    {
      "cell_type": "code",
      "metadata": {
        "id": "MrOnKznfbOWM"
      },
      "source": [
        "us_state_abbrev = {\n",
        "    'Alabama': 'AL',\n",
        "    'Alaska': 'AK',\n",
        "    'American Samoa': 'AS',\n",
        "    'Arizona': 'AZ',\n",
        "    'Arkansas': 'AR',\n",
        "    'California': 'CA',\n",
        "    'Colorado': 'CO',\n",
        "    'Connecticut': 'CT',\n",
        "    'Delaware': 'DE',\n",
        "    'District of Columbia': 'DC',\n",
        "    'Florida': 'FL',\n",
        "    'Georgia': 'GA',\n",
        "    'Guam': 'GU',\n",
        "    'Hawaii': 'HI',\n",
        "    'Idaho': 'ID',\n",
        "    'Illinois': 'IL',\n",
        "    'Indiana': 'IN',\n",
        "    'Iowa': 'IA',\n",
        "    'Kansas': 'KS',\n",
        "    'Kentucky': 'KY',\n",
        "    'Louisiana': 'LA',\n",
        "    'Maine': 'ME',\n",
        "    'Maryland': 'MD',\n",
        "    'Massachusetts': 'MA',\n",
        "    'Michigan': 'MI',\n",
        "    'Minnesota': 'MN',\n",
        "    'Mississippi': 'MS',\n",
        "    'Missouri': 'MO',\n",
        "    'Montana': 'MT',\n",
        "    'Nebraska': 'NE',\n",
        "    'Nevada': 'NV',\n",
        "    'New Hampshire': 'NH',\n",
        "    'New Jersey': 'NJ',\n",
        "    'New Mexico': 'NM',\n",
        "    'New York': 'NY',\n",
        "    'North Carolina': 'NC',\n",
        "    'North Dakota': 'ND',\n",
        "    'Northern Mariana Islands':'MP',\n",
        "    'Ohio': 'OH',\n",
        "    'Oklahoma': 'OK',\n",
        "    'Oregon': 'OR',\n",
        "    'Pennsylvania': 'PA',\n",
        "    'Puerto Rico': 'PR',\n",
        "    'Rhode Island': 'RI',\n",
        "    'South Carolina': 'SC',\n",
        "    'South Dakota': 'SD',\n",
        "    'Tennessee': 'TN',\n",
        "    'Texas': 'TX',\n",
        "    'Utah': 'UT',\n",
        "    'Vermont': 'VT',\n",
        "    'Virgin Islands': 'VI',\n",
        "    'Virginia': 'VA',\n",
        "    'Washington': 'WA',\n",
        "    'West Virginia': 'WV',\n",
        "    'Wisconsin': 'WI',\n",
        "    'Wyoming': 'WY'\n",
        "}\n",
        "    "
      ],
      "execution_count": null,
      "outputs": []
    },
    {
      "cell_type": "code",
      "metadata": {
        "id": "MsaLoU-mbOWN"
      },
      "source": [
        "def state_abbreviate(state):\n",
        "    return us_state_abbrev[state]"
      ],
      "execution_count": null,
      "outputs": []
    },
    {
      "cell_type": "code",
      "metadata": {
        "id": "oK-G1n63bOWO"
      },
      "source": [
        "states = ['Alabama','Alaska','Arizona','Arkansas','California','Colorado','Connecticut','Delaware',\n",
        "          'District of Columbia','Florida','Georgia','Hawaii','Idaho','Illinois','Indiana',\n",
        "          'Iowa','Kansas','Kentucky','Louisiana','Maine','Maryland','Massachusetts','Michigan',\n",
        "          'Minnesota','Mississippi','Missouri','Montana','Nebraska','Nevada','New Hampshire',\n",
        "          'New Jersey','New Mexico','New York','North Carolina','North Dakota','Ohio','Oklahoma',\n",
        "          'Oregon','Pennsylvania','Rhode Island','South Carolina','South Dakota','Tennessee',\n",
        "          'Texas','Utah','Vermont','Virginia','Washington','West Virginia','Wisconsin','Wyoming']"
      ],
      "execution_count": null,
      "outputs": []
    },
    {
      "cell_type": "code",
      "metadata": {
        "id": "EdzIejv6bOWO"
      },
      "source": [
        "state_abbreviations = ['AL','AK','AS','AZ','AR','CA','CO','CT',\n",
        "                       'DE','DC','FL','GA','HI','ID','IL','IN',\n",
        "                       'IA','KS','KY','LA','ME','MD','MA','MI',\n",
        "                       'MN','MS','MO','MT','NE','NV','NH','NJ',\n",
        "                       'NM','NY','NC','ND','OH','OK','OR','PA',\n",
        "                       'RI','SC','SD','TN','TX','UT','VT','VA',\n",
        "                       'WA','WV','WI','WY']"
      ],
      "execution_count": null,
      "outputs": []
    },
    {
      "cell_type": "markdown",
      "metadata": {
        "id": "eDwXPBECbOWO"
      },
      "source": [
        "Convert State names to abbreviations."
      ]
    },
    {
      "cell_type": "code",
      "metadata": {
        "id": "hqqT6i_XbOWO",
        "colab": {
          "base_uri": "https://localhost:8080/",
          "height": 202
        },
        "outputId": "4c1f23bd-71e9-41ba-f2c9-e9ea2da8f73f"
      },
      "source": [
        "incomes_df['State'] = incomes_df['State'].apply(state_abbreviate)\n",
        "incomes_df = incomes_df.sort_values(by=['State','County'], ascending=[True,True])\n",
        "incomes_df.head()"
      ],
      "execution_count": null,
      "outputs": [
        {
          "output_type": "execute_result",
          "data": {
            "text/html": [
              "<div>\n",
              "<style scoped>\n",
              "    .dataframe tbody tr th:only-of-type {\n",
              "        vertical-align: middle;\n",
              "    }\n",
              "\n",
              "    .dataframe tbody tr th {\n",
              "        vertical-align: top;\n",
              "    }\n",
              "\n",
              "    .dataframe thead th {\n",
              "        text-align: right;\n",
              "    }\n",
              "</style>\n",
              "<table border=\"1\" class=\"dataframe\">\n",
              "  <thead>\n",
              "    <tr style=\"text-align: right;\">\n",
              "      <th></th>\n",
              "      <th>State</th>\n",
              "      <th>County</th>\n",
              "      <th>Income</th>\n",
              "    </tr>\n",
              "  </thead>\n",
              "  <tbody>\n",
              "    <tr>\n",
              "      <th>67</th>\n",
              "      <td>AK</td>\n",
              "      <td>Aleutians East Borough</td>\n",
              "      <td>62537</td>\n",
              "    </tr>\n",
              "    <tr>\n",
              "      <th>68</th>\n",
              "      <td>AK</td>\n",
              "      <td>Aleutians West Census Area</td>\n",
              "      <td>58008</td>\n",
              "    </tr>\n",
              "    <tr>\n",
              "      <th>69</th>\n",
              "      <td>AK</td>\n",
              "      <td>Anchorage Municipality</td>\n",
              "      <td>70145</td>\n",
              "    </tr>\n",
              "    <tr>\n",
              "      <th>70</th>\n",
              "      <td>AK</td>\n",
              "      <td>Bethel Census Area</td>\n",
              "      <td>46348</td>\n",
              "    </tr>\n",
              "    <tr>\n",
              "      <th>71</th>\n",
              "      <td>AK</td>\n",
              "      <td>Bristol Bay Borough</td>\n",
              "      <td>151900</td>\n",
              "    </tr>\n",
              "  </tbody>\n",
              "</table>\n",
              "</div>"
            ],
            "text/plain": [
              "   State                      County  Income\n",
              "67    AK      Aleutians East Borough   62537\n",
              "68    AK  Aleutians West Census Area   58008\n",
              "69    AK      Anchorage Municipality   70145\n",
              "70    AK          Bethel Census Area   46348\n",
              "71    AK         Bristol Bay Borough  151900"
            ]
          },
          "metadata": {
            "tags": []
          },
          "execution_count": 11
        }
      ]
    },
    {
      "cell_type": "code",
      "metadata": {
        "id": "FohzKmvUbOWP"
      },
      "source": [
        "incomes_df.reset_index(inplace=True)\n",
        "vax_df.reset_index(inplace=True)"
      ],
      "execution_count": null,
      "outputs": []
    },
    {
      "cell_type": "markdown",
      "metadata": {
        "id": "o-uEaGVtbOWP"
      },
      "source": [
        "Need to join vaccinations and incomes based on County names, so need to address differences."
      ]
    },
    {
      "cell_type": "code",
      "metadata": {
        "id": "wszwYn2fbOWP",
        "colab": {
          "base_uri": "https://localhost:8080/"
        },
        "outputId": "09321430-841d-4640-c7ea-b9a933d28120"
      },
      "source": [
        "incomes_df.County[-10:]"
      ],
      "execution_count": null,
      "outputs": [
        {
          "output_type": "execute_result",
          "data": {
            "text/plain": [
              "3102      Niobrara\n",
              "3103          Park\n",
              "3104        Platte\n",
              "3105      Sheridan\n",
              "3106      Sublette\n",
              "3107    Sweetwater\n",
              "3108         Teton\n",
              "3109         Uinta\n",
              "3110      Washakie\n",
              "3111        Weston\n",
              "Name: County, dtype: object"
            ]
          },
          "metadata": {
            "tags": []
          },
          "execution_count": 13
        }
      ]
    },
    {
      "cell_type": "code",
      "metadata": {
        "id": "tgZBo6z9bOWP",
        "colab": {
          "base_uri": "https://localhost:8080/"
        },
        "outputId": "3402c684-d3e4-4f8c-8131-f8cc551b0b00"
      },
      "source": [
        "vax_df.County[-10:]"
      ],
      "execution_count": null,
      "outputs": [
        {
          "output_type": "execute_result",
          "data": {
            "text/plain": [
              "3214      Niobrara County\n",
              "3215          Park County\n",
              "3216        Platte County\n",
              "3217      Sheridan County\n",
              "3218      Sublette County\n",
              "3219    Sweetwater County\n",
              "3220         Teton County\n",
              "3221         Uinta County\n",
              "3222      Washakie County\n",
              "3223        Weston County\n",
              "Name: County, dtype: object"
            ]
          },
          "metadata": {
            "tags": []
          },
          "execution_count": 14
        }
      ]
    },
    {
      "cell_type": "markdown",
      "metadata": {
        "id": "3zoKCZkAbOWQ"
      },
      "source": [
        "Drop 'County' portion of county name from vaccine dataframe County column."
      ]
    },
    {
      "cell_type": "code",
      "metadata": {
        "id": "I3ACAvFmbOWQ",
        "colab": {
          "base_uri": "https://localhost:8080/"
        },
        "outputId": "11d02e44-2b28-4876-9878-a598efc24297"
      },
      "source": [
        "vax_df.County = vax_df.County.replace(regex=[' County', ' Parish'], value = '')\n",
        "vax_df.County[-10:]"
      ],
      "execution_count": null,
      "outputs": [
        {
          "output_type": "execute_result",
          "data": {
            "text/plain": [
              "3214      Niobrara\n",
              "3215          Park\n",
              "3216        Platte\n",
              "3217      Sheridan\n",
              "3218      Sublette\n",
              "3219    Sweetwater\n",
              "3220         Teton\n",
              "3221         Uinta\n",
              "3222      Washakie\n",
              "3223        Weston\n",
              "Name: County, dtype: object"
            ]
          },
          "metadata": {
            "tags": []
          },
          "execution_count": 15
        }
      ]
    },
    {
      "cell_type": "markdown",
      "metadata": {
        "id": "xpVgBE4abOWQ"
      },
      "source": [
        "Now check for county names with 'City' or 'city' in the name."
      ]
    },
    {
      "cell_type": "code",
      "metadata": {
        "id": "8RqHPE4ObOWQ",
        "colab": {
          "base_uri": "https://localhost:8080/"
        },
        "outputId": "7e846790-b24a-4122-e650-187ed2b99c4d"
      },
      "source": [
        "for county in vax_df['County']:\n",
        " if county.__contains__('city') or county.__contains__('City'):\n",
        "    print(county)"
      ],
      "execution_count": null,
      "outputs": [
        {
          "output_type": "stream",
          "text": [
            "Juneau City and Borough\n",
            "Sitka City and Borough\n",
            "Wrangell City and Borough\n",
            "Yakutat City and Borough\n",
            "Baltimore city\n",
            "St. Louis city\n",
            "Carson City\n",
            "Alexandria city\n",
            "Bristol city\n",
            "Buena Vista city\n",
            "Charles City\n",
            "Charlottesville city\n",
            "Chesapeake city\n",
            "Colonial Heights city\n",
            "Covington city\n",
            "Danville city\n",
            "Emporia city\n",
            "Fairfax city\n",
            "Falls Church city\n",
            "Franklin city\n",
            "Fredericksburg city\n",
            "Galax city\n",
            "Hampton city\n",
            "Harrisonburg city\n",
            "Hopewell city\n",
            "James City\n",
            "Lexington city\n",
            "Lynchburg city\n",
            "Manassas Park city\n",
            "Manassas city\n",
            "Martinsville city\n",
            "Newport News city\n",
            "Norfolk city\n",
            "Norton city\n",
            "Petersburg city\n",
            "Poquoson city\n",
            "Portsmouth city\n",
            "Radford city\n",
            "Richmond city\n",
            "Roanoke city\n",
            "Salem city\n",
            "Staunton city\n",
            "Suffolk city\n",
            "Virginia Beach city\n",
            "Waynesboro city\n",
            "Williamsburg city\n",
            "Winchester city\n"
          ],
          "name": "stdout"
        }
      ]
    },
    {
      "cell_type": "code",
      "metadata": {
        "id": "3dhmPY4mbOWR",
        "colab": {
          "base_uri": "https://localhost:8080/"
        },
        "outputId": "2f192ca0-c87b-42bc-c595-a7f4749e38c0"
      },
      "source": [
        "# Check incomes  dataframe.\n",
        "for county in incomes_df['County']:\n",
        " if county.__contains__('City') or county.__contains__('City'):\n",
        "    print(county)"
      ],
      "execution_count": null,
      "outputs": [
        {
          "output_type": "stream",
          "text": [
            "Juneau City and Borough\n",
            "Sitka City and Borough\n",
            "Wrangell City and Borough\n",
            "Yakutat City and Borough\n",
            "Baltimore City\n",
            "St. Louis City\n",
            "Carson City\n",
            "Charles City\n",
            "Fairfax, Fairfax City + Falls Church\n",
            "James City + Williamsburg\n"
          ],
          "name": "stdout"
        }
      ]
    },
    {
      "cell_type": "markdown",
      "metadata": {
        "id": "eFnIdx1pbOWR"
      },
      "source": [
        "Remove 'city' portion of county name in vaccine dataframe County column."
      ]
    },
    {
      "cell_type": "code",
      "metadata": {
        "id": "6-oRYoHjbOWR"
      },
      "source": [
        "vax_df.County = vax_df.County.replace(regex=[' city',' City'], value='')"
      ],
      "execution_count": null,
      "outputs": []
    },
    {
      "cell_type": "markdown",
      "metadata": {
        "id": "ixTZCVombOWR"
      },
      "source": [
        "Remove 'City' portion of county name in incomes dataframe County column."
      ]
    },
    {
      "cell_type": "code",
      "metadata": {
        "id": "Am1kleUSbOWR"
      },
      "source": [
        "incomes_df.County = incomes_df.County.replace(regex=[' City'], value='')"
      ],
      "execution_count": null,
      "outputs": []
    },
    {
      "cell_type": "markdown",
      "metadata": {
        "id": "3I7NHLjgbOWR"
      },
      "source": [
        "Drop 'City' from county names containing 'Borough' from both dataframes"
      ]
    },
    {
      "cell_type": "raw",
      "metadata": {
        "id": "lMjXpU70bOWS"
      },
      "source": [
        "vax_df.County = vax_df.County.replace(regex=[' City and Borough'], value=' and Borough')\n",
        "incomes_df.County = incomes_df.County.replace(regex=[' City and Borough'], value=' and Borough')"
      ]
    },
    {
      "cell_type": "code",
      "metadata": {
        "id": "Sv6IISribOWS"
      },
      "source": [
        "incomes_df.County = incomes_df.County.replace(regex=[' (includes Yellowstone National Park)'], value='')"
      ],
      "execution_count": null,
      "outputs": []
    },
    {
      "cell_type": "code",
      "metadata": {
        "id": "3gBAv7DTbOWS",
        "colab": {
          "base_uri": "https://localhost:8080/"
        },
        "outputId": "2e6041a7-11ef-4578-e33e-bf89e178ceeb"
      },
      "source": [
        "print('income rows:\\t\\t',incomes_df.shape[0])\n",
        "print('vaccination rows:\\t',vax_df.shape[0])"
      ],
      "execution_count": null,
      "outputs": [
        {
          "output_type": "stream",
          "text": [
            "income rows:\t\t 3112\n",
            "vaccination rows:\t 3224\n"
          ],
          "name": "stdout"
        }
      ]
    },
    {
      "cell_type": "markdown",
      "metadata": {
        "id": "2ckEUng5bOWS"
      },
      "source": [
        "Remove rows in vaccination dataframe for non-US states."
      ]
    },
    {
      "cell_type": "code",
      "metadata": {
        "id": "Ca1W72xBbOWT",
        "colab": {
          "base_uri": "https://localhost:8080/"
        },
        "outputId": "b583ee24-af38-4155-8f98-ebe93b35a004"
      },
      "source": [
        "vax_df = vax_df[vax_df['State'].isin(state_abbreviations)].reset_index(drop=True)\n",
        "vax_df.shape"
      ],
      "execution_count": null,
      "outputs": [
        {
          "output_type": "execute_result",
          "data": {
            "text/plain": [
              "(3142, 7)"
            ]
          },
          "metadata": {
            "tags": []
          },
          "execution_count": 22
        }
      ]
    },
    {
      "cell_type": "markdown",
      "metadata": {
        "id": "ZeeV9qkBbOWT"
      },
      "source": [
        "Determine counties in vaccinations dataframe but not in incomes dataframe."
      ]
    },
    {
      "cell_type": "code",
      "metadata": {
        "id": "kJfHvXrybOWT",
        "colab": {
          "base_uri": "https://localhost:8080/",
          "height": 1000
        },
        "outputId": "f4e15e43-26fe-4134-d630-0e7246ad53ca"
      },
      "source": [
        "vax_df[~vax_df.County.isin(incomes_df.County.values)]"
      ],
      "execution_count": null,
      "outputs": [
        {
          "output_type": "execute_result",
          "data": {
            "text/html": [
              "<div>\n",
              "<style scoped>\n",
              "    .dataframe tbody tr th:only-of-type {\n",
              "        vertical-align: middle;\n",
              "    }\n",
              "\n",
              "    .dataframe tbody tr th {\n",
              "        vertical-align: top;\n",
              "    }\n",
              "\n",
              "    .dataframe thead th {\n",
              "        text-align: right;\n",
              "    }\n",
              "</style>\n",
              "<table border=\"1\" class=\"dataframe\">\n",
              "  <thead>\n",
              "    <tr style=\"text-align: right;\">\n",
              "      <th></th>\n",
              "      <th>index</th>\n",
              "      <th>Date</th>\n",
              "      <th>FIPS</th>\n",
              "      <th>State</th>\n",
              "      <th>County</th>\n",
              "      <th>Vaccinated</th>\n",
              "      <th>Vaccinated Pct</th>\n",
              "    </tr>\n",
              "  </thead>\n",
              "  <tbody>\n",
              "    <tr>\n",
              "      <th>20</th>\n",
              "      <td>2024</td>\n",
              "      <td>2021-06-11</td>\n",
              "      <td>2195</td>\n",
              "      <td>AK</td>\n",
              "      <td>Petersburg Census Area</td>\n",
              "      <td>1910</td>\n",
              "      <td>58.5</td>\n",
              "    </tr>\n",
              "    <tr>\n",
              "      <th>316</th>\n",
              "      <td>183</td>\n",
              "      <td>2021-06-11</td>\n",
              "      <td>11001</td>\n",
              "      <td>DC</td>\n",
              "      <td>District of Columbia</td>\n",
              "      <td>320073</td>\n",
              "      <td>45.4</td>\n",
              "    </tr>\n",
              "    <tr>\n",
              "      <th>548</th>\n",
              "      <td>2516</td>\n",
              "      <td>2021-06-11</td>\n",
              "      <td>15005</td>\n",
              "      <td>HI</td>\n",
              "      <td>Kalawao</td>\n",
              "      <td>0</td>\n",
              "      <td>0.0</td>\n",
              "    </tr>\n",
              "    <tr>\n",
              "      <th>550</th>\n",
              "      <td>1283</td>\n",
              "      <td>2021-06-11</td>\n",
              "      <td>15009</td>\n",
              "      <td>HI</td>\n",
              "      <td>Maui</td>\n",
              "      <td>0</td>\n",
              "      <td>0.0</td>\n",
              "    </tr>\n",
              "    <tr>\n",
              "      <th>839</th>\n",
              "      <td>1081</td>\n",
              "      <td>2021-06-11</td>\n",
              "      <td>18087</td>\n",
              "      <td>IN</td>\n",
              "      <td>LaGrange</td>\n",
              "      <td>6659</td>\n",
              "      <td>16.8</td>\n",
              "    </tr>\n",
              "    <tr>\n",
              "      <th>1938</th>\n",
              "      <td>3231</td>\n",
              "      <td>2021-06-11</td>\n",
              "      <td>35013</td>\n",
              "      <td>NM</td>\n",
              "      <td>Dona Ana</td>\n",
              "      <td>81205</td>\n",
              "      <td>37.2</td>\n",
              "    </tr>\n",
              "    <tr>\n",
              "      <th>2807</th>\n",
              "      <td>724</td>\n",
              "      <td>2021-06-11</td>\n",
              "      <td>51003</td>\n",
              "      <td>VA</td>\n",
              "      <td>Albemarle</td>\n",
              "      <td>21132</td>\n",
              "      <td>19.3</td>\n",
              "    </tr>\n",
              "    <tr>\n",
              "      <th>2814</th>\n",
              "      <td>3087</td>\n",
              "      <td>2021-06-11</td>\n",
              "      <td>51015</td>\n",
              "      <td>VA</td>\n",
              "      <td>Augusta</td>\n",
              "      <td>14601</td>\n",
              "      <td>19.3</td>\n",
              "    </tr>\n",
              "    <tr>\n",
              "      <th>2829</th>\n",
              "      <td>1158</td>\n",
              "      <td>2021-06-11</td>\n",
              "      <td>51540</td>\n",
              "      <td>VA</td>\n",
              "      <td>Charlottesville</td>\n",
              "      <td>2466</td>\n",
              "      <td>5.2</td>\n",
              "    </tr>\n",
              "    <tr>\n",
              "      <th>2833</th>\n",
              "      <td>2218</td>\n",
              "      <td>2021-06-11</td>\n",
              "      <td>51570</td>\n",
              "      <td>VA</td>\n",
              "      <td>Colonial Heights</td>\n",
              "      <td>108</td>\n",
              "      <td>0.6</td>\n",
              "    </tr>\n",
              "    <tr>\n",
              "      <th>2838</th>\n",
              "      <td>1469</td>\n",
              "      <td>2021-06-11</td>\n",
              "      <td>51590</td>\n",
              "      <td>VA</td>\n",
              "      <td>Danville</td>\n",
              "      <td>43</td>\n",
              "      <td>0.1</td>\n",
              "    </tr>\n",
              "    <tr>\n",
              "      <th>2840</th>\n",
              "      <td>2115</td>\n",
              "      <td>2021-06-11</td>\n",
              "      <td>51053</td>\n",
              "      <td>VA</td>\n",
              "      <td>Dinwiddie</td>\n",
              "      <td>5852</td>\n",
              "      <td>20.5</td>\n",
              "    </tr>\n",
              "    <tr>\n",
              "      <th>2841</th>\n",
              "      <td>1428</td>\n",
              "      <td>2021-06-11</td>\n",
              "      <td>51595</td>\n",
              "      <td>VA</td>\n",
              "      <td>Emporia</td>\n",
              "      <td>0</td>\n",
              "      <td>0.0</td>\n",
              "    </tr>\n",
              "    <tr>\n",
              "      <th>2843</th>\n",
              "      <td>312</td>\n",
              "      <td>2021-06-11</td>\n",
              "      <td>51059</td>\n",
              "      <td>VA</td>\n",
              "      <td>Fairfax</td>\n",
              "      <td>501811</td>\n",
              "      <td>43.7</td>\n",
              "    </tr>\n",
              "    <tr>\n",
              "      <th>2844</th>\n",
              "      <td>1084</td>\n",
              "      <td>2021-06-11</td>\n",
              "      <td>51600</td>\n",
              "      <td>VA</td>\n",
              "      <td>Fairfax</td>\n",
              "      <td>1345</td>\n",
              "      <td>5.6</td>\n",
              "    </tr>\n",
              "    <tr>\n",
              "      <th>2845</th>\n",
              "      <td>27</td>\n",
              "      <td>2021-06-11</td>\n",
              "      <td>51610</td>\n",
              "      <td>VA</td>\n",
              "      <td>Falls Church</td>\n",
              "      <td>794</td>\n",
              "      <td>5.4</td>\n",
              "    </tr>\n",
              "    <tr>\n",
              "      <th>2852</th>\n",
              "      <td>59</td>\n",
              "      <td>2021-06-11</td>\n",
              "      <td>51630</td>\n",
              "      <td>VA</td>\n",
              "      <td>Fredericksburg</td>\n",
              "      <td>1080</td>\n",
              "      <td>3.7</td>\n",
              "    </tr>\n",
              "    <tr>\n",
              "      <th>2853</th>\n",
              "      <td>2727</td>\n",
              "      <td>2021-06-11</td>\n",
              "      <td>51640</td>\n",
              "      <td>VA</td>\n",
              "      <td>Galax</td>\n",
              "      <td>0</td>\n",
              "      <td>0.0</td>\n",
              "    </tr>\n",
              "    <tr>\n",
              "      <th>2859</th>\n",
              "      <td>2330</td>\n",
              "      <td>2021-06-11</td>\n",
              "      <td>51081</td>\n",
              "      <td>VA</td>\n",
              "      <td>Greensville</td>\n",
              "      <td>415</td>\n",
              "      <td>3.7</td>\n",
              "    </tr>\n",
              "    <tr>\n",
              "      <th>2863</th>\n",
              "      <td>940</td>\n",
              "      <td>2021-06-11</td>\n",
              "      <td>51660</td>\n",
              "      <td>VA</td>\n",
              "      <td>Harrisonburg</td>\n",
              "      <td>1949</td>\n",
              "      <td>3.7</td>\n",
              "    </tr>\n",
              "    <tr>\n",
              "      <th>2867</th>\n",
              "      <td>2619</td>\n",
              "      <td>2021-06-11</td>\n",
              "      <td>51670</td>\n",
              "      <td>VA</td>\n",
              "      <td>Hopewell</td>\n",
              "      <td>0</td>\n",
              "      <td>0.0</td>\n",
              "    </tr>\n",
              "    <tr>\n",
              "      <th>2869</th>\n",
              "      <td>3253</td>\n",
              "      <td>2021-06-11</td>\n",
              "      <td>51095</td>\n",
              "      <td>VA</td>\n",
              "      <td>James</td>\n",
              "      <td>4561</td>\n",
              "      <td>6.0</td>\n",
              "    </tr>\n",
              "    <tr>\n",
              "      <th>2879</th>\n",
              "      <td>1074</td>\n",
              "      <td>2021-06-11</td>\n",
              "      <td>51680</td>\n",
              "      <td>VA</td>\n",
              "      <td>Lynchburg</td>\n",
              "      <td>477</td>\n",
              "      <td>0.6</td>\n",
              "    </tr>\n",
              "    <tr>\n",
              "      <th>2881</th>\n",
              "      <td>320</td>\n",
              "      <td>2021-06-11</td>\n",
              "      <td>51685</td>\n",
              "      <td>VA</td>\n",
              "      <td>Manassas Park</td>\n",
              "      <td>169</td>\n",
              "      <td>1.0</td>\n",
              "    </tr>\n",
              "    <tr>\n",
              "      <th>2882</th>\n",
              "      <td>800</td>\n",
              "      <td>2021-06-11</td>\n",
              "      <td>51683</td>\n",
              "      <td>VA</td>\n",
              "      <td>Manassas</td>\n",
              "      <td>880</td>\n",
              "      <td>2.1</td>\n",
              "    </tr>\n",
              "    <tr>\n",
              "      <th>2883</th>\n",
              "      <td>411</td>\n",
              "      <td>2021-06-11</td>\n",
              "      <td>51690</td>\n",
              "      <td>VA</td>\n",
              "      <td>Martinsville</td>\n",
              "      <td>22</td>\n",
              "      <td>0.2</td>\n",
              "    </tr>\n",
              "    <tr>\n",
              "      <th>2899</th>\n",
              "      <td>113</td>\n",
              "      <td>2021-06-11</td>\n",
              "      <td>51730</td>\n",
              "      <td>VA</td>\n",
              "      <td>Petersburg</td>\n",
              "      <td>594</td>\n",
              "      <td>1.9</td>\n",
              "    </tr>\n",
              "    <tr>\n",
              "      <th>2900</th>\n",
              "      <td>2500</td>\n",
              "      <td>2021-06-11</td>\n",
              "      <td>51143</td>\n",
              "      <td>VA</td>\n",
              "      <td>Pittsylvania</td>\n",
              "      <td>10010</td>\n",
              "      <td>16.6</td>\n",
              "    </tr>\n",
              "    <tr>\n",
              "      <th>2901</th>\n",
              "      <td>1242</td>\n",
              "      <td>2021-06-11</td>\n",
              "      <td>51735</td>\n",
              "      <td>VA</td>\n",
              "      <td>Poquoson</td>\n",
              "      <td>0</td>\n",
              "      <td>0.0</td>\n",
              "    </tr>\n",
              "    <tr>\n",
              "      <th>2905</th>\n",
              "      <td>1937</td>\n",
              "      <td>2021-06-11</td>\n",
              "      <td>51149</td>\n",
              "      <td>VA</td>\n",
              "      <td>Prince George</td>\n",
              "      <td>4358</td>\n",
              "      <td>11.4</td>\n",
              "    </tr>\n",
              "    <tr>\n",
              "      <th>2906</th>\n",
              "      <td>397</td>\n",
              "      <td>2021-06-11</td>\n",
              "      <td>51153</td>\n",
              "      <td>VA</td>\n",
              "      <td>Prince William</td>\n",
              "      <td>195494</td>\n",
              "      <td>41.6</td>\n",
              "    </tr>\n",
              "    <tr>\n",
              "      <th>2908</th>\n",
              "      <td>1010</td>\n",
              "      <td>2021-06-11</td>\n",
              "      <td>51750</td>\n",
              "      <td>VA</td>\n",
              "      <td>Radford</td>\n",
              "      <td>1223</td>\n",
              "      <td>6.7</td>\n",
              "    </tr>\n",
              "    <tr>\n",
              "      <th>2914</th>\n",
              "      <td>1470</td>\n",
              "      <td>2021-06-11</td>\n",
              "      <td>51163</td>\n",
              "      <td>VA</td>\n",
              "      <td>Rockbridge</td>\n",
              "      <td>2704</td>\n",
              "      <td>12.0</td>\n",
              "    </tr>\n",
              "    <tr>\n",
              "      <th>2921</th>\n",
              "      <td>686</td>\n",
              "      <td>2021-06-11</td>\n",
              "      <td>51175</td>\n",
              "      <td>VA</td>\n",
              "      <td>Southampton</td>\n",
              "      <td>1012</td>\n",
              "      <td>5.7</td>\n",
              "    </tr>\n",
              "    <tr>\n",
              "      <th>2922</th>\n",
              "      <td>2637</td>\n",
              "      <td>2021-06-11</td>\n",
              "      <td>51177</td>\n",
              "      <td>VA</td>\n",
              "      <td>Spotsylvania</td>\n",
              "      <td>12426</td>\n",
              "      <td>9.1</td>\n",
              "    </tr>\n",
              "    <tr>\n",
              "      <th>2924</th>\n",
              "      <td>323</td>\n",
              "      <td>2021-06-11</td>\n",
              "      <td>51790</td>\n",
              "      <td>VA</td>\n",
              "      <td>Staunton</td>\n",
              "      <td>360</td>\n",
              "      <td>1.4</td>\n",
              "    </tr>\n",
              "    <tr>\n",
              "      <th>2932</th>\n",
              "      <td>788</td>\n",
              "      <td>2021-06-11</td>\n",
              "      <td>51820</td>\n",
              "      <td>VA</td>\n",
              "      <td>Waynesboro</td>\n",
              "      <td>151</td>\n",
              "      <td>0.7</td>\n",
              "    </tr>\n",
              "    <tr>\n",
              "      <th>2935</th>\n",
              "      <td>1889</td>\n",
              "      <td>2021-06-11</td>\n",
              "      <td>51840</td>\n",
              "      <td>VA</td>\n",
              "      <td>Winchester</td>\n",
              "      <td>731</td>\n",
              "      <td>2.6</td>\n",
              "    </tr>\n",
              "  </tbody>\n",
              "</table>\n",
              "</div>"
            ],
            "text/plain": [
              "      index       Date  ...  Vaccinated Vaccinated Pct\n",
              "20     2024 2021-06-11  ...        1910           58.5\n",
              "316     183 2021-06-11  ...      320073           45.4\n",
              "548    2516 2021-06-11  ...           0            0.0\n",
              "550    1283 2021-06-11  ...           0            0.0\n",
              "839    1081 2021-06-11  ...        6659           16.8\n",
              "1938   3231 2021-06-11  ...       81205           37.2\n",
              "2807    724 2021-06-11  ...       21132           19.3\n",
              "2814   3087 2021-06-11  ...       14601           19.3\n",
              "2829   1158 2021-06-11  ...        2466            5.2\n",
              "2833   2218 2021-06-11  ...         108            0.6\n",
              "2838   1469 2021-06-11  ...          43            0.1\n",
              "2840   2115 2021-06-11  ...        5852           20.5\n",
              "2841   1428 2021-06-11  ...           0            0.0\n",
              "2843    312 2021-06-11  ...      501811           43.7\n",
              "2844   1084 2021-06-11  ...        1345            5.6\n",
              "2845     27 2021-06-11  ...         794            5.4\n",
              "2852     59 2021-06-11  ...        1080            3.7\n",
              "2853   2727 2021-06-11  ...           0            0.0\n",
              "2859   2330 2021-06-11  ...         415            3.7\n",
              "2863    940 2021-06-11  ...        1949            3.7\n",
              "2867   2619 2021-06-11  ...           0            0.0\n",
              "2869   3253 2021-06-11  ...        4561            6.0\n",
              "2879   1074 2021-06-11  ...         477            0.6\n",
              "2881    320 2021-06-11  ...         169            1.0\n",
              "2882    800 2021-06-11  ...         880            2.1\n",
              "2883    411 2021-06-11  ...          22            0.2\n",
              "2899    113 2021-06-11  ...         594            1.9\n",
              "2900   2500 2021-06-11  ...       10010           16.6\n",
              "2901   1242 2021-06-11  ...           0            0.0\n",
              "2905   1937 2021-06-11  ...        4358           11.4\n",
              "2906    397 2021-06-11  ...      195494           41.6\n",
              "2908   1010 2021-06-11  ...        1223            6.7\n",
              "2914   1470 2021-06-11  ...        2704           12.0\n",
              "2921    686 2021-06-11  ...        1012            5.7\n",
              "2922   2637 2021-06-11  ...       12426            9.1\n",
              "2924    323 2021-06-11  ...         360            1.4\n",
              "2932    788 2021-06-11  ...         151            0.7\n",
              "2935   1889 2021-06-11  ...         731            2.6\n",
              "\n",
              "[38 rows x 7 columns]"
            ]
          },
          "metadata": {
            "tags": []
          },
          "execution_count": 23
        }
      ]
    },
    {
      "cell_type": "markdown",
      "metadata": {
        "id": "vKY27haUbOWT"
      },
      "source": [
        "Investigate HI counties"
      ]
    },
    {
      "cell_type": "code",
      "metadata": {
        "id": "eofhiNwMbOWT",
        "colab": {
          "base_uri": "https://localhost:8080/",
          "height": 171
        },
        "outputId": "37db57e2-23d7-4968-f0b1-ce4db3d3c114"
      },
      "source": [
        "filter = 'State == ' + '\"HI\"'\n",
        "incomes_df.query(filter)"
      ],
      "execution_count": null,
      "outputs": [
        {
          "output_type": "execute_result",
          "data": {
            "text/html": [
              "<div>\n",
              "<style scoped>\n",
              "    .dataframe tbody tr th:only-of-type {\n",
              "        vertical-align: middle;\n",
              "    }\n",
              "\n",
              "    .dataframe tbody tr th {\n",
              "        vertical-align: top;\n",
              "    }\n",
              "\n",
              "    .dataframe thead th {\n",
              "        text-align: right;\n",
              "    }\n",
              "</style>\n",
              "<table border=\"1\" class=\"dataframe\">\n",
              "  <thead>\n",
              "    <tr style=\"text-align: right;\">\n",
              "      <th></th>\n",
              "      <th>index</th>\n",
              "      <th>State</th>\n",
              "      <th>County</th>\n",
              "      <th>Income</th>\n",
              "    </tr>\n",
              "  </thead>\n",
              "  <tbody>\n",
              "    <tr>\n",
              "      <th>545</th>\n",
              "      <td>545</td>\n",
              "      <td>HI</td>\n",
              "      <td>Hawaii</td>\n",
              "      <td>43578</td>\n",
              "    </tr>\n",
              "    <tr>\n",
              "      <th>546</th>\n",
              "      <td>546</td>\n",
              "      <td>HI</td>\n",
              "      <td>Honolulu</td>\n",
              "      <td>61174</td>\n",
              "    </tr>\n",
              "    <tr>\n",
              "      <th>547</th>\n",
              "      <td>547</td>\n",
              "      <td>HI</td>\n",
              "      <td>Kauai</td>\n",
              "      <td>51545</td>\n",
              "    </tr>\n",
              "    <tr>\n",
              "      <th>548</th>\n",
              "      <td>548</td>\n",
              "      <td>HI</td>\n",
              "      <td>Maui + Kalawao</td>\n",
              "      <td>51348</td>\n",
              "    </tr>\n",
              "  </tbody>\n",
              "</table>\n",
              "</div>"
            ],
            "text/plain": [
              "     index State          County  Income\n",
              "545    545    HI          Hawaii   43578\n",
              "546    546    HI        Honolulu   61174\n",
              "547    547    HI           Kauai   51545\n",
              "548    548    HI  Maui + Kalawao   51348"
            ]
          },
          "metadata": {
            "tags": []
          },
          "execution_count": 24
        }
      ]
    },
    {
      "cell_type": "markdown",
      "metadata": {
        "id": "Tvk_g60NbOWU"
      },
      "source": [
        "Need to split counties that have been combined in incomes dataframe."
      ]
    },
    {
      "cell_type": "code",
      "metadata": {
        "id": "CZnDo-xMbOWU",
        "colab": {
          "base_uri": "https://localhost:8080/"
        },
        "outputId": "61dcd717-c34a-4dc9-fc53-6b705e08abe0"
      },
      "source": [
        "for county in incomes_df['County']:\n",
        " if county.__contains__('+'):\n",
        "    print(county)"
      ],
      "execution_count": null,
      "outputs": [
        {
          "output_type": "stream",
          "text": [
            "Maui + Kalawao\n",
            "Albemarle + Charlottesville\n",
            "Alleghany + Covington\n",
            "Augusta, Staunton + Waynesboro\n",
            "Campbell + Lynchburg\n",
            "Carroll + Galax\n",
            "Dinwiddie, Colonial Heights + Petersburg\n",
            "Fairfax, Fairfax + Falls Church\n",
            "Frederick + Winchester\n",
            "Greensville + Emporia\n",
            "Henry + Martinsville\n",
            "James + Williamsburg\n",
            "Montgomery + Radford\n",
            "Pittsylvania + Danville\n",
            "Prince George + Hopewell\n",
            "Prince William, Manassas + Manassas Park\n",
            "Roanoke + Salem\n",
            "Rockbridge, Buena Vista + Lexington\n",
            "Rockingham + Harrisonburg\n",
            "Southampton + Franklin\n",
            "Spotsylvania + Fredericksburg\n",
            "Washington + Bristol\n",
            "Wise + Norton\n",
            "York + Poquoson\n"
          ],
          "name": "stdout"
        }
      ]
    },
    {
      "cell_type": "markdown",
      "metadata": {
        "id": "VthSleDpbOWU"
      },
      "source": [
        "----\n",
        "Function: split_comma_plus \n",
        "\n",
        "- returns a list of counties that were combined in a single string"
      ]
    },
    {
      "cell_type": "code",
      "metadata": {
        "id": "N4fHe8sQbOWU"
      },
      "source": [
        "def split_comma_plus(s):\n",
        "    l = re.split(r\",|\\+\", s)\n",
        "    l = [x.lstrip(\" \") for x in l]\n",
        "    l = [x.rstrip(\" \") for x in l]\n",
        "    return l"
      ],
      "execution_count": null,
      "outputs": []
    },
    {
      "cell_type": "markdown",
      "metadata": {
        "id": "K0tm7luJbOWU"
      },
      "source": [
        "Test split_comma_plus"
      ]
    },
    {
      "cell_type": "code",
      "metadata": {
        "id": "ey6ayJ5MbOWU",
        "colab": {
          "base_uri": "https://localhost:8080/"
        },
        "outputId": "83b4c869-b5da-4892-e30e-5b7e9a964869"
      },
      "source": [
        "split_comma_plus(\"Rockbridge, Buena Vista + Lexington\")"
      ],
      "execution_count": null,
      "outputs": [
        {
          "output_type": "execute_result",
          "data": {
            "text/plain": [
              "['Rockbridge', 'Buena Vista', 'Lexington']"
            ]
          },
          "metadata": {
            "tags": []
          },
          "execution_count": 27
        }
      ]
    },
    {
      "cell_type": "code",
      "metadata": {
        "id": "-g62OInPbOWU",
        "colab": {
          "base_uri": "https://localhost:8080/"
        },
        "outputId": "310fc55b-0379-4acf-a42c-be31c71851c6"
      },
      "source": [
        "split_comma_plus(\"Rockingham + Harrisonburg\")"
      ],
      "execution_count": null,
      "outputs": [
        {
          "output_type": "execute_result",
          "data": {
            "text/plain": [
              "['Rockingham', 'Harrisonburg']"
            ]
          },
          "metadata": {
            "tags": []
          },
          "execution_count": 28
        }
      ]
    },
    {
      "cell_type": "markdown",
      "metadata": {
        "id": "o0WQc6j2bOWV"
      },
      "source": [
        "---\n",
        "Create a new incomes dataframe with new rows for each county that had been combined.  \n",
        "\n",
        "Note: The median income is the same for each county that was part of a combined record."
      ]
    },
    {
      "cell_type": "code",
      "metadata": {
        "id": "Z5yKaycvbOWV",
        "colab": {
          "base_uri": "https://localhost:8080/"
        },
        "outputId": "2783d990-7b4c-42e0-c043-9db258d50b89"
      },
      "source": [
        "new_incomes_df = pd.DataFrame(columns=['State','County','Income'])\n",
        "for index, row in incomes_df.iterrows():\n",
        "    split_list = []\n",
        "    split_list = split_comma_plus(row.County)\n",
        "    for county in split_list:\n",
        "        new_row = row\n",
        "        new_row.County = county\n",
        "        new_incomes_df = new_incomes_df.append(new_row, ignore_index=True)\n",
        "\n",
        "new_incomes_df = new_incomes_df.drop(['index'], axis=1)\n",
        "new_incomes_df.shape"
      ],
      "execution_count": null,
      "outputs": [
        {
          "output_type": "execute_result",
          "data": {
            "text/plain": [
              "(3141, 3)"
            ]
          },
          "metadata": {
            "tags": []
          },
          "execution_count": 29
        }
      ]
    },
    {
      "cell_type": "markdown",
      "metadata": {
        "id": "yv0wSm02bOWV"
      },
      "source": [
        "Check VA since it had the most combined counties."
      ]
    },
    {
      "cell_type": "code",
      "metadata": {
        "id": "ZU03Gv1mbOWV",
        "colab": {
          "base_uri": "https://localhost:8080/",
          "height": 414
        },
        "outputId": "df154441-2c88-4e8f-8dd7-5c3f1f12049b"
      },
      "source": [
        "filter = 'State == ' + '\"VA\"'\n",
        "new_incomes_df.query(filter)"
      ],
      "execution_count": null,
      "outputs": [
        {
          "output_type": "execute_result",
          "data": {
            "text/html": [
              "<div>\n",
              "<style scoped>\n",
              "    .dataframe tbody tr th:only-of-type {\n",
              "        vertical-align: middle;\n",
              "    }\n",
              "\n",
              "    .dataframe tbody tr th {\n",
              "        vertical-align: top;\n",
              "    }\n",
              "\n",
              "    .dataframe thead th {\n",
              "        text-align: right;\n",
              "    }\n",
              "</style>\n",
              "<table border=\"1\" class=\"dataframe\">\n",
              "  <thead>\n",
              "    <tr style=\"text-align: right;\">\n",
              "      <th></th>\n",
              "      <th>State</th>\n",
              "      <th>County</th>\n",
              "      <th>Income</th>\n",
              "    </tr>\n",
              "  </thead>\n",
              "  <tbody>\n",
              "    <tr>\n",
              "      <th>2805</th>\n",
              "      <td>VA</td>\n",
              "      <td>Accomack</td>\n",
              "      <td>42923</td>\n",
              "    </tr>\n",
              "    <tr>\n",
              "      <th>2806</th>\n",
              "      <td>VA</td>\n",
              "      <td>Albemarle</td>\n",
              "      <td>77657</td>\n",
              "    </tr>\n",
              "    <tr>\n",
              "      <th>2807</th>\n",
              "      <td>VA</td>\n",
              "      <td>Charlottesville</td>\n",
              "      <td>77657</td>\n",
              "    </tr>\n",
              "    <tr>\n",
              "      <th>2808</th>\n",
              "      <td>VA</td>\n",
              "      <td>Alexandria</td>\n",
              "      <td>91990</td>\n",
              "    </tr>\n",
              "    <tr>\n",
              "      <th>2809</th>\n",
              "      <td>VA</td>\n",
              "      <td>Alleghany</td>\n",
              "      <td>40928</td>\n",
              "    </tr>\n",
              "    <tr>\n",
              "      <th>...</th>\n",
              "      <td>...</td>\n",
              "      <td>...</td>\n",
              "      <td>...</td>\n",
              "    </tr>\n",
              "    <tr>\n",
              "      <th>2933</th>\n",
              "      <td>VA</td>\n",
              "      <td>Wise</td>\n",
              "      <td>34196</td>\n",
              "    </tr>\n",
              "    <tr>\n",
              "      <th>2934</th>\n",
              "      <td>VA</td>\n",
              "      <td>Norton</td>\n",
              "      <td>34196</td>\n",
              "    </tr>\n",
              "    <tr>\n",
              "      <th>2935</th>\n",
              "      <td>VA</td>\n",
              "      <td>Wythe</td>\n",
              "      <td>36695</td>\n",
              "    </tr>\n",
              "    <tr>\n",
              "      <th>2936</th>\n",
              "      <td>VA</td>\n",
              "      <td>York</td>\n",
              "      <td>61308</td>\n",
              "    </tr>\n",
              "    <tr>\n",
              "      <th>2937</th>\n",
              "      <td>VA</td>\n",
              "      <td>Poquoson</td>\n",
              "      <td>61308</td>\n",
              "    </tr>\n",
              "  </tbody>\n",
              "</table>\n",
              "<p>133 rows × 3 columns</p>\n",
              "</div>"
            ],
            "text/plain": [
              "     State           County Income\n",
              "2805    VA         Accomack  42923\n",
              "2806    VA        Albemarle  77657\n",
              "2807    VA  Charlottesville  77657\n",
              "2808    VA       Alexandria  91990\n",
              "2809    VA        Alleghany  40928\n",
              "...    ...              ...    ...\n",
              "2933    VA             Wise  34196\n",
              "2934    VA           Norton  34196\n",
              "2935    VA            Wythe  36695\n",
              "2936    VA             York  61308\n",
              "2937    VA         Poquoson  61308\n",
              "\n",
              "[133 rows x 3 columns]"
            ]
          },
          "metadata": {
            "tags": []
          },
          "execution_count": 30
        }
      ]
    },
    {
      "cell_type": "markdown",
      "metadata": {
        "id": "vTvOXZgpbOWV"
      },
      "source": [
        "Now look for vaccination rows not in the new incomes dataframe."
      ]
    },
    {
      "cell_type": "code",
      "metadata": {
        "id": "LvBydpH4bOWW",
        "colab": {
          "base_uri": "https://localhost:8080/",
          "height": 171
        },
        "outputId": "e8196958-6f78-4e1b-ca17-c45f9a588bfa"
      },
      "source": [
        "vax_df[~vax_df.County.isin(new_incomes_df.County.values)]"
      ],
      "execution_count": null,
      "outputs": [
        {
          "output_type": "execute_result",
          "data": {
            "text/html": [
              "<div>\n",
              "<style scoped>\n",
              "    .dataframe tbody tr th:only-of-type {\n",
              "        vertical-align: middle;\n",
              "    }\n",
              "\n",
              "    .dataframe tbody tr th {\n",
              "        vertical-align: top;\n",
              "    }\n",
              "\n",
              "    .dataframe thead th {\n",
              "        text-align: right;\n",
              "    }\n",
              "</style>\n",
              "<table border=\"1\" class=\"dataframe\">\n",
              "  <thead>\n",
              "    <tr style=\"text-align: right;\">\n",
              "      <th></th>\n",
              "      <th>index</th>\n",
              "      <th>Date</th>\n",
              "      <th>FIPS</th>\n",
              "      <th>State</th>\n",
              "      <th>County</th>\n",
              "      <th>Vaccinated</th>\n",
              "      <th>Vaccinated Pct</th>\n",
              "    </tr>\n",
              "  </thead>\n",
              "  <tbody>\n",
              "    <tr>\n",
              "      <th>20</th>\n",
              "      <td>2024</td>\n",
              "      <td>2021-06-11</td>\n",
              "      <td>2195</td>\n",
              "      <td>AK</td>\n",
              "      <td>Petersburg Census Area</td>\n",
              "      <td>1910</td>\n",
              "      <td>58.5</td>\n",
              "    </tr>\n",
              "    <tr>\n",
              "      <th>316</th>\n",
              "      <td>183</td>\n",
              "      <td>2021-06-11</td>\n",
              "      <td>11001</td>\n",
              "      <td>DC</td>\n",
              "      <td>District of Columbia</td>\n",
              "      <td>320073</td>\n",
              "      <td>45.4</td>\n",
              "    </tr>\n",
              "    <tr>\n",
              "      <th>839</th>\n",
              "      <td>1081</td>\n",
              "      <td>2021-06-11</td>\n",
              "      <td>18087</td>\n",
              "      <td>IN</td>\n",
              "      <td>LaGrange</td>\n",
              "      <td>6659</td>\n",
              "      <td>16.8</td>\n",
              "    </tr>\n",
              "    <tr>\n",
              "      <th>1938</th>\n",
              "      <td>3231</td>\n",
              "      <td>2021-06-11</td>\n",
              "      <td>35013</td>\n",
              "      <td>NM</td>\n",
              "      <td>Dona Ana</td>\n",
              "      <td>81205</td>\n",
              "      <td>37.2</td>\n",
              "    </tr>\n",
              "  </tbody>\n",
              "</table>\n",
              "</div>"
            ],
            "text/plain": [
              "      index       Date  ...  Vaccinated Vaccinated Pct\n",
              "20     2024 2021-06-11  ...        1910           58.5\n",
              "316     183 2021-06-11  ...      320073           45.4\n",
              "839    1081 2021-06-11  ...        6659           16.8\n",
              "1938   3231 2021-06-11  ...       81205           37.2\n",
              "\n",
              "[4 rows x 7 columns]"
            ]
          },
          "metadata": {
            "tags": []
          },
          "execution_count": 31
        }
      ]
    },
    {
      "cell_type": "code",
      "metadata": {
        "id": "p2ufEFwmbOWW",
        "colab": {
          "base_uri": "https://localhost:8080/",
          "height": 171
        },
        "outputId": "2aced2bd-57f5-49c4-89c4-5af997af29f5"
      },
      "source": [
        "new_incomes_df[~new_incomes_df.County.isin(vax_df.County.values)]"
      ],
      "execution_count": null,
      "outputs": [
        {
          "output_type": "execute_result",
          "data": {
            "text/html": [
              "<div>\n",
              "<style scoped>\n",
              "    .dataframe tbody tr th:only-of-type {\n",
              "        vertical-align: middle;\n",
              "    }\n",
              "\n",
              "    .dataframe tbody tr th {\n",
              "        vertical-align: top;\n",
              "    }\n",
              "\n",
              "    .dataframe thead th {\n",
              "        text-align: right;\n",
              "    }\n",
              "</style>\n",
              "<table border=\"1\" class=\"dataframe\">\n",
              "  <thead>\n",
              "    <tr style=\"text-align: right;\">\n",
              "      <th></th>\n",
              "      <th>State</th>\n",
              "      <th>County</th>\n",
              "      <th>Income</th>\n",
              "    </tr>\n",
              "  </thead>\n",
              "  <tbody>\n",
              "    <tr>\n",
              "      <th>20</th>\n",
              "      <td>AK</td>\n",
              "      <td>Petersburg Borough</td>\n",
              "      <td>74021</td>\n",
              "    </tr>\n",
              "    <tr>\n",
              "      <th>670</th>\n",
              "      <td>ID</td>\n",
              "      <td>Fremont (includes Yellowstone National Park)</td>\n",
              "      <td>37953</td>\n",
              "    </tr>\n",
              "    <tr>\n",
              "      <th>839</th>\n",
              "      <td>IN</td>\n",
              "      <td>Lagrange</td>\n",
              "      <td>43275</td>\n",
              "    </tr>\n",
              "    <tr>\n",
              "      <th>1937</th>\n",
              "      <td>NM</td>\n",
              "      <td>Doña Ana</td>\n",
              "      <td>37756</td>\n",
              "    </tr>\n",
              "  </tbody>\n",
              "</table>\n",
              "</div>"
            ],
            "text/plain": [
              "     State                                        County Income\n",
              "20      AK                            Petersburg Borough  74021\n",
              "670     ID  Fremont (includes Yellowstone National Park)  37953\n",
              "839     IN                                      Lagrange  43275\n",
              "1937    NM                                      Doña Ana  37756"
            ]
          },
          "metadata": {
            "tags": []
          },
          "execution_count": 32
        }
      ]
    },
    {
      "cell_type": "markdown",
      "metadata": {
        "id": "F2xV589gbOWW"
      },
      "source": [
        "Fix remaining discrepancies."
      ]
    },
    {
      "cell_type": "code",
      "metadata": {
        "id": "TevxvqFpbOWW"
      },
      "source": [
        "vax_df.replace(\"Petersburg Census Area\",\"Petersburg Borough\", inplace=True)\n",
        "new_incomes_df.replace(\"Fremont (includes Yellowstone National Park)\",\"Fremont\", inplace=True)\n",
        "new_incomes_df.replace(\"Lagrange\",\"LaGrange\", inplace=True)\n",
        "new_incomes_df.replace(\"Doña Ana\",\"Dona Ana\", inplace=True)"
      ],
      "execution_count": null,
      "outputs": []
    },
    {
      "cell_type": "code",
      "metadata": {
        "id": "Z3iWwzDobOWW",
        "colab": {
          "base_uri": "https://localhost:8080/",
          "height": 78
        },
        "outputId": "dfaf607b-cc93-4bdd-8a6f-0b2c3ca36c40"
      },
      "source": [
        "vax_df[~vax_df.County.isin(new_incomes_df.County.values)]"
      ],
      "execution_count": null,
      "outputs": [
        {
          "output_type": "execute_result",
          "data": {
            "text/html": [
              "<div>\n",
              "<style scoped>\n",
              "    .dataframe tbody tr th:only-of-type {\n",
              "        vertical-align: middle;\n",
              "    }\n",
              "\n",
              "    .dataframe tbody tr th {\n",
              "        vertical-align: top;\n",
              "    }\n",
              "\n",
              "    .dataframe thead th {\n",
              "        text-align: right;\n",
              "    }\n",
              "</style>\n",
              "<table border=\"1\" class=\"dataframe\">\n",
              "  <thead>\n",
              "    <tr style=\"text-align: right;\">\n",
              "      <th></th>\n",
              "      <th>index</th>\n",
              "      <th>Date</th>\n",
              "      <th>FIPS</th>\n",
              "      <th>State</th>\n",
              "      <th>County</th>\n",
              "      <th>Vaccinated</th>\n",
              "      <th>Vaccinated Pct</th>\n",
              "    </tr>\n",
              "  </thead>\n",
              "  <tbody>\n",
              "    <tr>\n",
              "      <th>316</th>\n",
              "      <td>183</td>\n",
              "      <td>2021-06-11</td>\n",
              "      <td>11001</td>\n",
              "      <td>DC</td>\n",
              "      <td>District of Columbia</td>\n",
              "      <td>320073</td>\n",
              "      <td>45.4</td>\n",
              "    </tr>\n",
              "  </tbody>\n",
              "</table>\n",
              "</div>"
            ],
            "text/plain": [
              "     index       Date   FIPS  ...                County Vaccinated  Vaccinated Pct\n",
              "316    183 2021-06-11  11001  ...  District of Columbia     320073            45.4\n",
              "\n",
              "[1 rows x 7 columns]"
            ]
          },
          "metadata": {
            "tags": []
          },
          "execution_count": 34
        }
      ]
    },
    {
      "cell_type": "code",
      "metadata": {
        "id": "ygB_nsgbbOWX",
        "colab": {
          "base_uri": "https://localhost:8080/",
          "height": 48
        },
        "outputId": "6eceae1a-567b-4fa4-8fe4-045fac882a3b"
      },
      "source": [
        "new_incomes_df[~new_incomes_df.County.isin(vax_df.County.values)]"
      ],
      "execution_count": null,
      "outputs": [
        {
          "output_type": "execute_result",
          "data": {
            "text/html": [
              "<div>\n",
              "<style scoped>\n",
              "    .dataframe tbody tr th:only-of-type {\n",
              "        vertical-align: middle;\n",
              "    }\n",
              "\n",
              "    .dataframe tbody tr th {\n",
              "        vertical-align: top;\n",
              "    }\n",
              "\n",
              "    .dataframe thead th {\n",
              "        text-align: right;\n",
              "    }\n",
              "</style>\n",
              "<table border=\"1\" class=\"dataframe\">\n",
              "  <thead>\n",
              "    <tr style=\"text-align: right;\">\n",
              "      <th></th>\n",
              "      <th>State</th>\n",
              "      <th>County</th>\n",
              "      <th>Income</th>\n",
              "    </tr>\n",
              "  </thead>\n",
              "  <tbody>\n",
              "  </tbody>\n",
              "</table>\n",
              "</div>"
            ],
            "text/plain": [
              "Empty DataFrame\n",
              "Columns: [State, County, Income]\n",
              "Index: []"
            ]
          },
          "metadata": {
            "tags": []
          },
          "execution_count": 35
        }
      ]
    },
    {
      "cell_type": "code",
      "metadata": {
        "id": "SnlCOaFObOWX",
        "colab": {
          "base_uri": "https://localhost:8080/"
        },
        "outputId": "65eb0bca-9b34-492c-fdfd-3931ba2b9bb6"
      },
      "source": [
        "vax_df.shape[0]"
      ],
      "execution_count": null,
      "outputs": [
        {
          "output_type": "execute_result",
          "data": {
            "text/plain": [
              "3142"
            ]
          },
          "metadata": {
            "tags": []
          },
          "execution_count": 36
        }
      ]
    },
    {
      "cell_type": "code",
      "metadata": {
        "id": "q2ItEq5xbOWX",
        "colab": {
          "base_uri": "https://localhost:8080/"
        },
        "outputId": "29da3344-0235-47ac-b044-4dc348a088f3"
      },
      "source": [
        "new_incomes_df.shape[0]"
      ],
      "execution_count": null,
      "outputs": [
        {
          "output_type": "execute_result",
          "data": {
            "text/plain": [
              "3141"
            ]
          },
          "metadata": {
            "tags": []
          },
          "execution_count": 37
        }
      ]
    },
    {
      "cell_type": "code",
      "metadata": {
        "id": "LBKO0liEbOWX",
        "colab": {
          "base_uri": "https://localhost:8080/",
          "height": 202
        },
        "outputId": "5d2e874a-52f8-472f-eb68-c9821770de6b"
      },
      "source": [
        "merged_df = vax_df.merge(new_incomes_df[['State', 'County', 'Income']], how = 'inner')\n",
        "merged_df.head()"
      ],
      "execution_count": null,
      "outputs": [
        {
          "output_type": "execute_result",
          "data": {
            "text/html": [
              "<div>\n",
              "<style scoped>\n",
              "    .dataframe tbody tr th:only-of-type {\n",
              "        vertical-align: middle;\n",
              "    }\n",
              "\n",
              "    .dataframe tbody tr th {\n",
              "        vertical-align: top;\n",
              "    }\n",
              "\n",
              "    .dataframe thead th {\n",
              "        text-align: right;\n",
              "    }\n",
              "</style>\n",
              "<table border=\"1\" class=\"dataframe\">\n",
              "  <thead>\n",
              "    <tr style=\"text-align: right;\">\n",
              "      <th></th>\n",
              "      <th>index</th>\n",
              "      <th>Date</th>\n",
              "      <th>FIPS</th>\n",
              "      <th>State</th>\n",
              "      <th>County</th>\n",
              "      <th>Vaccinated</th>\n",
              "      <th>Vaccinated Pct</th>\n",
              "      <th>Income</th>\n",
              "    </tr>\n",
              "  </thead>\n",
              "  <tbody>\n",
              "    <tr>\n",
              "      <th>0</th>\n",
              "      <td>3028</td>\n",
              "      <td>2021-06-11</td>\n",
              "      <td>2013</td>\n",
              "      <td>AK</td>\n",
              "      <td>Aleutians East Borough</td>\n",
              "      <td>2134</td>\n",
              "      <td>63.9</td>\n",
              "      <td>62537</td>\n",
              "    </tr>\n",
              "    <tr>\n",
              "      <th>1</th>\n",
              "      <td>55</td>\n",
              "      <td>2021-06-11</td>\n",
              "      <td>2016</td>\n",
              "      <td>AK</td>\n",
              "      <td>Aleutians West Census Area</td>\n",
              "      <td>2420</td>\n",
              "      <td>43.0</td>\n",
              "      <td>58008</td>\n",
              "    </tr>\n",
              "    <tr>\n",
              "      <th>2</th>\n",
              "      <td>1987</td>\n",
              "      <td>2021-06-11</td>\n",
              "      <td>2020</td>\n",
              "      <td>AK</td>\n",
              "      <td>Anchorage Municipality</td>\n",
              "      <td>122801</td>\n",
              "      <td>42.6</td>\n",
              "      <td>70145</td>\n",
              "    </tr>\n",
              "    <tr>\n",
              "      <th>3</th>\n",
              "      <td>739</td>\n",
              "      <td>2021-06-11</td>\n",
              "      <td>2050</td>\n",
              "      <td>AK</td>\n",
              "      <td>Bethel Census Area</td>\n",
              "      <td>8739</td>\n",
              "      <td>47.5</td>\n",
              "      <td>46348</td>\n",
              "    </tr>\n",
              "    <tr>\n",
              "      <th>4</th>\n",
              "      <td>2447</td>\n",
              "      <td>2021-06-11</td>\n",
              "      <td>2060</td>\n",
              "      <td>AK</td>\n",
              "      <td>Bristol Bay Borough</td>\n",
              "      <td>619</td>\n",
              "      <td>74.0</td>\n",
              "      <td>151900</td>\n",
              "    </tr>\n",
              "  </tbody>\n",
              "</table>\n",
              "</div>"
            ],
            "text/plain": [
              "   index       Date  FIPS  ... Vaccinated Vaccinated Pct  Income\n",
              "0   3028 2021-06-11  2013  ...       2134           63.9   62537\n",
              "1     55 2021-06-11  2016  ...       2420           43.0   58008\n",
              "2   1987 2021-06-11  2020  ...     122801           42.6   70145\n",
              "3    739 2021-06-11  2050  ...       8739           47.5   46348\n",
              "4   2447 2021-06-11  2060  ...        619           74.0  151900\n",
              "\n",
              "[5 rows x 8 columns]"
            ]
          },
          "metadata": {
            "tags": []
          },
          "execution_count": 38
        }
      ]
    },
    {
      "cell_type": "code",
      "metadata": {
        "id": "rE2gMUifbOWX"
      },
      "source": [
        "merged_df.drop(['index'], axis = 1, inplace = True)"
      ],
      "execution_count": null,
      "outputs": []
    },
    {
      "cell_type": "code",
      "metadata": {
        "id": "P_wNE44LbOWX",
        "colab": {
          "base_uri": "https://localhost:8080/"
        },
        "outputId": "947043b2-620a-445f-f300-cb02c78c0907"
      },
      "source": [
        "merged_df.shape"
      ],
      "execution_count": null,
      "outputs": [
        {
          "output_type": "execute_result",
          "data": {
            "text/plain": [
              "(3152, 7)"
            ]
          },
          "metadata": {
            "tags": []
          },
          "execution_count": 40
        }
      ]
    },
    {
      "cell_type": "markdown",
      "metadata": {
        "id": "8Hh1R1IcbOWY"
      },
      "source": [
        "There are too many rows in the merged dataframe, so check for duplicates."
      ]
    },
    {
      "cell_type": "code",
      "metadata": {
        "id": "EzRdSTwSbOWY",
        "colab": {
          "base_uri": "https://localhost:8080/"
        },
        "outputId": "8fd9f829-8d64-4edb-bbd5-27615fb8c69c"
      },
      "source": [
        "dups_df = merged_df.duplicated(subset = ['State','County'],keep=False)\n",
        "dups_df.sum()"
      ],
      "execution_count": null,
      "outputs": [
        {
          "output_type": "execute_result",
          "data": {
            "text/plain": [
              "24"
            ]
          },
          "metadata": {
            "tags": []
          },
          "execution_count": 41
        }
      ]
    },
    {
      "cell_type": "code",
      "metadata": {
        "id": "ANUphXlWbOWY",
        "colab": {
          "base_uri": "https://localhost:8080/"
        },
        "outputId": "e15c8596-f77a-489f-9107-95f662f5bd12"
      },
      "source": [
        "if dups_df.any():\n",
        "    print(merged_df.loc[dups_df], end='\\n\\n')"
      ],
      "execution_count": null,
      "outputs": [
        {
          "output_type": "stream",
          "text": [
            "           Date   FIPS State     County  Vaccinated  Vaccinated Pct  Income\n",
            "1191 2021-06-11  24005    MD  Baltimore      403538            48.8   62976\n",
            "1192 2021-06-11  24005    MD  Baltimore      403538            48.8   53378\n",
            "1193 2021-06-11  24510    MD  Baltimore      243362            41.0   62976\n",
            "1194 2021-06-11  24510    MD  Baltimore      243362            41.0   53378\n",
            "1501 2021-06-11  29189    MO  St. Louis      398408            40.1   73016\n",
            "1502 2021-06-11  29189    MO  St. Louis      398408            40.1   48202\n",
            "1503 2021-06-11  29510    MO  St. Louis      103632            34.5   73016\n",
            "1504 2021-06-11  29510    MO  St. Louis      103632            34.5   48202\n",
            "2845 2021-06-11  51059    VA    Fairfax      501811            43.7   86141\n",
            "2846 2021-06-11  51059    VA    Fairfax      501811            43.7   86141\n",
            "2847 2021-06-11  51600    VA    Fairfax        1345             5.6   86141\n",
            "2848 2021-06-11  51600    VA    Fairfax        1345             5.6   86141\n",
            "2853 2021-06-11  51067    VA   Franklin       11062            19.7   41795\n",
            "2854 2021-06-11  51067    VA   Franklin       11062            19.7   44215\n",
            "2855 2021-06-11  51620    VA   Franklin           0             0.0   41795\n",
            "2856 2021-06-11  51620    VA   Franklin           0             0.0   44215\n",
            "2916 2021-06-11  51159    VA   Richmond         662             7.3   37741\n",
            "2917 2021-06-11  51159    VA   Richmond         662             7.3   56560\n",
            "2918 2021-06-11  51760    VA   Richmond       28338            12.3   37741\n",
            "2919 2021-06-11  51760    VA   Richmond       28338            12.3   56560\n",
            "2920 2021-06-11  51161    VA    Roanoke        1408             1.5   45277\n",
            "2921 2021-06-11  51161    VA    Roanoke        1408             1.5   53489\n",
            "2922 2021-06-11  51770    VA    Roanoke        6176             6.2   45277\n",
            "2923 2021-06-11  51770    VA    Roanoke        6176             6.2   53489\n",
            "\n"
          ],
          "name": "stdout"
        }
      ]
    },
    {
      "cell_type": "markdown",
      "metadata": {
        "id": "EV6Uyd0MbOWY"
      },
      "source": [
        "These duplicates are due to dropping 'City' because these names have both a county and city name.  \n",
        "\n",
        "Need to fix this, so reread vaccinations pickle and find the correct rows to update."
      ]
    },
    {
      "cell_type": "raw",
      "metadata": {
        "id": "nOHWUgCIbOWY"
      },
      "source": [
        "filter = \"FIPS in \"  + \"[24005, 24510, 29189, 29510, 51059, 51600, 51067, 51620, 51159, 51760, 51161, 51770]\"\n",
        "vax_df.query(filter)"
      ]
    },
    {
      "cell_type": "code",
      "metadata": {
        "id": "UCrawr2XbOWY",
        "colab": {
          "base_uri": "https://localhost:8080/"
        },
        "outputId": "cc96beef-0ef5-42b0-d037-33aa0647a7e5"
      },
      "source": [
        "vax1_df = pd.read_pickle(\"./vaccinations.pkl\")\n",
        "vax1_df.shape"
      ],
      "execution_count": null,
      "outputs": [
        {
          "output_type": "execute_result",
          "data": {
            "text/plain": [
              "(3224, 6)"
            ]
          },
          "metadata": {
            "tags": []
          },
          "execution_count": 43
        }
      ]
    },
    {
      "cell_type": "code",
      "metadata": {
        "id": "XSJrWqS6bOWZ",
        "colab": {
          "base_uri": "https://localhost:8080/",
          "height": 416
        },
        "outputId": "377fc12b-6481-4135-9db6-a2d4c9a1906f"
      },
      "source": [
        "filter = \"FIPS in \"  + \"[24005, 24510, 29189, 29510, 51059, 51600, 51067, 51620, 51159, 51760, 51161, 51770]\"\n",
        "hits = vax1_df.query(filter)\n",
        "hits "
      ],
      "execution_count": null,
      "outputs": [
        {
          "output_type": "execute_result",
          "data": {
            "text/html": [
              "<div>\n",
              "<style scoped>\n",
              "    .dataframe tbody tr th:only-of-type {\n",
              "        vertical-align: middle;\n",
              "    }\n",
              "\n",
              "    .dataframe tbody tr th {\n",
              "        vertical-align: top;\n",
              "    }\n",
              "\n",
              "    .dataframe thead th {\n",
              "        text-align: right;\n",
              "    }\n",
              "</style>\n",
              "<table border=\"1\" class=\"dataframe\">\n",
              "  <thead>\n",
              "    <tr style=\"text-align: right;\">\n",
              "      <th></th>\n",
              "      <th>Date</th>\n",
              "      <th>FIPS</th>\n",
              "      <th>State</th>\n",
              "      <th>County</th>\n",
              "      <th>Vaccinated</th>\n",
              "      <th>Vaccinated Pct</th>\n",
              "    </tr>\n",
              "  </thead>\n",
              "  <tbody>\n",
              "    <tr>\n",
              "      <th>173</th>\n",
              "      <td>2021-06-11</td>\n",
              "      <td>51067</td>\n",
              "      <td>VA</td>\n",
              "      <td>Franklin County</td>\n",
              "      <td>11062</td>\n",
              "      <td>19.7</td>\n",
              "    </tr>\n",
              "    <tr>\n",
              "      <th>194</th>\n",
              "      <td>2021-06-11</td>\n",
              "      <td>29189</td>\n",
              "      <td>MO</td>\n",
              "      <td>St. Louis County</td>\n",
              "      <td>398408</td>\n",
              "      <td>40.1</td>\n",
              "    </tr>\n",
              "    <tr>\n",
              "      <th>312</th>\n",
              "      <td>2021-06-11</td>\n",
              "      <td>51059</td>\n",
              "      <td>VA</td>\n",
              "      <td>Fairfax County</td>\n",
              "      <td>501811</td>\n",
              "      <td>43.7</td>\n",
              "    </tr>\n",
              "    <tr>\n",
              "      <th>391</th>\n",
              "      <td>2021-06-11</td>\n",
              "      <td>51159</td>\n",
              "      <td>VA</td>\n",
              "      <td>Richmond County</td>\n",
              "      <td>662</td>\n",
              "      <td>7.3</td>\n",
              "    </tr>\n",
              "    <tr>\n",
              "      <th>831</th>\n",
              "      <td>2021-06-11</td>\n",
              "      <td>51161</td>\n",
              "      <td>VA</td>\n",
              "      <td>Roanoke County</td>\n",
              "      <td>1408</td>\n",
              "      <td>1.5</td>\n",
              "    </tr>\n",
              "    <tr>\n",
              "      <th>1084</th>\n",
              "      <td>2021-06-11</td>\n",
              "      <td>51600</td>\n",
              "      <td>VA</td>\n",
              "      <td>Fairfax city</td>\n",
              "      <td>1345</td>\n",
              "      <td>5.6</td>\n",
              "    </tr>\n",
              "    <tr>\n",
              "      <th>1277</th>\n",
              "      <td>2021-06-11</td>\n",
              "      <td>51620</td>\n",
              "      <td>VA</td>\n",
              "      <td>Franklin city</td>\n",
              "      <td>0</td>\n",
              "      <td>0.0</td>\n",
              "    </tr>\n",
              "    <tr>\n",
              "      <th>1488</th>\n",
              "      <td>2021-06-11</td>\n",
              "      <td>29510</td>\n",
              "      <td>MO</td>\n",
              "      <td>St. Louis city</td>\n",
              "      <td>103632</td>\n",
              "      <td>34.5</td>\n",
              "    </tr>\n",
              "    <tr>\n",
              "      <th>2100</th>\n",
              "      <td>2021-06-11</td>\n",
              "      <td>24510</td>\n",
              "      <td>MD</td>\n",
              "      <td>Baltimore city</td>\n",
              "      <td>243362</td>\n",
              "      <td>41.0</td>\n",
              "    </tr>\n",
              "    <tr>\n",
              "      <th>2228</th>\n",
              "      <td>2021-06-11</td>\n",
              "      <td>24005</td>\n",
              "      <td>MD</td>\n",
              "      <td>Baltimore County</td>\n",
              "      <td>403538</td>\n",
              "      <td>48.8</td>\n",
              "    </tr>\n",
              "    <tr>\n",
              "      <th>2656</th>\n",
              "      <td>2021-06-11</td>\n",
              "      <td>51770</td>\n",
              "      <td>VA</td>\n",
              "      <td>Roanoke city</td>\n",
              "      <td>6176</td>\n",
              "      <td>6.2</td>\n",
              "    </tr>\n",
              "    <tr>\n",
              "      <th>2830</th>\n",
              "      <td>2021-06-11</td>\n",
              "      <td>51760</td>\n",
              "      <td>VA</td>\n",
              "      <td>Richmond city</td>\n",
              "      <td>28338</td>\n",
              "      <td>12.3</td>\n",
              "    </tr>\n",
              "  </tbody>\n",
              "</table>\n",
              "</div>"
            ],
            "text/plain": [
              "           Date   FIPS State            County  Vaccinated  Vaccinated Pct\n",
              "173  2021-06-11  51067    VA   Franklin County       11062            19.7\n",
              "194  2021-06-11  29189    MO  St. Louis County      398408            40.1\n",
              "312  2021-06-11  51059    VA    Fairfax County      501811            43.7\n",
              "391  2021-06-11  51159    VA   Richmond County         662             7.3\n",
              "831  2021-06-11  51161    VA    Roanoke County        1408             1.5\n",
              "1084 2021-06-11  51600    VA      Fairfax city        1345             5.6\n",
              "1277 2021-06-11  51620    VA     Franklin city           0             0.0\n",
              "1488 2021-06-11  29510    MO    St. Louis city      103632            34.5\n",
              "2100 2021-06-11  24510    MD    Baltimore city      243362            41.0\n",
              "2228 2021-06-11  24005    MD  Baltimore County      403538            48.8\n",
              "2656 2021-06-11  51770    VA      Roanoke city        6176             6.2\n",
              "2830 2021-06-11  51760    VA     Richmond city       28338            12.3"
            ]
          },
          "metadata": {
            "tags": []
          },
          "execution_count": 44
        }
      ]
    },
    {
      "cell_type": "code",
      "metadata": {
        "id": "2e5ifNZFbOWZ",
        "colab": {
          "base_uri": "https://localhost:8080/",
          "height": 416
        },
        "outputId": "e5f6cc92-1837-4002-c489-758f7dc31dbc"
      },
      "source": [
        "city_hits = hits.County.str.contains('city').to_frame()\n",
        "city_hits"
      ],
      "execution_count": null,
      "outputs": [
        {
          "output_type": "execute_result",
          "data": {
            "text/html": [
              "<div>\n",
              "<style scoped>\n",
              "    .dataframe tbody tr th:only-of-type {\n",
              "        vertical-align: middle;\n",
              "    }\n",
              "\n",
              "    .dataframe tbody tr th {\n",
              "        vertical-align: top;\n",
              "    }\n",
              "\n",
              "    .dataframe thead th {\n",
              "        text-align: right;\n",
              "    }\n",
              "</style>\n",
              "<table border=\"1\" class=\"dataframe\">\n",
              "  <thead>\n",
              "    <tr style=\"text-align: right;\">\n",
              "      <th></th>\n",
              "      <th>County</th>\n",
              "    </tr>\n",
              "  </thead>\n",
              "  <tbody>\n",
              "    <tr>\n",
              "      <th>173</th>\n",
              "      <td>False</td>\n",
              "    </tr>\n",
              "    <tr>\n",
              "      <th>194</th>\n",
              "      <td>False</td>\n",
              "    </tr>\n",
              "    <tr>\n",
              "      <th>312</th>\n",
              "      <td>False</td>\n",
              "    </tr>\n",
              "    <tr>\n",
              "      <th>391</th>\n",
              "      <td>False</td>\n",
              "    </tr>\n",
              "    <tr>\n",
              "      <th>831</th>\n",
              "      <td>False</td>\n",
              "    </tr>\n",
              "    <tr>\n",
              "      <th>1084</th>\n",
              "      <td>True</td>\n",
              "    </tr>\n",
              "    <tr>\n",
              "      <th>1277</th>\n",
              "      <td>True</td>\n",
              "    </tr>\n",
              "    <tr>\n",
              "      <th>1488</th>\n",
              "      <td>True</td>\n",
              "    </tr>\n",
              "    <tr>\n",
              "      <th>2100</th>\n",
              "      <td>True</td>\n",
              "    </tr>\n",
              "    <tr>\n",
              "      <th>2228</th>\n",
              "      <td>False</td>\n",
              "    </tr>\n",
              "    <tr>\n",
              "      <th>2656</th>\n",
              "      <td>True</td>\n",
              "    </tr>\n",
              "    <tr>\n",
              "      <th>2830</th>\n",
              "      <td>True</td>\n",
              "    </tr>\n",
              "  </tbody>\n",
              "</table>\n",
              "</div>"
            ],
            "text/plain": [
              "      County\n",
              "173    False\n",
              "194    False\n",
              "312    False\n",
              "391    False\n",
              "831    False\n",
              "1084    True\n",
              "1277    True\n",
              "1488    True\n",
              "2100    True\n",
              "2228   False\n",
              "2656    True\n",
              "2830    True"
            ]
          },
          "metadata": {
            "tags": []
          },
          "execution_count": 45
        }
      ]
    },
    {
      "cell_type": "code",
      "metadata": {
        "id": "KVvoUII2bOWZ",
        "colab": {
          "base_uri": "https://localhost:8080/"
        },
        "outputId": "0364c5a1-9edb-4bcb-c089-2e13be13c07a"
      },
      "source": [
        "city_hits = city_hits[city_hits.County]\n",
        "hit_list = [h for h in city_hits.index]\n",
        "hit_list"
      ],
      "execution_count": null,
      "outputs": [
        {
          "output_type": "execute_result",
          "data": {
            "text/plain": [
              "[1084, 1277, 1488, 2100, 2656, 2830]"
            ]
          },
          "metadata": {
            "tags": []
          },
          "execution_count": 46
        }
      ]
    },
    {
      "cell_type": "code",
      "metadata": {
        "id": "pXhz0FJTbOWZ",
        "colab": {
          "base_uri": "https://localhost:8080/"
        },
        "outputId": "63c07eb6-b09f-4982-8127-07331fa7bc05"
      },
      "source": [
        "for fips in [51600,51620,29510,24510,51770,51760]:\n",
        "    filter = \"FIPS == \" + str(fips)\n",
        "    indx = vax_df.query(filter).index\n",
        "    vax_df.iloc[indx, vax_df.columns.get_loc('County')] += ' City'\n",
        "    print(vax_df.query(filter).County)"
      ],
      "execution_count": null,
      "outputs": [
        {
          "output_type": "stream",
          "text": [
            "2844    Fairfax City\n",
            "Name: County, dtype: object\n",
            "2850    Franklin City\n",
            "Name: County, dtype: object\n",
            "1502    St. Louis City\n",
            "Name: County, dtype: object\n",
            "1194    Baltimore City\n",
            "Name: County, dtype: object\n",
            "2913    Roanoke City\n",
            "Name: County, dtype: object\n",
            "2911    Richmond City\n",
            "Name: County, dtype: object\n"
          ],
          "name": "stdout"
        }
      ]
    },
    {
      "cell_type": "code",
      "metadata": {
        "id": "HlNWtfuhbOWZ",
        "colab": {
          "base_uri": "https://localhost:8080/",
          "height": 202
        },
        "outputId": "d49b0d21-c794-427c-c96a-acee9eeb0189"
      },
      "source": [
        "merged_df = vax_df.merge(new_incomes_df[['State', 'County', 'Income']], how = 'inner')\n",
        "merged_df.head()"
      ],
      "execution_count": null,
      "outputs": [
        {
          "output_type": "execute_result",
          "data": {
            "text/html": [
              "<div>\n",
              "<style scoped>\n",
              "    .dataframe tbody tr th:only-of-type {\n",
              "        vertical-align: middle;\n",
              "    }\n",
              "\n",
              "    .dataframe tbody tr th {\n",
              "        vertical-align: top;\n",
              "    }\n",
              "\n",
              "    .dataframe thead th {\n",
              "        text-align: right;\n",
              "    }\n",
              "</style>\n",
              "<table border=\"1\" class=\"dataframe\">\n",
              "  <thead>\n",
              "    <tr style=\"text-align: right;\">\n",
              "      <th></th>\n",
              "      <th>index</th>\n",
              "      <th>Date</th>\n",
              "      <th>FIPS</th>\n",
              "      <th>State</th>\n",
              "      <th>County</th>\n",
              "      <th>Vaccinated</th>\n",
              "      <th>Vaccinated Pct</th>\n",
              "      <th>Income</th>\n",
              "    </tr>\n",
              "  </thead>\n",
              "  <tbody>\n",
              "    <tr>\n",
              "      <th>0</th>\n",
              "      <td>3028</td>\n",
              "      <td>2021-06-11</td>\n",
              "      <td>2013</td>\n",
              "      <td>AK</td>\n",
              "      <td>Aleutians East Borough</td>\n",
              "      <td>2134</td>\n",
              "      <td>63.9</td>\n",
              "      <td>62537</td>\n",
              "    </tr>\n",
              "    <tr>\n",
              "      <th>1</th>\n",
              "      <td>55</td>\n",
              "      <td>2021-06-11</td>\n",
              "      <td>2016</td>\n",
              "      <td>AK</td>\n",
              "      <td>Aleutians West Census Area</td>\n",
              "      <td>2420</td>\n",
              "      <td>43.0</td>\n",
              "      <td>58008</td>\n",
              "    </tr>\n",
              "    <tr>\n",
              "      <th>2</th>\n",
              "      <td>1987</td>\n",
              "      <td>2021-06-11</td>\n",
              "      <td>2020</td>\n",
              "      <td>AK</td>\n",
              "      <td>Anchorage Municipality</td>\n",
              "      <td>122801</td>\n",
              "      <td>42.6</td>\n",
              "      <td>70145</td>\n",
              "    </tr>\n",
              "    <tr>\n",
              "      <th>3</th>\n",
              "      <td>739</td>\n",
              "      <td>2021-06-11</td>\n",
              "      <td>2050</td>\n",
              "      <td>AK</td>\n",
              "      <td>Bethel Census Area</td>\n",
              "      <td>8739</td>\n",
              "      <td>47.5</td>\n",
              "      <td>46348</td>\n",
              "    </tr>\n",
              "    <tr>\n",
              "      <th>4</th>\n",
              "      <td>2447</td>\n",
              "      <td>2021-06-11</td>\n",
              "      <td>2060</td>\n",
              "      <td>AK</td>\n",
              "      <td>Bristol Bay Borough</td>\n",
              "      <td>619</td>\n",
              "      <td>74.0</td>\n",
              "      <td>151900</td>\n",
              "    </tr>\n",
              "  </tbody>\n",
              "</table>\n",
              "</div>"
            ],
            "text/plain": [
              "   index       Date  FIPS  ... Vaccinated Vaccinated Pct  Income\n",
              "0   3028 2021-06-11  2013  ...       2134           63.9   62537\n",
              "1     55 2021-06-11  2016  ...       2420           43.0   58008\n",
              "2   1987 2021-06-11  2020  ...     122801           42.6   70145\n",
              "3    739 2021-06-11  2050  ...       8739           47.5   46348\n",
              "4   2447 2021-06-11  2060  ...        619           74.0  151900\n",
              "\n",
              "[5 rows x 8 columns]"
            ]
          },
          "metadata": {
            "tags": []
          },
          "execution_count": 48
        }
      ]
    },
    {
      "cell_type": "code",
      "metadata": {
        "id": "OJAsTucubOWa",
        "colab": {
          "base_uri": "https://localhost:8080/"
        },
        "outputId": "efd581e7-cf5a-4e0c-879f-d00311c2c5dd"
      },
      "source": [
        "print('vax shape\\t',vax_df.shape)\n",
        "print('incomes shape\\t',new_incomes_df.shape)\n",
        "print('merged shape\\t',merged_df.shape)"
      ],
      "execution_count": null,
      "outputs": [
        {
          "output_type": "stream",
          "text": [
            "vax shape\t (3142, 7)\n",
            "incomes shape\t (3141, 3)\n",
            "merged shape\t (3140, 8)\n"
          ],
          "name": "stdout"
        }
      ]
    },
    {
      "cell_type": "code",
      "metadata": {
        "id": "LHp9sklnbOWa",
        "colab": {
          "base_uri": "https://localhost:8080/"
        },
        "outputId": "b33845a9-fba3-4f23-959d-821b1d7e9640"
      },
      "source": [
        "dups_df = merged_df.duplicated(subset = ['State','County'],keep=False)\n",
        "dups_df.sum()"
      ],
      "execution_count": null,
      "outputs": [
        {
          "output_type": "execute_result",
          "data": {
            "text/plain": [
              "12"
            ]
          },
          "metadata": {
            "tags": []
          },
          "execution_count": 50
        }
      ]
    },
    {
      "cell_type": "code",
      "metadata": {
        "id": "T4jKq31ubOWa",
        "colab": {
          "base_uri": "https://localhost:8080/"
        },
        "outputId": "be896758-11d9-400a-cbf5-02c70b00de50"
      },
      "source": [
        "if dups_df.any():\n",
        "    print(merged_df.loc[dups_df], end='\\n\\n')"
      ],
      "execution_count": null,
      "outputs": [
        {
          "output_type": "stream",
          "text": [
            "      index       Date   FIPS  ... Vaccinated Vaccinated Pct  Income\n",
            "1191   2228 2021-06-11  24005  ...     403538           48.8   62976\n",
            "1192   2228 2021-06-11  24005  ...     403538           48.8   53378\n",
            "1499    194 2021-06-11  29189  ...     398408           40.1   73016\n",
            "1500    194 2021-06-11  29189  ...     398408           40.1   48202\n",
            "2841    312 2021-06-11  51059  ...     501811           43.7   86141\n",
            "2842    312 2021-06-11  51059  ...     501811           43.7   86141\n",
            "2847    173 2021-06-11  51067  ...      11062           19.7   41795\n",
            "2848    173 2021-06-11  51067  ...      11062           19.7   44215\n",
            "2908    391 2021-06-11  51159  ...        662            7.3   37741\n",
            "2909    391 2021-06-11  51159  ...        662            7.3   56560\n",
            "2910    831 2021-06-11  51161  ...       1408            1.5   45277\n",
            "2911    831 2021-06-11  51161  ...       1408            1.5   53489\n",
            "\n",
            "[12 rows x 8 columns]\n",
            "\n"
          ],
          "name": "stdout"
        }
      ]
    },
    {
      "cell_type": "code",
      "metadata": {
        "id": "DZvopcWTbOWa",
        "colab": {
          "base_uri": "https://localhost:8080/"
        },
        "outputId": "b7db56b9-fac6-4fcc-95ab-7681316af3b2"
      },
      "source": [
        "income1_df = pd.read_pickle(\"./incomes.pkl\")\n",
        "income1_df.shape"
      ],
      "execution_count": null,
      "outputs": [
        {
          "output_type": "execute_result",
          "data": {
            "text/plain": [
              "(3112, 3)"
            ]
          },
          "metadata": {
            "tags": []
          },
          "execution_count": 52
        }
      ]
    },
    {
      "cell_type": "code",
      "metadata": {
        "id": "DA17DYPvbOWa"
      },
      "source": [
        "l = ['Baltimore','St. Louis','Fairfax','Franklin','Richmond','Roanoke']\n",
        "    "
      ],
      "execution_count": null,
      "outputs": []
    },
    {
      "cell_type": "markdown",
      "metadata": {
        "id": "xUD8NW14bOWb"
      },
      "source": [
        "Fix Baltimore City"
      ]
    },
    {
      "cell_type": "code",
      "metadata": {
        "id": "ibTQOvKXbOWb",
        "colab": {
          "base_uri": "https://localhost:8080/",
          "height": 110
        },
        "outputId": "84cb605e-93ba-443a-cf69-9d1a6001547e"
      },
      "source": [
        "income1_df[(income1_df['County'].str.contains('Baltimore'))]"
      ],
      "execution_count": null,
      "outputs": [
        {
          "output_type": "execute_result",
          "data": {
            "text/html": [
              "<div>\n",
              "<style scoped>\n",
              "    .dataframe tbody tr th:only-of-type {\n",
              "        vertical-align: middle;\n",
              "    }\n",
              "\n",
              "    .dataframe tbody tr th {\n",
              "        vertical-align: top;\n",
              "    }\n",
              "\n",
              "    .dataframe thead th {\n",
              "        text-align: right;\n",
              "    }\n",
              "</style>\n",
              "<table border=\"1\" class=\"dataframe\">\n",
              "  <thead>\n",
              "    <tr style=\"text-align: right;\">\n",
              "      <th></th>\n",
              "      <th>State</th>\n",
              "      <th>County</th>\n",
              "      <th>Income</th>\n",
              "    </tr>\n",
              "  </thead>\n",
              "  <tbody>\n",
              "    <tr>\n",
              "      <th>1193</th>\n",
              "      <td>Maryland</td>\n",
              "      <td>Baltimore</td>\n",
              "      <td>62976</td>\n",
              "    </tr>\n",
              "    <tr>\n",
              "      <th>1214</th>\n",
              "      <td>Maryland</td>\n",
              "      <td>Baltimore City</td>\n",
              "      <td>53378</td>\n",
              "    </tr>\n",
              "  </tbody>\n",
              "</table>\n",
              "</div>"
            ],
            "text/plain": [
              "         State          County  Income\n",
              "1193  Maryland       Baltimore   62976\n",
              "1214  Maryland  Baltimore City   53378"
            ]
          },
          "metadata": {
            "tags": []
          },
          "execution_count": 54
        }
      ]
    },
    {
      "cell_type": "code",
      "metadata": {
        "id": "onvLCeHmbOWb",
        "colab": {
          "base_uri": "https://localhost:8080/",
          "height": 110
        },
        "outputId": "b25af51e-4a59-4843-b6b4-fe43d1a8e120"
      },
      "source": [
        "new_incomes_df[(new_incomes_df['County'].str.contains('Baltimore'))]"
      ],
      "execution_count": null,
      "outputs": [
        {
          "output_type": "execute_result",
          "data": {
            "text/html": [
              "<div>\n",
              "<style scoped>\n",
              "    .dataframe tbody tr th:only-of-type {\n",
              "        vertical-align: middle;\n",
              "    }\n",
              "\n",
              "    .dataframe tbody tr th {\n",
              "        vertical-align: top;\n",
              "    }\n",
              "\n",
              "    .dataframe thead th {\n",
              "        text-align: right;\n",
              "    }\n",
              "</style>\n",
              "<table border=\"1\" class=\"dataframe\">\n",
              "  <thead>\n",
              "    <tr style=\"text-align: right;\">\n",
              "      <th></th>\n",
              "      <th>State</th>\n",
              "      <th>County</th>\n",
              "      <th>Income</th>\n",
              "    </tr>\n",
              "  </thead>\n",
              "  <tbody>\n",
              "    <tr>\n",
              "      <th>1192</th>\n",
              "      <td>MD</td>\n",
              "      <td>Baltimore</td>\n",
              "      <td>62976</td>\n",
              "    </tr>\n",
              "    <tr>\n",
              "      <th>1193</th>\n",
              "      <td>MD</td>\n",
              "      <td>Baltimore</td>\n",
              "      <td>53378</td>\n",
              "    </tr>\n",
              "  </tbody>\n",
              "</table>\n",
              "</div>"
            ],
            "text/plain": [
              "     State     County  Income\n",
              "1192    MD  Baltimore   62976\n",
              "1193    MD  Baltimore   53378"
            ]
          },
          "metadata": {
            "tags": []
          },
          "execution_count": 55
        }
      ]
    },
    {
      "cell_type": "code",
      "metadata": {
        "id": "uNoluGGybOWb",
        "colab": {
          "base_uri": "https://localhost:8080/",
          "height": 110
        },
        "outputId": "69bbd9c9-616a-4a96-b887-89f5ce4016f6"
      },
      "source": [
        "new_incomes_df.iloc[1193, new_incomes_df.columns.get_loc('County')] += ' City'\n",
        "new_incomes_df[(new_incomes_df['County'].str.contains('Baltimore'))]"
      ],
      "execution_count": null,
      "outputs": [
        {
          "output_type": "execute_result",
          "data": {
            "text/html": [
              "<div>\n",
              "<style scoped>\n",
              "    .dataframe tbody tr th:only-of-type {\n",
              "        vertical-align: middle;\n",
              "    }\n",
              "\n",
              "    .dataframe tbody tr th {\n",
              "        vertical-align: top;\n",
              "    }\n",
              "\n",
              "    .dataframe thead th {\n",
              "        text-align: right;\n",
              "    }\n",
              "</style>\n",
              "<table border=\"1\" class=\"dataframe\">\n",
              "  <thead>\n",
              "    <tr style=\"text-align: right;\">\n",
              "      <th></th>\n",
              "      <th>State</th>\n",
              "      <th>County</th>\n",
              "      <th>Income</th>\n",
              "    </tr>\n",
              "  </thead>\n",
              "  <tbody>\n",
              "    <tr>\n",
              "      <th>1192</th>\n",
              "      <td>MD</td>\n",
              "      <td>Baltimore</td>\n",
              "      <td>62976</td>\n",
              "    </tr>\n",
              "    <tr>\n",
              "      <th>1193</th>\n",
              "      <td>MD</td>\n",
              "      <td>Baltimore City</td>\n",
              "      <td>53378</td>\n",
              "    </tr>\n",
              "  </tbody>\n",
              "</table>\n",
              "</div>"
            ],
            "text/plain": [
              "     State          County  Income\n",
              "1192    MD       Baltimore   62976\n",
              "1193    MD  Baltimore City   53378"
            ]
          },
          "metadata": {
            "tags": []
          },
          "execution_count": 56
        }
      ]
    },
    {
      "cell_type": "markdown",
      "metadata": {
        "id": "wpTePSkTbOWb"
      },
      "source": [
        "Fix St. Louis City"
      ]
    },
    {
      "cell_type": "code",
      "metadata": {
        "id": "16VbZQwGbOWc",
        "colab": {
          "base_uri": "https://localhost:8080/",
          "height": 141
        },
        "outputId": "81ce63c3-6f07-47af-c6c7-9683ef0dfd7c"
      },
      "source": [
        "income1_df[(income1_df['County'].str.contains('St. Louis'))]"
      ],
      "execution_count": null,
      "outputs": [
        {
          "output_type": "execute_result",
          "data": {
            "text/html": [
              "<div>\n",
              "<style scoped>\n",
              "    .dataframe tbody tr th:only-of-type {\n",
              "        vertical-align: middle;\n",
              "    }\n",
              "\n",
              "    .dataframe tbody tr th {\n",
              "        vertical-align: top;\n",
              "    }\n",
              "\n",
              "    .dataframe thead th {\n",
              "        text-align: right;\n",
              "    }\n",
              "</style>\n",
              "<table border=\"1\" class=\"dataframe\">\n",
              "  <thead>\n",
              "    <tr style=\"text-align: right;\">\n",
              "      <th></th>\n",
              "      <th>State</th>\n",
              "      <th>County</th>\n",
              "      <th>Income</th>\n",
              "    </tr>\n",
              "  </thead>\n",
              "  <tbody>\n",
              "    <tr>\n",
              "      <th>1380</th>\n",
              "      <td>Minnesota</td>\n",
              "      <td>St. Louis</td>\n",
              "      <td>48718</td>\n",
              "    </tr>\n",
              "    <tr>\n",
              "      <th>1576</th>\n",
              "      <td>Missouri</td>\n",
              "      <td>St. Louis</td>\n",
              "      <td>73016</td>\n",
              "    </tr>\n",
              "    <tr>\n",
              "      <th>1595</th>\n",
              "      <td>Missouri</td>\n",
              "      <td>St. Louis City</td>\n",
              "      <td>48202</td>\n",
              "    </tr>\n",
              "  </tbody>\n",
              "</table>\n",
              "</div>"
            ],
            "text/plain": [
              "          State          County  Income\n",
              "1380  Minnesota       St. Louis   48718\n",
              "1576   Missouri       St. Louis   73016\n",
              "1595   Missouri  St. Louis City   48202"
            ]
          },
          "metadata": {
            "tags": []
          },
          "execution_count": 57
        }
      ]
    },
    {
      "cell_type": "code",
      "metadata": {
        "id": "3jVtqEwFbOWc",
        "colab": {
          "base_uri": "https://localhost:8080/",
          "height": 141
        },
        "outputId": "dabc5dde-ff0a-48ae-c0db-3c1a5e1a0a8f"
      },
      "source": [
        "new_incomes_df[(new_incomes_df['County'].str.contains('St. Louis'))]"
      ],
      "execution_count": null,
      "outputs": [
        {
          "output_type": "execute_result",
          "data": {
            "text/html": [
              "<div>\n",
              "<style scoped>\n",
              "    .dataframe tbody tr th:only-of-type {\n",
              "        vertical-align: middle;\n",
              "    }\n",
              "\n",
              "    .dataframe tbody tr th {\n",
              "        vertical-align: top;\n",
              "    }\n",
              "\n",
              "    .dataframe thead th {\n",
              "        text-align: right;\n",
              "    }\n",
              "</style>\n",
              "<table border=\"1\" class=\"dataframe\">\n",
              "  <thead>\n",
              "    <tr style=\"text-align: right;\">\n",
              "      <th></th>\n",
              "      <th>State</th>\n",
              "      <th>County</th>\n",
              "      <th>Income</th>\n",
              "    </tr>\n",
              "  </thead>\n",
              "  <tbody>\n",
              "    <tr>\n",
              "      <th>1384</th>\n",
              "      <td>MN</td>\n",
              "      <td>St. Louis</td>\n",
              "      <td>48718</td>\n",
              "    </tr>\n",
              "    <tr>\n",
              "      <th>1500</th>\n",
              "      <td>MO</td>\n",
              "      <td>St. Louis</td>\n",
              "      <td>73016</td>\n",
              "    </tr>\n",
              "    <tr>\n",
              "      <th>1501</th>\n",
              "      <td>MO</td>\n",
              "      <td>St. Louis</td>\n",
              "      <td>48202</td>\n",
              "    </tr>\n",
              "  </tbody>\n",
              "</table>\n",
              "</div>"
            ],
            "text/plain": [
              "     State     County  Income\n",
              "1384    MN  St. Louis   48718\n",
              "1500    MO  St. Louis   73016\n",
              "1501    MO  St. Louis   48202"
            ]
          },
          "metadata": {
            "tags": []
          },
          "execution_count": 58
        }
      ]
    },
    {
      "cell_type": "code",
      "metadata": {
        "id": "Tn3PuSxPbOWc",
        "colab": {
          "base_uri": "https://localhost:8080/",
          "height": 141
        },
        "outputId": "6363b74a-f495-4391-9629-f6eb9abec774"
      },
      "source": [
        "new_incomes_df.iloc[1501, new_incomes_df.columns.get_loc('County')] += ' City'\n",
        "new_incomes_df[(new_incomes_df['County'].str.contains('St. Louis'))]"
      ],
      "execution_count": null,
      "outputs": [
        {
          "output_type": "execute_result",
          "data": {
            "text/html": [
              "<div>\n",
              "<style scoped>\n",
              "    .dataframe tbody tr th:only-of-type {\n",
              "        vertical-align: middle;\n",
              "    }\n",
              "\n",
              "    .dataframe tbody tr th {\n",
              "        vertical-align: top;\n",
              "    }\n",
              "\n",
              "    .dataframe thead th {\n",
              "        text-align: right;\n",
              "    }\n",
              "</style>\n",
              "<table border=\"1\" class=\"dataframe\">\n",
              "  <thead>\n",
              "    <tr style=\"text-align: right;\">\n",
              "      <th></th>\n",
              "      <th>State</th>\n",
              "      <th>County</th>\n",
              "      <th>Income</th>\n",
              "    </tr>\n",
              "  </thead>\n",
              "  <tbody>\n",
              "    <tr>\n",
              "      <th>1384</th>\n",
              "      <td>MN</td>\n",
              "      <td>St. Louis</td>\n",
              "      <td>48718</td>\n",
              "    </tr>\n",
              "    <tr>\n",
              "      <th>1500</th>\n",
              "      <td>MO</td>\n",
              "      <td>St. Louis</td>\n",
              "      <td>73016</td>\n",
              "    </tr>\n",
              "    <tr>\n",
              "      <th>1501</th>\n",
              "      <td>MO</td>\n",
              "      <td>St. Louis City</td>\n",
              "      <td>48202</td>\n",
              "    </tr>\n",
              "  </tbody>\n",
              "</table>\n",
              "</div>"
            ],
            "text/plain": [
              "     State          County  Income\n",
              "1384    MN       St. Louis   48718\n",
              "1500    MO       St. Louis   73016\n",
              "1501    MO  St. Louis City   48202"
            ]
          },
          "metadata": {
            "tags": []
          },
          "execution_count": 59
        }
      ]
    },
    {
      "cell_type": "markdown",
      "metadata": {
        "id": "cBskAO7LbOWc"
      },
      "source": [
        "Fix Fairfax City"
      ]
    },
    {
      "cell_type": "code",
      "metadata": {
        "id": "d2slqDszbOWc",
        "colab": {
          "base_uri": "https://localhost:8080/",
          "height": 78
        },
        "outputId": "bccac066-139f-47ce-b300-9c018bb640c2"
      },
      "source": [
        "income1_df[(income1_df['County'].str.contains('Fairfax'))]"
      ],
      "execution_count": null,
      "outputs": [
        {
          "output_type": "execute_result",
          "data": {
            "text/html": [
              "<div>\n",
              "<style scoped>\n",
              "    .dataframe tbody tr th:only-of-type {\n",
              "        vertical-align: middle;\n",
              "    }\n",
              "\n",
              "    .dataframe tbody tr th {\n",
              "        vertical-align: top;\n",
              "    }\n",
              "\n",
              "    .dataframe thead th {\n",
              "        text-align: right;\n",
              "    }\n",
              "</style>\n",
              "<table border=\"1\" class=\"dataframe\">\n",
              "  <thead>\n",
              "    <tr style=\"text-align: right;\">\n",
              "      <th></th>\n",
              "      <th>State</th>\n",
              "      <th>County</th>\n",
              "      <th>Income</th>\n",
              "    </tr>\n",
              "  </thead>\n",
              "  <tbody>\n",
              "    <tr>\n",
              "      <th>2906</th>\n",
              "      <td>Virginia</td>\n",
              "      <td>Fairfax, Fairfax City + Falls Church</td>\n",
              "      <td>86141</td>\n",
              "    </tr>\n",
              "  </tbody>\n",
              "</table>\n",
              "</div>"
            ],
            "text/plain": [
              "         State                                County  Income\n",
              "2906  Virginia  Fairfax, Fairfax City + Falls Church   86141"
            ]
          },
          "metadata": {
            "tags": []
          },
          "execution_count": 60
        }
      ]
    },
    {
      "cell_type": "code",
      "metadata": {
        "id": "GpJsKIgWbOWd",
        "colab": {
          "base_uri": "https://localhost:8080/",
          "height": 110
        },
        "outputId": "4897d32d-ca7a-4897-e29d-57a6f7c8c146"
      },
      "source": [
        "new_incomes_df[(new_incomes_df['County'].str.contains('Fairfax'))]"
      ],
      "execution_count": null,
      "outputs": [
        {
          "output_type": "execute_result",
          "data": {
            "text/html": [
              "<div>\n",
              "<style scoped>\n",
              "    .dataframe tbody tr th:only-of-type {\n",
              "        vertical-align: middle;\n",
              "    }\n",
              "\n",
              "    .dataframe tbody tr th {\n",
              "        vertical-align: top;\n",
              "    }\n",
              "\n",
              "    .dataframe thead th {\n",
              "        text-align: right;\n",
              "    }\n",
              "</style>\n",
              "<table border=\"1\" class=\"dataframe\">\n",
              "  <thead>\n",
              "    <tr style=\"text-align: right;\">\n",
              "      <th></th>\n",
              "      <th>State</th>\n",
              "      <th>County</th>\n",
              "      <th>Income</th>\n",
              "    </tr>\n",
              "  </thead>\n",
              "  <tbody>\n",
              "    <tr>\n",
              "      <th>2843</th>\n",
              "      <td>VA</td>\n",
              "      <td>Fairfax</td>\n",
              "      <td>86141</td>\n",
              "    </tr>\n",
              "    <tr>\n",
              "      <th>2844</th>\n",
              "      <td>VA</td>\n",
              "      <td>Fairfax</td>\n",
              "      <td>86141</td>\n",
              "    </tr>\n",
              "  </tbody>\n",
              "</table>\n",
              "</div>"
            ],
            "text/plain": [
              "     State   County  Income\n",
              "2843    VA  Fairfax   86141\n",
              "2844    VA  Fairfax   86141"
            ]
          },
          "metadata": {
            "tags": []
          },
          "execution_count": 61
        }
      ]
    },
    {
      "cell_type": "code",
      "metadata": {
        "id": "FTYYoyNobOWd",
        "colab": {
          "base_uri": "https://localhost:8080/",
          "height": 110
        },
        "outputId": "5ad42d1a-b19b-41f4-ab7d-eabb0f991ba3"
      },
      "source": [
        "new_incomes_df.iloc[2844, new_incomes_df.columns.get_loc('County')] += ' City'\n",
        "new_incomes_df[(new_incomes_df['County'].str.contains('Fairfax'))]"
      ],
      "execution_count": null,
      "outputs": [
        {
          "output_type": "execute_result",
          "data": {
            "text/html": [
              "<div>\n",
              "<style scoped>\n",
              "    .dataframe tbody tr th:only-of-type {\n",
              "        vertical-align: middle;\n",
              "    }\n",
              "\n",
              "    .dataframe tbody tr th {\n",
              "        vertical-align: top;\n",
              "    }\n",
              "\n",
              "    .dataframe thead th {\n",
              "        text-align: right;\n",
              "    }\n",
              "</style>\n",
              "<table border=\"1\" class=\"dataframe\">\n",
              "  <thead>\n",
              "    <tr style=\"text-align: right;\">\n",
              "      <th></th>\n",
              "      <th>State</th>\n",
              "      <th>County</th>\n",
              "      <th>Income</th>\n",
              "    </tr>\n",
              "  </thead>\n",
              "  <tbody>\n",
              "    <tr>\n",
              "      <th>2843</th>\n",
              "      <td>VA</td>\n",
              "      <td>Fairfax</td>\n",
              "      <td>86141</td>\n",
              "    </tr>\n",
              "    <tr>\n",
              "      <th>2844</th>\n",
              "      <td>VA</td>\n",
              "      <td>Fairfax City</td>\n",
              "      <td>86141</td>\n",
              "    </tr>\n",
              "  </tbody>\n",
              "</table>\n",
              "</div>"
            ],
            "text/plain": [
              "     State        County  Income\n",
              "2843    VA       Fairfax   86141\n",
              "2844    VA  Fairfax City   86141"
            ]
          },
          "metadata": {
            "tags": []
          },
          "execution_count": 62
        }
      ]
    },
    {
      "cell_type": "markdown",
      "metadata": {
        "id": "jSGOTq6-bOWd"
      },
      "source": [
        "Fix Franklin City"
      ]
    },
    {
      "cell_type": "code",
      "metadata": {
        "id": "T7ryiSEWbOWd",
        "colab": {
          "base_uri": "https://localhost:8080/",
          "height": 845
        },
        "outputId": "1397ce4c-f7d8-41a8-84ef-2f99e3091495"
      },
      "source": [
        "income1_df[(income1_df['County'].str.contains('Franklin'))]"
      ],
      "execution_count": null,
      "outputs": [
        {
          "output_type": "execute_result",
          "data": {
            "text/html": [
              "<div>\n",
              "<style scoped>\n",
              "    .dataframe tbody tr th:only-of-type {\n",
              "        vertical-align: middle;\n",
              "    }\n",
              "\n",
              "    .dataframe tbody tr th {\n",
              "        vertical-align: top;\n",
              "    }\n",
              "\n",
              "    .dataframe thead th {\n",
              "        text-align: right;\n",
              "    }\n",
              "</style>\n",
              "<table border=\"1\" class=\"dataframe\">\n",
              "  <thead>\n",
              "    <tr style=\"text-align: right;\">\n",
              "      <th></th>\n",
              "      <th>State</th>\n",
              "      <th>County</th>\n",
              "      <th>Income</th>\n",
              "    </tr>\n",
              "  </thead>\n",
              "  <tbody>\n",
              "    <tr>\n",
              "      <th>29</th>\n",
              "      <td>Alabama</td>\n",
              "      <td>Franklin</td>\n",
              "      <td>35292</td>\n",
              "    </tr>\n",
              "    <tr>\n",
              "      <th>134</th>\n",
              "      <td>Arkansas</td>\n",
              "      <td>Franklin</td>\n",
              "      <td>33404</td>\n",
              "    </tr>\n",
              "    <tr>\n",
              "      <th>336</th>\n",
              "      <td>Florida</td>\n",
              "      <td>Franklin</td>\n",
              "      <td>37320</td>\n",
              "    </tr>\n",
              "    <tr>\n",
              "      <th>444</th>\n",
              "      <td>Georgia</td>\n",
              "      <td>Franklin</td>\n",
              "      <td>34017</td>\n",
              "    </tr>\n",
              "    <tr>\n",
              "      <th>569</th>\n",
              "      <td>Idaho</td>\n",
              "      <td>Franklin</td>\n",
              "      <td>37293</td>\n",
              "    </tr>\n",
              "    <tr>\n",
              "      <th>620</th>\n",
              "      <td>Illinois</td>\n",
              "      <td>Franklin</td>\n",
              "      <td>38289</td>\n",
              "    </tr>\n",
              "    <tr>\n",
              "      <th>718</th>\n",
              "      <td>Indiana</td>\n",
              "      <td>Franklin</td>\n",
              "      <td>47664</td>\n",
              "    </tr>\n",
              "    <tr>\n",
              "      <th>821</th>\n",
              "      <td>Iowa</td>\n",
              "      <td>Franklin</td>\n",
              "      <td>53241</td>\n",
              "    </tr>\n",
              "    <tr>\n",
              "      <th>915</th>\n",
              "      <td>Kansas</td>\n",
              "      <td>Franklin</td>\n",
              "      <td>44472</td>\n",
              "    </tr>\n",
              "    <tr>\n",
              "      <th>1027</th>\n",
              "      <td>Kentucky</td>\n",
              "      <td>Franklin</td>\n",
              "      <td>43271</td>\n",
              "    </tr>\n",
              "    <tr>\n",
              "      <th>1131</th>\n",
              "      <td>Louisiana</td>\n",
              "      <td>Franklin</td>\n",
              "      <td>33250</td>\n",
              "    </tr>\n",
              "    <tr>\n",
              "      <th>1178</th>\n",
              "      <td>Maine</td>\n",
              "      <td>Franklin</td>\n",
              "      <td>40189</td>\n",
              "    </tr>\n",
              "    <tr>\n",
              "      <th>1220</th>\n",
              "      <td>Massachusetts</td>\n",
              "      <td>Franklin</td>\n",
              "      <td>56793</td>\n",
              "    </tr>\n",
              "    <tr>\n",
              "      <th>1417</th>\n",
              "      <td>Mississippi</td>\n",
              "      <td>Franklin</td>\n",
              "      <td>35353</td>\n",
              "    </tr>\n",
              "    <tr>\n",
              "      <th>1516</th>\n",
              "      <td>Missouri</td>\n",
              "      <td>Franklin</td>\n",
              "      <td>45672</td>\n",
              "    </tr>\n",
              "    <tr>\n",
              "      <th>1682</th>\n",
              "      <td>Nebraska</td>\n",
              "      <td>Franklin</td>\n",
              "      <td>49619</td>\n",
              "    </tr>\n",
              "    <tr>\n",
              "      <th>1842</th>\n",
              "      <td>New York</td>\n",
              "      <td>Franklin</td>\n",
              "      <td>39649</td>\n",
              "    </tr>\n",
              "    <tr>\n",
              "      <th>1922</th>\n",
              "      <td>North Carolina</td>\n",
              "      <td>Franklin</td>\n",
              "      <td>37089</td>\n",
              "    </tr>\n",
              "    <tr>\n",
              "      <th>2065</th>\n",
              "      <td>Ohio</td>\n",
              "      <td>Franklin</td>\n",
              "      <td>51644</td>\n",
              "    </tr>\n",
              "    <tr>\n",
              "      <th>2269</th>\n",
              "      <td>Pennsylvania</td>\n",
              "      <td>Franklin</td>\n",
              "      <td>47934</td>\n",
              "    </tr>\n",
              "    <tr>\n",
              "      <th>2451</th>\n",
              "      <td>Tennessee</td>\n",
              "      <td>Franklin</td>\n",
              "      <td>40370</td>\n",
              "    </tr>\n",
              "    <tr>\n",
              "      <th>2600</th>\n",
              "      <td>Texas</td>\n",
              "      <td>Franklin</td>\n",
              "      <td>41307</td>\n",
              "    </tr>\n",
              "    <tr>\n",
              "      <th>2809</th>\n",
              "      <td>Vermont</td>\n",
              "      <td>Franklin</td>\n",
              "      <td>47889</td>\n",
              "    </tr>\n",
              "    <tr>\n",
              "      <th>2843</th>\n",
              "      <td>Virginia</td>\n",
              "      <td>Franklin</td>\n",
              "      <td>41795</td>\n",
              "    </tr>\n",
              "    <tr>\n",
              "      <th>2918</th>\n",
              "      <td>Virginia</td>\n",
              "      <td>Southampton + Franklin</td>\n",
              "      <td>44215</td>\n",
              "    </tr>\n",
              "    <tr>\n",
              "      <th>2933</th>\n",
              "      <td>Washington</td>\n",
              "      <td>Franklin</td>\n",
              "      <td>39526</td>\n",
              "    </tr>\n",
              "  </tbody>\n",
              "</table>\n",
              "</div>"
            ],
            "text/plain": [
              "               State                  County  Income\n",
              "29           Alabama                Franklin   35292\n",
              "134         Arkansas                Franklin   33404\n",
              "336          Florida                Franklin   37320\n",
              "444          Georgia                Franklin   34017\n",
              "569            Idaho                Franklin   37293\n",
              "620         Illinois                Franklin   38289\n",
              "718          Indiana                Franklin   47664\n",
              "821             Iowa                Franklin   53241\n",
              "915           Kansas                Franklin   44472\n",
              "1027        Kentucky                Franklin   43271\n",
              "1131       Louisiana                Franklin   33250\n",
              "1178           Maine                Franklin   40189\n",
              "1220   Massachusetts                Franklin   56793\n",
              "1417     Mississippi                Franklin   35353\n",
              "1516        Missouri                Franklin   45672\n",
              "1682        Nebraska                Franklin   49619\n",
              "1842        New York                Franklin   39649\n",
              "1922  North Carolina                Franklin   37089\n",
              "2065            Ohio                Franklin   51644\n",
              "2269    Pennsylvania                Franklin   47934\n",
              "2451       Tennessee                Franklin   40370\n",
              "2600           Texas                Franklin   41307\n",
              "2809         Vermont                Franklin   47889\n",
              "2843        Virginia                Franklin   41795\n",
              "2918        Virginia  Southampton + Franklin   44215\n",
              "2933      Washington                Franklin   39526"
            ]
          },
          "metadata": {
            "tags": []
          },
          "execution_count": 63
        }
      ]
    },
    {
      "cell_type": "code",
      "metadata": {
        "id": "cNfnhemCbOWd",
        "colab": {
          "base_uri": "https://localhost:8080/",
          "height": 845
        },
        "outputId": "4c83c550-eed8-44c5-93e0-f0e7c1af62fa"
      },
      "source": [
        "new_incomes_df[(new_incomes_df['County'].str.contains('Franklin'))]"
      ],
      "execution_count": null,
      "outputs": [
        {
          "output_type": "execute_result",
          "data": {
            "text/html": [
              "<div>\n",
              "<style scoped>\n",
              "    .dataframe tbody tr th:only-of-type {\n",
              "        vertical-align: middle;\n",
              "    }\n",
              "\n",
              "    .dataframe tbody tr th {\n",
              "        vertical-align: top;\n",
              "    }\n",
              "\n",
              "    .dataframe thead th {\n",
              "        text-align: right;\n",
              "    }\n",
              "</style>\n",
              "<table border=\"1\" class=\"dataframe\">\n",
              "  <thead>\n",
              "    <tr style=\"text-align: right;\">\n",
              "      <th></th>\n",
              "      <th>State</th>\n",
              "      <th>County</th>\n",
              "      <th>Income</th>\n",
              "    </tr>\n",
              "  </thead>\n",
              "  <tbody>\n",
              "    <tr>\n",
              "      <th>58</th>\n",
              "      <td>AL</td>\n",
              "      <td>Franklin</td>\n",
              "      <td>35292</td>\n",
              "    </tr>\n",
              "    <tr>\n",
              "      <th>119</th>\n",
              "      <td>AR</td>\n",
              "      <td>Franklin</td>\n",
              "      <td>33404</td>\n",
              "    </tr>\n",
              "    <tr>\n",
              "      <th>336</th>\n",
              "      <td>FL</td>\n",
              "      <td>Franklin</td>\n",
              "      <td>37320</td>\n",
              "    </tr>\n",
              "    <tr>\n",
              "      <th>444</th>\n",
              "      <td>GA</td>\n",
              "      <td>Franklin</td>\n",
              "      <td>34017</td>\n",
              "    </tr>\n",
              "    <tr>\n",
              "      <th>584</th>\n",
              "      <td>IA</td>\n",
              "      <td>Franklin</td>\n",
              "      <td>53241</td>\n",
              "    </tr>\n",
              "    <tr>\n",
              "      <th>669</th>\n",
              "      <td>ID</td>\n",
              "      <td>Franklin</td>\n",
              "      <td>37293</td>\n",
              "    </tr>\n",
              "    <tr>\n",
              "      <th>720</th>\n",
              "      <td>IL</td>\n",
              "      <td>Franklin</td>\n",
              "      <td>38289</td>\n",
              "    </tr>\n",
              "    <tr>\n",
              "      <th>818</th>\n",
              "      <td>IN</td>\n",
              "      <td>Franklin</td>\n",
              "      <td>47664</td>\n",
              "    </tr>\n",
              "    <tr>\n",
              "      <th>916</th>\n",
              "      <td>KS</td>\n",
              "      <td>Franklin</td>\n",
              "      <td>44472</td>\n",
              "    </tr>\n",
              "    <tr>\n",
              "      <th>1028</th>\n",
              "      <td>KY</td>\n",
              "      <td>Franklin</td>\n",
              "      <td>43271</td>\n",
              "    </tr>\n",
              "    <tr>\n",
              "      <th>1132</th>\n",
              "      <td>LA</td>\n",
              "      <td>Franklin</td>\n",
              "      <td>33250</td>\n",
              "    </tr>\n",
              "    <tr>\n",
              "      <th>1181</th>\n",
              "      <td>MA</td>\n",
              "      <td>Franklin</td>\n",
              "      <td>56793</td>\n",
              "    </tr>\n",
              "    <tr>\n",
              "      <th>1217</th>\n",
              "      <td>ME</td>\n",
              "      <td>Franklin</td>\n",
              "      <td>40189</td>\n",
              "    </tr>\n",
              "    <tr>\n",
              "      <th>1435</th>\n",
              "      <td>MO</td>\n",
              "      <td>Franklin</td>\n",
              "      <td>45672</td>\n",
              "    </tr>\n",
              "    <tr>\n",
              "      <th>1533</th>\n",
              "      <td>MS</td>\n",
              "      <td>Franklin</td>\n",
              "      <td>35353</td>\n",
              "    </tr>\n",
              "    <tr>\n",
              "      <th>1687</th>\n",
              "      <td>NC</td>\n",
              "      <td>Franklin</td>\n",
              "      <td>37089</td>\n",
              "    </tr>\n",
              "    <tr>\n",
              "      <th>1836</th>\n",
              "      <td>NE</td>\n",
              "      <td>Franklin</td>\n",
              "      <td>49619</td>\n",
              "    </tr>\n",
              "    <tr>\n",
              "      <th>1996</th>\n",
              "      <td>NY</td>\n",
              "      <td>Franklin</td>\n",
              "      <td>39649</td>\n",
              "    </tr>\n",
              "    <tr>\n",
              "      <th>2066</th>\n",
              "      <td>OH</td>\n",
              "      <td>Franklin</td>\n",
              "      <td>51644</td>\n",
              "    </tr>\n",
              "    <tr>\n",
              "      <th>2270</th>\n",
              "      <td>PA</td>\n",
              "      <td>Franklin</td>\n",
              "      <td>47934</td>\n",
              "    </tr>\n",
              "    <tr>\n",
              "      <th>2452</th>\n",
              "      <td>TN</td>\n",
              "      <td>Franklin</td>\n",
              "      <td>40370</td>\n",
              "    </tr>\n",
              "    <tr>\n",
              "      <th>2601</th>\n",
              "      <td>TX</td>\n",
              "      <td>Franklin</td>\n",
              "      <td>41307</td>\n",
              "    </tr>\n",
              "    <tr>\n",
              "      <th>2849</th>\n",
              "      <td>VA</td>\n",
              "      <td>Franklin</td>\n",
              "      <td>41795</td>\n",
              "    </tr>\n",
              "    <tr>\n",
              "      <th>2920</th>\n",
              "      <td>VA</td>\n",
              "      <td>Franklin</td>\n",
              "      <td>44215</td>\n",
              "    </tr>\n",
              "    <tr>\n",
              "      <th>2943</th>\n",
              "      <td>VT</td>\n",
              "      <td>Franklin</td>\n",
              "      <td>47889</td>\n",
              "    </tr>\n",
              "    <tr>\n",
              "      <th>2962</th>\n",
              "      <td>WA</td>\n",
              "      <td>Franklin</td>\n",
              "      <td>39526</td>\n",
              "    </tr>\n",
              "  </tbody>\n",
              "</table>\n",
              "</div>"
            ],
            "text/plain": [
              "     State    County  Income\n",
              "58      AL  Franklin   35292\n",
              "119     AR  Franklin   33404\n",
              "336     FL  Franklin   37320\n",
              "444     GA  Franklin   34017\n",
              "584     IA  Franklin   53241\n",
              "669     ID  Franklin   37293\n",
              "720     IL  Franklin   38289\n",
              "818     IN  Franklin   47664\n",
              "916     KS  Franklin   44472\n",
              "1028    KY  Franklin   43271\n",
              "1132    LA  Franklin   33250\n",
              "1181    MA  Franklin   56793\n",
              "1217    ME  Franklin   40189\n",
              "1435    MO  Franklin   45672\n",
              "1533    MS  Franklin   35353\n",
              "1687    NC  Franklin   37089\n",
              "1836    NE  Franklin   49619\n",
              "1996    NY  Franklin   39649\n",
              "2066    OH  Franklin   51644\n",
              "2270    PA  Franklin   47934\n",
              "2452    TN  Franklin   40370\n",
              "2601    TX  Franklin   41307\n",
              "2849    VA  Franklin   41795\n",
              "2920    VA  Franklin   44215\n",
              "2943    VT  Franklin   47889\n",
              "2962    WA  Franklin   39526"
            ]
          },
          "metadata": {
            "tags": []
          },
          "execution_count": 64
        }
      ]
    },
    {
      "cell_type": "code",
      "metadata": {
        "id": "Qj7Z2yHdbOWf",
        "colab": {
          "base_uri": "https://localhost:8080/",
          "height": 845
        },
        "outputId": "64dea4ec-8f5a-4705-b78c-b2bf4835d943"
      },
      "source": [
        "new_incomes_df.iloc[2920, new_incomes_df.columns.get_loc('County')] += ' City'\n",
        "new_incomes_df[(new_incomes_df['County'].str.contains('Franklin'))]"
      ],
      "execution_count": null,
      "outputs": [
        {
          "output_type": "execute_result",
          "data": {
            "text/html": [
              "<div>\n",
              "<style scoped>\n",
              "    .dataframe tbody tr th:only-of-type {\n",
              "        vertical-align: middle;\n",
              "    }\n",
              "\n",
              "    .dataframe tbody tr th {\n",
              "        vertical-align: top;\n",
              "    }\n",
              "\n",
              "    .dataframe thead th {\n",
              "        text-align: right;\n",
              "    }\n",
              "</style>\n",
              "<table border=\"1\" class=\"dataframe\">\n",
              "  <thead>\n",
              "    <tr style=\"text-align: right;\">\n",
              "      <th></th>\n",
              "      <th>State</th>\n",
              "      <th>County</th>\n",
              "      <th>Income</th>\n",
              "    </tr>\n",
              "  </thead>\n",
              "  <tbody>\n",
              "    <tr>\n",
              "      <th>58</th>\n",
              "      <td>AL</td>\n",
              "      <td>Franklin</td>\n",
              "      <td>35292</td>\n",
              "    </tr>\n",
              "    <tr>\n",
              "      <th>119</th>\n",
              "      <td>AR</td>\n",
              "      <td>Franklin</td>\n",
              "      <td>33404</td>\n",
              "    </tr>\n",
              "    <tr>\n",
              "      <th>336</th>\n",
              "      <td>FL</td>\n",
              "      <td>Franklin</td>\n",
              "      <td>37320</td>\n",
              "    </tr>\n",
              "    <tr>\n",
              "      <th>444</th>\n",
              "      <td>GA</td>\n",
              "      <td>Franklin</td>\n",
              "      <td>34017</td>\n",
              "    </tr>\n",
              "    <tr>\n",
              "      <th>584</th>\n",
              "      <td>IA</td>\n",
              "      <td>Franklin</td>\n",
              "      <td>53241</td>\n",
              "    </tr>\n",
              "    <tr>\n",
              "      <th>669</th>\n",
              "      <td>ID</td>\n",
              "      <td>Franklin</td>\n",
              "      <td>37293</td>\n",
              "    </tr>\n",
              "    <tr>\n",
              "      <th>720</th>\n",
              "      <td>IL</td>\n",
              "      <td>Franklin</td>\n",
              "      <td>38289</td>\n",
              "    </tr>\n",
              "    <tr>\n",
              "      <th>818</th>\n",
              "      <td>IN</td>\n",
              "      <td>Franklin</td>\n",
              "      <td>47664</td>\n",
              "    </tr>\n",
              "    <tr>\n",
              "      <th>916</th>\n",
              "      <td>KS</td>\n",
              "      <td>Franklin</td>\n",
              "      <td>44472</td>\n",
              "    </tr>\n",
              "    <tr>\n",
              "      <th>1028</th>\n",
              "      <td>KY</td>\n",
              "      <td>Franklin</td>\n",
              "      <td>43271</td>\n",
              "    </tr>\n",
              "    <tr>\n",
              "      <th>1132</th>\n",
              "      <td>LA</td>\n",
              "      <td>Franklin</td>\n",
              "      <td>33250</td>\n",
              "    </tr>\n",
              "    <tr>\n",
              "      <th>1181</th>\n",
              "      <td>MA</td>\n",
              "      <td>Franklin</td>\n",
              "      <td>56793</td>\n",
              "    </tr>\n",
              "    <tr>\n",
              "      <th>1217</th>\n",
              "      <td>ME</td>\n",
              "      <td>Franklin</td>\n",
              "      <td>40189</td>\n",
              "    </tr>\n",
              "    <tr>\n",
              "      <th>1435</th>\n",
              "      <td>MO</td>\n",
              "      <td>Franklin</td>\n",
              "      <td>45672</td>\n",
              "    </tr>\n",
              "    <tr>\n",
              "      <th>1533</th>\n",
              "      <td>MS</td>\n",
              "      <td>Franklin</td>\n",
              "      <td>35353</td>\n",
              "    </tr>\n",
              "    <tr>\n",
              "      <th>1687</th>\n",
              "      <td>NC</td>\n",
              "      <td>Franklin</td>\n",
              "      <td>37089</td>\n",
              "    </tr>\n",
              "    <tr>\n",
              "      <th>1836</th>\n",
              "      <td>NE</td>\n",
              "      <td>Franklin</td>\n",
              "      <td>49619</td>\n",
              "    </tr>\n",
              "    <tr>\n",
              "      <th>1996</th>\n",
              "      <td>NY</td>\n",
              "      <td>Franklin</td>\n",
              "      <td>39649</td>\n",
              "    </tr>\n",
              "    <tr>\n",
              "      <th>2066</th>\n",
              "      <td>OH</td>\n",
              "      <td>Franklin</td>\n",
              "      <td>51644</td>\n",
              "    </tr>\n",
              "    <tr>\n",
              "      <th>2270</th>\n",
              "      <td>PA</td>\n",
              "      <td>Franklin</td>\n",
              "      <td>47934</td>\n",
              "    </tr>\n",
              "    <tr>\n",
              "      <th>2452</th>\n",
              "      <td>TN</td>\n",
              "      <td>Franklin</td>\n",
              "      <td>40370</td>\n",
              "    </tr>\n",
              "    <tr>\n",
              "      <th>2601</th>\n",
              "      <td>TX</td>\n",
              "      <td>Franklin</td>\n",
              "      <td>41307</td>\n",
              "    </tr>\n",
              "    <tr>\n",
              "      <th>2849</th>\n",
              "      <td>VA</td>\n",
              "      <td>Franklin</td>\n",
              "      <td>41795</td>\n",
              "    </tr>\n",
              "    <tr>\n",
              "      <th>2920</th>\n",
              "      <td>VA</td>\n",
              "      <td>Franklin City</td>\n",
              "      <td>44215</td>\n",
              "    </tr>\n",
              "    <tr>\n",
              "      <th>2943</th>\n",
              "      <td>VT</td>\n",
              "      <td>Franklin</td>\n",
              "      <td>47889</td>\n",
              "    </tr>\n",
              "    <tr>\n",
              "      <th>2962</th>\n",
              "      <td>WA</td>\n",
              "      <td>Franklin</td>\n",
              "      <td>39526</td>\n",
              "    </tr>\n",
              "  </tbody>\n",
              "</table>\n",
              "</div>"
            ],
            "text/plain": [
              "     State         County  Income\n",
              "58      AL       Franklin   35292\n",
              "119     AR       Franklin   33404\n",
              "336     FL       Franklin   37320\n",
              "444     GA       Franklin   34017\n",
              "584     IA       Franklin   53241\n",
              "669     ID       Franklin   37293\n",
              "720     IL       Franklin   38289\n",
              "818     IN       Franklin   47664\n",
              "916     KS       Franklin   44472\n",
              "1028    KY       Franklin   43271\n",
              "1132    LA       Franklin   33250\n",
              "1181    MA       Franklin   56793\n",
              "1217    ME       Franklin   40189\n",
              "1435    MO       Franklin   45672\n",
              "1533    MS       Franklin   35353\n",
              "1687    NC       Franklin   37089\n",
              "1836    NE       Franklin   49619\n",
              "1996    NY       Franklin   39649\n",
              "2066    OH       Franklin   51644\n",
              "2270    PA       Franklin   47934\n",
              "2452    TN       Franklin   40370\n",
              "2601    TX       Franklin   41307\n",
              "2849    VA       Franklin   41795\n",
              "2920    VA  Franklin City   44215\n",
              "2943    VT       Franklin   47889\n",
              "2962    WA       Franklin   39526"
            ]
          },
          "metadata": {
            "tags": []
          },
          "execution_count": 65
        }
      ]
    },
    {
      "cell_type": "markdown",
      "metadata": {
        "id": "ecPx_DoGbOWf"
      },
      "source": [
        "Fix Richmond"
      ]
    },
    {
      "cell_type": "code",
      "metadata": {
        "id": "F194FrlubOWf",
        "colab": {
          "base_uri": "https://localhost:8080/",
          "height": 202
        },
        "outputId": "de603f52-2edb-4804-ab70-898afacc09e4"
      },
      "source": [
        "income1_df[(income1_df['County'].str.contains('Richmond'))]"
      ],
      "execution_count": null,
      "outputs": [
        {
          "output_type": "execute_result",
          "data": {
            "text/html": [
              "<div>\n",
              "<style scoped>\n",
              "    .dataframe tbody tr th:only-of-type {\n",
              "        vertical-align: middle;\n",
              "    }\n",
              "\n",
              "    .dataframe tbody tr th {\n",
              "        vertical-align: top;\n",
              "    }\n",
              "\n",
              "    .dataframe thead th {\n",
              "        text-align: right;\n",
              "    }\n",
              "</style>\n",
              "<table border=\"1\" class=\"dataframe\">\n",
              "  <thead>\n",
              "    <tr style=\"text-align: right;\">\n",
              "      <th></th>\n",
              "      <th>State</th>\n",
              "      <th>County</th>\n",
              "      <th>Income</th>\n",
              "    </tr>\n",
              "  </thead>\n",
              "  <tbody>\n",
              "    <tr>\n",
              "      <th>506</th>\n",
              "      <td>Georgia</td>\n",
              "      <td>Richmond</td>\n",
              "      <td>39370</td>\n",
              "    </tr>\n",
              "    <tr>\n",
              "      <th>1868</th>\n",
              "      <td>New York</td>\n",
              "      <td>Richmond</td>\n",
              "      <td>58890</td>\n",
              "    </tr>\n",
              "    <tr>\n",
              "      <th>1964</th>\n",
              "      <td>North Carolina</td>\n",
              "      <td>Richmond</td>\n",
              "      <td>35630</td>\n",
              "    </tr>\n",
              "    <tr>\n",
              "      <th>2878</th>\n",
              "      <td>Virginia</td>\n",
              "      <td>Richmond</td>\n",
              "      <td>37741</td>\n",
              "    </tr>\n",
              "    <tr>\n",
              "      <th>2896</th>\n",
              "      <td>Virginia</td>\n",
              "      <td>Richmond</td>\n",
              "      <td>56560</td>\n",
              "    </tr>\n",
              "  </tbody>\n",
              "</table>\n",
              "</div>"
            ],
            "text/plain": [
              "               State    County  Income\n",
              "506          Georgia  Richmond   39370\n",
              "1868        New York  Richmond   58890\n",
              "1964  North Carolina  Richmond   35630\n",
              "2878        Virginia  Richmond   37741\n",
              "2896        Virginia  Richmond   56560"
            ]
          },
          "metadata": {
            "tags": []
          },
          "execution_count": 66
        }
      ]
    },
    {
      "cell_type": "code",
      "metadata": {
        "id": "Wao0DqaqbOWf",
        "colab": {
          "base_uri": "https://localhost:8080/",
          "height": 202
        },
        "outputId": "f851f938-826b-439f-d552-e5493172ee86"
      },
      "source": [
        "new_incomes_df[(new_incomes_df['County'].str.contains('Richmond'))]"
      ],
      "execution_count": null,
      "outputs": [
        {
          "output_type": "execute_result",
          "data": {
            "text/html": [
              "<div>\n",
              "<style scoped>\n",
              "    .dataframe tbody tr th:only-of-type {\n",
              "        vertical-align: middle;\n",
              "    }\n",
              "\n",
              "    .dataframe tbody tr th {\n",
              "        vertical-align: top;\n",
              "    }\n",
              "\n",
              "    .dataframe thead th {\n",
              "        text-align: right;\n",
              "    }\n",
              "</style>\n",
              "<table border=\"1\" class=\"dataframe\">\n",
              "  <thead>\n",
              "    <tr style=\"text-align: right;\">\n",
              "      <th></th>\n",
              "      <th>State</th>\n",
              "      <th>County</th>\n",
              "      <th>Income</th>\n",
              "    </tr>\n",
              "  </thead>\n",
              "  <tbody>\n",
              "    <tr>\n",
              "      <th>506</th>\n",
              "      <td>GA</td>\n",
              "      <td>Richmond</td>\n",
              "      <td>39370</td>\n",
              "    </tr>\n",
              "    <tr>\n",
              "      <th>1729</th>\n",
              "      <td>NC</td>\n",
              "      <td>Richmond</td>\n",
              "      <td>35630</td>\n",
              "    </tr>\n",
              "    <tr>\n",
              "      <th>2022</th>\n",
              "      <td>NY</td>\n",
              "      <td>Richmond</td>\n",
              "      <td>58890</td>\n",
              "    </tr>\n",
              "    <tr>\n",
              "      <th>2905</th>\n",
              "      <td>VA</td>\n",
              "      <td>Richmond</td>\n",
              "      <td>37741</td>\n",
              "    </tr>\n",
              "    <tr>\n",
              "      <th>2906</th>\n",
              "      <td>VA</td>\n",
              "      <td>Richmond</td>\n",
              "      <td>56560</td>\n",
              "    </tr>\n",
              "  </tbody>\n",
              "</table>\n",
              "</div>"
            ],
            "text/plain": [
              "     State    County  Income\n",
              "506     GA  Richmond   39370\n",
              "1729    NC  Richmond   35630\n",
              "2022    NY  Richmond   58890\n",
              "2905    VA  Richmond   37741\n",
              "2906    VA  Richmond   56560"
            ]
          },
          "metadata": {
            "tags": []
          },
          "execution_count": 67
        }
      ]
    },
    {
      "cell_type": "code",
      "metadata": {
        "id": "sE4H7y3bbOWg",
        "colab": {
          "base_uri": "https://localhost:8080/",
          "height": 202
        },
        "outputId": "b5ff070b-39d3-41de-9b18-5fef5df5e9cc"
      },
      "source": [
        "new_incomes_df.iloc[2906, new_incomes_df.columns.get_loc('County')] += ' City'\n",
        "new_incomes_df[(new_incomes_df['County'].str.contains('Richmond'))]"
      ],
      "execution_count": null,
      "outputs": [
        {
          "output_type": "execute_result",
          "data": {
            "text/html": [
              "<div>\n",
              "<style scoped>\n",
              "    .dataframe tbody tr th:only-of-type {\n",
              "        vertical-align: middle;\n",
              "    }\n",
              "\n",
              "    .dataframe tbody tr th {\n",
              "        vertical-align: top;\n",
              "    }\n",
              "\n",
              "    .dataframe thead th {\n",
              "        text-align: right;\n",
              "    }\n",
              "</style>\n",
              "<table border=\"1\" class=\"dataframe\">\n",
              "  <thead>\n",
              "    <tr style=\"text-align: right;\">\n",
              "      <th></th>\n",
              "      <th>State</th>\n",
              "      <th>County</th>\n",
              "      <th>Income</th>\n",
              "    </tr>\n",
              "  </thead>\n",
              "  <tbody>\n",
              "    <tr>\n",
              "      <th>506</th>\n",
              "      <td>GA</td>\n",
              "      <td>Richmond</td>\n",
              "      <td>39370</td>\n",
              "    </tr>\n",
              "    <tr>\n",
              "      <th>1729</th>\n",
              "      <td>NC</td>\n",
              "      <td>Richmond</td>\n",
              "      <td>35630</td>\n",
              "    </tr>\n",
              "    <tr>\n",
              "      <th>2022</th>\n",
              "      <td>NY</td>\n",
              "      <td>Richmond</td>\n",
              "      <td>58890</td>\n",
              "    </tr>\n",
              "    <tr>\n",
              "      <th>2905</th>\n",
              "      <td>VA</td>\n",
              "      <td>Richmond</td>\n",
              "      <td>37741</td>\n",
              "    </tr>\n",
              "    <tr>\n",
              "      <th>2906</th>\n",
              "      <td>VA</td>\n",
              "      <td>Richmond City</td>\n",
              "      <td>56560</td>\n",
              "    </tr>\n",
              "  </tbody>\n",
              "</table>\n",
              "</div>"
            ],
            "text/plain": [
              "     State         County  Income\n",
              "506     GA       Richmond   39370\n",
              "1729    NC       Richmond   35630\n",
              "2022    NY       Richmond   58890\n",
              "2905    VA       Richmond   37741\n",
              "2906    VA  Richmond City   56560"
            ]
          },
          "metadata": {
            "tags": []
          },
          "execution_count": 68
        }
      ]
    },
    {
      "cell_type": "code",
      "metadata": {
        "id": "S2odieowbOWg",
        "colab": {
          "base_uri": "https://localhost:8080/",
          "height": 202
        },
        "outputId": "a39ece9f-d0e1-4519-bf96-fb52f1a016df"
      },
      "source": [
        "vax_df[(vax_df['County'].str.contains('Richmond'))]"
      ],
      "execution_count": null,
      "outputs": [
        {
          "output_type": "execute_result",
          "data": {
            "text/html": [
              "<div>\n",
              "<style scoped>\n",
              "    .dataframe tbody tr th:only-of-type {\n",
              "        vertical-align: middle;\n",
              "    }\n",
              "\n",
              "    .dataframe tbody tr th {\n",
              "        vertical-align: top;\n",
              "    }\n",
              "\n",
              "    .dataframe thead th {\n",
              "        text-align: right;\n",
              "    }\n",
              "</style>\n",
              "<table border=\"1\" class=\"dataframe\">\n",
              "  <thead>\n",
              "    <tr style=\"text-align: right;\">\n",
              "      <th></th>\n",
              "      <th>index</th>\n",
              "      <th>Date</th>\n",
              "      <th>FIPS</th>\n",
              "      <th>State</th>\n",
              "      <th>County</th>\n",
              "      <th>Vaccinated</th>\n",
              "      <th>Vaccinated Pct</th>\n",
              "    </tr>\n",
              "  </thead>\n",
              "  <tbody>\n",
              "    <tr>\n",
              "      <th>507</th>\n",
              "      <td>2795</td>\n",
              "      <td>2021-06-11</td>\n",
              "      <td>13245</td>\n",
              "      <td>GA</td>\n",
              "      <td>Richmond</td>\n",
              "      <td>44613</td>\n",
              "      <td>22.0</td>\n",
              "    </tr>\n",
              "    <tr>\n",
              "      <th>1730</th>\n",
              "      <td>3042</td>\n",
              "      <td>2021-06-11</td>\n",
              "      <td>37153</td>\n",
              "      <td>NC</td>\n",
              "      <td>Richmond</td>\n",
              "      <td>13316</td>\n",
              "      <td>29.7</td>\n",
              "    </tr>\n",
              "    <tr>\n",
              "      <th>2023</th>\n",
              "      <td>2913</td>\n",
              "      <td>2021-06-11</td>\n",
              "      <td>36085</td>\n",
              "      <td>NY</td>\n",
              "      <td>Richmond</td>\n",
              "      <td>205773</td>\n",
              "      <td>43.2</td>\n",
              "    </tr>\n",
              "    <tr>\n",
              "      <th>2910</th>\n",
              "      <td>391</td>\n",
              "      <td>2021-06-11</td>\n",
              "      <td>51159</td>\n",
              "      <td>VA</td>\n",
              "      <td>Richmond</td>\n",
              "      <td>662</td>\n",
              "      <td>7.3</td>\n",
              "    </tr>\n",
              "    <tr>\n",
              "      <th>2911</th>\n",
              "      <td>2830</td>\n",
              "      <td>2021-06-11</td>\n",
              "      <td>51760</td>\n",
              "      <td>VA</td>\n",
              "      <td>Richmond City</td>\n",
              "      <td>28338</td>\n",
              "      <td>12.3</td>\n",
              "    </tr>\n",
              "  </tbody>\n",
              "</table>\n",
              "</div>"
            ],
            "text/plain": [
              "      index       Date   FIPS State         County  Vaccinated  Vaccinated Pct\n",
              "507    2795 2021-06-11  13245    GA       Richmond       44613            22.0\n",
              "1730   3042 2021-06-11  37153    NC       Richmond       13316            29.7\n",
              "2023   2913 2021-06-11  36085    NY       Richmond      205773            43.2\n",
              "2910    391 2021-06-11  51159    VA       Richmond         662             7.3\n",
              "2911   2830 2021-06-11  51760    VA  Richmond City       28338            12.3"
            ]
          },
          "metadata": {
            "tags": []
          },
          "execution_count": 69
        }
      ]
    },
    {
      "cell_type": "markdown",
      "metadata": {
        "id": "Yo7cjXhxbOWg"
      },
      "source": [
        "Fix Roanoke"
      ]
    },
    {
      "cell_type": "code",
      "metadata": {
        "id": "xh2uAz3CbOWg",
        "colab": {
          "base_uri": "https://localhost:8080/",
          "height": 110
        },
        "outputId": "7d55f3e6-a50d-492e-c5a7-64d0c3d533e6"
      },
      "source": [
        "income1_df[(income1_df['County'].str.contains('Roanoke'))]"
      ],
      "execution_count": null,
      "outputs": [
        {
          "output_type": "execute_result",
          "data": {
            "text/html": [
              "<div>\n",
              "<style scoped>\n",
              "    .dataframe tbody tr th:only-of-type {\n",
              "        vertical-align: middle;\n",
              "    }\n",
              "\n",
              "    .dataframe tbody tr th {\n",
              "        vertical-align: top;\n",
              "    }\n",
              "\n",
              "    .dataframe thead th {\n",
              "        text-align: right;\n",
              "    }\n",
              "</style>\n",
              "<table border=\"1\" class=\"dataframe\">\n",
              "  <thead>\n",
              "    <tr style=\"text-align: right;\">\n",
              "      <th></th>\n",
              "      <th>State</th>\n",
              "      <th>County</th>\n",
              "      <th>Income</th>\n",
              "    </tr>\n",
              "  </thead>\n",
              "  <tbody>\n",
              "    <tr>\n",
              "      <th>2897</th>\n",
              "      <td>Virginia</td>\n",
              "      <td>Roanoke</td>\n",
              "      <td>45277</td>\n",
              "    </tr>\n",
              "    <tr>\n",
              "      <th>2915</th>\n",
              "      <td>Virginia</td>\n",
              "      <td>Roanoke + Salem</td>\n",
              "      <td>53489</td>\n",
              "    </tr>\n",
              "  </tbody>\n",
              "</table>\n",
              "</div>"
            ],
            "text/plain": [
              "         State           County  Income\n",
              "2897  Virginia          Roanoke   45277\n",
              "2915  Virginia  Roanoke + Salem   53489"
            ]
          },
          "metadata": {
            "tags": []
          },
          "execution_count": 70
        }
      ]
    },
    {
      "cell_type": "code",
      "metadata": {
        "id": "uQHaCMy9bOWg",
        "colab": {
          "base_uri": "https://localhost:8080/",
          "height": 110
        },
        "outputId": "74019736-3597-4887-e2ed-b457737733ba"
      },
      "source": [
        "new_incomes_df[(new_incomes_df['County'].str.contains('Roanoke'))]"
      ],
      "execution_count": null,
      "outputs": [
        {
          "output_type": "execute_result",
          "data": {
            "text/html": [
              "<div>\n",
              "<style scoped>\n",
              "    .dataframe tbody tr th:only-of-type {\n",
              "        vertical-align: middle;\n",
              "    }\n",
              "\n",
              "    .dataframe tbody tr th {\n",
              "        vertical-align: top;\n",
              "    }\n",
              "\n",
              "    .dataframe thead th {\n",
              "        text-align: right;\n",
              "    }\n",
              "</style>\n",
              "<table border=\"1\" class=\"dataframe\">\n",
              "  <thead>\n",
              "    <tr style=\"text-align: right;\">\n",
              "      <th></th>\n",
              "      <th>State</th>\n",
              "      <th>County</th>\n",
              "      <th>Income</th>\n",
              "    </tr>\n",
              "  </thead>\n",
              "  <tbody>\n",
              "    <tr>\n",
              "      <th>2907</th>\n",
              "      <td>VA</td>\n",
              "      <td>Roanoke</td>\n",
              "      <td>45277</td>\n",
              "    </tr>\n",
              "    <tr>\n",
              "      <th>2908</th>\n",
              "      <td>VA</td>\n",
              "      <td>Roanoke</td>\n",
              "      <td>53489</td>\n",
              "    </tr>\n",
              "  </tbody>\n",
              "</table>\n",
              "</div>"
            ],
            "text/plain": [
              "     State   County  Income\n",
              "2907    VA  Roanoke   45277\n",
              "2908    VA  Roanoke   53489"
            ]
          },
          "metadata": {
            "tags": []
          },
          "execution_count": 71
        }
      ]
    },
    {
      "cell_type": "code",
      "metadata": {
        "id": "GquQUpPhbOWh",
        "colab": {
          "base_uri": "https://localhost:8080/",
          "height": 110
        },
        "outputId": "43a764c7-2944-48c6-a8e7-a0f464b914a0"
      },
      "source": [
        "new_incomes_df.iloc[2907, new_incomes_df.columns.get_loc('County')] += ' City'\n",
        "new_incomes_df[(new_incomes_df['County'].str.contains('Roanoke'))]"
      ],
      "execution_count": null,
      "outputs": [
        {
          "output_type": "execute_result",
          "data": {
            "text/html": [
              "<div>\n",
              "<style scoped>\n",
              "    .dataframe tbody tr th:only-of-type {\n",
              "        vertical-align: middle;\n",
              "    }\n",
              "\n",
              "    .dataframe tbody tr th {\n",
              "        vertical-align: top;\n",
              "    }\n",
              "\n",
              "    .dataframe thead th {\n",
              "        text-align: right;\n",
              "    }\n",
              "</style>\n",
              "<table border=\"1\" class=\"dataframe\">\n",
              "  <thead>\n",
              "    <tr style=\"text-align: right;\">\n",
              "      <th></th>\n",
              "      <th>State</th>\n",
              "      <th>County</th>\n",
              "      <th>Income</th>\n",
              "    </tr>\n",
              "  </thead>\n",
              "  <tbody>\n",
              "    <tr>\n",
              "      <th>2907</th>\n",
              "      <td>VA</td>\n",
              "      <td>Roanoke City</td>\n",
              "      <td>45277</td>\n",
              "    </tr>\n",
              "    <tr>\n",
              "      <th>2908</th>\n",
              "      <td>VA</td>\n",
              "      <td>Roanoke</td>\n",
              "      <td>53489</td>\n",
              "    </tr>\n",
              "  </tbody>\n",
              "</table>\n",
              "</div>"
            ],
            "text/plain": [
              "     State        County  Income\n",
              "2907    VA  Roanoke City   45277\n",
              "2908    VA       Roanoke   53489"
            ]
          },
          "metadata": {
            "tags": []
          },
          "execution_count": 72
        }
      ]
    },
    {
      "cell_type": "code",
      "metadata": {
        "id": "omnv0bdibOWh",
        "colab": {
          "base_uri": "https://localhost:8080/",
          "height": 110
        },
        "outputId": "619ad11a-262e-4d83-96ae-cd8aec10493e"
      },
      "source": [
        "vax_df[(vax_df['County'].str.contains('Roanoke'))]"
      ],
      "execution_count": null,
      "outputs": [
        {
          "output_type": "execute_result",
          "data": {
            "text/html": [
              "<div>\n",
              "<style scoped>\n",
              "    .dataframe tbody tr th:only-of-type {\n",
              "        vertical-align: middle;\n",
              "    }\n",
              "\n",
              "    .dataframe tbody tr th {\n",
              "        vertical-align: top;\n",
              "    }\n",
              "\n",
              "    .dataframe thead th {\n",
              "        text-align: right;\n",
              "    }\n",
              "</style>\n",
              "<table border=\"1\" class=\"dataframe\">\n",
              "  <thead>\n",
              "    <tr style=\"text-align: right;\">\n",
              "      <th></th>\n",
              "      <th>index</th>\n",
              "      <th>Date</th>\n",
              "      <th>FIPS</th>\n",
              "      <th>State</th>\n",
              "      <th>County</th>\n",
              "      <th>Vaccinated</th>\n",
              "      <th>Vaccinated Pct</th>\n",
              "    </tr>\n",
              "  </thead>\n",
              "  <tbody>\n",
              "    <tr>\n",
              "      <th>2912</th>\n",
              "      <td>831</td>\n",
              "      <td>2021-06-11</td>\n",
              "      <td>51161</td>\n",
              "      <td>VA</td>\n",
              "      <td>Roanoke</td>\n",
              "      <td>1408</td>\n",
              "      <td>1.5</td>\n",
              "    </tr>\n",
              "    <tr>\n",
              "      <th>2913</th>\n",
              "      <td>2656</td>\n",
              "      <td>2021-06-11</td>\n",
              "      <td>51770</td>\n",
              "      <td>VA</td>\n",
              "      <td>Roanoke City</td>\n",
              "      <td>6176</td>\n",
              "      <td>6.2</td>\n",
              "    </tr>\n",
              "  </tbody>\n",
              "</table>\n",
              "</div>"
            ],
            "text/plain": [
              "      index       Date   FIPS State        County  Vaccinated  Vaccinated Pct\n",
              "2912    831 2021-06-11  51161    VA       Roanoke        1408             1.5\n",
              "2913   2656 2021-06-11  51770    VA  Roanoke City        6176             6.2"
            ]
          },
          "metadata": {
            "tags": []
          },
          "execution_count": 73
        }
      ]
    },
    {
      "cell_type": "markdown",
      "metadata": {
        "id": "qeE4Ce0hbOWh"
      },
      "source": [
        "----"
      ]
    },
    {
      "cell_type": "markdown",
      "metadata": {
        "id": "pcZvd-KGbOWh"
      },
      "source": [
        "Merge again to get a clean combination"
      ]
    },
    {
      "cell_type": "code",
      "metadata": {
        "id": "1Yx8pAnEbOWh",
        "colab": {
          "base_uri": "https://localhost:8080/",
          "height": 141
        },
        "outputId": "49a71334-881d-49c5-d482-4fa9f390cca1"
      },
      "source": [
        "merged_df = vax_df.merge(new_incomes_df[['State', 'County', 'Income']], how = 'inner')\n",
        "merged_df.head(3)"
      ],
      "execution_count": null,
      "outputs": [
        {
          "output_type": "execute_result",
          "data": {
            "text/html": [
              "<div>\n",
              "<style scoped>\n",
              "    .dataframe tbody tr th:only-of-type {\n",
              "        vertical-align: middle;\n",
              "    }\n",
              "\n",
              "    .dataframe tbody tr th {\n",
              "        vertical-align: top;\n",
              "    }\n",
              "\n",
              "    .dataframe thead th {\n",
              "        text-align: right;\n",
              "    }\n",
              "</style>\n",
              "<table border=\"1\" class=\"dataframe\">\n",
              "  <thead>\n",
              "    <tr style=\"text-align: right;\">\n",
              "      <th></th>\n",
              "      <th>index</th>\n",
              "      <th>Date</th>\n",
              "      <th>FIPS</th>\n",
              "      <th>State</th>\n",
              "      <th>County</th>\n",
              "      <th>Vaccinated</th>\n",
              "      <th>Vaccinated Pct</th>\n",
              "      <th>Income</th>\n",
              "    </tr>\n",
              "  </thead>\n",
              "  <tbody>\n",
              "    <tr>\n",
              "      <th>0</th>\n",
              "      <td>3028</td>\n",
              "      <td>2021-06-11</td>\n",
              "      <td>2013</td>\n",
              "      <td>AK</td>\n",
              "      <td>Aleutians East Borough</td>\n",
              "      <td>2134</td>\n",
              "      <td>63.9</td>\n",
              "      <td>62537</td>\n",
              "    </tr>\n",
              "    <tr>\n",
              "      <th>1</th>\n",
              "      <td>55</td>\n",
              "      <td>2021-06-11</td>\n",
              "      <td>2016</td>\n",
              "      <td>AK</td>\n",
              "      <td>Aleutians West Census Area</td>\n",
              "      <td>2420</td>\n",
              "      <td>43.0</td>\n",
              "      <td>58008</td>\n",
              "    </tr>\n",
              "    <tr>\n",
              "      <th>2</th>\n",
              "      <td>1987</td>\n",
              "      <td>2021-06-11</td>\n",
              "      <td>2020</td>\n",
              "      <td>AK</td>\n",
              "      <td>Anchorage Municipality</td>\n",
              "      <td>122801</td>\n",
              "      <td>42.6</td>\n",
              "      <td>70145</td>\n",
              "    </tr>\n",
              "  </tbody>\n",
              "</table>\n",
              "</div>"
            ],
            "text/plain": [
              "   index       Date  FIPS  ... Vaccinated Vaccinated Pct  Income\n",
              "0   3028 2021-06-11  2013  ...       2134           63.9   62537\n",
              "1     55 2021-06-11  2016  ...       2420           43.0   58008\n",
              "2   1987 2021-06-11  2020  ...     122801           42.6   70145\n",
              "\n",
              "[3 rows x 8 columns]"
            ]
          },
          "metadata": {
            "tags": []
          },
          "execution_count": 74
        }
      ]
    },
    {
      "cell_type": "code",
      "metadata": {
        "id": "1CZQEQOxbOWh",
        "colab": {
          "base_uri": "https://localhost:8080/",
          "height": 141
        },
        "outputId": "da49c6de-d1a1-4ac9-acf3-a9ead19a19ee"
      },
      "source": [
        "merged_df = merged_df.drop(['index'],axis=1)\n",
        "merged_df.head(3)"
      ],
      "execution_count": null,
      "outputs": [
        {
          "output_type": "execute_result",
          "data": {
            "text/html": [
              "<div>\n",
              "<style scoped>\n",
              "    .dataframe tbody tr th:only-of-type {\n",
              "        vertical-align: middle;\n",
              "    }\n",
              "\n",
              "    .dataframe tbody tr th {\n",
              "        vertical-align: top;\n",
              "    }\n",
              "\n",
              "    .dataframe thead th {\n",
              "        text-align: right;\n",
              "    }\n",
              "</style>\n",
              "<table border=\"1\" class=\"dataframe\">\n",
              "  <thead>\n",
              "    <tr style=\"text-align: right;\">\n",
              "      <th></th>\n",
              "      <th>Date</th>\n",
              "      <th>FIPS</th>\n",
              "      <th>State</th>\n",
              "      <th>County</th>\n",
              "      <th>Vaccinated</th>\n",
              "      <th>Vaccinated Pct</th>\n",
              "      <th>Income</th>\n",
              "    </tr>\n",
              "  </thead>\n",
              "  <tbody>\n",
              "    <tr>\n",
              "      <th>0</th>\n",
              "      <td>2021-06-11</td>\n",
              "      <td>2013</td>\n",
              "      <td>AK</td>\n",
              "      <td>Aleutians East Borough</td>\n",
              "      <td>2134</td>\n",
              "      <td>63.9</td>\n",
              "      <td>62537</td>\n",
              "    </tr>\n",
              "    <tr>\n",
              "      <th>1</th>\n",
              "      <td>2021-06-11</td>\n",
              "      <td>2016</td>\n",
              "      <td>AK</td>\n",
              "      <td>Aleutians West Census Area</td>\n",
              "      <td>2420</td>\n",
              "      <td>43.0</td>\n",
              "      <td>58008</td>\n",
              "    </tr>\n",
              "    <tr>\n",
              "      <th>2</th>\n",
              "      <td>2021-06-11</td>\n",
              "      <td>2020</td>\n",
              "      <td>AK</td>\n",
              "      <td>Anchorage Municipality</td>\n",
              "      <td>122801</td>\n",
              "      <td>42.6</td>\n",
              "      <td>70145</td>\n",
              "    </tr>\n",
              "  </tbody>\n",
              "</table>\n",
              "</div>"
            ],
            "text/plain": [
              "        Date  FIPS State  ... Vaccinated  Vaccinated Pct  Income\n",
              "0 2021-06-11  2013    AK  ...       2134            63.9   62537\n",
              "1 2021-06-11  2016    AK  ...       2420            43.0   58008\n",
              "2 2021-06-11  2020    AK  ...     122801            42.6   70145\n",
              "\n",
              "[3 rows x 7 columns]"
            ]
          },
          "metadata": {
            "tags": []
          },
          "execution_count": 75
        }
      ]
    },
    {
      "cell_type": "code",
      "metadata": {
        "id": "F0hP2t33bOWi",
        "colab": {
          "base_uri": "https://localhost:8080/"
        },
        "outputId": "2d141c57-a981-41dc-b9b4-d20b4d2e98d5"
      },
      "source": [
        "print('vax shape\\t',vax_df.shape)\n",
        "print('incomes shape\\t',new_incomes_df.shape)\n",
        "print('merged shape\\t',merged_df.shape)"
      ],
      "execution_count": null,
      "outputs": [
        {
          "output_type": "stream",
          "text": [
            "vax shape\t (3142, 7)\n",
            "incomes shape\t (3141, 3)\n",
            "merged shape\t (3140, 7)\n"
          ],
          "name": "stdout"
        }
      ]
    },
    {
      "cell_type": "code",
      "metadata": {
        "id": "JLvihC5pbOWi",
        "colab": {
          "base_uri": "https://localhost:8080/"
        },
        "outputId": "661ff64e-e369-4ee8-de51-6fb74c390648"
      },
      "source": [
        "dups_df = merged_df.duplicated(subset = ['State','County'],keep=False)\n",
        "dups_df.sum()"
      ],
      "execution_count": null,
      "outputs": [
        {
          "output_type": "execute_result",
          "data": {
            "text/plain": [
              "0"
            ]
          },
          "metadata": {
            "tags": []
          },
          "execution_count": 77
        }
      ]
    },
    {
      "cell_type": "markdown",
      "metadata": {
        "id": "BM6ZsjVDbOWi"
      },
      "source": [
        "Finally - success!"
      ]
    },
    {
      "cell_type": "markdown",
      "metadata": {
        "id": "RzYpVpeGbOWi"
      },
      "source": [
        "Save the merged dataframe to a pickle file."
      ]
    },
    {
      "cell_type": "code",
      "metadata": {
        "id": "pAru1rxzbOWi"
      },
      "source": [
        "merged_df.to_pickle(\"./merged_income_vax.pkl\")"
      ],
      "execution_count": null,
      "outputs": []
    },
    {
      "cell_type": "code",
      "metadata": {
        "id": "fLNqsvRvbOWi"
      },
      "source": [
        ""
      ],
      "execution_count": null,
      "outputs": []
    }
  ]
}