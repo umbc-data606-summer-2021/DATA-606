{
  "nbformat": 4,
  "nbformat_minor": 0,
  "metadata": {
    "colab": {
      "name": "203_kmeans_wealth.ipynb",
      "provenance": [],
      "collapsed_sections": [],
      "authorship_tag": "ABX9TyNuw6VwVLGlOC7k4A6ONta/",
      "include_colab_link": true
    },
    "kernelspec": {
      "name": "python3",
      "display_name": "Python 3"
    },
    "language_info": {
      "name": "python"
    }
  },
  "cells": [
    {
      "cell_type": "markdown",
      "metadata": {
        "id": "view-in-github",
        "colab_type": "text"
      },
      "source": [
        "<a href=\"https://colab.research.google.com/github/knoppin1/DATA-606-Capstone/blob/main/ipynb/203_kmeans_wealth.ipynb\" target=\"_parent\"><img src=\"https://colab.research.google.com/assets/colab-badge.svg\" alt=\"Open In Colab\"/></a>"
      ]
    },
    {
      "cell_type": "code",
      "metadata": {
        "id": "QZpOQtQ_o5Ga"
      },
      "source": [
        "import matplotlib.pyplot as plt\n",
        "from sklearn.datasets import make_blobs\n",
        "from sklearn.cluster import KMeans\n",
        "from sklearn.metrics import silhouette_score\n",
        "from sklearn.preprocessing import StandardScaler\n",
        "import pandas as pd\n",
        "import numpy as np\n",
        "import pickle"
      ],
      "execution_count": 1,
      "outputs": []
    },
    {
      "cell_type": "code",
      "metadata": {
        "colab": {
          "base_uri": "https://localhost:8080/"
        },
        "id": "qiu4yY1ipUAc",
        "outputId": "60025b82-7434-4938-9b1a-98ea10e5258e"
      },
      "source": [
        "# Read from pickle file\n",
        "df = pd.read_pickle(\"./all_data_fips.pkl\")\n",
        "df.shape"
      ],
      "execution_count": 2,
      "outputs": [
        {
          "output_type": "execute_result",
          "data": {
            "text/plain": [
              "(3112, 17)"
            ]
          },
          "metadata": {
            "tags": []
          },
          "execution_count": 2
        }
      ]
    },
    {
      "cell_type": "code",
      "metadata": {
        "colab": {
          "base_uri": "https://localhost:8080/",
          "height": 256
        },
        "id": "gX8D53sJptPr",
        "outputId": "b39b0a45-e10f-478a-800a-1730b6c67f38"
      },
      "source": [
        "df.head(3)"
      ],
      "execution_count": 3,
      "outputs": [
        {
          "output_type": "execute_result",
          "data": {
            "text/html": [
              "<div>\n",
              "<style scoped>\n",
              "    .dataframe tbody tr th:only-of-type {\n",
              "        vertical-align: middle;\n",
              "    }\n",
              "\n",
              "    .dataframe tbody tr th {\n",
              "        vertical-align: top;\n",
              "    }\n",
              "\n",
              "    .dataframe thead th {\n",
              "        text-align: right;\n",
              "    }\n",
              "</style>\n",
              "<table border=\"1\" class=\"dataframe\">\n",
              "  <thead>\n",
              "    <tr style=\"text-align: right;\">\n",
              "      <th></th>\n",
              "      <th>FIPS</th>\n",
              "      <th>FIPS_Code</th>\n",
              "      <th>County</th>\n",
              "      <th>State_Abbr</th>\n",
              "      <th>State</th>\n",
              "      <th>Place</th>\n",
              "      <th>Land_Area</th>\n",
              "      <th>Population</th>\n",
              "      <th>Pop_Sq_Mile</th>\n",
              "      <th>Income</th>\n",
              "      <th>Confirmed</th>\n",
              "      <th>Cases_Sq_Mile</th>\n",
              "      <th>Deaths</th>\n",
              "      <th>Deaths_Sq_Mile</th>\n",
              "      <th>Vaccinated</th>\n",
              "      <th>Vax_Pct</th>\n",
              "      <th>Vax_Sq_Mile</th>\n",
              "    </tr>\n",
              "  </thead>\n",
              "  <tbody>\n",
              "    <tr>\n",
              "      <th>0</th>\n",
              "      <td>2013</td>\n",
              "      <td>02013</td>\n",
              "      <td>Aleutians East Borough</td>\n",
              "      <td>AK</td>\n",
              "      <td>Alaska</td>\n",
              "      <td>Aleutians East, Alaska, US</td>\n",
              "      <td>6981.94</td>\n",
              "      <td>3337</td>\n",
              "      <td>0</td>\n",
              "      <td>62537</td>\n",
              "      <td>369</td>\n",
              "      <td>0</td>\n",
              "      <td>3</td>\n",
              "      <td>0</td>\n",
              "      <td>2172</td>\n",
              "      <td>65.1</td>\n",
              "      <td>0</td>\n",
              "    </tr>\n",
              "    <tr>\n",
              "      <th>1</th>\n",
              "      <td>2016</td>\n",
              "      <td>02016</td>\n",
              "      <td>Aleutians West Census Area</td>\n",
              "      <td>AK</td>\n",
              "      <td>Alaska</td>\n",
              "      <td>Aleutians West, Alaska, US</td>\n",
              "      <td>4390.28</td>\n",
              "      <td>5634</td>\n",
              "      <td>1</td>\n",
              "      <td>58008</td>\n",
              "      <td>721</td>\n",
              "      <td>0</td>\n",
              "      <td>1</td>\n",
              "      <td>0</td>\n",
              "      <td>2656</td>\n",
              "      <td>47.1</td>\n",
              "      <td>0</td>\n",
              "    </tr>\n",
              "    <tr>\n",
              "      <th>2</th>\n",
              "      <td>2020</td>\n",
              "      <td>02020</td>\n",
              "      <td>Anchorage Municipality</td>\n",
              "      <td>AK</td>\n",
              "      <td>Alaska</td>\n",
              "      <td>Anchorage, Alaska, US</td>\n",
              "      <td>1704.68</td>\n",
              "      <td>288000</td>\n",
              "      <td>168</td>\n",
              "      <td>70145</td>\n",
              "      <td>31058</td>\n",
              "      <td>18</td>\n",
              "      <td>179</td>\n",
              "      <td>0</td>\n",
              "      <td>126221</td>\n",
              "      <td>43.8</td>\n",
              "      <td>74</td>\n",
              "    </tr>\n",
              "  </tbody>\n",
              "</table>\n",
              "</div>"
            ],
            "text/plain": [
              "   FIPS FIPS_Code                      County  ... Vaccinated Vax_Pct Vax_Sq_Mile\n",
              "0  2013     02013      Aleutians East Borough  ...       2172    65.1           0\n",
              "1  2016     02016  Aleutians West Census Area  ...       2656    47.1           0\n",
              "2  2020     02020      Anchorage Municipality  ...     126221    43.8          74\n",
              "\n",
              "[3 rows x 17 columns]"
            ]
          },
          "metadata": {
            "tags": []
          },
          "execution_count": 3
        }
      ]
    },
    {
      "cell_type": "code",
      "metadata": {
        "colab": {
          "base_uri": "https://localhost:8080/",
          "height": 290
        },
        "id": "Mni17GNiqhoR",
        "outputId": "a253b457-51fd-4632-c20a-e9542b4be2b1"
      },
      "source": [
        "df.describe()"
      ],
      "execution_count": 4,
      "outputs": [
        {
          "output_type": "execute_result",
          "data": {
            "text/html": [
              "<div>\n",
              "<style scoped>\n",
              "    .dataframe tbody tr th:only-of-type {\n",
              "        vertical-align: middle;\n",
              "    }\n",
              "\n",
              "    .dataframe tbody tr th {\n",
              "        vertical-align: top;\n",
              "    }\n",
              "\n",
              "    .dataframe thead th {\n",
              "        text-align: right;\n",
              "    }\n",
              "</style>\n",
              "<table border=\"1\" class=\"dataframe\">\n",
              "  <thead>\n",
              "    <tr style=\"text-align: right;\">\n",
              "      <th></th>\n",
              "      <th>FIPS</th>\n",
              "      <th>Land_Area</th>\n",
              "      <th>Population</th>\n",
              "      <th>Pop_Sq_Mile</th>\n",
              "      <th>Income</th>\n",
              "      <th>Confirmed</th>\n",
              "      <th>Cases_Sq_Mile</th>\n",
              "      <th>Deaths</th>\n",
              "      <th>Deaths_Sq_Mile</th>\n",
              "      <th>Vaccinated</th>\n",
              "      <th>Vax_Pct</th>\n",
              "      <th>Vax_Sq_Mile</th>\n",
              "    </tr>\n",
              "  </thead>\n",
              "  <tbody>\n",
              "    <tr>\n",
              "      <th>count</th>\n",
              "      <td>3112.000000</td>\n",
              "      <td>3112.000000</td>\n",
              "      <td>3.112000e+03</td>\n",
              "      <td>3112.000000</td>\n",
              "      <td>3112.000000</td>\n",
              "      <td>3.112000e+03</td>\n",
              "      <td>3112.000000</td>\n",
              "      <td>3112.000000</td>\n",
              "      <td>3112.000000</td>\n",
              "      <td>3.112000e+03</td>\n",
              "      <td>3112.000000</td>\n",
              "      <td>3112.000000</td>\n",
              "    </tr>\n",
              "    <tr>\n",
              "      <th>mean</th>\n",
              "      <td>30282.262211</td>\n",
              "      <td>1106.374479</td>\n",
              "      <td>1.049407e+05</td>\n",
              "      <td>270.714332</td>\n",
              "      <td>45955.784062</td>\n",
              "      <td>1.061510e+04</td>\n",
              "      <td>26.421594</td>\n",
              "      <td>190.291774</td>\n",
              "      <td>0.430591</td>\n",
              "      <td>4.015677e+04</td>\n",
              "      <td>30.457584</td>\n",
              "      <td>105.849936</td>\n",
              "    </tr>\n",
              "    <tr>\n",
              "      <th>std</th>\n",
              "      <td>15126.815912</td>\n",
              "      <td>3610.275409</td>\n",
              "      <td>3.347700e+05</td>\n",
              "      <td>1782.779788</td>\n",
              "      <td>13144.549879</td>\n",
              "      <td>3.754849e+04</td>\n",
              "      <td>175.938025</td>\n",
              "      <td>727.551874</td>\n",
              "      <td>5.704471</td>\n",
              "      <td>1.501343e+05</td>\n",
              "      <td>15.123688</td>\n",
              "      <td>951.683493</td>\n",
              "    </tr>\n",
              "    <tr>\n",
              "      <th>min</th>\n",
              "      <td>1001.000000</td>\n",
              "      <td>2.000000</td>\n",
              "      <td>1.690000e+02</td>\n",
              "      <td>0.000000</td>\n",
              "      <td>19472.000000</td>\n",
              "      <td>0.000000e+00</td>\n",
              "      <td>0.000000</td>\n",
              "      <td>0.000000</td>\n",
              "      <td>0.000000</td>\n",
              "      <td>0.000000e+00</td>\n",
              "      <td>0.000000</td>\n",
              "      <td>0.000000</td>\n",
              "    </tr>\n",
              "    <tr>\n",
              "      <th>25%</th>\n",
              "      <td>18170.500000</td>\n",
              "      <td>430.567500</td>\n",
              "      <td>1.094850e+04</td>\n",
              "      <td>16.750000</td>\n",
              "      <td>37962.000000</td>\n",
              "      <td>1.085000e+03</td>\n",
              "      <td>1.000000</td>\n",
              "      <td>20.000000</td>\n",
              "      <td>0.000000</td>\n",
              "      <td>2.198250e+03</td>\n",
              "      <td>23.500000</td>\n",
              "      <td>2.000000</td>\n",
              "    </tr>\n",
              "    <tr>\n",
              "      <th>50%</th>\n",
              "      <td>29160.000000</td>\n",
              "      <td>612.290000</td>\n",
              "      <td>2.607000e+04</td>\n",
              "      <td>45.000000</td>\n",
              "      <td>43431.500000</td>\n",
              "      <td>2.639000e+03</td>\n",
              "      <td>4.000000</td>\n",
              "      <td>51.000000</td>\n",
              "      <td>0.000000</td>\n",
              "      <td>6.654000e+03</td>\n",
              "      <td>31.700000</td>\n",
              "      <td>11.000000</td>\n",
              "    </tr>\n",
              "    <tr>\n",
              "      <th>75%</th>\n",
              "      <td>45049.500000</td>\n",
              "      <td>917.662500</td>\n",
              "      <td>6.831300e+04</td>\n",
              "      <td>118.250000</td>\n",
              "      <td>50732.750000</td>\n",
              "      <td>6.800000e+03</td>\n",
              "      <td>12.000000</td>\n",
              "      <td>121.000000</td>\n",
              "      <td>0.000000</td>\n",
              "      <td>2.162975e+04</td>\n",
              "      <td>40.500000</td>\n",
              "      <td>35.000000</td>\n",
              "    </tr>\n",
              "    <tr>\n",
              "      <th>max</th>\n",
              "      <td>56045.000000</td>\n",
              "      <td>145504.790000</td>\n",
              "      <td>1.003911e+07</td>\n",
              "      <td>71340.000000</td>\n",
              "      <td>229825.000000</td>\n",
              "      <td>1.247909e+06</td>\n",
              "      <td>6065.000000</td>\n",
              "      <td>24459.000000</td>\n",
              "      <td>197.000000</td>\n",
              "      <td>4.922209e+06</td>\n",
              "      <td>99.900000</td>\n",
              "      <td>42855.000000</td>\n",
              "    </tr>\n",
              "  </tbody>\n",
              "</table>\n",
              "</div>"
            ],
            "text/plain": [
              "               FIPS      Land_Area  ...      Vax_Pct   Vax_Sq_Mile\n",
              "count   3112.000000    3112.000000  ...  3112.000000   3112.000000\n",
              "mean   30282.262211    1106.374479  ...    30.457584    105.849936\n",
              "std    15126.815912    3610.275409  ...    15.123688    951.683493\n",
              "min     1001.000000       2.000000  ...     0.000000      0.000000\n",
              "25%    18170.500000     430.567500  ...    23.500000      2.000000\n",
              "50%    29160.000000     612.290000  ...    31.700000     11.000000\n",
              "75%    45049.500000     917.662500  ...    40.500000     35.000000\n",
              "max    56045.000000  145504.790000  ...    99.900000  42855.000000\n",
              "\n",
              "[8 rows x 12 columns]"
            ]
          },
          "metadata": {
            "tags": []
          },
          "execution_count": 4
        }
      ]
    },
    {
      "cell_type": "code",
      "metadata": {
        "colab": {
          "base_uri": "https://localhost:8080/"
        },
        "id": "AgS_cmZQx9cF",
        "outputId": "23483440-67f4-403f-ca92-5611ef160586"
      },
      "source": [
        "florida_df = df.query(\"`State` == 'Florida'\")\n",
        "florida_df.shape"
      ],
      "execution_count": 5,
      "outputs": [
        {
          "output_type": "execute_result",
          "data": {
            "text/plain": [
              "(67, 17)"
            ]
          },
          "metadata": {
            "tags": []
          },
          "execution_count": 5
        }
      ]
    },
    {
      "cell_type": "code",
      "metadata": {
        "colab": {
          "base_uri": "https://localhost:8080/"
        },
        "id": "vpDEq5lXqRcR",
        "outputId": "1ee86ad1-eb11-4d04-d556-187622c5ecdf"
      },
      "source": [
        "features = [florida_df[['Income','Vax_Pct']]]\n",
        "features"
      ],
      "execution_count": 6,
      "outputs": [
        {
          "output_type": "execute_result",
          "data": {
            "text/plain": [
              "[     Income  Vax_Pct\n",
              " 317   46690     48.2\n",
              " 318   33254     18.8\n",
              " 319   45690     31.8\n",
              " 320   34179     23.6\n",
              " 321   47911     44.1\n",
              " ..      ...      ...\n",
              " 379   22440     21.3\n",
              " 380   44180     41.2\n",
              " 381   37660     29.7\n",
              " 382   64481     31.2\n",
              " 383   30268     20.3\n",
              " \n",
              " [67 rows x 2 columns]]"
            ]
          },
          "metadata": {
            "tags": []
          },
          "execution_count": 6
        }
      ]
    },
    {
      "cell_type": "markdown",
      "metadata": {
        "id": "5U_Yoxxc1S20"
      },
      "source": [
        "Reference: https://www.thiscodeworks.com/use-sklearn-standardscaler-only-on-certain-feature-columns-python/605cc55c3c8db10014203c0e"
      ]
    },
    {
      "cell_type": "code",
      "metadata": {
        "colab": {
          "base_uri": "https://localhost:8080/",
          "height": 408
        },
        "id": "HvafLIBczKaK",
        "outputId": "8c648854-515a-4b07-f299-54461669ca35"
      },
      "source": [
        "scaled_features = florida_df.copy()\n",
        " \n",
        "col_names = ['Income','Vax_Pct']\n",
        "features = scaled_features[col_names]\n",
        "scaler = StandardScaler().fit(features.values)\n",
        "features = scaler.transform(features.values)\n",
        " \n",
        "scaled_features[col_names] = features\n",
        "scaled_features[col_names]"
      ],
      "execution_count": 8,
      "outputs": [
        {
          "output_type": "execute_result",
          "data": {
            "text/html": [
              "<div>\n",
              "<style scoped>\n",
              "    .dataframe tbody tr th:only-of-type {\n",
              "        vertical-align: middle;\n",
              "    }\n",
              "\n",
              "    .dataframe tbody tr th {\n",
              "        vertical-align: top;\n",
              "    }\n",
              "\n",
              "    .dataframe thead th {\n",
              "        text-align: right;\n",
              "    }\n",
              "</style>\n",
              "<table border=\"1\" class=\"dataframe\">\n",
              "  <thead>\n",
              "    <tr style=\"text-align: right;\">\n",
              "      <th></th>\n",
              "      <th>Income</th>\n",
              "      <th>Vax_Pct</th>\n",
              "    </tr>\n",
              "  </thead>\n",
              "  <tbody>\n",
              "    <tr>\n",
              "      <th>317</th>\n",
              "      <td>0.128578</td>\n",
              "      <td>1.151206</td>\n",
              "    </tr>\n",
              "    <tr>\n",
              "      <th>318</th>\n",
              "      <td>-0.687334</td>\n",
              "      <td>-1.652857</td>\n",
              "    </tr>\n",
              "    <tr>\n",
              "      <th>319</th>\n",
              "      <td>0.067852</td>\n",
              "      <td>-0.412965</td>\n",
              "    </tr>\n",
              "    <tr>\n",
              "      <th>320</th>\n",
              "      <td>-0.631162</td>\n",
              "      <td>-1.195051</td>\n",
              "    </tr>\n",
              "    <tr>\n",
              "      <th>321</th>\n",
              "      <td>0.202725</td>\n",
              "      <td>0.760163</td>\n",
              "    </tr>\n",
              "    <tr>\n",
              "      <th>...</th>\n",
              "      <td>...</td>\n",
              "      <td>...</td>\n",
              "    </tr>\n",
              "    <tr>\n",
              "      <th>379</th>\n",
              "      <td>-1.344023</td>\n",
              "      <td>-1.414416</td>\n",
              "    </tr>\n",
              "    <tr>\n",
              "      <th>380</th>\n",
              "      <td>-0.023843</td>\n",
              "      <td>0.483572</td>\n",
              "    </tr>\n",
              "    <tr>\n",
              "      <th>381</th>\n",
              "      <td>-0.419776</td>\n",
              "      <td>-0.613255</td>\n",
              "    </tr>\n",
              "    <tr>\n",
              "      <th>382</th>\n",
              "      <td>1.208951</td>\n",
              "      <td>-0.470191</td>\n",
              "    </tr>\n",
              "    <tr>\n",
              "      <th>383</th>\n",
              "      <td>-0.868661</td>\n",
              "      <td>-1.509792</td>\n",
              "    </tr>\n",
              "  </tbody>\n",
              "</table>\n",
              "<p>67 rows × 2 columns</p>\n",
              "</div>"
            ],
            "text/plain": [
              "       Income   Vax_Pct\n",
              "317  0.128578  1.151206\n",
              "318 -0.687334 -1.652857\n",
              "319  0.067852 -0.412965\n",
              "320 -0.631162 -1.195051\n",
              "321  0.202725  0.760163\n",
              "..        ...       ...\n",
              "379 -1.344023 -1.414416\n",
              "380 -0.023843  0.483572\n",
              "381 -0.419776 -0.613255\n",
              "382  1.208951 -0.470191\n",
              "383 -0.868661 -1.509792\n",
              "\n",
              "[67 rows x 2 columns]"
            ]
          },
          "metadata": {
            "tags": []
          },
          "execution_count": 8
        }
      ]
    },
    {
      "cell_type": "code",
      "metadata": {
        "id": "sx6KgP370lZf"
      },
      "source": [
        "kmeans = KMeans(init=\"random\", n_clusters=4, n_init=10, max_iter=300, random_state=0)"
      ],
      "execution_count": 9,
      "outputs": []
    },
    {
      "cell_type": "code",
      "metadata": {
        "colab": {
          "base_uri": "https://localhost:8080/"
        },
        "id": "eoRdkAivq1Ry",
        "outputId": "59ea8200-8cb8-4609-f22e-08e770d603a4"
      },
      "source": [
        "kmeans.fit(scaled_features[['Pop_Sq_Mile','Cases_Sq_Mile']])"
      ],
      "execution_count": 10,
      "outputs": [
        {
          "output_type": "execute_result",
          "data": {
            "text/plain": [
              "KMeans(algorithm='auto', copy_x=True, init='random', max_iter=300, n_clusters=4,\n",
              "       n_init=10, n_jobs=None, precompute_distances='auto', random_state=0,\n",
              "       tol=0.0001, verbose=0)"
            ]
          },
          "metadata": {
            "tags": []
          },
          "execution_count": 10
        }
      ]
    },
    {
      "cell_type": "code",
      "metadata": {
        "colab": {
          "base_uri": "https://localhost:8080/"
        },
        "id": "9t-SMejx17wx",
        "outputId": "9f2358d8-696c-4a96-990c-2dc9b66619ec"
      },
      "source": [
        "# The lowest SSE (Sum of Squares Error) value\n",
        "kmeans.inertia_"
      ],
      "execution_count": 11,
      "outputs": [
        {
          "output_type": "execute_result",
          "data": {
            "text/plain": [
              "977788.4444444444"
            ]
          },
          "metadata": {
            "tags": []
          },
          "execution_count": 11
        }
      ]
    },
    {
      "cell_type": "code",
      "metadata": {
        "colab": {
          "base_uri": "https://localhost:8080/"
        },
        "id": "GBh0jFvU3OYk",
        "outputId": "ddc3fb1c-44f1-4625-cf03-cf996b36f78f"
      },
      "source": [
        "# Final locations of the centroid\n",
        "kmeans.cluster_centers_"
      ],
      "execution_count": 12,
      "outputs": [
        {
          "output_type": "execute_result",
          "data": {
            "text/plain": [
              "array([[ 560.13333333,   50.33333333],\n",
              "       [ 109.15555556,   10.06666667],\n",
              "       [3560.        ,  300.        ],\n",
              "       [1468.33333333,  170.33333333]])"
            ]
          },
          "metadata": {
            "tags": []
          },
          "execution_count": 12
        }
      ]
    },
    {
      "cell_type": "code",
      "metadata": {
        "colab": {
          "base_uri": "https://localhost:8080/"
        },
        "id": "31H4FxNG3h76",
        "outputId": "1b850bdd-baf0-4c3e-be61-39e267dff0e6"
      },
      "source": [
        "# The number of iterations required to converge\n",
        "kmeans.n_iter_"
      ],
      "execution_count": 13,
      "outputs": [
        {
          "output_type": "execute_result",
          "data": {
            "text/plain": [
              "6"
            ]
          },
          "metadata": {
            "tags": []
          },
          "execution_count": 13
        }
      ]
    },
    {
      "cell_type": "code",
      "metadata": {
        "colab": {
          "base_uri": "https://localhost:8080/"
        },
        "id": "HAun6ZwO39IC",
        "outputId": "60905674-5b4f-4a10-8f2c-e884cd2ad8e6"
      },
      "source": [
        "# Look at the label assignments\n",
        "labels = kmeans.labels_\n",
        "labels"
      ],
      "execution_count": 14,
      "outputs": [
        {
          "output_type": "execute_result",
          "data": {
            "text/plain": [
              "array([1, 1, 1, 1, 0, 3, 1, 1, 1, 0, 1, 1, 1, 1, 3, 0, 1, 1, 1, 1, 1, 1,\n",
              "       1, 1, 1, 0, 1, 3, 1, 1, 1, 1, 1, 0, 0, 0, 1, 1, 1, 0, 1, 1, 3, 1,\n",
              "       1, 1, 1, 3, 1, 0, 0, 2, 0, 1, 1, 0, 3, 0, 0, 1, 1, 1, 1, 0, 1, 1,\n",
              "       1], dtype=int32)"
            ]
          },
          "metadata": {
            "tags": []
          },
          "execution_count": 14
        }
      ]
    },
    {
      "cell_type": "code",
      "metadata": {
        "colab": {
          "base_uri": "https://localhost:8080/",
          "height": 408
        },
        "id": "_ZU_v-eH4LKM",
        "outputId": "ae4572ab-0e99-412b-824b-99280090ee7b"
      },
      "source": [
        "scaled_features['Label'] = labels\n",
        "scaled_features[['Place','Income','Vax_Pct','Label']]"
      ],
      "execution_count": 15,
      "outputs": [
        {
          "output_type": "execute_result",
          "data": {
            "text/html": [
              "<div>\n",
              "<style scoped>\n",
              "    .dataframe tbody tr th:only-of-type {\n",
              "        vertical-align: middle;\n",
              "    }\n",
              "\n",
              "    .dataframe tbody tr th {\n",
              "        vertical-align: top;\n",
              "    }\n",
              "\n",
              "    .dataframe thead th {\n",
              "        text-align: right;\n",
              "    }\n",
              "</style>\n",
              "<table border=\"1\" class=\"dataframe\">\n",
              "  <thead>\n",
              "    <tr style=\"text-align: right;\">\n",
              "      <th></th>\n",
              "      <th>Place</th>\n",
              "      <th>Income</th>\n",
              "      <th>Vax_Pct</th>\n",
              "      <th>Label</th>\n",
              "    </tr>\n",
              "  </thead>\n",
              "  <tbody>\n",
              "    <tr>\n",
              "      <th>317</th>\n",
              "      <td>Alachua, Florida, US</td>\n",
              "      <td>0.128578</td>\n",
              "      <td>1.151206</td>\n",
              "      <td>1</td>\n",
              "    </tr>\n",
              "    <tr>\n",
              "      <th>318</th>\n",
              "      <td>Baker, Florida, US</td>\n",
              "      <td>-0.687334</td>\n",
              "      <td>-1.652857</td>\n",
              "      <td>1</td>\n",
              "    </tr>\n",
              "    <tr>\n",
              "      <th>319</th>\n",
              "      <td>Bay, Florida, US</td>\n",
              "      <td>0.067852</td>\n",
              "      <td>-0.412965</td>\n",
              "      <td>1</td>\n",
              "    </tr>\n",
              "    <tr>\n",
              "      <th>320</th>\n",
              "      <td>Bradford, Florida, US</td>\n",
              "      <td>-0.631162</td>\n",
              "      <td>-1.195051</td>\n",
              "      <td>1</td>\n",
              "    </tr>\n",
              "    <tr>\n",
              "      <th>321</th>\n",
              "      <td>Brevard, Florida, US</td>\n",
              "      <td>0.202725</td>\n",
              "      <td>0.760163</td>\n",
              "      <td>0</td>\n",
              "    </tr>\n",
              "    <tr>\n",
              "      <th>...</th>\n",
              "      <td>...</td>\n",
              "      <td>...</td>\n",
              "      <td>...</td>\n",
              "      <td>...</td>\n",
              "    </tr>\n",
              "    <tr>\n",
              "      <th>379</th>\n",
              "      <td>Union, Florida, US</td>\n",
              "      <td>-1.344023</td>\n",
              "      <td>-1.414416</td>\n",
              "      <td>1</td>\n",
              "    </tr>\n",
              "    <tr>\n",
              "      <th>380</th>\n",
              "      <td>Volusia, Florida, US</td>\n",
              "      <td>-0.023843</td>\n",
              "      <td>0.483572</td>\n",
              "      <td>0</td>\n",
              "    </tr>\n",
              "    <tr>\n",
              "      <th>381</th>\n",
              "      <td>Wakulla, Florida, US</td>\n",
              "      <td>-0.419776</td>\n",
              "      <td>-0.613255</td>\n",
              "      <td>1</td>\n",
              "    </tr>\n",
              "    <tr>\n",
              "      <th>382</th>\n",
              "      <td>Walton, Florida, US</td>\n",
              "      <td>1.208951</td>\n",
              "      <td>-0.470191</td>\n",
              "      <td>1</td>\n",
              "    </tr>\n",
              "    <tr>\n",
              "      <th>383</th>\n",
              "      <td>Washington, Florida, US</td>\n",
              "      <td>-0.868661</td>\n",
              "      <td>-1.509792</td>\n",
              "      <td>1</td>\n",
              "    </tr>\n",
              "  </tbody>\n",
              "</table>\n",
              "<p>67 rows × 4 columns</p>\n",
              "</div>"
            ],
            "text/plain": [
              "                       Place    Income   Vax_Pct  Label\n",
              "317     Alachua, Florida, US  0.128578  1.151206      1\n",
              "318       Baker, Florida, US -0.687334 -1.652857      1\n",
              "319         Bay, Florida, US  0.067852 -0.412965      1\n",
              "320    Bradford, Florida, US -0.631162 -1.195051      1\n",
              "321     Brevard, Florida, US  0.202725  0.760163      0\n",
              "..                       ...       ...       ...    ...\n",
              "379       Union, Florida, US -1.344023 -1.414416      1\n",
              "380     Volusia, Florida, US -0.023843  0.483572      0\n",
              "381     Wakulla, Florida, US -0.419776 -0.613255      1\n",
              "382      Walton, Florida, US  1.208951 -0.470191      1\n",
              "383  Washington, Florida, US -0.868661 -1.509792      1\n",
              "\n",
              "[67 rows x 4 columns]"
            ]
          },
          "metadata": {
            "tags": []
          },
          "execution_count": 15
        }
      ]
    },
    {
      "cell_type": "code",
      "metadata": {
        "colab": {
          "base_uri": "https://localhost:8080/"
        },
        "id": "ftASQH0S6J4A",
        "outputId": "5dcfdd0c-d1ab-449e-ba8f-f2c9cd26b453"
      },
      "source": [
        "#filter rows of original data\n",
        "filtered_label0 = scaled_features[scaled_features.Label == 0]\n",
        "filtered_label0.shape"
      ],
      "execution_count": 16,
      "outputs": [
        {
          "output_type": "execute_result",
          "data": {
            "text/plain": [
              "(15, 18)"
            ]
          },
          "metadata": {
            "tags": []
          },
          "execution_count": 16
        }
      ]
    },
    {
      "cell_type": "code",
      "metadata": {
        "colab": {
          "base_uri": "https://localhost:8080/",
          "height": 295
        },
        "id": "C0OkAPyc7ZfZ",
        "outputId": "0997fd62-af14-4292-fc12-b0c0257c52da"
      },
      "source": [
        "#plotting the results\n",
        "plt.scatter(filtered_label0['Pop_Sq_Mile'], filtered_label0['Cases_Sq_Mile'])\n",
        "#plt.scatter(kmeans.cluster_centers_[:, 0], kmeans.cluster_centers_[:, 1], s=200, c='yellow', label = 'Centroids')\n",
        "plt.title('Clusters of Population Density and COVID-19 Cases')\n",
        "plt.xlabel('Population Per Square Mile)')\n",
        "plt.ylabel('Cases Per Square Mile')\n",
        "plt.show()"
      ],
      "execution_count": 17,
      "outputs": [
        {
          "output_type": "display_data",
          "data": {
            "image/png": "[encoded data removed]",
            "text/plain": [
              "<Figure size 432x288 with 1 Axes>"
            ]
          },
          "metadata": {
            "tags": [],
            "needs_background": "light"
          }
        }
      ]
    },
    {
      "cell_type": "code",
      "metadata": {
        "id": "DifvJJeu6htI"
      },
      "source": [
        "# X = scaled_features[['Pop_Sq_Mile','Cases_Sq_Mile']]\n",
        "X = florida_df[col_names]"
      ],
      "execution_count": 18,
      "outputs": []
    },
    {
      "cell_type": "markdown",
      "metadata": {
        "id": "U3lmbNxFDTlB"
      },
      "source": [
        "Reference: https://medium.com/pursuitnotes/k-means-clustering-model-in-6-steps-with-python-35b532cfa8ad"
      ]
    },
    {
      "cell_type": "code",
      "metadata": {
        "colab": {
          "base_uri": "https://localhost:8080/",
          "height": 295
        },
        "id": "4x5C9x5m7-Tn",
        "outputId": "28db4035-be36-4df6-aaab-5f5703c9ed81"
      },
      "source": [
        "# Using the elbow method to find out the optimal number of clusters. \n",
        "wcss=[]\n",
        "\n",
        "# Loop ten times to:\n",
        "#  - fit the k-means algorithm to data \n",
        "#  - use kmean++ random initialization method \n",
        "#  - allow for a maximum of 300 iterations to find final clusters \n",
        "#  - run the algorithm for 10 different initial centroids \n",
        "for i in range(1,11):\n",
        "    kmeans = KMeans(n_clusters=i, init ='k-means++', max_iter=300,  n_init=10, random_state=0)\n",
        "    kmeans.fit(X)\n",
        "\n",
        "    # Compute the WCSS (within cluster sum of squares) and append it to a WCSS list.\n",
        "    wcss.append(kmeans.inertia_)\n",
        "\n",
        "# Plot the elbow graph using the WCSS list.\n",
        "plt.plot(range(1,11),wcss)\n",
        "plt.title('The Elbow Method Graph')\n",
        "plt.xlabel('Number of clusters')\n",
        "plt.ylabel('WCSS')\n",
        "plt.show()"
      ],
      "execution_count": 19,
      "outputs": [
        {
          "output_type": "display_data",
          "data": {
            "image/png": "[encoded data removed]",
            "text/plain": [
              "<Figure size 432x288 with 1 Axes>"
            ]
          },
          "metadata": {
            "tags": [],
            "needs_background": "light"
          }
        }
      ]
    },
    {
      "cell_type": "markdown",
      "metadata": {
        "id": "nz9HqMwEGwLG"
      },
      "source": [
        "Four (4) clusters seems to be the optimum number of clusters because that is where the elbow curves"
      ]
    },
    {
      "cell_type": "code",
      "metadata": {
        "colab": {
          "base_uri": "https://localhost:8080/"
        },
        "id": "N8kV-R5HGMRE",
        "outputId": "4e33e4fa-6826-48eb-e826-a40057762192"
      },
      "source": [
        "kmeans = KMeans(n_clusters=4, init ='k-means++', max_iter=300, n_init=10,random_state=0 )\n",
        "kmeans.fit(X)"
      ],
      "execution_count": 20,
      "outputs": [
        {
          "output_type": "execute_result",
          "data": {
            "text/plain": [
              "KMeans(algorithm='auto', copy_x=True, init='k-means++', max_iter=300,\n",
              "       n_clusters=4, n_init=10, n_jobs=None, precompute_distances='auto',\n",
              "       random_state=0, tol=0.0001, verbose=0)"
            ]
          },
          "metadata": {
            "tags": []
          },
          "execution_count": 20
        }
      ]
    },
    {
      "cell_type": "code",
      "metadata": {
        "colab": {
          "base_uri": "https://localhost:8080/"
        },
        "id": "Z6MRnrjBG_Sp",
        "outputId": "f2384561-d698-4cfa-b445-21a4dbb6a3a9"
      },
      "source": [
        "X['Label'] = kmeans.fit_predict(X)\n",
        "X['Label']"
      ],
      "execution_count": 21,
      "outputs": [
        {
          "output_type": "stream",
          "text": [
            "/usr/local/lib/python3.7/dist-packages/ipykernel_launcher.py:1: SettingWithCopyWarning: \n",
            "A value is trying to be set on a copy of a slice from a DataFrame.\n",
            "Try using .loc[row_indexer,col_indexer] = value instead\n",
            "\n",
            "See the caveats in the documentation: https://pandas.pydata.org/pandas-docs/stable/user_guide/indexing.html#returning-a-view-versus-a-copy\n",
            "  \"\"\"Entry point for launching an IPython kernel.\n"
          ],
          "name": "stderr"
        },
        {
          "output_type": "execute_result",
          "data": {
            "text/plain": [
              "317    3\n",
              "318    1\n",
              "319    3\n",
              "320    1\n",
              "321    3\n",
              "      ..\n",
              "379    1\n",
              "380    3\n",
              "381    1\n",
              "382    2\n",
              "383    1\n",
              "Name: Label, Length: 67, dtype: int32"
            ]
          },
          "metadata": {
            "tags": []
          },
          "execution_count": 21
        }
      ]
    },
    {
      "cell_type": "code",
      "metadata": {
        "colab": {
          "base_uri": "https://localhost:8080/"
        },
        "id": "rW_8T6pbTaxu",
        "outputId": "ce107ce4-f1ea-4714-b406-b650b33ade4b"
      },
      "source": [
        "kmeans.cluster_centers_"
      ],
      "execution_count": 22,
      "outputs": [
        {
          "output_type": "execute_result",
          "data": {
            "text/plain": [
              "array([[9.00248000e+04, 4.93400000e+01],\n",
              "       [3.27066875e+04, 2.81375000e+01],\n",
              "       [6.57965000e+04, 4.35250000e+01],\n",
              "       [4.71708846e+04, 4.22884615e+01]])"
            ]
          },
          "metadata": {
            "tags": []
          },
          "execution_count": 22
        }
      ]
    },
    {
      "cell_type": "code",
      "metadata": {
        "colab": {
          "base_uri": "https://localhost:8080/",
          "height": 170
        },
        "id": "TFtWhoqfI46p",
        "outputId": "fbf59f32-38b6-4e15-d983-a18283248716"
      },
      "source": [
        "X[X.Label==2][col_names]"
      ],
      "execution_count": 23,
      "outputs": [
        {
          "output_type": "execute_result",
          "data": {
            "text/html": [
              "<div>\n",
              "<style scoped>\n",
              "    .dataframe tbody tr th:only-of-type {\n",
              "        vertical-align: middle;\n",
              "    }\n",
              "\n",
              "    .dataframe tbody tr th {\n",
              "        vertical-align: top;\n",
              "    }\n",
              "\n",
              "    .dataframe thead th {\n",
              "        text-align: right;\n",
              "    }\n",
              "</style>\n",
              "<table border=\"1\" class=\"dataframe\">\n",
              "  <thead>\n",
              "    <tr style=\"text-align: right;\">\n",
              "      <th></th>\n",
              "      <th>Income</th>\n",
              "      <th>Vax_Pct</th>\n",
              "    </tr>\n",
              "  </thead>\n",
              "  <tbody>\n",
              "    <tr>\n",
              "      <th>361</th>\n",
              "      <td>61329</td>\n",
              "      <td>40.1</td>\n",
              "    </tr>\n",
              "    <tr>\n",
              "      <th>372</th>\n",
              "      <td>66878</td>\n",
              "      <td>52.7</td>\n",
              "    </tr>\n",
              "    <tr>\n",
              "      <th>374</th>\n",
              "      <td>70498</td>\n",
              "      <td>50.1</td>\n",
              "    </tr>\n",
              "    <tr>\n",
              "      <th>382</th>\n",
              "      <td>64481</td>\n",
              "      <td>31.2</td>\n",
              "    </tr>\n",
              "  </tbody>\n",
              "</table>\n",
              "</div>"
            ],
            "text/plain": [
              "     Income  Vax_Pct\n",
              "361   61329     40.1\n",
              "372   66878     52.7\n",
              "374   70498     50.1\n",
              "382   64481     31.2"
            ]
          },
          "metadata": {
            "tags": []
          },
          "execution_count": 23
        }
      ]
    },
    {
      "cell_type": "code",
      "metadata": {
        "colab": {
          "base_uri": "https://localhost:8080/",
          "height": 512
        },
        "id": "VcdxLcw8H7Yp",
        "outputId": "9e8cd031-420c-4456-c692-285a140c8966"
      },
      "source": [
        "fig= plt.figure(figsize=(16,8))\n",
        "plt.scatter(X[X.Label==0]['Income'], X[X.Label==0]['Vax_Pct'], s=50, c='red', label ='Cluster 1')\n",
        "plt.scatter(X[X.Label==1]['Income'], X[X.Label==1]['Vax_Pct'], s=50, c='cyan', label ='Cluster 2')\n",
        "plt.scatter(X[X.Label==2]['Income'], X[X.Label==2]['Vax_Pct'], s=50, c='orange', label ='Cluster 3')\n",
        "plt.scatter(X[X.Label==3]['Income'], X[X.Label==3]['Vax_Pct'], s=50, c='blue', label ='Cluster 4')\n",
        "plt.scatter(kmeans.cluster_centers_[:, 0], kmeans.cluster_centers_[:, 1], s=300, c='black', label = 'Centroids', marker='*')\n",
        "#plt.xlim(0,4000)\n",
        "#plt.ylim(0,350)\n",
        "plt.title('Clusters of Florida County Income and Vaccination Percentages')\n",
        "plt.xlabel('Median Income')\n",
        "plt.ylabel('Vaccination Percentage')\n",
        "plt.legend(loc='upper left')\n",
        "plt.show()"
      ],
      "execution_count": 25,
      "outputs": [
        {
          "output_type": "display_data",
          "data": {
            "image/png": "[encoded data removed]",
            "text/plain": [
              "<Figure size 1152x576 with 1 Axes>"
            ]
          },
          "metadata": {
            "tags": [],
            "needs_background": "light"
          }
        }
      ]
    },
    {
      "cell_type": "code",
      "metadata": {
        "colab": {
          "base_uri": "https://localhost:8080/"
        },
        "id": "OkbVq5-WIq3V",
        "outputId": "25780853-824c-4c1d-8ba8-2e5ee0391577"
      },
      "source": [
        "X[X.Label==2]['Pop_Sq_Mile']"
      ],
      "execution_count": null,
      "outputs": [
        {
          "output_type": "execute_result",
          "data": {
            "text/plain": [
              "368    3560\n",
              "Name: Pop_Sq_Mile, dtype: int64"
            ]
          },
          "metadata": {
            "tags": []
          },
          "execution_count": 23
        }
      ]
    },
    {
      "cell_type": "code",
      "metadata": {
        "id": "FHukPw51Ou8x"
      },
      "source": [
        ""
      ],
      "execution_count": null,
      "outputs": []
    }
  ]
}
