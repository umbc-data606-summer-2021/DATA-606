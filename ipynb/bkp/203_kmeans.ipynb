{
  "nbformat": 4,
  "nbformat_minor": 0,
  "metadata": {
    "colab": {
      "name": "203_kmeans.ipynb",
      "provenance": [],
      "collapsed_sections": [],
      "authorship_tag": "ABX9TyNI7x8v/0Q9P/zBr7sgYnW/",
      "include_colab_link": true
    },
    "kernelspec": {
      "name": "python3",
      "display_name": "Python 3"
    },
    "language_info": {
      "name": "python"
    }
  },
  "cells": [
    {
      "cell_type": "markdown",
      "metadata": {
        "id": "view-in-github",
        "colab_type": "text"
      },
      "source": [
        "<a href=\"https://colab.research.google.com/github/knoppin1/DATA-606-Capstone/blob/main/ipynb/203_kmeans.ipynb\" target=\"_parent\"><img src=\"https://colab.research.google.com/assets/colab-badge.svg\" alt=\"Open In Colab\"/></a>"
      ]
    },
    {
      "cell_type": "code",
      "metadata": {
        "id": "QZpOQtQ_o5Ga"
      },
      "source": [
        "import matplotlib.pyplot as plt\n",
        "from sklearn.datasets import make_blobs\n",
        "from sklearn.cluster import KMeans\n",
        "from sklearn.metrics import silhouette_score\n",
        "from sklearn.preprocessing import StandardScaler\n",
        "import pandas as pd\n",
        "import numpy as np\n",
        "import pickle"
      ],
      "execution_count": 1,
      "outputs": []
    },
    {
      "cell_type": "code",
      "metadata": {
        "colab": {
          "base_uri": "https://localhost:8080/"
        },
        "id": "qiu4yY1ipUAc",
        "outputId": "855de3d2-d8f9-4e5d-aaab-273dfa9b472e"
      },
      "source": [
        "# Read from pickle file\n",
        "df = pd.read_pickle(\"./all_data_fips.pkl\")\n",
        "df.shape"
      ],
      "execution_count": 2,
      "outputs": [
        {
          "output_type": "execute_result",
          "data": {
            "text/plain": [
              "(3112, 17)"
            ]
          },
          "metadata": {
            "tags": []
          },
          "execution_count": 2
        }
      ]
    },
    {
      "cell_type": "code",
      "metadata": {
        "colab": {
          "base_uri": "https://localhost:8080/",
          "height": 256
        },
        "id": "gX8D53sJptPr",
        "outputId": "70973001-20e0-484f-d164-1458c9fb3b3a"
      },
      "source": [
        "df.head(3)"
      ],
      "execution_count": 3,
      "outputs": [
        {
          "output_type": "execute_result",
          "data": {
            "text/html": [
              "<div>\n",
              "<style scoped>\n",
              "    .dataframe tbody tr th:only-of-type {\n",
              "        vertical-align: middle;\n",
              "    }\n",
              "\n",
              "    .dataframe tbody tr th {\n",
              "        vertical-align: top;\n",
              "    }\n",
              "\n",
              "    .dataframe thead th {\n",
              "        text-align: right;\n",
              "    }\n",
              "</style>\n",
              "<table border=\"1\" class=\"dataframe\">\n",
              "  <thead>\n",
              "    <tr style=\"text-align: right;\">\n",
              "      <th></th>\n",
              "      <th>FIPS</th>\n",
              "      <th>FIPS_Code</th>\n",
              "      <th>County</th>\n",
              "      <th>State_Abbr</th>\n",
              "      <th>State</th>\n",
              "      <th>Place</th>\n",
              "      <th>Land_Area</th>\n",
              "      <th>Population</th>\n",
              "      <th>Pop_Sq_Mile</th>\n",
              "      <th>Income</th>\n",
              "      <th>Confirmed</th>\n",
              "      <th>Cases_Sq_Mile</th>\n",
              "      <th>Deaths</th>\n",
              "      <th>Deaths_Sq_Mile</th>\n",
              "      <th>Vaccinated</th>\n",
              "      <th>Vax_Pct</th>\n",
              "      <th>Vax_Sq_Mile</th>\n",
              "    </tr>\n",
              "  </thead>\n",
              "  <tbody>\n",
              "    <tr>\n",
              "      <th>0</th>\n",
              "      <td>2013</td>\n",
              "      <td>02013</td>\n",
              "      <td>Aleutians East Borough</td>\n",
              "      <td>AK</td>\n",
              "      <td>Alaska</td>\n",
              "      <td>Aleutians East, Alaska, US</td>\n",
              "      <td>6981.94</td>\n",
              "      <td>3337</td>\n",
              "      <td>0</td>\n",
              "      <td>62537</td>\n",
              "      <td>369</td>\n",
              "      <td>0</td>\n",
              "      <td>3</td>\n",
              "      <td>0</td>\n",
              "      <td>2172</td>\n",
              "      <td>65.1</td>\n",
              "      <td>0</td>\n",
              "    </tr>\n",
              "    <tr>\n",
              "      <th>1</th>\n",
              "      <td>2016</td>\n",
              "      <td>02016</td>\n",
              "      <td>Aleutians West Census Area</td>\n",
              "      <td>AK</td>\n",
              "      <td>Alaska</td>\n",
              "      <td>Aleutians West, Alaska, US</td>\n",
              "      <td>4390.28</td>\n",
              "      <td>5634</td>\n",
              "      <td>1</td>\n",
              "      <td>58008</td>\n",
              "      <td>721</td>\n",
              "      <td>0</td>\n",
              "      <td>1</td>\n",
              "      <td>0</td>\n",
              "      <td>2656</td>\n",
              "      <td>47.1</td>\n",
              "      <td>0</td>\n",
              "    </tr>\n",
              "    <tr>\n",
              "      <th>2</th>\n",
              "      <td>2020</td>\n",
              "      <td>02020</td>\n",
              "      <td>Anchorage Municipality</td>\n",
              "      <td>AK</td>\n",
              "      <td>Alaska</td>\n",
              "      <td>Anchorage, Alaska, US</td>\n",
              "      <td>1704.68</td>\n",
              "      <td>288000</td>\n",
              "      <td>168</td>\n",
              "      <td>70145</td>\n",
              "      <td>31058</td>\n",
              "      <td>18</td>\n",
              "      <td>179</td>\n",
              "      <td>0</td>\n",
              "      <td>126221</td>\n",
              "      <td>43.8</td>\n",
              "      <td>74</td>\n",
              "    </tr>\n",
              "  </tbody>\n",
              "</table>\n",
              "</div>"
            ],
            "text/plain": [
              "   FIPS FIPS_Code                      County  ... Vaccinated Vax_Pct Vax_Sq_Mile\n",
              "0  2013     02013      Aleutians East Borough  ...       2172    65.1           0\n",
              "1  2016     02016  Aleutians West Census Area  ...       2656    47.1           0\n",
              "2  2020     02020      Anchorage Municipality  ...     126221    43.8          74\n",
              "\n",
              "[3 rows x 17 columns]"
            ]
          },
          "metadata": {
            "tags": []
          },
          "execution_count": 3
        }
      ]
    },
    {
      "cell_type": "code",
      "metadata": {
        "colab": {
          "base_uri": "https://localhost:8080/",
          "height": 290
        },
        "id": "Mni17GNiqhoR",
        "outputId": "db5ad56c-34ad-46f7-cc84-679a413b26e3"
      },
      "source": [
        "df.describe()"
      ],
      "execution_count": 4,
      "outputs": [
        {
          "output_type": "execute_result",
          "data": {
            "text/html": [
              "<div>\n",
              "<style scoped>\n",
              "    .dataframe tbody tr th:only-of-type {\n",
              "        vertical-align: middle;\n",
              "    }\n",
              "\n",
              "    .dataframe tbody tr th {\n",
              "        vertical-align: top;\n",
              "    }\n",
              "\n",
              "    .dataframe thead th {\n",
              "        text-align: right;\n",
              "    }\n",
              "</style>\n",
              "<table border=\"1\" class=\"dataframe\">\n",
              "  <thead>\n",
              "    <tr style=\"text-align: right;\">\n",
              "      <th></th>\n",
              "      <th>FIPS</th>\n",
              "      <th>Land_Area</th>\n",
              "      <th>Population</th>\n",
              "      <th>Pop_Sq_Mile</th>\n",
              "      <th>Income</th>\n",
              "      <th>Confirmed</th>\n",
              "      <th>Cases_Sq_Mile</th>\n",
              "      <th>Deaths</th>\n",
              "      <th>Deaths_Sq_Mile</th>\n",
              "      <th>Vaccinated</th>\n",
              "      <th>Vax_Pct</th>\n",
              "      <th>Vax_Sq_Mile</th>\n",
              "    </tr>\n",
              "  </thead>\n",
              "  <tbody>\n",
              "    <tr>\n",
              "      <th>count</th>\n",
              "      <td>3112.000000</td>\n",
              "      <td>3112.000000</td>\n",
              "      <td>3.112000e+03</td>\n",
              "      <td>3112.000000</td>\n",
              "      <td>3112.000000</td>\n",
              "      <td>3.112000e+03</td>\n",
              "      <td>3112.000000</td>\n",
              "      <td>3112.000000</td>\n",
              "      <td>3112.000000</td>\n",
              "      <td>3.112000e+03</td>\n",
              "      <td>3112.000000</td>\n",
              "      <td>3112.000000</td>\n",
              "    </tr>\n",
              "    <tr>\n",
              "      <th>mean</th>\n",
              "      <td>30282.262211</td>\n",
              "      <td>1106.374479</td>\n",
              "      <td>1.049407e+05</td>\n",
              "      <td>270.714332</td>\n",
              "      <td>45955.784062</td>\n",
              "      <td>1.061510e+04</td>\n",
              "      <td>26.421594</td>\n",
              "      <td>190.291774</td>\n",
              "      <td>0.430591</td>\n",
              "      <td>4.015677e+04</td>\n",
              "      <td>30.457584</td>\n",
              "      <td>105.849936</td>\n",
              "    </tr>\n",
              "    <tr>\n",
              "      <th>std</th>\n",
              "      <td>15126.815912</td>\n",
              "      <td>3610.275409</td>\n",
              "      <td>3.347700e+05</td>\n",
              "      <td>1782.779788</td>\n",
              "      <td>13144.549879</td>\n",
              "      <td>3.754849e+04</td>\n",
              "      <td>175.938025</td>\n",
              "      <td>727.551874</td>\n",
              "      <td>5.704471</td>\n",
              "      <td>1.501343e+05</td>\n",
              "      <td>15.123688</td>\n",
              "      <td>951.683493</td>\n",
              "    </tr>\n",
              "    <tr>\n",
              "      <th>min</th>\n",
              "      <td>1001.000000</td>\n",
              "      <td>2.000000</td>\n",
              "      <td>1.690000e+02</td>\n",
              "      <td>0.000000</td>\n",
              "      <td>19472.000000</td>\n",
              "      <td>0.000000e+00</td>\n",
              "      <td>0.000000</td>\n",
              "      <td>0.000000</td>\n",
              "      <td>0.000000</td>\n",
              "      <td>0.000000e+00</td>\n",
              "      <td>0.000000</td>\n",
              "      <td>0.000000</td>\n",
              "    </tr>\n",
              "    <tr>\n",
              "      <th>25%</th>\n",
              "      <td>18170.500000</td>\n",
              "      <td>430.567500</td>\n",
              "      <td>1.094850e+04</td>\n",
              "      <td>16.750000</td>\n",
              "      <td>37962.000000</td>\n",
              "      <td>1.085000e+03</td>\n",
              "      <td>1.000000</td>\n",
              "      <td>20.000000</td>\n",
              "      <td>0.000000</td>\n",
              "      <td>2.198250e+03</td>\n",
              "      <td>23.500000</td>\n",
              "      <td>2.000000</td>\n",
              "    </tr>\n",
              "    <tr>\n",
              "      <th>50%</th>\n",
              "      <td>29160.000000</td>\n",
              "      <td>612.290000</td>\n",
              "      <td>2.607000e+04</td>\n",
              "      <td>45.000000</td>\n",
              "      <td>43431.500000</td>\n",
              "      <td>2.639000e+03</td>\n",
              "      <td>4.000000</td>\n",
              "      <td>51.000000</td>\n",
              "      <td>0.000000</td>\n",
              "      <td>6.654000e+03</td>\n",
              "      <td>31.700000</td>\n",
              "      <td>11.000000</td>\n",
              "    </tr>\n",
              "    <tr>\n",
              "      <th>75%</th>\n",
              "      <td>45049.500000</td>\n",
              "      <td>917.662500</td>\n",
              "      <td>6.831300e+04</td>\n",
              "      <td>118.250000</td>\n",
              "      <td>50732.750000</td>\n",
              "      <td>6.800000e+03</td>\n",
              "      <td>12.000000</td>\n",
              "      <td>121.000000</td>\n",
              "      <td>0.000000</td>\n",
              "      <td>2.162975e+04</td>\n",
              "      <td>40.500000</td>\n",
              "      <td>35.000000</td>\n",
              "    </tr>\n",
              "    <tr>\n",
              "      <th>max</th>\n",
              "      <td>56045.000000</td>\n",
              "      <td>145504.790000</td>\n",
              "      <td>1.003911e+07</td>\n",
              "      <td>71340.000000</td>\n",
              "      <td>229825.000000</td>\n",
              "      <td>1.247909e+06</td>\n",
              "      <td>6065.000000</td>\n",
              "      <td>24459.000000</td>\n",
              "      <td>197.000000</td>\n",
              "      <td>4.922209e+06</td>\n",
              "      <td>99.900000</td>\n",
              "      <td>42855.000000</td>\n",
              "    </tr>\n",
              "  </tbody>\n",
              "</table>\n",
              "</div>"
            ],
            "text/plain": [
              "               FIPS      Land_Area  ...      Vax_Pct   Vax_Sq_Mile\n",
              "count   3112.000000    3112.000000  ...  3112.000000   3112.000000\n",
              "mean   30282.262211    1106.374479  ...    30.457584    105.849936\n",
              "std    15126.815912    3610.275409  ...    15.123688    951.683493\n",
              "min     1001.000000       2.000000  ...     0.000000      0.000000\n",
              "25%    18170.500000     430.567500  ...    23.500000      2.000000\n",
              "50%    29160.000000     612.290000  ...    31.700000     11.000000\n",
              "75%    45049.500000     917.662500  ...    40.500000     35.000000\n",
              "max    56045.000000  145504.790000  ...    99.900000  42855.000000\n",
              "\n",
              "[8 rows x 12 columns]"
            ]
          },
          "metadata": {
            "tags": []
          },
          "execution_count": 4
        }
      ]
    },
    {
      "cell_type": "code",
      "metadata": {
        "colab": {
          "base_uri": "https://localhost:8080/"
        },
        "id": "AgS_cmZQx9cF",
        "outputId": "2f8bb53e-89e6-45b3-92f5-277b7f17f3f7"
      },
      "source": [
        "florida_df = df.query(\"`State` == 'Florida'\")\n",
        "florida_df.shape"
      ],
      "execution_count": 5,
      "outputs": [
        {
          "output_type": "execute_result",
          "data": {
            "text/plain": [
              "(67, 17)"
            ]
          },
          "metadata": {
            "tags": []
          },
          "execution_count": 5
        }
      ]
    },
    {
      "cell_type": "code",
      "metadata": {
        "colab": {
          "base_uri": "https://localhost:8080/"
        },
        "id": "vpDEq5lXqRcR",
        "outputId": "3faeac7a-1909-4a0c-db7b-254e9a9c2127"
      },
      "source": [
        "features = [florida_df[['Pop_Sq_Mile','Cases_Sq_Mile']]]\n",
        "features"
      ],
      "execution_count": 6,
      "outputs": [
        {
          "output_type": "execute_result",
          "data": {
            "text/plain": [
              "[     Pop_Sq_Mile  Cases_Sq_Mile\n",
              " 317          307             29\n",
              " 318           49              6\n",
              " 319          230             27\n",
              " 320           95             10\n",
              " 321          592             42\n",
              " ..           ...            ...\n",
              " 379           62              7\n",
              " 380          502             41\n",
              " 381           55              5\n",
              " 382           71              7\n",
              " 383           43              4\n",
              " \n",
              " [67 rows x 2 columns]]"
            ]
          },
          "metadata": {
            "tags": []
          },
          "execution_count": 6
        }
      ]
    },
    {
      "cell_type": "markdown",
      "metadata": {
        "id": "5U_Yoxxc1S20"
      },
      "source": [
        "Reference: https://www.thiscodeworks.com/use-sklearn-standardscaler-only-on-certain-feature-columns-python/605cc55c3c8db10014203c0e"
      ]
    },
    {
      "cell_type": "code",
      "metadata": {
        "colab": {
          "base_uri": "https://localhost:8080/",
          "height": 408
        },
        "id": "HvafLIBczKaK",
        "outputId": "2bc56fff-0df7-4726-90a6-2b68c2d15fba"
      },
      "source": [
        "scaled_features = florida_df.copy()\n",
        " \n",
        "col_names = ['Pop_Sq_Mile','Cases_Sq_Mile']\n",
        "features = scaled_features[col_names]\n",
        "scaler = StandardScaler().fit(features.values)\n",
        "features = scaler.transform(features.values)\n",
        " \n",
        "scaled_features[col_names] = features\n",
        "scaled_features[['Pop_Sq_Mile','Cases_Sq_Mile']]"
      ],
      "execution_count": 7,
      "outputs": [
        {
          "output_type": "execute_result",
          "data": {
            "text/html": [
              "<div>\n",
              "<style scoped>\n",
              "    .dataframe tbody tr th:only-of-type {\n",
              "        vertical-align: middle;\n",
              "    }\n",
              "\n",
              "    .dataframe tbody tr th {\n",
              "        vertical-align: top;\n",
              "    }\n",
              "\n",
              "    .dataframe thead th {\n",
              "        text-align: right;\n",
              "    }\n",
              "</style>\n",
              "<table border=\"1\" class=\"dataframe\">\n",
              "  <thead>\n",
              "    <tr style=\"text-align: right;\">\n",
              "      <th></th>\n",
              "      <th>Pop_Sq_Mile</th>\n",
              "      <th>Cases_Sq_Mile</th>\n",
              "    </tr>\n",
              "  </thead>\n",
              "  <tbody>\n",
              "    <tr>\n",
              "      <th>317</th>\n",
              "      <td>-0.133347</td>\n",
              "      <td>-0.148195</td>\n",
              "    </tr>\n",
              "    <tr>\n",
              "      <th>318</th>\n",
              "      <td>-0.583988</td>\n",
              "      <td>-0.537240</td>\n",
              "    </tr>\n",
              "    <tr>\n",
              "      <th>319</th>\n",
              "      <td>-0.267841</td>\n",
              "      <td>-0.182025</td>\n",
              "    </tr>\n",
              "    <tr>\n",
              "      <th>320</th>\n",
              "      <td>-0.503642</td>\n",
              "      <td>-0.469580</td>\n",
              "    </tr>\n",
              "    <tr>\n",
              "      <th>321</th>\n",
              "      <td>0.364455</td>\n",
              "      <td>0.071699</td>\n",
              "    </tr>\n",
              "    <tr>\n",
              "      <th>...</th>\n",
              "      <td>...</td>\n",
              "      <td>...</td>\n",
              "    </tr>\n",
              "    <tr>\n",
              "      <th>379</th>\n",
              "      <td>-0.561282</td>\n",
              "      <td>-0.520325</td>\n",
              "    </tr>\n",
              "    <tr>\n",
              "      <th>380</th>\n",
              "      <td>0.207255</td>\n",
              "      <td>0.054784</td>\n",
              "    </tr>\n",
              "    <tr>\n",
              "      <th>381</th>\n",
              "      <td>-0.573508</td>\n",
              "      <td>-0.554155</td>\n",
              "    </tr>\n",
              "    <tr>\n",
              "      <th>382</th>\n",
              "      <td>-0.545562</td>\n",
              "      <td>-0.520325</td>\n",
              "    </tr>\n",
              "    <tr>\n",
              "      <th>383</th>\n",
              "      <td>-0.594469</td>\n",
              "      <td>-0.571070</td>\n",
              "    </tr>\n",
              "  </tbody>\n",
              "</table>\n",
              "<p>67 rows × 2 columns</p>\n",
              "</div>"
            ],
            "text/plain": [
              "     Pop_Sq_Mile  Cases_Sq_Mile\n",
              "317    -0.133347      -0.148195\n",
              "318    -0.583988      -0.537240\n",
              "319    -0.267841      -0.182025\n",
              "320    -0.503642      -0.469580\n",
              "321     0.364455       0.071699\n",
              "..           ...            ...\n",
              "379    -0.561282      -0.520325\n",
              "380     0.207255       0.054784\n",
              "381    -0.573508      -0.554155\n",
              "382    -0.545562      -0.520325\n",
              "383    -0.594469      -0.571070\n",
              "\n",
              "[67 rows x 2 columns]"
            ]
          },
          "metadata": {
            "tags": []
          },
          "execution_count": 7
        }
      ]
    },
    {
      "cell_type": "code",
      "metadata": {
        "id": "sx6KgP370lZf"
      },
      "source": [
        "kmeans = KMeans(init=\"random\", n_clusters=4, n_init=10, max_iter=300, random_state=0)"
      ],
      "execution_count": 33,
      "outputs": []
    },
    {
      "cell_type": "code",
      "metadata": {
        "colab": {
          "base_uri": "https://localhost:8080/"
        },
        "id": "eoRdkAivq1Ry",
        "outputId": "41fd112d-f23a-469e-a4fd-51d12215ee16"
      },
      "source": [
        "kmeans.fit(scaled_features[['Pop_Sq_Mile','Cases_Sq_Mile']])"
      ],
      "execution_count": 34,
      "outputs": [
        {
          "output_type": "execute_result",
          "data": {
            "text/plain": [
              "KMeans(algorithm='auto', copy_x=True, init='random', max_iter=300, n_clusters=4,\n",
              "       n_init=10, n_jobs=None, precompute_distances='auto', random_state=0,\n",
              "       tol=0.0001, verbose=0)"
            ]
          },
          "metadata": {
            "tags": []
          },
          "execution_count": 34
        }
      ]
    },
    {
      "cell_type": "code",
      "metadata": {
        "colab": {
          "base_uri": "https://localhost:8080/"
        },
        "id": "9t-SMejx17wx",
        "outputId": "ec24c65f-ac2c-4dc6-ced5-ca2afbd1abc0"
      },
      "source": [
        "# The lowest SSE (Sum of Squares Error) value\n",
        "kmeans.inertia_"
      ],
      "execution_count": 35,
      "outputs": [
        {
          "output_type": "execute_result",
          "data": {
            "text/plain": [
              "13.443813353871553"
            ]
          },
          "metadata": {
            "tags": []
          },
          "execution_count": 35
        }
      ]
    },
    {
      "cell_type": "code",
      "metadata": {
        "colab": {
          "base_uri": "https://localhost:8080/"
        },
        "id": "GBh0jFvU3OYk",
        "outputId": "69ebcedc-4fb7-4005-c9c2-839be9725aef"
      },
      "source": [
        "# Final locations of the centroid\n",
        "kmeans.cluster_centers_"
      ],
      "execution_count": 36,
      "outputs": [
        {
          "output_type": "execute_result",
          "data": {
            "text/plain": [
              "array([[ 0.30879447,  0.21265754],\n",
              "       [-0.47891639, -0.4684525 ],\n",
              "       [ 3.68924782,  4.14821063],\n",
              "       [ 1.90816502,  1.91881566]])"
            ]
          },
          "metadata": {
            "tags": []
          },
          "execution_count": 36
        }
      ]
    },
    {
      "cell_type": "code",
      "metadata": {
        "colab": {
          "base_uri": "https://localhost:8080/"
        },
        "id": "31H4FxNG3h76",
        "outputId": "6539cb6a-50a7-4eb8-8897-d6b2c03cabaa"
      },
      "source": [
        "# The number of iterations required to converge\n",
        "kmeans.n_iter_"
      ],
      "execution_count": 37,
      "outputs": [
        {
          "output_type": "execute_result",
          "data": {
            "text/plain": [
              "8"
            ]
          },
          "metadata": {
            "tags": []
          },
          "execution_count": 37
        }
      ]
    },
    {
      "cell_type": "code",
      "metadata": {
        "colab": {
          "base_uri": "https://localhost:8080/"
        },
        "id": "HAun6ZwO39IC",
        "outputId": "82f97028-b2eb-413c-a38e-a001b99ec40b"
      },
      "source": [
        "# Look at the label assignments\n",
        "labels = kmeans.labels_\n",
        "labels"
      ],
      "execution_count": 38,
      "outputs": [
        {
          "output_type": "execute_result",
          "data": {
            "text/plain": [
              "array([1, 1, 1, 1, 0, 3, 1, 1, 1, 0, 1, 1, 1, 1, 3, 0, 1, 1, 1, 1, 1, 1,\n",
              "       1, 1, 1, 0, 1, 3, 1, 1, 1, 1, 1, 0, 0, 0, 1, 1, 1, 0, 1, 1, 2, 1,\n",
              "       1, 1, 1, 3, 1, 0, 0, 2, 0, 1, 1, 0, 3, 0, 0, 1, 1, 1, 1, 0, 1, 1,\n",
              "       1], dtype=int32)"
            ]
          },
          "metadata": {
            "tags": []
          },
          "execution_count": 38
        }
      ]
    },
    {
      "cell_type": "code",
      "metadata": {
        "colab": {
          "base_uri": "https://localhost:8080/",
          "height": 408
        },
        "id": "_ZU_v-eH4LKM",
        "outputId": "e5f8cec9-0e5a-403d-cab1-a8fde1efaa75"
      },
      "source": [
        "scaled_features['Label'] = labels\n",
        "scaled_features[['Place','Pop_Sq_Mile','Cases_Sq_Mile','Label']]"
      ],
      "execution_count": 39,
      "outputs": [
        {
          "output_type": "execute_result",
          "data": {
            "text/html": [
              "<div>\n",
              "<style scoped>\n",
              "    .dataframe tbody tr th:only-of-type {\n",
              "        vertical-align: middle;\n",
              "    }\n",
              "\n",
              "    .dataframe tbody tr th {\n",
              "        vertical-align: top;\n",
              "    }\n",
              "\n",
              "    .dataframe thead th {\n",
              "        text-align: right;\n",
              "    }\n",
              "</style>\n",
              "<table border=\"1\" class=\"dataframe\">\n",
              "  <thead>\n",
              "    <tr style=\"text-align: right;\">\n",
              "      <th></th>\n",
              "      <th>Place</th>\n",
              "      <th>Pop_Sq_Mile</th>\n",
              "      <th>Cases_Sq_Mile</th>\n",
              "      <th>Label</th>\n",
              "    </tr>\n",
              "  </thead>\n",
              "  <tbody>\n",
              "    <tr>\n",
              "      <th>317</th>\n",
              "      <td>Alachua, Florida, US</td>\n",
              "      <td>-0.133347</td>\n",
              "      <td>-0.148195</td>\n",
              "      <td>1</td>\n",
              "    </tr>\n",
              "    <tr>\n",
              "      <th>318</th>\n",
              "      <td>Baker, Florida, US</td>\n",
              "      <td>-0.583988</td>\n",
              "      <td>-0.537240</td>\n",
              "      <td>1</td>\n",
              "    </tr>\n",
              "    <tr>\n",
              "      <th>319</th>\n",
              "      <td>Bay, Florida, US</td>\n",
              "      <td>-0.267841</td>\n",
              "      <td>-0.182025</td>\n",
              "      <td>1</td>\n",
              "    </tr>\n",
              "    <tr>\n",
              "      <th>320</th>\n",
              "      <td>Bradford, Florida, US</td>\n",
              "      <td>-0.503642</td>\n",
              "      <td>-0.469580</td>\n",
              "      <td>1</td>\n",
              "    </tr>\n",
              "    <tr>\n",
              "      <th>321</th>\n",
              "      <td>Brevard, Florida, US</td>\n",
              "      <td>0.364455</td>\n",
              "      <td>0.071699</td>\n",
              "      <td>0</td>\n",
              "    </tr>\n",
              "    <tr>\n",
              "      <th>...</th>\n",
              "      <td>...</td>\n",
              "      <td>...</td>\n",
              "      <td>...</td>\n",
              "      <td>...</td>\n",
              "    </tr>\n",
              "    <tr>\n",
              "      <th>379</th>\n",
              "      <td>Union, Florida, US</td>\n",
              "      <td>-0.561282</td>\n",
              "      <td>-0.520325</td>\n",
              "      <td>1</td>\n",
              "    </tr>\n",
              "    <tr>\n",
              "      <th>380</th>\n",
              "      <td>Volusia, Florida, US</td>\n",
              "      <td>0.207255</td>\n",
              "      <td>0.054784</td>\n",
              "      <td>0</td>\n",
              "    </tr>\n",
              "    <tr>\n",
              "      <th>381</th>\n",
              "      <td>Wakulla, Florida, US</td>\n",
              "      <td>-0.573508</td>\n",
              "      <td>-0.554155</td>\n",
              "      <td>1</td>\n",
              "    </tr>\n",
              "    <tr>\n",
              "      <th>382</th>\n",
              "      <td>Walton, Florida, US</td>\n",
              "      <td>-0.545562</td>\n",
              "      <td>-0.520325</td>\n",
              "      <td>1</td>\n",
              "    </tr>\n",
              "    <tr>\n",
              "      <th>383</th>\n",
              "      <td>Washington, Florida, US</td>\n",
              "      <td>-0.594469</td>\n",
              "      <td>-0.571070</td>\n",
              "      <td>1</td>\n",
              "    </tr>\n",
              "  </tbody>\n",
              "</table>\n",
              "<p>67 rows × 4 columns</p>\n",
              "</div>"
            ],
            "text/plain": [
              "                       Place  Pop_Sq_Mile  Cases_Sq_Mile  Label\n",
              "317     Alachua, Florida, US    -0.133347      -0.148195      1\n",
              "318       Baker, Florida, US    -0.583988      -0.537240      1\n",
              "319         Bay, Florida, US    -0.267841      -0.182025      1\n",
              "320    Bradford, Florida, US    -0.503642      -0.469580      1\n",
              "321     Brevard, Florida, US     0.364455       0.071699      0\n",
              "..                       ...          ...            ...    ...\n",
              "379       Union, Florida, US    -0.561282      -0.520325      1\n",
              "380     Volusia, Florida, US     0.207255       0.054784      0\n",
              "381     Wakulla, Florida, US    -0.573508      -0.554155      1\n",
              "382      Walton, Florida, US    -0.545562      -0.520325      1\n",
              "383  Washington, Florida, US    -0.594469      -0.571070      1\n",
              "\n",
              "[67 rows x 4 columns]"
            ]
          },
          "metadata": {
            "tags": []
          },
          "execution_count": 39
        }
      ]
    },
    {
      "cell_type": "code",
      "metadata": {
        "colab": {
          "base_uri": "https://localhost:8080/"
        },
        "id": "ftASQH0S6J4A",
        "outputId": "25b64349-2365-4fbb-bc20-69ec900199a0"
      },
      "source": [
        "#filter rows of original data\n",
        "filtered_label0 = scaled_features[scaled_features.Label == 0]\n",
        "filtered_label0.shape"
      ],
      "execution_count": 40,
      "outputs": [
        {
          "output_type": "execute_result",
          "data": {
            "text/plain": [
              "(15, 18)"
            ]
          },
          "metadata": {
            "tags": []
          },
          "execution_count": 40
        }
      ]
    },
    {
      "cell_type": "code",
      "metadata": {
        "colab": {
          "base_uri": "https://localhost:8080/",
          "height": 295
        },
        "id": "C0OkAPyc7ZfZ",
        "outputId": "beaba567-042f-46be-8285-2690eab4845b"
      },
      "source": [
        "#plotting the results\n",
        "plt.scatter(filtered_label0['Pop_Sq_Mile'], filtered_label0['Cases_Sq_Mile'])\n",
        "#plt.scatter(kmeans.cluster_centers_[:, 0], kmeans.cluster_centers_[:, 1], s=200, c='yellow', label = 'Centroids')\n",
        "plt.title('Clusters of Population Density and COVID-19 Cases')\n",
        "plt.xlabel('Population Per Square Mile)')\n",
        "plt.ylabel('Cases Per Square Mile')\n",
        "plt.show()"
      ],
      "execution_count": 43,
      "outputs": [
        {
          "output_type": "display_data",
          "data": {
            "image/png": "[encoded data removed]",
            "text/plain": [
              "<Figure size 432x288 with 1 Axes>"
            ]
          },
          "metadata": {
            "tags": [],
            "needs_background": "light"
          }
        }
      ]
    },
    {
      "cell_type": "code",
      "metadata": {
        "id": "DifvJJeu6htI"
      },
      "source": [
        "# X = scaled_features[['Pop_Sq_Mile','Cases_Sq_Mile']]\n",
        "X = florida_df[['Pop_Sq_Mile','Cases_Sq_Mile']]"
      ],
      "execution_count": 42,
      "outputs": []
    },
    {
      "cell_type": "markdown",
      "metadata": {
        "id": "U3lmbNxFDTlB"
      },
      "source": [
        "Reference: https://medium.com/pursuitnotes/k-means-clustering-model-in-6-steps-with-python-35b532cfa8ad"
      ]
    },
    {
      "cell_type": "code",
      "metadata": {
        "colab": {
          "base_uri": "https://localhost:8080/",
          "height": 295
        },
        "id": "4x5C9x5m7-Tn",
        "outputId": "26608aff-67bd-423d-fbdc-fed0a743c622"
      },
      "source": [
        "# Using the elbow method to find out the optimal number of clusters. \n",
        "wcss=[]\n",
        "\n",
        "# Loop ten times to:\n",
        "#  - fit the k-means algorithm to data \n",
        "#  - use kmean++ random initialization method \n",
        "#  - allow for a maximum of 300 iterations to find final clusters \n",
        "#  - run the algorithm for 10 different initial centroids \n",
        "for i in range(1,11):\n",
        "    kmeans = KMeans(n_clusters=i, init ='k-means++', max_iter=300,  n_init=10, random_state=0)\n",
        "    kmeans.fit(X)\n",
        "\n",
        "    # Compute the WCSS (within cluster sum of squares) and append it to a WCSS list.\n",
        "    wcss.append(kmeans.inertia_)\n",
        "\n",
        "# Plot the elbow graph using the WCSS list.\n",
        "plt.plot(range(1,11),wcss)\n",
        "plt.title('The Elbow Method Graph')\n",
        "plt.xlabel('Number of clusters')\n",
        "plt.ylabel('WCSS')\n",
        "plt.show()"
      ],
      "execution_count": 45,
      "outputs": [
        {
          "output_type": "display_data",
          "data": {
            "image/png": "[encoded data removed]",
            "text/plain": [
              "<Figure size 432x288 with 1 Axes>"
            ]
          },
          "metadata": {
            "tags": [],
            "needs_background": "light"
          }
        }
      ]
    },
    {
      "cell_type": "markdown",
      "metadata": {
        "id": "nz9HqMwEGwLG"
      },
      "source": [
        "Four (4) clusters seems to be the optimum number of clusters because that is where the elbow curves"
      ]
    },
    {
      "cell_type": "code",
      "metadata": {
        "colab": {
          "base_uri": "https://localhost:8080/"
        },
        "id": "N8kV-R5HGMRE",
        "outputId": "8e03e25d-26c8-4b58-81ba-a113a620df8d"
      },
      "source": [
        "kmeans = KMeans(n_clusters=4, init ='k-means++', max_iter=300, n_init=10,random_state=0 )\n",
        "kmeans.fit(X)"
      ],
      "execution_count": 46,
      "outputs": [
        {
          "output_type": "execute_result",
          "data": {
            "text/plain": [
              "KMeans(algorithm='auto', copy_x=True, init='k-means++', max_iter=300,\n",
              "       n_clusters=4, n_init=10, n_jobs=None, precompute_distances='auto',\n",
              "       random_state=0, tol=0.0001, verbose=0)"
            ]
          },
          "metadata": {
            "tags": []
          },
          "execution_count": 46
        }
      ]
    },
    {
      "cell_type": "code",
      "metadata": {
        "colab": {
          "base_uri": "https://localhost:8080/"
        },
        "id": "Z6MRnrjBG_Sp",
        "outputId": "5dc0f882-e3d2-4cbc-ef70-6314682d67b1"
      },
      "source": [
        "X['Label'] = kmeans.fit_predict(X)\n",
        "X['Label']"
      ],
      "execution_count": 47,
      "outputs": [
        {
          "output_type": "stream",
          "text": [
            "/usr/local/lib/python3.7/dist-packages/ipykernel_launcher.py:1: SettingWithCopyWarning: \n",
            "A value is trying to be set on a copy of a slice from a DataFrame.\n",
            "Try using .loc[row_indexer,col_indexer] = value instead\n",
            "\n",
            "See the caveats in the documentation: https://pandas.pydata.org/pandas-docs/stable/user_guide/indexing.html#returning-a-view-versus-a-copy\n",
            "  \"\"\"Entry point for launching an IPython kernel.\n"
          ],
          "name": "stderr"
        },
        {
          "output_type": "execute_result",
          "data": {
            "text/plain": [
              "317    1\n",
              "318    1\n",
              "319    1\n",
              "320    1\n",
              "321    0\n",
              "      ..\n",
              "379    1\n",
              "380    0\n",
              "381    1\n",
              "382    1\n",
              "383    1\n",
              "Name: Label, Length: 67, dtype: int32"
            ]
          },
          "metadata": {
            "tags": []
          },
          "execution_count": 47
        }
      ]
    },
    {
      "cell_type": "code",
      "metadata": {
        "colab": {
          "base_uri": "https://localhost:8080/"
        },
        "id": "rW_8T6pbTaxu",
        "outputId": "8da1e0d4-1b6e-4902-a1f6-d6aa9d5a675a"
      },
      "source": [
        "kmeans.cluster_centers_"
      ],
      "execution_count": 48,
      "outputs": [
        {
          "output_type": "execute_result",
          "data": {
            "text/plain": [
              "array([[ 560.13333333,   50.33333333],\n",
              "       [ 109.15555556,   10.06666667],\n",
              "       [3560.        ,  300.        ],\n",
              "       [1468.33333333,  170.33333333]])"
            ]
          },
          "metadata": {
            "tags": []
          },
          "execution_count": 48
        }
      ]
    },
    {
      "cell_type": "code",
      "metadata": {
        "colab": {
          "base_uri": "https://localhost:8080/",
          "height": 78
        },
        "id": "TFtWhoqfI46p",
        "outputId": "a9e7d5fd-d354-4eec-ef95-637cfb49f7d1"
      },
      "source": [
        "X[X.Label==2][['Pop_Sq_Mile','Cases_Sq_Mile']]"
      ],
      "execution_count": 21,
      "outputs": [
        {
          "output_type": "execute_result",
          "data": {
            "text/html": [
              "<div>\n",
              "<style scoped>\n",
              "    .dataframe tbody tr th:only-of-type {\n",
              "        vertical-align: middle;\n",
              "    }\n",
              "\n",
              "    .dataframe tbody tr th {\n",
              "        vertical-align: top;\n",
              "    }\n",
              "\n",
              "    .dataframe thead th {\n",
              "        text-align: right;\n",
              "    }\n",
              "</style>\n",
              "<table border=\"1\" class=\"dataframe\">\n",
              "  <thead>\n",
              "    <tr style=\"text-align: right;\">\n",
              "      <th></th>\n",
              "      <th>Pop_Sq_Mile</th>\n",
              "      <th>Cases_Sq_Mile</th>\n",
              "    </tr>\n",
              "  </thead>\n",
              "  <tbody>\n",
              "    <tr>\n",
              "      <th>368</th>\n",
              "      <td>3560</td>\n",
              "      <td>300</td>\n",
              "    </tr>\n",
              "  </tbody>\n",
              "</table>\n",
              "</div>"
            ],
            "text/plain": [
              "     Pop_Sq_Mile  Cases_Sq_Mile\n",
              "368         3560            300"
            ]
          },
          "metadata": {
            "tags": []
          },
          "execution_count": 21
        }
      ]
    },
    {
      "cell_type": "code",
      "metadata": {
        "colab": {
          "base_uri": "https://localhost:8080/",
          "height": 512
        },
        "id": "VcdxLcw8H7Yp",
        "outputId": "a08d6c91-c258-40d6-eeca-24b4a160b21e"
      },
      "source": [
        "fig= plt.figure(figsize=(16,8))\n",
        "plt.scatter(X[X.Label==0]['Pop_Sq_Mile'], X[X.Label==0]['Cases_Sq_Mile'], s=50, c='red', label ='Cluster 1')\n",
        "plt.scatter(X[X.Label==1]['Pop_Sq_Mile'], X[X.Label==1]['Cases_Sq_Mile'], s=50, c='cyan', label ='Cluster 2')\n",
        "plt.scatter(X[X.Label==2]['Pop_Sq_Mile'], X[X.Label==2]['Cases_Sq_Mile'], s=50, c='orange', label ='Cluster 3')\n",
        "plt.scatter(X[X.Label==3]['Pop_Sq_Mile'], X[X.Label==3]['Cases_Sq_Mile'], s=50, c='blue', label ='Cluster 4')\n",
        "plt.scatter(kmeans.cluster_centers_[:, 0], kmeans.cluster_centers_[:, 1], s=300, c='black', label = 'Centroids', marker='*')\n",
        "plt.xlim(0,4000)\n",
        "plt.ylim(0,350)\n",
        "plt.title('Clusters of Population Density and COVID-19 Cases')\n",
        "plt.xlabel('Population Per Square Mile')\n",
        "plt.ylabel('Cases Per Square Mile')\n",
        "plt.legend(loc='upper left')\n",
        "plt.show()"
      ],
      "execution_count": 50,
      "outputs": [
        {
          "output_type": "display_data",
          "data": {
            "image/png": "[encoded data removed]",
            "text/plain": [
              "<Figure size 1152x576 with 1 Axes>"
            ]
          },
          "metadata": {
            "tags": [],
            "needs_background": "light"
          }
        }
      ]
    },
    {
      "cell_type": "code",
      "metadata": {
        "colab": {
          "base_uri": "https://localhost:8080/"
        },
        "id": "OkbVq5-WIq3V",
        "outputId": "25780853-824c-4c1d-8ba8-2e5ee0391577"
      },
      "source": [
        "X[X.Label==2]['Pop_Sq_Mile']"
      ],
      "execution_count": 23,
      "outputs": [
        {
          "output_type": "execute_result",
          "data": {
            "text/plain": [
              "368    3560\n",
              "Name: Pop_Sq_Mile, dtype: int64"
            ]
          },
          "metadata": {
            "tags": []
          },
          "execution_count": 23
        }
      ]
    },
    {
      "cell_type": "code",
      "metadata": {
        "id": "FHukPw51Ou8x"
      },
      "source": [
        ""
      ],
      "execution_count": 23,
      "outputs": []
    }
  ]
}
