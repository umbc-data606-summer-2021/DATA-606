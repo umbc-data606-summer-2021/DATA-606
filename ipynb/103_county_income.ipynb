{
  "nbformat": 4,
  "nbformat_minor": 5,
  "metadata": {
    "kernelspec": {
      "display_name": "Python 3",
      "language": "python",
      "name": "python3"
    },
    "language_info": {
      "codemirror_mode": {
        "name": "ipython",
        "version": 3
      },
      "file_extension": ".py",
      "mimetype": "text/x-python",
      "name": "python",
      "nbconvert_exporter": "python",
      "pygments_lexer": "ipython3",
      "version": "3.7.3"
    },
    "colab": {
      "name": "county_income.ipynb",
      "provenance": [],
      "include_colab_link": true
    }
  },
  "cells": [
    {
      "cell_type": "markdown",
      "metadata": {
        "id": "view-in-github",
        "colab_type": "text"
      },
      "source": [
        "<a href=\"https://colab.research.google.com/github/knoppin1/DATA-606/blob/main/ipynb/103_county_income.ipynb\" target=\"_parent\"><img src=\"https://colab.research.google.com/assets/colab-badge.svg\" alt=\"Open In Colab\"/></a>"
      ]
    },
    {
      "cell_type": "code",
      "metadata": {
        "id": "F92i9ErRYvb0"
      },
      "source": [
        "import pandas as pd\n",
        "import numpy as np\n",
        "import seaborn as sns\n",
        "import os"
      ],
      "id": "F92i9ErRYvb0",
      "execution_count": null,
      "outputs": []
    },
    {
      "cell_type": "code",
      "metadata": {
        "id": "KoUb_DL3Yvb2",
        "colab": {
          "base_uri": "https://localhost:8080/",
          "height": 35
        },
        "outputId": "ee6622b6-b819-49fb-b67d-fa3b5270903d"
      },
      "source": [
        "wd = os.getcwd()\n",
        "wd"
      ],
      "id": "KoUb_DL3Yvb2",
      "execution_count": null,
      "outputs": [
        {
          "output_type": "execute_result",
          "data": {
            "application/vnd.google.colaboratory.intrinsic+json": {
              "type": "string"
            },
            "text/plain": [
              "'/content'"
            ]
          },
          "metadata": {
            "tags": []
          },
          "execution_count": 8
        }
      ]
    },
    {
      "cell_type": "code",
      "metadata": {
        "id": "53pek2YKYvb3",
        "colab": {
          "base_uri": "https://localhost:8080/"
        },
        "outputId": "1f7f7d24-f09e-466b-fbbf-6b632ea3c124"
      },
      "source": [
        "os.listdir(wd)"
      ],
      "id": "53pek2YKYvb3",
      "execution_count": null,
      "outputs": [
        {
          "output_type": "execute_result",
          "data": {
            "text/plain": [
              "['.config', 'lapi1120.xlsx', 'sample_data']"
            ]
          },
          "metadata": {
            "tags": []
          },
          "execution_count": 9
        }
      ]
    },
    {
      "cell_type": "code",
      "metadata": {
        "tags": [],
        "id": "yPBbNRg9Yvb3",
        "colab": {
          "base_uri": "https://localhost:8080/",
          "height": 35
        },
        "outputId": "b07842eb-119a-41e9-98fa-cf6b06b09332"
      },
      "source": [
        "income_file = wd + '/' + 'lapi1120.xlsx'\n",
        "income_file"
      ],
      "id": "yPBbNRg9Yvb3",
      "execution_count": null,
      "outputs": [
        {
          "output_type": "execute_result",
          "data": {
            "application/vnd.google.colaboratory.intrinsic+json": {
              "type": "string"
            },
            "text/plain": [
              "'/content/lapi1120.xlsx'"
            ]
          },
          "metadata": {
            "tags": []
          },
          "execution_count": 10
        }
      ]
    },
    {
      "cell_type": "code",
      "metadata": {
        "id": "n3yvoUDEYvb3",
        "colab": {
          "base_uri": "https://localhost:8080/"
        },
        "outputId": "e5db6e68-4185-4b71-d280-bbc134aa2453"
      },
      "source": [
        "df = pd.read_excel(income_file, skiprows = 3, skipfooter=3)\n",
        "df.shape"
      ],
      "id": "n3yvoUDEYvb3",
      "execution_count": null,
      "outputs": [
        {
          "output_type": "execute_result",
          "data": {
            "text/plain": [
              "(3217, 8)"
            ]
          },
          "metadata": {
            "tags": []
          },
          "execution_count": 11
        }
      ]
    },
    {
      "cell_type": "code",
      "metadata": {
        "id": "8WxCk0nMYvb4",
        "colab": {
          "base_uri": "https://localhost:8080/",
          "height": 204
        },
        "outputId": "e3c913d0-678a-47a5-f504-bfd43b2ba863"
      },
      "source": [
        "df.head(5)"
      ],
      "id": "8WxCk0nMYvb4",
      "execution_count": null,
      "outputs": [
        {
          "output_type": "execute_result",
          "data": {
            "text/html": [
              "<div>\n",
              "<style scoped>\n",
              "    .dataframe tbody tr th:only-of-type {\n",
              "        vertical-align: middle;\n",
              "    }\n",
              "\n",
              "    .dataframe tbody tr th {\n",
              "        vertical-align: top;\n",
              "    }\n",
              "\n",
              "    .dataframe thead th {\n",
              "        text-align: right;\n",
              "    }\n",
              "</style>\n",
              "<table border=\"1\" class=\"dataframe\">\n",
              "  <thead>\n",
              "    <tr style=\"text-align: right;\">\n",
              "      <th></th>\n",
              "      <th>Unnamed: 0</th>\n",
              "      <th>2017</th>\n",
              "      <th>2018</th>\n",
              "      <th>2019</th>\n",
              "      <th>2019.1</th>\n",
              "      <th>2018.1</th>\n",
              "      <th>2019.2</th>\n",
              "      <th>2019.3</th>\n",
              "    </tr>\n",
              "  </thead>\n",
              "  <tbody>\n",
              "    <tr>\n",
              "      <th>0</th>\n",
              "      <td>United States</td>\n",
              "      <td>52118.0</td>\n",
              "      <td>54606.0</td>\n",
              "      <td>56490.0</td>\n",
              "      <td>--</td>\n",
              "      <td>4.8</td>\n",
              "      <td>3.5</td>\n",
              "      <td>--</td>\n",
              "    </tr>\n",
              "    <tr>\n",
              "      <th>1</th>\n",
              "      <td>NaN</td>\n",
              "      <td>NaN</td>\n",
              "      <td>NaN</td>\n",
              "      <td>NaN</td>\n",
              "      <td>NaN</td>\n",
              "      <td>NaN</td>\n",
              "      <td>NaN</td>\n",
              "      <td>NaN</td>\n",
              "    </tr>\n",
              "    <tr>\n",
              "      <th>2</th>\n",
              "      <td>Alabama</td>\n",
              "      <td>41030.0</td>\n",
              "      <td>42710.0</td>\n",
              "      <td>44145.0</td>\n",
              "      <td>--</td>\n",
              "      <td>4.1</td>\n",
              "      <td>3.4</td>\n",
              "      <td>--</td>\n",
              "    </tr>\n",
              "    <tr>\n",
              "      <th>3</th>\n",
              "      <td>Autauga</td>\n",
              "      <td>41101.0</td>\n",
              "      <td>42504.0</td>\n",
              "      <td>43917.0</td>\n",
              "      <td>10</td>\n",
              "      <td>3.4</td>\n",
              "      <td>3.3</td>\n",
              "      <td>37</td>\n",
              "    </tr>\n",
              "    <tr>\n",
              "      <th>4</th>\n",
              "      <td>Baldwin</td>\n",
              "      <td>44566.0</td>\n",
              "      <td>46205.0</td>\n",
              "      <td>47485.0</td>\n",
              "      <td>4</td>\n",
              "      <td>3.7</td>\n",
              "      <td>2.8</td>\n",
              "      <td>48</td>\n",
              "    </tr>\n",
              "  </tbody>\n",
              "</table>\n",
              "</div>"
            ],
            "text/plain": [
              "      Unnamed: 0     2017     2018     2019 2019.1  2018.1  2019.2 2019.3\n",
              "0  United States  52118.0  54606.0  56490.0     --     4.8     3.5     --\n",
              "1            NaN      NaN      NaN      NaN    NaN     NaN     NaN    NaN\n",
              "2        Alabama  41030.0  42710.0  44145.0     --     4.1     3.4     --\n",
              "3        Autauga  41101.0  42504.0  43917.0     10     3.4     3.3     37\n",
              "4        Baldwin  44566.0  46205.0  47485.0      4     3.7     2.8     48"
            ]
          },
          "metadata": {
            "tags": []
          },
          "execution_count": 12
        }
      ]
    },
    {
      "cell_type": "code",
      "metadata": {
        "id": "N7fWtrvAYvb4",
        "colab": {
          "base_uri": "https://localhost:8080/"
        },
        "outputId": "346fc3ad-a3c2-4e32-d8c2-c30003a1b74a"
      },
      "source": [
        "df = df.drop([2017, 2018, '2019.1', '2018.1','2019.2','2019.3'], axis=1)\n",
        "df.columns"
      ],
      "id": "N7fWtrvAYvb4",
      "execution_count": null,
      "outputs": [
        {
          "output_type": "execute_result",
          "data": {
            "text/plain": [
              "Index(['Unnamed: 0', 2019], dtype='object')"
            ]
          },
          "metadata": {
            "tags": []
          },
          "execution_count": 13
        }
      ]
    },
    {
      "cell_type": "code",
      "metadata": {
        "id": "hk9OX1pvYvb4",
        "colab": {
          "base_uri": "https://localhost:8080/"
        },
        "outputId": "83b14a44-efd9-4338-ec94-5ff810c4e82a"
      },
      "source": [
        "df.rename(columns={'Unnamed: 0': 'County', 2019: 'Income'}, inplace=True)\n",
        "df.columns"
      ],
      "id": "hk9OX1pvYvb4",
      "execution_count": null,
      "outputs": [
        {
          "output_type": "execute_result",
          "data": {
            "text/plain": [
              "Index(['County', 'Income'], dtype='object')"
            ]
          },
          "metadata": {
            "tags": []
          },
          "execution_count": 14
        }
      ]
    },
    {
      "cell_type": "code",
      "metadata": {
        "id": "QonnoTrvYvb5",
        "colab": {
          "base_uri": "https://localhost:8080/",
          "height": 142
        },
        "outputId": "2ae4eb0d-1021-4186-834d-8e5410d06d6a"
      },
      "source": [
        "df.head(3)"
      ],
      "id": "QonnoTrvYvb5",
      "execution_count": null,
      "outputs": [
        {
          "output_type": "execute_result",
          "data": {
            "text/html": [
              "<div>\n",
              "<style scoped>\n",
              "    .dataframe tbody tr th:only-of-type {\n",
              "        vertical-align: middle;\n",
              "    }\n",
              "\n",
              "    .dataframe tbody tr th {\n",
              "        vertical-align: top;\n",
              "    }\n",
              "\n",
              "    .dataframe thead th {\n",
              "        text-align: right;\n",
              "    }\n",
              "</style>\n",
              "<table border=\"1\" class=\"dataframe\">\n",
              "  <thead>\n",
              "    <tr style=\"text-align: right;\">\n",
              "      <th></th>\n",
              "      <th>County</th>\n",
              "      <th>Income</th>\n",
              "    </tr>\n",
              "  </thead>\n",
              "  <tbody>\n",
              "    <tr>\n",
              "      <th>0</th>\n",
              "      <td>United States</td>\n",
              "      <td>56490.0</td>\n",
              "    </tr>\n",
              "    <tr>\n",
              "      <th>1</th>\n",
              "      <td>NaN</td>\n",
              "      <td>NaN</td>\n",
              "    </tr>\n",
              "    <tr>\n",
              "      <th>2</th>\n",
              "      <td>Alabama</td>\n",
              "      <td>44145.0</td>\n",
              "    </tr>\n",
              "  </tbody>\n",
              "</table>\n",
              "</div>"
            ],
            "text/plain": [
              "          County   Income\n",
              "0  United States  56490.0\n",
              "1            NaN      NaN\n",
              "2        Alabama  44145.0"
            ]
          },
          "metadata": {
            "tags": []
          },
          "execution_count": 15
        }
      ]
    },
    {
      "cell_type": "markdown",
      "metadata": {
        "id": "OpKSg_muYvb5"
      },
      "source": [
        "Remove unneeded rows."
      ],
      "id": "OpKSg_muYvb5"
    },
    {
      "cell_type": "code",
      "metadata": {
        "id": "VApOtwwTYvb5",
        "colab": {
          "base_uri": "https://localhost:8080/",
          "height": 1000
        },
        "outputId": "b3dc4868-f01b-4a8c-c144-d26f89728699"
      },
      "source": [
        "nan_df = df[df.isna().any(axis=1)]\n",
        "nan_df"
      ],
      "id": "VApOtwwTYvb5",
      "execution_count": null,
      "outputs": [
        {
          "output_type": "execute_result",
          "data": {
            "text/html": [
              "<div>\n",
              "<style scoped>\n",
              "    .dataframe tbody tr th:only-of-type {\n",
              "        vertical-align: middle;\n",
              "    }\n",
              "\n",
              "    .dataframe tbody tr th {\n",
              "        vertical-align: top;\n",
              "    }\n",
              "\n",
              "    .dataframe thead th {\n",
              "        text-align: right;\n",
              "    }\n",
              "</style>\n",
              "<table border=\"1\" class=\"dataframe\">\n",
              "  <thead>\n",
              "    <tr style=\"text-align: right;\">\n",
              "      <th></th>\n",
              "      <th>County</th>\n",
              "      <th>Income</th>\n",
              "    </tr>\n",
              "  </thead>\n",
              "  <tbody>\n",
              "    <tr>\n",
              "      <th>1</th>\n",
              "      <td>NaN</td>\n",
              "      <td>NaN</td>\n",
              "    </tr>\n",
              "    <tr>\n",
              "      <th>70</th>\n",
              "      <td>NaN</td>\n",
              "      <td>NaN</td>\n",
              "    </tr>\n",
              "    <tr>\n",
              "      <th>101</th>\n",
              "      <td>NaN</td>\n",
              "      <td>NaN</td>\n",
              "    </tr>\n",
              "    <tr>\n",
              "      <th>118</th>\n",
              "      <td>NaN</td>\n",
              "      <td>NaN</td>\n",
              "    </tr>\n",
              "    <tr>\n",
              "      <th>195</th>\n",
              "      <td>NaN</td>\n",
              "      <td>NaN</td>\n",
              "    </tr>\n",
              "    <tr>\n",
              "      <th>255</th>\n",
              "      <td>NaN</td>\n",
              "      <td>NaN</td>\n",
              "    </tr>\n",
              "    <tr>\n",
              "      <th>321</th>\n",
              "      <td>NaN</td>\n",
              "      <td>NaN</td>\n",
              "    </tr>\n",
              "    <tr>\n",
              "      <th>331</th>\n",
              "      <td>NaN</td>\n",
              "      <td>NaN</td>\n",
              "    </tr>\n",
              "    <tr>\n",
              "      <th>336</th>\n",
              "      <td>NaN</td>\n",
              "      <td>NaN</td>\n",
              "    </tr>\n",
              "    <tr>\n",
              "      <th>338</th>\n",
              "      <td>NaN</td>\n",
              "      <td>NaN</td>\n",
              "    </tr>\n",
              "    <tr>\n",
              "      <th>407</th>\n",
              "      <td>NaN</td>\n",
              "      <td>NaN</td>\n",
              "    </tr>\n",
              "    <tr>\n",
              "      <th>568</th>\n",
              "      <td>NaN</td>\n",
              "      <td>NaN</td>\n",
              "    </tr>\n",
              "    <tr>\n",
              "      <th>574</th>\n",
              "      <td>NaN</td>\n",
              "      <td>NaN</td>\n",
              "    </tr>\n",
              "    <tr>\n",
              "      <th>620</th>\n",
              "      <td>NaN</td>\n",
              "      <td>NaN</td>\n",
              "    </tr>\n",
              "    <tr>\n",
              "      <th>724</th>\n",
              "      <td>NaN</td>\n",
              "      <td>NaN</td>\n",
              "    </tr>\n",
              "    <tr>\n",
              "      <th>818</th>\n",
              "      <td>NaN</td>\n",
              "      <td>NaN</td>\n",
              "    </tr>\n",
              "    <tr>\n",
              "      <th>919</th>\n",
              "      <td>NaN</td>\n",
              "      <td>NaN</td>\n",
              "    </tr>\n",
              "    <tr>\n",
              "      <th>1026</th>\n",
              "      <td>NaN</td>\n",
              "      <td>NaN</td>\n",
              "    </tr>\n",
              "    <tr>\n",
              "      <th>1148</th>\n",
              "      <td>NaN</td>\n",
              "      <td>NaN</td>\n",
              "    </tr>\n",
              "    <tr>\n",
              "      <th>1214</th>\n",
              "      <td>NaN</td>\n",
              "      <td>NaN</td>\n",
              "    </tr>\n",
              "    <tr>\n",
              "      <th>1232</th>\n",
              "      <td>NaN</td>\n",
              "      <td>NaN</td>\n",
              "    </tr>\n",
              "    <tr>\n",
              "      <th>1258</th>\n",
              "      <td>NaN</td>\n",
              "      <td>NaN</td>\n",
              "    </tr>\n",
              "    <tr>\n",
              "      <th>1274</th>\n",
              "      <td>NaN</td>\n",
              "      <td>NaN</td>\n",
              "    </tr>\n",
              "    <tr>\n",
              "      <th>1359</th>\n",
              "      <td>NaN</td>\n",
              "      <td>NaN</td>\n",
              "    </tr>\n",
              "    <tr>\n",
              "      <th>1448</th>\n",
              "      <td>NaN</td>\n",
              "      <td>NaN</td>\n",
              "    </tr>\n",
              "    <tr>\n",
              "      <th>1532</th>\n",
              "      <td>NaN</td>\n",
              "      <td>NaN</td>\n",
              "    </tr>\n",
              "    <tr>\n",
              "      <th>1649</th>\n",
              "      <td>NaN</td>\n",
              "      <td>NaN</td>\n",
              "    </tr>\n",
              "    <tr>\n",
              "      <th>1707</th>\n",
              "      <td>NaN</td>\n",
              "      <td>NaN</td>\n",
              "    </tr>\n",
              "    <tr>\n",
              "      <th>1802</th>\n",
              "      <td>NaN</td>\n",
              "      <td>NaN</td>\n",
              "    </tr>\n",
              "    <tr>\n",
              "      <th>1821</th>\n",
              "      <td>NaN</td>\n",
              "      <td>NaN</td>\n",
              "    </tr>\n",
              "    <tr>\n",
              "      <th>1833</th>\n",
              "      <td>NaN</td>\n",
              "      <td>NaN</td>\n",
              "    </tr>\n",
              "    <tr>\n",
              "      <th>1856</th>\n",
              "      <td>NaN</td>\n",
              "      <td>NaN</td>\n",
              "    </tr>\n",
              "    <tr>\n",
              "      <th>1891</th>\n",
              "      <td>NaN</td>\n",
              "      <td>NaN</td>\n",
              "    </tr>\n",
              "    <tr>\n",
              "      <th>1955</th>\n",
              "      <td>NaN</td>\n",
              "      <td>NaN</td>\n",
              "    </tr>\n",
              "    <tr>\n",
              "      <th>2057</th>\n",
              "      <td>NaN</td>\n",
              "      <td>NaN</td>\n",
              "    </tr>\n",
              "    <tr>\n",
              "      <th>2112</th>\n",
              "      <td>NaN</td>\n",
              "      <td>NaN</td>\n",
              "    </tr>\n",
              "    <tr>\n",
              "      <th>2202</th>\n",
              "      <td>NaN</td>\n",
              "      <td>NaN</td>\n",
              "    </tr>\n",
              "    <tr>\n",
              "      <th>2281</th>\n",
              "      <td>NaN</td>\n",
              "      <td>NaN</td>\n",
              "    </tr>\n",
              "    <tr>\n",
              "      <th>2319</th>\n",
              "      <td>NaN</td>\n",
              "      <td>NaN</td>\n",
              "    </tr>\n",
              "    <tr>\n",
              "      <th>2388</th>\n",
              "      <td>NaN</td>\n",
              "      <td>NaN</td>\n",
              "    </tr>\n",
              "    <tr>\n",
              "      <th>2395</th>\n",
              "      <td>NaN</td>\n",
              "      <td>NaN</td>\n",
              "    </tr>\n",
              "    <tr>\n",
              "      <th>2443</th>\n",
              "      <td>NaN</td>\n",
              "      <td>NaN</td>\n",
              "    </tr>\n",
              "    <tr>\n",
              "      <th>2511</th>\n",
              "      <td>NaN</td>\n",
              "      <td>NaN</td>\n",
              "    </tr>\n",
              "    <tr>\n",
              "      <th>2608</th>\n",
              "      <td>NaN</td>\n",
              "      <td>NaN</td>\n",
              "    </tr>\n",
              "    <tr>\n",
              "      <th>2864</th>\n",
              "      <td>NaN</td>\n",
              "      <td>NaN</td>\n",
              "    </tr>\n",
              "    <tr>\n",
              "      <th>2895</th>\n",
              "      <td>NaN</td>\n",
              "      <td>NaN</td>\n",
              "    </tr>\n",
              "    <tr>\n",
              "      <th>2911</th>\n",
              "      <td>NaN</td>\n",
              "      <td>NaN</td>\n",
              "    </tr>\n",
              "    <tr>\n",
              "      <th>2985</th>\n",
              "      <td>Independent cities:</td>\n",
              "      <td>NaN</td>\n",
              "    </tr>\n",
              "    <tr>\n",
              "      <th>2996</th>\n",
              "      <td>Combination areas2:</td>\n",
              "      <td>NaN</td>\n",
              "    </tr>\n",
              "    <tr>\n",
              "      <th>3020</th>\n",
              "      <td>NaN</td>\n",
              "      <td>NaN</td>\n",
              "    </tr>\n",
              "    <tr>\n",
              "      <th>3061</th>\n",
              "      <td>NaN</td>\n",
              "      <td>NaN</td>\n",
              "    </tr>\n",
              "    <tr>\n",
              "      <th>3118</th>\n",
              "      <td>NaN</td>\n",
              "      <td>NaN</td>\n",
              "    </tr>\n",
              "    <tr>\n",
              "      <th>3192</th>\n",
              "      <td>NaN</td>\n",
              "      <td>NaN</td>\n",
              "    </tr>\n",
              "  </tbody>\n",
              "</table>\n",
              "</div>"
            ],
            "text/plain": [
              "                   County  Income\n",
              "1                     NaN     NaN\n",
              "70                    NaN     NaN\n",
              "101                   NaN     NaN\n",
              "118                   NaN     NaN\n",
              "195                   NaN     NaN\n",
              "255                   NaN     NaN\n",
              "321                   NaN     NaN\n",
              "331                   NaN     NaN\n",
              "336                   NaN     NaN\n",
              "338                   NaN     NaN\n",
              "407                   NaN     NaN\n",
              "568                   NaN     NaN\n",
              "574                   NaN     NaN\n",
              "620                   NaN     NaN\n",
              "724                   NaN     NaN\n",
              "818                   NaN     NaN\n",
              "919                   NaN     NaN\n",
              "1026                  NaN     NaN\n",
              "1148                  NaN     NaN\n",
              "1214                  NaN     NaN\n",
              "1232                  NaN     NaN\n",
              "1258                  NaN     NaN\n",
              "1274                  NaN     NaN\n",
              "1359                  NaN     NaN\n",
              "1448                  NaN     NaN\n",
              "1532                  NaN     NaN\n",
              "1649                  NaN     NaN\n",
              "1707                  NaN     NaN\n",
              "1802                  NaN     NaN\n",
              "1821                  NaN     NaN\n",
              "1833                  NaN     NaN\n",
              "1856                  NaN     NaN\n",
              "1891                  NaN     NaN\n",
              "1955                  NaN     NaN\n",
              "2057                  NaN     NaN\n",
              "2112                  NaN     NaN\n",
              "2202                  NaN     NaN\n",
              "2281                  NaN     NaN\n",
              "2319                  NaN     NaN\n",
              "2388                  NaN     NaN\n",
              "2395                  NaN     NaN\n",
              "2443                  NaN     NaN\n",
              "2511                  NaN     NaN\n",
              "2608                  NaN     NaN\n",
              "2864                  NaN     NaN\n",
              "2895                  NaN     NaN\n",
              "2911                  NaN     NaN\n",
              "2985  Independent cities:     NaN\n",
              "2996  Combination areas2:     NaN\n",
              "3020                  NaN     NaN\n",
              "3061                  NaN     NaN\n",
              "3118                  NaN     NaN\n",
              "3192                  NaN     NaN"
            ]
          },
          "metadata": {
            "tags": []
          },
          "execution_count": 16
        }
      ]
    },
    {
      "cell_type": "code",
      "metadata": {
        "id": "C5HN34q4Yvb6"
      },
      "source": [
        "# Remove 'Independent cities:' row\n",
        "df = df[~(df[\"County\"] ==\"Independent cities:\")].reset_index(drop=True)\n",
        "\n",
        "# Remove 'Combination areas2:' row\n",
        "df = df[~(df[\"County\"] ==\"Combination areas2:\")].reset_index(drop=True)"
      ],
      "id": "C5HN34q4Yvb6",
      "execution_count": null,
      "outputs": []
    },
    {
      "cell_type": "code",
      "metadata": {
        "id": "wzlOo9WsYvb6",
        "colab": {
          "base_uri": "https://localhost:8080/"
        },
        "outputId": "ed572201-824c-4bc6-d0d0-78c713f430cf"
      },
      "source": [
        "df.shape"
      ],
      "id": "wzlOo9WsYvb6",
      "execution_count": null,
      "outputs": [
        {
          "output_type": "execute_result",
          "data": {
            "text/plain": [
              "(3215, 2)"
            ]
          },
          "metadata": {
            "tags": []
          },
          "execution_count": 18
        }
      ]
    },
    {
      "cell_type": "code",
      "metadata": {
        "id": "BIExRW6MYvb6",
        "colab": {
          "base_uri": "https://localhost:8080/",
          "height": 1000
        },
        "outputId": "87135c03-e1e9-428d-d45e-3d3bfb885425"
      },
      "source": [
        "new_nan_df = df[df.isna().any(axis=1)]\n",
        "new_nan_df"
      ],
      "id": "BIExRW6MYvb6",
      "execution_count": null,
      "outputs": [
        {
          "output_type": "execute_result",
          "data": {
            "text/html": [
              "<div>\n",
              "<style scoped>\n",
              "    .dataframe tbody tr th:only-of-type {\n",
              "        vertical-align: middle;\n",
              "    }\n",
              "\n",
              "    .dataframe tbody tr th {\n",
              "        vertical-align: top;\n",
              "    }\n",
              "\n",
              "    .dataframe thead th {\n",
              "        text-align: right;\n",
              "    }\n",
              "</style>\n",
              "<table border=\"1\" class=\"dataframe\">\n",
              "  <thead>\n",
              "    <tr style=\"text-align: right;\">\n",
              "      <th></th>\n",
              "      <th>County</th>\n",
              "      <th>Income</th>\n",
              "    </tr>\n",
              "  </thead>\n",
              "  <tbody>\n",
              "    <tr>\n",
              "      <th>1</th>\n",
              "      <td>NaN</td>\n",
              "      <td>NaN</td>\n",
              "    </tr>\n",
              "    <tr>\n",
              "      <th>70</th>\n",
              "      <td>NaN</td>\n",
              "      <td>NaN</td>\n",
              "    </tr>\n",
              "    <tr>\n",
              "      <th>101</th>\n",
              "      <td>NaN</td>\n",
              "      <td>NaN</td>\n",
              "    </tr>\n",
              "    <tr>\n",
              "      <th>118</th>\n",
              "      <td>NaN</td>\n",
              "      <td>NaN</td>\n",
              "    </tr>\n",
              "    <tr>\n",
              "      <th>195</th>\n",
              "      <td>NaN</td>\n",
              "      <td>NaN</td>\n",
              "    </tr>\n",
              "    <tr>\n",
              "      <th>255</th>\n",
              "      <td>NaN</td>\n",
              "      <td>NaN</td>\n",
              "    </tr>\n",
              "    <tr>\n",
              "      <th>321</th>\n",
              "      <td>NaN</td>\n",
              "      <td>NaN</td>\n",
              "    </tr>\n",
              "    <tr>\n",
              "      <th>331</th>\n",
              "      <td>NaN</td>\n",
              "      <td>NaN</td>\n",
              "    </tr>\n",
              "    <tr>\n",
              "      <th>336</th>\n",
              "      <td>NaN</td>\n",
              "      <td>NaN</td>\n",
              "    </tr>\n",
              "    <tr>\n",
              "      <th>338</th>\n",
              "      <td>NaN</td>\n",
              "      <td>NaN</td>\n",
              "    </tr>\n",
              "    <tr>\n",
              "      <th>407</th>\n",
              "      <td>NaN</td>\n",
              "      <td>NaN</td>\n",
              "    </tr>\n",
              "    <tr>\n",
              "      <th>568</th>\n",
              "      <td>NaN</td>\n",
              "      <td>NaN</td>\n",
              "    </tr>\n",
              "    <tr>\n",
              "      <th>574</th>\n",
              "      <td>NaN</td>\n",
              "      <td>NaN</td>\n",
              "    </tr>\n",
              "    <tr>\n",
              "      <th>620</th>\n",
              "      <td>NaN</td>\n",
              "      <td>NaN</td>\n",
              "    </tr>\n",
              "    <tr>\n",
              "      <th>724</th>\n",
              "      <td>NaN</td>\n",
              "      <td>NaN</td>\n",
              "    </tr>\n",
              "    <tr>\n",
              "      <th>818</th>\n",
              "      <td>NaN</td>\n",
              "      <td>NaN</td>\n",
              "    </tr>\n",
              "    <tr>\n",
              "      <th>919</th>\n",
              "      <td>NaN</td>\n",
              "      <td>NaN</td>\n",
              "    </tr>\n",
              "    <tr>\n",
              "      <th>1026</th>\n",
              "      <td>NaN</td>\n",
              "      <td>NaN</td>\n",
              "    </tr>\n",
              "    <tr>\n",
              "      <th>1148</th>\n",
              "      <td>NaN</td>\n",
              "      <td>NaN</td>\n",
              "    </tr>\n",
              "    <tr>\n",
              "      <th>1214</th>\n",
              "      <td>NaN</td>\n",
              "      <td>NaN</td>\n",
              "    </tr>\n",
              "    <tr>\n",
              "      <th>1232</th>\n",
              "      <td>NaN</td>\n",
              "      <td>NaN</td>\n",
              "    </tr>\n",
              "    <tr>\n",
              "      <th>1258</th>\n",
              "      <td>NaN</td>\n",
              "      <td>NaN</td>\n",
              "    </tr>\n",
              "    <tr>\n",
              "      <th>1274</th>\n",
              "      <td>NaN</td>\n",
              "      <td>NaN</td>\n",
              "    </tr>\n",
              "    <tr>\n",
              "      <th>1359</th>\n",
              "      <td>NaN</td>\n",
              "      <td>NaN</td>\n",
              "    </tr>\n",
              "    <tr>\n",
              "      <th>1448</th>\n",
              "      <td>NaN</td>\n",
              "      <td>NaN</td>\n",
              "    </tr>\n",
              "    <tr>\n",
              "      <th>1532</th>\n",
              "      <td>NaN</td>\n",
              "      <td>NaN</td>\n",
              "    </tr>\n",
              "    <tr>\n",
              "      <th>1649</th>\n",
              "      <td>NaN</td>\n",
              "      <td>NaN</td>\n",
              "    </tr>\n",
              "    <tr>\n",
              "      <th>1707</th>\n",
              "      <td>NaN</td>\n",
              "      <td>NaN</td>\n",
              "    </tr>\n",
              "    <tr>\n",
              "      <th>1802</th>\n",
              "      <td>NaN</td>\n",
              "      <td>NaN</td>\n",
              "    </tr>\n",
              "    <tr>\n",
              "      <th>1821</th>\n",
              "      <td>NaN</td>\n",
              "      <td>NaN</td>\n",
              "    </tr>\n",
              "    <tr>\n",
              "      <th>1833</th>\n",
              "      <td>NaN</td>\n",
              "      <td>NaN</td>\n",
              "    </tr>\n",
              "    <tr>\n",
              "      <th>1856</th>\n",
              "      <td>NaN</td>\n",
              "      <td>NaN</td>\n",
              "    </tr>\n",
              "    <tr>\n",
              "      <th>1891</th>\n",
              "      <td>NaN</td>\n",
              "      <td>NaN</td>\n",
              "    </tr>\n",
              "    <tr>\n",
              "      <th>1955</th>\n",
              "      <td>NaN</td>\n",
              "      <td>NaN</td>\n",
              "    </tr>\n",
              "    <tr>\n",
              "      <th>2057</th>\n",
              "      <td>NaN</td>\n",
              "      <td>NaN</td>\n",
              "    </tr>\n",
              "    <tr>\n",
              "      <th>2112</th>\n",
              "      <td>NaN</td>\n",
              "      <td>NaN</td>\n",
              "    </tr>\n",
              "    <tr>\n",
              "      <th>2202</th>\n",
              "      <td>NaN</td>\n",
              "      <td>NaN</td>\n",
              "    </tr>\n",
              "    <tr>\n",
              "      <th>2281</th>\n",
              "      <td>NaN</td>\n",
              "      <td>NaN</td>\n",
              "    </tr>\n",
              "    <tr>\n",
              "      <th>2319</th>\n",
              "      <td>NaN</td>\n",
              "      <td>NaN</td>\n",
              "    </tr>\n",
              "    <tr>\n",
              "      <th>2388</th>\n",
              "      <td>NaN</td>\n",
              "      <td>NaN</td>\n",
              "    </tr>\n",
              "    <tr>\n",
              "      <th>2395</th>\n",
              "      <td>NaN</td>\n",
              "      <td>NaN</td>\n",
              "    </tr>\n",
              "    <tr>\n",
              "      <th>2443</th>\n",
              "      <td>NaN</td>\n",
              "      <td>NaN</td>\n",
              "    </tr>\n",
              "    <tr>\n",
              "      <th>2511</th>\n",
              "      <td>NaN</td>\n",
              "      <td>NaN</td>\n",
              "    </tr>\n",
              "    <tr>\n",
              "      <th>2608</th>\n",
              "      <td>NaN</td>\n",
              "      <td>NaN</td>\n",
              "    </tr>\n",
              "    <tr>\n",
              "      <th>2864</th>\n",
              "      <td>NaN</td>\n",
              "      <td>NaN</td>\n",
              "    </tr>\n",
              "    <tr>\n",
              "      <th>2895</th>\n",
              "      <td>NaN</td>\n",
              "      <td>NaN</td>\n",
              "    </tr>\n",
              "    <tr>\n",
              "      <th>2911</th>\n",
              "      <td>NaN</td>\n",
              "      <td>NaN</td>\n",
              "    </tr>\n",
              "    <tr>\n",
              "      <th>3018</th>\n",
              "      <td>NaN</td>\n",
              "      <td>NaN</td>\n",
              "    </tr>\n",
              "    <tr>\n",
              "      <th>3059</th>\n",
              "      <td>NaN</td>\n",
              "      <td>NaN</td>\n",
              "    </tr>\n",
              "    <tr>\n",
              "      <th>3116</th>\n",
              "      <td>NaN</td>\n",
              "      <td>NaN</td>\n",
              "    </tr>\n",
              "    <tr>\n",
              "      <th>3190</th>\n",
              "      <td>NaN</td>\n",
              "      <td>NaN</td>\n",
              "    </tr>\n",
              "  </tbody>\n",
              "</table>\n",
              "</div>"
            ],
            "text/plain": [
              "     County  Income\n",
              "1       NaN     NaN\n",
              "70      NaN     NaN\n",
              "101     NaN     NaN\n",
              "118     NaN     NaN\n",
              "195     NaN     NaN\n",
              "255     NaN     NaN\n",
              "321     NaN     NaN\n",
              "331     NaN     NaN\n",
              "336     NaN     NaN\n",
              "338     NaN     NaN\n",
              "407     NaN     NaN\n",
              "568     NaN     NaN\n",
              "574     NaN     NaN\n",
              "620     NaN     NaN\n",
              "724     NaN     NaN\n",
              "818     NaN     NaN\n",
              "919     NaN     NaN\n",
              "1026    NaN     NaN\n",
              "1148    NaN     NaN\n",
              "1214    NaN     NaN\n",
              "1232    NaN     NaN\n",
              "1258    NaN     NaN\n",
              "1274    NaN     NaN\n",
              "1359    NaN     NaN\n",
              "1448    NaN     NaN\n",
              "1532    NaN     NaN\n",
              "1649    NaN     NaN\n",
              "1707    NaN     NaN\n",
              "1802    NaN     NaN\n",
              "1821    NaN     NaN\n",
              "1833    NaN     NaN\n",
              "1856    NaN     NaN\n",
              "1891    NaN     NaN\n",
              "1955    NaN     NaN\n",
              "2057    NaN     NaN\n",
              "2112    NaN     NaN\n",
              "2202    NaN     NaN\n",
              "2281    NaN     NaN\n",
              "2319    NaN     NaN\n",
              "2388    NaN     NaN\n",
              "2395    NaN     NaN\n",
              "2443    NaN     NaN\n",
              "2511    NaN     NaN\n",
              "2608    NaN     NaN\n",
              "2864    NaN     NaN\n",
              "2895    NaN     NaN\n",
              "2911    NaN     NaN\n",
              "3018    NaN     NaN\n",
              "3059    NaN     NaN\n",
              "3116    NaN     NaN\n",
              "3190    NaN     NaN"
            ]
          },
          "metadata": {
            "tags": []
          },
          "execution_count": 19
        }
      ]
    },
    {
      "cell_type": "raw",
      "metadata": {
        "id": "ubmMkG8jYvb7"
      },
      "source": [
        "for i in range(3015,3025):\n",
        "    print(i, '\\t', df.iloc[i].County)"
      ],
      "id": "ubmMkG8jYvb7"
    },
    {
      "cell_type": "code",
      "metadata": {
        "id": "GvNcyKkVYvb7",
        "colab": {
          "base_uri": "https://localhost:8080/"
        },
        "outputId": "40e9b5cc-3c2c-41ab-92f8-c9dcd89a8666"
      },
      "source": [
        "states = ['Alabama','Alaska','Arizona','Arkansas','California','Colorado','Connecticut','District of Columbia','Delaware',\n",
        "          'Florida','Georgia','Hawaii','Idaho','Illinois','Indiana','Iowa','Kansas','Kentucky','Louisiana','Maine',\n",
        "          'Maryland','Massachusetts','Michigan','Minnesota','Mississippi','Missouri','Montana','Nebraska','Nevada',\n",
        "          'New Hampshire','New Jersey','New Mexico','New York','North Carolina','North Dakota','Ohio','Oklahoma',\n",
        "          'Oregon','Pennsylvania','Rhode Island','South Carolina','South Dakota','Tennessee','Texas','Utah','Vermont',\n",
        "          'Virginia','Washington','West Virginia','Wisconsin','Wyoming']\n",
        "len(states)"
      ],
      "id": "GvNcyKkVYvb7",
      "execution_count": null,
      "outputs": [
        {
          "output_type": "execute_result",
          "data": {
            "text/plain": [
              "51"
            ]
          },
          "metadata": {
            "tags": []
          },
          "execution_count": 21
        }
      ]
    },
    {
      "cell_type": "code",
      "metadata": {
        "id": "Fe5NXRoOYvb7",
        "colab": {
          "base_uri": "https://localhost:8080/"
        },
        "outputId": "8382a1ac-a9a3-4316-d3d6-739da1c62be4"
      },
      "source": [
        "# Create a list of all the state indexes\n",
        "state_indexes = []\n",
        "for index, row in new_nan_df.iterrows():\n",
        "    # The row after a NaN row is a State\n",
        "    state_indexes.append(index+1)\n",
        "len(state_indexes)"
      ],
      "id": "Fe5NXRoOYvb7",
      "execution_count": null,
      "outputs": [
        {
          "output_type": "execute_result",
          "data": {
            "text/plain": [
              "51"
            ]
          },
          "metadata": {
            "tags": []
          },
          "execution_count": 22
        }
      ]
    },
    {
      "cell_type": "raw",
      "metadata": {
        "id": "qby4ke5AYvb7"
      },
      "source": [
        "state_indexes"
      ],
      "id": "qby4ke5AYvb7"
    },
    {
      "cell_type": "raw",
      "metadata": {
        "id": "uKROPyEgYvb8"
      },
      "source": [
        "for i in state_indexes:\n",
        "    print(i, '\\t', df.iloc[i].County)"
      ],
      "id": "uKROPyEgYvb8"
    },
    {
      "cell_type": "markdown",
      "metadata": {
        "id": "avNGY9EyYvb8"
      },
      "source": [
        "Add the 'State' column and reorder the columns."
      ],
      "id": "avNGY9EyYvb8"
    },
    {
      "cell_type": "code",
      "metadata": {
        "id": "nOkTuPx_Yvb8",
        "colab": {
          "base_uri": "https://localhost:8080/"
        },
        "outputId": "cb90577e-cda8-4745-b981-ebd76a6a0804"
      },
      "source": [
        "df['State'] = ''\n",
        "df = df[['State','County','Income']]\n",
        "df.columns"
      ],
      "id": "nOkTuPx_Yvb8",
      "execution_count": null,
      "outputs": [
        {
          "output_type": "execute_result",
          "data": {
            "text/plain": [
              "Index(['State', 'County', 'Income'], dtype='object')"
            ]
          },
          "metadata": {
            "tags": []
          },
          "execution_count": 23
        }
      ]
    },
    {
      "cell_type": "markdown",
      "metadata": {
        "id": "DrHRPr5PYvb8"
      },
      "source": [
        "Iterate the list of state indexes and set the 'State' column value for each county record until the index of the next state is encountered."
      ],
      "id": "DrHRPr5PYvb8"
    },
    {
      "cell_type": "code",
      "metadata": {
        "id": "b5A4nOpkYvb8",
        "colab": {
          "base_uri": "https://localhost:8080/"
        },
        "outputId": "46b0885b-1c8e-4968-84d6-6e8697929f4a"
      },
      "source": [
        "state_counter = 0\n",
        "for i in state_indexes:\n",
        "   \n",
        "    state = df.iloc[i].County\n",
        "    # print('***')\n",
        "    print(i,'\\t',state)\n",
        "    \n",
        "    for index, row in df.iterrows():\n",
        "        if (state_counter + 1) < len(state_indexes):\n",
        "            next_state_index = state_indexes[state_counter + 1]-1\n",
        "        else:\n",
        "            next_state_index = 99999\n",
        "        if (index > i and index < next_state_index):\n",
        "            #print(index,'\\t',state,'\\t',df.iloc[index].County)\n",
        "            df.iloc[index, df.columns.get_loc('State')] = state\n",
        "            #df.ix[index,'State'] = state # Depreciated approach\n",
        "    state_counter += 1"
      ],
      "id": "b5A4nOpkYvb8",
      "execution_count": null,
      "outputs": [
        {
          "output_type": "stream",
          "text": [
            "2 \t Alabama\n",
            "71 \t Alaska\n",
            "102 \t Arizona\n",
            "119 \t Arkansas\n",
            "196 \t California\n",
            "256 \t Colorado\n",
            "322 \t Connecticut\n",
            "332 \t Delaware\n",
            "337 \t District of Columbia\n",
            "339 \t Florida\n",
            "408 \t Georgia\n",
            "569 \t Hawaii\n",
            "575 \t Idaho\n",
            "621 \t Illinois\n",
            "725 \t Indiana\n",
            "819 \t Iowa\n",
            "920 \t Kansas\n",
            "1027 \t Kentucky\n",
            "1149 \t Louisiana\n",
            "1215 \t Maine\n",
            "1233 \t Maryland\n",
            "1259 \t Massachusetts\n",
            "1275 \t Michigan\n",
            "1360 \t Minnesota\n",
            "1449 \t Mississippi\n",
            "1533 \t Missouri\n",
            "1650 \t Montana\n",
            "1708 \t Nebraska\n",
            "1803 \t Nevada\n",
            "1822 \t New Hampshire\n",
            "1834 \t New Jersey\n",
            "1857 \t New Mexico\n",
            "1892 \t New York\n",
            "1956 \t North Carolina\n",
            "2058 \t North Dakota\n",
            "2113 \t Ohio\n",
            "2203 \t Oklahoma\n",
            "2282 \t Oregon\n",
            "2320 \t Pennsylvania\n",
            "2389 \t Rhode Island\n",
            "2396 \t South Carolina\n",
            "2444 \t South Dakota\n",
            "2512 \t Tennessee\n",
            "2609 \t Texas\n",
            "2865 \t Utah\n",
            "2896 \t Vermont\n",
            "2912 \t Virginia\n",
            "3019 \t Washington\n",
            "3060 \t West Virginia\n",
            "3117 \t Wisconsin\n",
            "3191 \t Wyoming\n"
          ],
          "name": "stdout"
        }
      ]
    },
    {
      "cell_type": "code",
      "metadata": {
        "id": "S9rF73E2Yvb9",
        "colab": {
          "base_uri": "https://localhost:8080/",
          "height": 204
        },
        "outputId": "f39c86af-8294-4147-b8fc-1323fc9becbf"
      },
      "source": [
        "df.tail(5)"
      ],
      "id": "S9rF73E2Yvb9",
      "execution_count": null,
      "outputs": [
        {
          "output_type": "execute_result",
          "data": {
            "text/html": [
              "<div>\n",
              "<style scoped>\n",
              "    .dataframe tbody tr th:only-of-type {\n",
              "        vertical-align: middle;\n",
              "    }\n",
              "\n",
              "    .dataframe tbody tr th {\n",
              "        vertical-align: top;\n",
              "    }\n",
              "\n",
              "    .dataframe thead th {\n",
              "        text-align: right;\n",
              "    }\n",
              "</style>\n",
              "<table border=\"1\" class=\"dataframe\">\n",
              "  <thead>\n",
              "    <tr style=\"text-align: right;\">\n",
              "      <th></th>\n",
              "      <th>State</th>\n",
              "      <th>County</th>\n",
              "      <th>Income</th>\n",
              "    </tr>\n",
              "  </thead>\n",
              "  <tbody>\n",
              "    <tr>\n",
              "      <th>3210</th>\n",
              "      <td>Wyoming</td>\n",
              "      <td>Sweetwater</td>\n",
              "      <td>57225.0</td>\n",
              "    </tr>\n",
              "    <tr>\n",
              "      <th>3211</th>\n",
              "      <td>Wyoming</td>\n",
              "      <td>Teton</td>\n",
              "      <td>229825.0</td>\n",
              "    </tr>\n",
              "    <tr>\n",
              "      <th>3212</th>\n",
              "      <td>Wyoming</td>\n",
              "      <td>Uinta</td>\n",
              "      <td>41912.0</td>\n",
              "    </tr>\n",
              "    <tr>\n",
              "      <th>3213</th>\n",
              "      <td>Wyoming</td>\n",
              "      <td>Washakie</td>\n",
              "      <td>50735.0</td>\n",
              "    </tr>\n",
              "    <tr>\n",
              "      <th>3214</th>\n",
              "      <td>Wyoming</td>\n",
              "      <td>Weston</td>\n",
              "      <td>46655.0</td>\n",
              "    </tr>\n",
              "  </tbody>\n",
              "</table>\n",
              "</div>"
            ],
            "text/plain": [
              "        State      County    Income\n",
              "3210  Wyoming  Sweetwater   57225.0\n",
              "3211  Wyoming       Teton  229825.0\n",
              "3212  Wyoming       Uinta   41912.0\n",
              "3213  Wyoming    Washakie   50735.0\n",
              "3214  Wyoming      Weston   46655.0"
            ]
          },
          "metadata": {
            "tags": []
          },
          "execution_count": 25
        }
      ]
    },
    {
      "cell_type": "markdown",
      "metadata": {
        "id": "y4uU900AYvb9"
      },
      "source": [
        "Drop all NaN rows."
      ],
      "id": "y4uU900AYvb9"
    },
    {
      "cell_type": "code",
      "metadata": {
        "id": "k0g1oYxHYvb9",
        "colab": {
          "base_uri": "https://localhost:8080/"
        },
        "outputId": "74a48c96-9167-4604-a12b-c0e21972c96f"
      },
      "source": [
        "df.dropna(axis=0, how='any', thresh=None, subset=None, inplace=True)\n",
        "\n",
        "# Verify there are no remaining NaNs.\n",
        "df.isnull().sum().sum()"
      ],
      "id": "k0g1oYxHYvb9",
      "execution_count": null,
      "outputs": [
        {
          "output_type": "execute_result",
          "data": {
            "text/plain": [
              "0"
            ]
          },
          "metadata": {
            "tags": []
          },
          "execution_count": 26
        }
      ]
    },
    {
      "cell_type": "code",
      "metadata": {
        "id": "9rg2Zb4rYvb9",
        "colab": {
          "base_uri": "https://localhost:8080/"
        },
        "outputId": "ea0da565-1975-4aa4-b687-a93844661851"
      },
      "source": [
        "df.dtypes"
      ],
      "id": "9rg2Zb4rYvb9",
      "execution_count": null,
      "outputs": [
        {
          "output_type": "execute_result",
          "data": {
            "text/plain": [
              "State      object\n",
              "County     object\n",
              "Income    float64\n",
              "dtype: object"
            ]
          },
          "metadata": {
            "tags": []
          },
          "execution_count": 27
        }
      ]
    },
    {
      "cell_type": "code",
      "metadata": {
        "id": "IC_ri1i1Yvb-",
        "colab": {
          "base_uri": "https://localhost:8080/",
          "height": 204
        },
        "outputId": "10bad9df-b849-42af-9610-b4e69411547b"
      },
      "source": [
        "df = df.astype({'Income': np.int64})\n",
        "df.head(5)"
      ],
      "id": "IC_ri1i1Yvb-",
      "execution_count": null,
      "outputs": [
        {
          "output_type": "execute_result",
          "data": {
            "text/html": [
              "<div>\n",
              "<style scoped>\n",
              "    .dataframe tbody tr th:only-of-type {\n",
              "        vertical-align: middle;\n",
              "    }\n",
              "\n",
              "    .dataframe tbody tr th {\n",
              "        vertical-align: top;\n",
              "    }\n",
              "\n",
              "    .dataframe thead th {\n",
              "        text-align: right;\n",
              "    }\n",
              "</style>\n",
              "<table border=\"1\" class=\"dataframe\">\n",
              "  <thead>\n",
              "    <tr style=\"text-align: right;\">\n",
              "      <th></th>\n",
              "      <th>State</th>\n",
              "      <th>County</th>\n",
              "      <th>Income</th>\n",
              "    </tr>\n",
              "  </thead>\n",
              "  <tbody>\n",
              "    <tr>\n",
              "      <th>0</th>\n",
              "      <td></td>\n",
              "      <td>United States</td>\n",
              "      <td>56490</td>\n",
              "    </tr>\n",
              "    <tr>\n",
              "      <th>2</th>\n",
              "      <td></td>\n",
              "      <td>Alabama</td>\n",
              "      <td>44145</td>\n",
              "    </tr>\n",
              "    <tr>\n",
              "      <th>3</th>\n",
              "      <td>Alabama</td>\n",
              "      <td>Autauga</td>\n",
              "      <td>43917</td>\n",
              "    </tr>\n",
              "    <tr>\n",
              "      <th>4</th>\n",
              "      <td>Alabama</td>\n",
              "      <td>Baldwin</td>\n",
              "      <td>47485</td>\n",
              "    </tr>\n",
              "    <tr>\n",
              "      <th>5</th>\n",
              "      <td>Alabama</td>\n",
              "      <td>Barbour</td>\n",
              "      <td>35763</td>\n",
              "    </tr>\n",
              "  </tbody>\n",
              "</table>\n",
              "</div>"
            ],
            "text/plain": [
              "     State         County  Income\n",
              "0           United States   56490\n",
              "2                 Alabama   44145\n",
              "3  Alabama        Autauga   43917\n",
              "4  Alabama        Baldwin   47485\n",
              "5  Alabama        Barbour   35763"
            ]
          },
          "metadata": {
            "tags": []
          },
          "execution_count": 28
        }
      ]
    },
    {
      "cell_type": "markdown",
      "metadata": {
        "id": "msDIxoo5Yvb-"
      },
      "source": [
        "The study does not plan to use country and state median incomes, so limit the dataframe to only county rows."
      ],
      "id": "msDIxoo5Yvb-"
    },
    {
      "cell_type": "code",
      "metadata": {
        "id": "EflYLD3HYvb-"
      },
      "source": [
        "df = df[df['State'].isin(states)].reset_index(drop=True)"
      ],
      "id": "EflYLD3HYvb-",
      "execution_count": null,
      "outputs": []
    },
    {
      "cell_type": "code",
      "metadata": {
        "id": "ZDJIij5kYvb-",
        "colab": {
          "base_uri": "https://localhost:8080/",
          "height": 419
        },
        "outputId": "d96fff67-e55e-4d67-9cb5-8ece3b8329fe"
      },
      "source": [
        "df.sort_values(by='Income',ascending=False)"
      ],
      "id": "ZDJIij5kYvb-",
      "execution_count": null,
      "outputs": [
        {
          "output_type": "execute_result",
          "data": {
            "text/html": [
              "<div>\n",
              "<style scoped>\n",
              "    .dataframe tbody tr th:only-of-type {\n",
              "        vertical-align: middle;\n",
              "    }\n",
              "\n",
              "    .dataframe tbody tr th {\n",
              "        vertical-align: top;\n",
              "    }\n",
              "\n",
              "    .dataframe thead th {\n",
              "        text-align: right;\n",
              "    }\n",
              "</style>\n",
              "<table border=\"1\" class=\"dataframe\">\n",
              "  <thead>\n",
              "    <tr style=\"text-align: right;\">\n",
              "      <th></th>\n",
              "      <th>State</th>\n",
              "      <th>County</th>\n",
              "      <th>Income</th>\n",
              "    </tr>\n",
              "  </thead>\n",
              "  <tbody>\n",
              "    <tr>\n",
              "      <th>3108</th>\n",
              "      <td>Wyoming</td>\n",
              "      <td>Teton</td>\n",
              "      <td>229825</td>\n",
              "    </tr>\n",
              "    <tr>\n",
              "      <th>1856</th>\n",
              "      <td>New York</td>\n",
              "      <td>New York</td>\n",
              "      <td>197847</td>\n",
              "    </tr>\n",
              "    <tr>\n",
              "      <th>293</th>\n",
              "      <td>Colorado</td>\n",
              "      <td>Pitkin</td>\n",
              "      <td>158313</td>\n",
              "    </tr>\n",
              "    <tr>\n",
              "      <th>71</th>\n",
              "      <td>Alaska</td>\n",
              "      <td>Bristol Bay Borough</td>\n",
              "      <td>151900</td>\n",
              "    </tr>\n",
              "    <tr>\n",
              "      <th>2796</th>\n",
              "      <td>Utah</td>\n",
              "      <td>Summit</td>\n",
              "      <td>151326</td>\n",
              "    </tr>\n",
              "    <tr>\n",
              "      <th>...</th>\n",
              "      <td>...</td>\n",
              "      <td>...</td>\n",
              "      <td>...</td>\n",
              "    </tr>\n",
              "    <tr>\n",
              "      <th>519</th>\n",
              "      <td>Georgia</td>\n",
              "      <td>Telfair</td>\n",
              "      <td>21535</td>\n",
              "    </tr>\n",
              "    <tr>\n",
              "      <th>257</th>\n",
              "      <td>Colorado</td>\n",
              "      <td>Crowley</td>\n",
              "      <td>20822</td>\n",
              "    </tr>\n",
              "    <tr>\n",
              "      <th>2367</th>\n",
              "      <td>South Dakota</td>\n",
              "      <td>Buffalo</td>\n",
              "      <td>20682</td>\n",
              "    </tr>\n",
              "    <tr>\n",
              "      <th>2425</th>\n",
              "      <td>South Dakota</td>\n",
              "      <td>Ziebach</td>\n",
              "      <td>19940</td>\n",
              "    </tr>\n",
              "    <tr>\n",
              "      <th>538</th>\n",
              "      <td>Georgia</td>\n",
              "      <td>Wheeler</td>\n",
              "      <td>19472</td>\n",
              "    </tr>\n",
              "  </tbody>\n",
              "</table>\n",
              "<p>3112 rows × 3 columns</p>\n",
              "</div>"
            ],
            "text/plain": [
              "             State               County  Income\n",
              "3108       Wyoming                Teton  229825\n",
              "1856      New York             New York  197847\n",
              "293       Colorado               Pitkin  158313\n",
              "71          Alaska  Bristol Bay Borough  151900\n",
              "2796          Utah               Summit  151326\n",
              "...            ...                  ...     ...\n",
              "519        Georgia              Telfair   21535\n",
              "257       Colorado              Crowley   20822\n",
              "2367  South Dakota              Buffalo   20682\n",
              "2425  South Dakota              Ziebach   19940\n",
              "538        Georgia              Wheeler   19472\n",
              "\n",
              "[3112 rows x 3 columns]"
            ]
          },
          "metadata": {
            "tags": []
          },
          "execution_count": 30
        }
      ]
    },
    {
      "cell_type": "code",
      "metadata": {
        "id": "Y1ohLLTPYvb-",
        "colab": {
          "base_uri": "https://localhost:8080/",
          "height": 390
        },
        "outputId": "5394f6d5-50b7-453f-e903-8356aae24fce"
      },
      "source": [
        "df.describe(include=\"all\")"
      ],
      "id": "Y1ohLLTPYvb-",
      "execution_count": null,
      "outputs": [
        {
          "output_type": "execute_result",
          "data": {
            "text/html": [
              "<div>\n",
              "<style scoped>\n",
              "    .dataframe tbody tr th:only-of-type {\n",
              "        vertical-align: middle;\n",
              "    }\n",
              "\n",
              "    .dataframe tbody tr th {\n",
              "        vertical-align: top;\n",
              "    }\n",
              "\n",
              "    .dataframe thead th {\n",
              "        text-align: right;\n",
              "    }\n",
              "</style>\n",
              "<table border=\"1\" class=\"dataframe\">\n",
              "  <thead>\n",
              "    <tr style=\"text-align: right;\">\n",
              "      <th></th>\n",
              "      <th>State</th>\n",
              "      <th>County</th>\n",
              "      <th>Income</th>\n",
              "    </tr>\n",
              "  </thead>\n",
              "  <tbody>\n",
              "    <tr>\n",
              "      <th>count</th>\n",
              "      <td>3112</td>\n",
              "      <td>3112</td>\n",
              "      <td>3112.000000</td>\n",
              "    </tr>\n",
              "    <tr>\n",
              "      <th>unique</th>\n",
              "      <td>50</td>\n",
              "      <td>1828</td>\n",
              "      <td>NaN</td>\n",
              "    </tr>\n",
              "    <tr>\n",
              "      <th>top</th>\n",
              "      <td>Texas</td>\n",
              "      <td>Washington</td>\n",
              "      <td>NaN</td>\n",
              "    </tr>\n",
              "    <tr>\n",
              "      <th>freq</th>\n",
              "      <td>254</td>\n",
              "      <td>30</td>\n",
              "      <td>NaN</td>\n",
              "    </tr>\n",
              "    <tr>\n",
              "      <th>mean</th>\n",
              "      <td>NaN</td>\n",
              "      <td>NaN</td>\n",
              "      <td>45931.651028</td>\n",
              "    </tr>\n",
              "    <tr>\n",
              "      <th>std</th>\n",
              "      <td>NaN</td>\n",
              "      <td>NaN</td>\n",
              "      <td>13238.436683</td>\n",
              "    </tr>\n",
              "    <tr>\n",
              "      <th>min</th>\n",
              "      <td>NaN</td>\n",
              "      <td>NaN</td>\n",
              "      <td>19472.000000</td>\n",
              "    </tr>\n",
              "    <tr>\n",
              "      <th>25%</th>\n",
              "      <td>NaN</td>\n",
              "      <td>NaN</td>\n",
              "      <td>37873.250000</td>\n",
              "    </tr>\n",
              "    <tr>\n",
              "      <th>50%</th>\n",
              "      <td>NaN</td>\n",
              "      <td>NaN</td>\n",
              "      <td>43420.500000</td>\n",
              "    </tr>\n",
              "    <tr>\n",
              "      <th>75%</th>\n",
              "      <td>NaN</td>\n",
              "      <td>NaN</td>\n",
              "      <td>50690.000000</td>\n",
              "    </tr>\n",
              "    <tr>\n",
              "      <th>max</th>\n",
              "      <td>NaN</td>\n",
              "      <td>NaN</td>\n",
              "      <td>229825.000000</td>\n",
              "    </tr>\n",
              "  </tbody>\n",
              "</table>\n",
              "</div>"
            ],
            "text/plain": [
              "        State      County         Income\n",
              "count    3112        3112    3112.000000\n",
              "unique     50        1828            NaN\n",
              "top     Texas  Washington            NaN\n",
              "freq      254          30            NaN\n",
              "mean      NaN         NaN   45931.651028\n",
              "std       NaN         NaN   13238.436683\n",
              "min       NaN         NaN   19472.000000\n",
              "25%       NaN         NaN   37873.250000\n",
              "50%       NaN         NaN   43420.500000\n",
              "75%       NaN         NaN   50690.000000\n",
              "max       NaN         NaN  229825.000000"
            ]
          },
          "metadata": {
            "tags": []
          },
          "execution_count": 31
        }
      ]
    },
    {
      "cell_type": "code",
      "metadata": {
        "id": "H9PvcfLEYvb_",
        "colab": {
          "base_uri": "https://localhost:8080/",
          "height": 295
        },
        "outputId": "41f8f08d-6490-48bb-a3ec-6d0ba3a8a92a"
      },
      "source": [
        "import matplotlib.pyplot as plt\n",
        "\n",
        "num_bins = 20\n",
        "n, bins, patches = plt.hist(df['Income'], num_bins, facecolor='blue', alpha=0.5) \n",
        "\n",
        "plt.xlabel('Income')\n",
        "plt.ylabel('Number of Counties')\n",
        "plt.title(r'Histogram Median Income by County')\n",
        "plt.show()"
      ],
      "id": "H9PvcfLEYvb_",
      "execution_count": null,
      "outputs": [
        {
          "output_type": "display_data",
          "data": {
            "image/png": "[encoded data removed]",
            "text/plain": [
              "<Figure size 432x288 with 1 Axes>"
            ]
          },
          "metadata": {
            "tags": [],
            "needs_background": "light"
          }
        }
      ]
    },
    {
      "cell_type": "code",
      "metadata": {
        "id": "dn8IcW7xYvb_",
        "colab": {
          "base_uri": "https://localhost:8080/"
        },
        "outputId": "cf939db1-6710-4e27-fed0-a79006b0f0ca"
      },
      "source": [
        "incomes = sorted(df['Income'])\n",
        "\n",
        "out_threshold = 100000\n",
        "incomes = [i for i in incomes if i < out_threshold]\n",
        "len(incomes)"
      ],
      "id": "dn8IcW7xYvb_",
      "execution_count": null,
      "outputs": [
        {
          "output_type": "execute_result",
          "data": {
            "text/plain": [
              "3091"
            ]
          },
          "metadata": {
            "tags": []
          },
          "execution_count": 33
        }
      ]
    },
    {
      "cell_type": "code",
      "metadata": {
        "id": "7DuTWPudYvb_",
        "colab": {
          "base_uri": "https://localhost:8080/",
          "height": 307
        },
        "outputId": "efcca6d2-bada-4975-b143-16c6014840e3"
      },
      "source": [
        "g = sns.histplot(data=incomes, kde=True)\n",
        "g.set_xticklabels(labels=['','0','20K','40K','60K','80K','100K','120K','140K','160K'], rotation=30)\n",
        "g.set_title(\"Histogram - Incomes by County\")\n",
        "g.set_xlabel(\"Income\")\n",
        "g.set_ylabel(\"Number of Counties\")\n",
        "plt.show()"
      ],
      "id": "7DuTWPudYvb_",
      "execution_count": null,
      "outputs": [
        {
          "output_type": "display_data",
          "data": {
            "image/png": "[encoded data removed]",
            "text/plain": [
              "<Figure size 432x288 with 1 Axes>"
            ]
          },
          "metadata": {
            "tags": [],
            "needs_background": "light"
          }
        }
      ]
    },
    {
      "cell_type": "code",
      "metadata": {
        "id": "gPKETnNvYvb_",
        "colab": {
          "base_uri": "https://localhost:8080/",
          "height": 204
        },
        "outputId": "2f2ae5fc-4710-4300-cb01-65456b1c42d3"
      },
      "source": [
        "df.head()"
      ],
      "id": "gPKETnNvYvb_",
      "execution_count": null,
      "outputs": [
        {
          "output_type": "execute_result",
          "data": {
            "text/html": [
              "<div>\n",
              "<style scoped>\n",
              "    .dataframe tbody tr th:only-of-type {\n",
              "        vertical-align: middle;\n",
              "    }\n",
              "\n",
              "    .dataframe tbody tr th {\n",
              "        vertical-align: top;\n",
              "    }\n",
              "\n",
              "    .dataframe thead th {\n",
              "        text-align: right;\n",
              "    }\n",
              "</style>\n",
              "<table border=\"1\" class=\"dataframe\">\n",
              "  <thead>\n",
              "    <tr style=\"text-align: right;\">\n",
              "      <th></th>\n",
              "      <th>State</th>\n",
              "      <th>County</th>\n",
              "      <th>Income</th>\n",
              "    </tr>\n",
              "  </thead>\n",
              "  <tbody>\n",
              "    <tr>\n",
              "      <th>0</th>\n",
              "      <td>Alabama</td>\n",
              "      <td>Autauga</td>\n",
              "      <td>43917</td>\n",
              "    </tr>\n",
              "    <tr>\n",
              "      <th>1</th>\n",
              "      <td>Alabama</td>\n",
              "      <td>Baldwin</td>\n",
              "      <td>47485</td>\n",
              "    </tr>\n",
              "    <tr>\n",
              "      <th>2</th>\n",
              "      <td>Alabama</td>\n",
              "      <td>Barbour</td>\n",
              "      <td>35763</td>\n",
              "    </tr>\n",
              "    <tr>\n",
              "      <th>3</th>\n",
              "      <td>Alabama</td>\n",
              "      <td>Bibb</td>\n",
              "      <td>31725</td>\n",
              "    </tr>\n",
              "    <tr>\n",
              "      <th>4</th>\n",
              "      <td>Alabama</td>\n",
              "      <td>Blount</td>\n",
              "      <td>36412</td>\n",
              "    </tr>\n",
              "  </tbody>\n",
              "</table>\n",
              "</div>"
            ],
            "text/plain": [
              "     State   County  Income\n",
              "0  Alabama  Autauga   43917\n",
              "1  Alabama  Baldwin   47485\n",
              "2  Alabama  Barbour   35763\n",
              "3  Alabama     Bibb   31725\n",
              "4  Alabama   Blount   36412"
            ]
          },
          "metadata": {
            "tags": []
          },
          "execution_count": 35
        }
      ]
    },
    {
      "cell_type": "code",
      "metadata": {
        "id": "xCW9dd6eYvcA"
      },
      "source": [
        "import pickle\n",
        "df.to_pickle(\"./incomes.pkl\")"
      ],
      "id": "xCW9dd6eYvcA",
      "execution_count": null,
      "outputs": []
    },
    {
      "cell_type": "code",
      "metadata": {
        "id": "O9xhrL3LYvcA"
      },
      "source": [
        ""
      ],
      "id": "O9xhrL3LYvcA",
      "execution_count": null,
      "outputs": []
    }
  ]
}