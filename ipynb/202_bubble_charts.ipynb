{
  "nbformat": 4,
  "nbformat_minor": 0,
  "metadata": {
    "colab": {
      "name": "202_bubble_charts.ipynb",
      "provenance": [],
      "toc_visible": true,
      "authorship_tag": "ABX9TyNbK5DE8aGEFeaeLx71vYzI",
      "include_colab_link": true
    },
    "kernelspec": {
      "name": "python3",
      "display_name": "Python 3"
    },
    "language_info": {
      "name": "python"
    }
  },
  "cells": [
    {
      "cell_type": "markdown",
      "metadata": {
        "id": "view-in-github",
        "colab_type": "text"
      },
      "source": [
        "<a href=\"https://colab.research.google.com/github/knoppin1/DATA-606-Capstone/blob/main/ipynb/202_bubble_charts.ipynb\" target=\"_parent\"><img src=\"https://colab.research.google.com/assets/colab-badge.svg\" alt=\"Open In Colab\"/></a>"
      ]
    },
    {
      "cell_type": "markdown",
      "metadata": {
        "id": "K2v_RvG2aINL"
      },
      "source": [
        "# DATA 606 Capstone \n",
        "## Ken Noppinger - Phase 2, Notebook 02\n",
        "### **Wealth and Population Density Influences on COVID-19 Cases and Vaccinations Using Machine Learning**\n",
        "#### <u>Visualize County Data on Bubble Charts</u>\n",
        "\n",
        "This notebook provides bubble charts for use in Exploratory Data Analysis.\n",
        "\n",
        "Bubble Charts are presented for counties in the following states:\n",
        "*   Florida \n",
        "*   California\n",
        "\n",
        "The following bubble charts are explored for each data set:\n",
        "*   COVID-19 Cases Per Square Mile (Income by Population Per Square Mile)\n",
        "*   COVID-19 Vaccination Percentages (Income by Population Per Square Mile)\n",
        "\n",
        "The \"all_data_fips.pkl\" pickle file is loaded for use in this workbook and represents the consolidated data for the study from previous work.\n",
        "\n",
        "--------------------\n"
      ]
    },
    {
      "cell_type": "markdown",
      "metadata": {
        "id": "_k4QvFYEMj0Q"
      },
      "source": [
        "#1 - Setup\n"
      ]
    },
    {
      "cell_type": "markdown",
      "metadata": {
        "id": "iawgI3MBM3w7"
      },
      "source": [
        "## 1.1 - Imports"
      ]
    },
    {
      "cell_type": "markdown",
      "metadata": {
        "id": "5ri8LIzZMZep"
      },
      "source": [
        "Upgrade plotly to latest version to ensure notebook works in Google Colab."
      ]
    },
    {
      "cell_type": "code",
      "metadata": {
        "id": "lpLNYQOg7E9_"
      },
      "source": [
        "!pip install -U plotly"
      ],
      "execution_count": null,
      "outputs": []
    },
    {
      "cell_type": "code",
      "metadata": {
        "id": "374YjOiI7DD3"
      },
      "source": [
        "import plotly\n",
        "print(plotly.__version__)"
      ],
      "execution_count": null,
      "outputs": []
    },
    {
      "cell_type": "markdown",
      "metadata": {
        "id": "qe9tZb7wM_92"
      },
      "source": [
        "Import the other packages used in the notebook."
      ]
    },
    {
      "cell_type": "code",
      "metadata": {
        "id": "TmX16-jm572i"
      },
      "source": [
        "import pandas as pd\n",
        "import numpy as np\n",
        "import matplotlib.pyplot as plt\n",
        "import pickle\n",
        "\n",
        "import plotly.express as px\n",
        "import plotly.io as pio\n",
        "pio.renderers.default = 'iframe_connected'\n",
        "from IPython.display import HTML"
      ],
      "execution_count": null,
      "outputs": []
    },
    {
      "cell_type": "markdown",
      "metadata": {
        "id": "rwlrXgB0UcAR"
      },
      "source": [
        "## 1.2 - Read Study Data"
      ]
    },
    {
      "cell_type": "code",
      "metadata": {
        "id": "rgFxLHTu7i_4"
      },
      "source": [
        "# Read from pickle file\n",
        "df = pd.read_pickle(\"./all_data_fips.pkl\")\n",
        "df.shape"
      ],
      "execution_count": null,
      "outputs": []
    },
    {
      "cell_type": "code",
      "metadata": {
        "id": "MO3khuvLzGWl"
      },
      "source": [
        "df.columns"
      ],
      "execution_count": null,
      "outputs": []
    },
    {
      "cell_type": "markdown",
      "metadata": {
        "id": "a16ln5xkbfOd"
      },
      "source": [
        "#2 - Visualize Data Using Bubble Charts"
      ]
    },
    {
      "cell_type": "markdown",
      "metadata": {
        "id": "4xttfJGNfgcB"
      },
      "source": [
        "##2.1 - All US Counties"
      ]
    },
    {
      "cell_type": "code",
      "metadata": {
        "id": "8woZoiWKbw6U"
      },
      "source": [
        "#fig = px.scatter(df.query(\"Population>=0\"), x=\"Income\", y=\"Population\", size=\"Confirmed\", hover_name=\"Place\", log_x=False, size_max=60)\n",
        "fig = px.scatter(df, x=\"Income\", y=\"Population\", title='COVID Cases by Income and Population', size=\"Confirmed\", hover_name=\"Place\", log_x=False, size_max=60)\n",
        "HTML(fig.to_html())"
      ],
      "execution_count": null,
      "outputs": []
    },
    {
      "cell_type": "code",
      "metadata": {
        "id": "DaBnndnxcNaz"
      },
      "source": [
        "fig = px.scatter(df, x=\"Income\", y=\"Pop_Sq_Mile\", title='COVID Cases Per Square Mile by Income and Population Density', size=\"Cases_Sq_Mile\", hover_name=\"Place\", log_x=False, size_max=60)\n",
        "HTML(fig.to_html())"
      ],
      "execution_count": null,
      "outputs": []
    },
    {
      "cell_type": "code",
      "metadata": {
        "id": "gdKHxdkNcnkH"
      },
      "source": [
        "fig = px.scatter(df, x=\"Income\", y=\"Vax_Pct\", title='Population Density by Income and COVID Vaccinations', size=\"Pop_Sq_Mile\", hover_name=\"Place\", log_x=False, size_max=60)\n",
        "HTML(fig.to_html())"
      ],
      "execution_count": null,
      "outputs": []
    },
    {
      "cell_type": "code",
      "metadata": {
        "id": "QejAeJWkf-2i"
      },
      "source": [
        "fig = px.scatter(df, x=\"Income\", y=\"Population\", title='COVID Vaccination Percentages by Income and Population', size=\"Vax_Pct\", hover_name=\"Place\", log_x=False, size_max=60)\n",
        "HTML(fig.to_html())"
      ],
      "execution_count": null,
      "outputs": []
    },
    {
      "cell_type": "markdown",
      "metadata": {
        "id": "jCCO7mZkfbey"
      },
      "source": [
        "##2.2 - Florida"
      ]
    },
    {
      "cell_type": "code",
      "metadata": {
        "id": "giUES09sghqe"
      },
      "source": [
        "florida_df = df.query(\"`State` == 'Florida'\")\n",
        "florida_df.shape"
      ],
      "execution_count": null,
      "outputs": []
    },
    {
      "cell_type": "code",
      "metadata": {
        "id": "aoicB_XddWTf"
      },
      "source": [
        "fig = px.scatter(florida_df, x=\"Income\", y=\"Population\", title='Florida COVID Cases by Income and Population', size=\"Confirmed\", hover_name=\"Place\", log_x=False, size_max=60)\n",
        "HTML(fig.to_html())"
      ],
      "execution_count": null,
      "outputs": []
    },
    {
      "cell_type": "code",
      "metadata": {
        "id": "Z6pDdEiSgoBZ"
      },
      "source": [
        "fig = px.scatter(florida_df, x=\"Income\", y=\"Pop_Sq_Mile\", title='Florida COVID Cases Per Square Mile by Income and Population Density', size=\"Cases_Sq_Mile\", hover_name=\"Place\", log_x=False, size_max=60)\n",
        "HTML(fig.to_html())"
      ],
      "execution_count": null,
      "outputs": []
    },
    {
      "cell_type": "code",
      "metadata": {
        "id": "QkZCxaAGg2I1"
      },
      "source": [
        "fig = px.scatter(florida_df, x=\"Income\", y=\"Vax_Pct\", title='Florida Population Density by Income and COVID Vaccinations', size=\"Pop_Sq_Mile\", hover_name=\"Place\", log_x=False, size_max=60)\n",
        "HTML(fig.to_html())"
      ],
      "execution_count": null,
      "outputs": []
    },
    {
      "cell_type": "code",
      "metadata": {
        "id": "hGSFsOXlhC2c"
      },
      "source": [
        "fig = px.scatter(florida_df, x=\"Income\", y=\"Population\", title='Florida COVID Vaccination Percentages by Income and Population', size=\"Vax_Pct\", hover_name=\"Place\", log_x=False, size_max=60)\n",
        "HTML(fig.to_html())"
      ],
      "execution_count": null,
      "outputs": []
    },
    {
      "cell_type": "code",
      "metadata": {
        "id": "0VAmYCqJhGxb"
      },
      "source": [
        ""
      ],
      "execution_count": null,
      "outputs": []
    },
    {
      "cell_type": "code",
      "metadata": {
        "id": "gLoVnlnwhkK8"
      },
      "source": [
        ""
      ],
      "execution_count": null,
      "outputs": []
    },
    {
      "cell_type": "markdown",
      "metadata": {
        "id": "zb-qn7RPhlAa"
      },
      "source": [
        "##2.3 - California"
      ]
    },
    {
      "cell_type": "code",
      "metadata": {
        "id": "4YrtEBF-hlAa"
      },
      "source": [
        "ca_df = df.query(\"`State` == 'California'\")\n",
        "ca_df.shape"
      ],
      "execution_count": null,
      "outputs": []
    },
    {
      "cell_type": "code",
      "metadata": {
        "id": "Dy5STSx9hlAb"
      },
      "source": [
        "fig = px.scatter(ca_df, x=\"Income\", y=\"Population\", title='California COVID Cases by Income and Population', size=\"Confirmed\", hover_name=\"Place\", log_x=False, size_max=60)\n",
        "HTML(fig.to_html())"
      ],
      "execution_count": null,
      "outputs": []
    },
    {
      "cell_type": "code",
      "metadata": {
        "id": "vlJRM3aahlAd"
      },
      "source": [
        "fig = px.scatter(ca_df, x=\"Income\", y=\"Pop_Sq_Mile\", title='California COVID Cases Per Square Mile by Income and Population Density', size=\"Cases_Sq_Mile\", hover_name=\"Place\", log_x=False, size_max=60)\n",
        "HTML(fig.to_html())"
      ],
      "execution_count": null,
      "outputs": []
    },
    {
      "cell_type": "code",
      "metadata": {
        "id": "0XiFk9oJhlAg"
      },
      "source": [
        "fig = px.scatter(ca_df, x=\"Income\", y=\"Vax_Pct\", title='California Population Density by Income and COVID Vaccinations', size=\"Pop_Sq_Mile\", hover_name=\"Place\", log_x=False, size_max=60)\n",
        "HTML(fig.to_html())"
      ],
      "execution_count": null,
      "outputs": []
    },
    {
      "cell_type": "code",
      "metadata": {
        "id": "y7iZbbLhhlAi"
      },
      "source": [
        "fig = px.scatter(ca_df, x=\"Income\", y=\"Population\", title='California COVID Vaccination Percentages by Income and Population', size=\"Vax_Pct\", hover_name=\"Place\", log_x=False, size_max=60)\n",
        "HTML(fig.to_html())"
      ],
      "execution_count": null,
      "outputs": []
    },
    {
      "cell_type": "code",
      "metadata": {
        "id": "LcApo663hlAl"
      },
      "source": [
        ""
      ],
      "execution_count": null,
      "outputs": []
    }
  ]
}